{
 "cells": [
  {
   "cell_type": "code",
   "execution_count": 2,
   "id": "higher-twist",
   "metadata": {},
   "outputs": [],
   "source": [
    "import malariagen_data\n",
    "import numpy as np\n",
    "ag3 = malariagen_data.Ag3(\"gs://vo_agam_release/\")"
   ]
  },
  {
   "cell_type": "code",
   "execution_count": null,
   "id": "scheduled-retro",
   "metadata": {},
   "outputs": [],
   "source": [
    "df = ag3.sample_metadata()"
   ]
  },
  {
   "cell_type": "code",
   "execution_count": null,
   "id": "afraid-dynamics",
   "metadata": {},
   "outputs": [],
   "source": [
    "df"
   ]
  },
  {
   "cell_type": "code",
   "execution_count": null,
   "id": "municipal-address",
   "metadata": {},
   "outputs": [],
   "source": []
  },
  {
   "cell_type": "code",
   "execution_count": 3,
   "id": "verbal-publicity",
   "metadata": {},
   "outputs": [],
   "source": [
    "populations = {\n",
    "    \"ke\": \"country == 'Kenya'\",\n",
    "#     \"bf_bana_2012_col\": \"country == 'Burkina Faso' and year == 2012 and species == 'coluzzii'\",\n",
    "#     \"bf_bana_2012_gam\": \"country == 'Burkina Faso' and year == 2012 and species == 'gambiae'\",\n",
    "}\n",
    "\n",
    "#     \"bf_bana_2012_col\": \"country='Burkina Faso' and year = 2012 and species = \"coluzzii\"\",\n",
    "#     \"bf_bana_2012_gam\": \"country='Burkina Faso' and year = 2012 and species = \"gambiae\"\","
   ]
  },
  {
   "cell_type": "code",
   "execution_count": 4,
   "id": "solar-biography",
   "metadata": {},
   "outputs": [
    {
     "name": "stdout",
     "output_type": "stream",
     "text": [
      "ke country == 'Kenya'\n"
     ]
    },
    {
     "ename": "NameError",
     "evalue": "name 'df' is not defined",
     "output_type": "error",
     "traceback": [
      "\u001b[0;31m---------------------------------------------------------------------------\u001b[0m",
      "\u001b[0;31mNameError\u001b[0m                                 Traceback (most recent call last)",
      "\u001b[0;32m<ipython-input-4-9a6cc9c0ad3a>\u001b[0m in \u001b[0;36m<module>\u001b[0;34m\u001b[0m\n\u001b[1;32m      1\u001b[0m \u001b[0;32mfor\u001b[0m \u001b[0mpop\u001b[0m\u001b[0;34m,\u001b[0m \u001b[0mquery\u001b[0m \u001b[0;32min\u001b[0m \u001b[0mpopulations\u001b[0m\u001b[0;34m.\u001b[0m\u001b[0mitems\u001b[0m\u001b[0;34m(\u001b[0m\u001b[0;34m)\u001b[0m\u001b[0;34m:\u001b[0m\u001b[0;34m\u001b[0m\u001b[0;34m\u001b[0m\u001b[0m\n\u001b[1;32m      2\u001b[0m     \u001b[0mprint\u001b[0m\u001b[0;34m(\u001b[0m\u001b[0mpop\u001b[0m\u001b[0;34m,\u001b[0m \u001b[0mquery\u001b[0m\u001b[0;34m)\u001b[0m\u001b[0;34m\u001b[0m\u001b[0;34m\u001b[0m\u001b[0m\n\u001b[0;32m----> 3\u001b[0;31m     \u001b[0mloc_pop\u001b[0m \u001b[0;34m=\u001b[0m \u001b[0mdf\u001b[0m\u001b[0;34m.\u001b[0m\u001b[0meval\u001b[0m\u001b[0;34m(\u001b[0m\u001b[0mquery\u001b[0m\u001b[0;34m)\u001b[0m\u001b[0;34m.\u001b[0m\u001b[0mvalues\u001b[0m\u001b[0;34m\u001b[0m\u001b[0;34m\u001b[0m\u001b[0m\n\u001b[0m",
      "\u001b[0;31mNameError\u001b[0m: name 'df' is not defined"
     ]
    }
   ],
   "source": [
    "for pop, query in populations.items():\n",
    "    print(pop, query)\n",
    "    loc_pop = df.eval(query).values"
   ]
  },
  {
   "cell_type": "code",
   "execution_count": null,
   "id": "abandoned-centre",
   "metadata": {},
   "outputs": [],
   "source": [
    "loc_pop"
   ]
  },
  {
   "cell_type": "code",
   "execution_count": 5,
   "id": "double-region",
   "metadata": {},
   "outputs": [
    {
     "name": "stdout",
     "output_type": "stream",
     "text": [
      "transcript : AGAP004707-RA\n",
      "chromosome : 2L \n",
      "start : 2358158\n",
      "stop : 2431617\n",
      "strand : +\n"
     ]
    },
    {
     "ename": "IndexError",
     "evalue": "index 44102 is out of bounds for axis 0 with size 44102",
     "output_type": "error",
     "traceback": [
      "\u001b[0;31m---------------------------------------------------------------------------\u001b[0m",
      "\u001b[0;31mIndexError\u001b[0m                                Traceback (most recent call last)",
      "\u001b[0;32m<ipython-input-5-888c2422c434>\u001b[0m in \u001b[0;36m<module>\u001b[0;34m\u001b[0m\n\u001b[1;32m      2\u001b[0m                            \u001b[0mpopulations\u001b[0m\u001b[0;34m=\u001b[0m\u001b[0mpopulations\u001b[0m\u001b[0;34m,\u001b[0m\u001b[0;34m\u001b[0m\u001b[0;34m\u001b[0m\u001b[0m\n\u001b[1;32m      3\u001b[0m                            \u001b[0msite_mask\u001b[0m\u001b[0;34m=\u001b[0m\u001b[0;34m'gamb_colu'\u001b[0m\u001b[0;34m,\u001b[0m\u001b[0;34m\u001b[0m\u001b[0;34m\u001b[0m\u001b[0m\n\u001b[0;32m----> 4\u001b[0;31m                            sample_sets=\"v3_wild\")\n\u001b[0m",
      "\u001b[0;32m~/Git/malariagen-data-python/malariagen_data/ag3.py\u001b[0m in \u001b[0;36msnp_allele_frequencies\u001b[0;34m(self, transcript, populations, site_mask, sample_sets, drop_invariants)\u001b[0m\n\u001b[1;32m    792\u001b[0m             \u001b[0;32mfor\u001b[0m \u001b[0mj\u001b[0m \u001b[0;32min\u001b[0m \u001b[0mrange\u001b[0m\u001b[0;34m(\u001b[0m\u001b[0;36m3\u001b[0m\u001b[0;34m)\u001b[0m\u001b[0;34m:\u001b[0m\u001b[0;34m\u001b[0m\u001b[0;34m\u001b[0m\u001b[0m\n\u001b[1;32m    793\u001b[0m                 \u001b[0mcols\u001b[0m\u001b[0;34m[\u001b[0m\u001b[0;34m'pos'\u001b[0m\u001b[0;34m]\u001b[0m\u001b[0;34m.\u001b[0m\u001b[0mappend\u001b[0m\u001b[0;34m(\u001b[0m\u001b[0mpos\u001b[0m\u001b[0;34m[\u001b[0m\u001b[0mi\u001b[0m\u001b[0;34m]\u001b[0m\u001b[0;34m)\u001b[0m\u001b[0;34m\u001b[0m\u001b[0;34m\u001b[0m\u001b[0m\n\u001b[0;32m--> 794\u001b[0;31m                 \u001b[0mcols\u001b[0m\u001b[0;34m[\u001b[0m\u001b[0;34m'ref_allele'\u001b[0m\u001b[0;34m]\u001b[0m\u001b[0;34m.\u001b[0m\u001b[0mappend\u001b[0m\u001b[0;34m(\u001b[0m\u001b[0mref\u001b[0m\u001b[0;34m[\u001b[0m\u001b[0mi\u001b[0m\u001b[0;34m]\u001b[0m\u001b[0;34m)\u001b[0m\u001b[0;34m\u001b[0m\u001b[0;34m\u001b[0m\u001b[0m\n\u001b[0m\u001b[1;32m    795\u001b[0m                 \u001b[0mcols\u001b[0m\u001b[0;34m[\u001b[0m\u001b[0;34m'alt_allele'\u001b[0m\u001b[0;34m]\u001b[0m\u001b[0;34m.\u001b[0m\u001b[0mappend\u001b[0m\u001b[0;34m(\u001b[0m\u001b[0malt\u001b[0m\u001b[0;34m[\u001b[0m\u001b[0mi\u001b[0m\u001b[0;34m,\u001b[0m \u001b[0mj\u001b[0m\u001b[0;34m]\u001b[0m\u001b[0;34m)\u001b[0m\u001b[0;34m\u001b[0m\u001b[0;34m\u001b[0m\u001b[0m\n\u001b[1;32m    796\u001b[0m                 \u001b[0;32mfor\u001b[0m \u001b[0mpop\u001b[0m\u001b[0;34m,\u001b[0m \u001b[0maf\u001b[0m \u001b[0;32min\u001b[0m \u001b[0mafs\u001b[0m\u001b[0;34m.\u001b[0m\u001b[0mitems\u001b[0m\u001b[0;34m(\u001b[0m\u001b[0;34m)\u001b[0m\u001b[0;34m:\u001b[0m\u001b[0;34m\u001b[0m\u001b[0;34m\u001b[0m\u001b[0m\n",
      "\u001b[0;31mIndexError\u001b[0m: index 44102 is out of bounds for axis 0 with size 44102"
     ]
    }
   ],
   "source": [
    "df = ag3.snp_allele_frequencies(transcript='AGAP004707-RA', \n",
    "                           populations=populations, \n",
    "                           site_mask='gamb_colu', \n",
    "                           sample_sets=\"v3_wild\",\n",
    "                           drop_invariants=False)"
   ]
  },
  {
   "cell_type": "code",
   "execution_count": null,
   "id": "tough-assist",
   "metadata": {},
   "outputs": [],
   "source": [
    "ac.keys()"
   ]
  },
  {
   "cell_type": "code",
   "execution_count": null,
   "id": "express-distance",
   "metadata": {},
   "outputs": [],
   "source": [
    "ac['bf_bana_2012_gam'].shape, ac['ke'].shape"
   ]
  },
  {
   "cell_type": "code",
   "execution_count": null,
   "id": "serious-prototype",
   "metadata": {},
   "outputs": [],
   "source": [
    "invar = ac['ke'][:,0] != 1"
   ]
  },
  {
   "cell_type": "code",
   "execution_count": null,
   "id": "liable-jersey",
   "metadata": {},
   "outputs": [],
   "source": [
    "ac['ke'] = ac['ke'].compress(invar, axis=0)"
   ]
  },
  {
   "cell_type": "code",
   "execution_count": null,
   "id": "aggregate-georgia",
   "metadata": {},
   "outputs": [],
   "source": [
    "len(ac['ke'])"
   ]
  },
  {
   "cell_type": "code",
   "execution_count": null,
   "id": "seventh-closure",
   "metadata": {},
   "outputs": [],
   "source": [
    "ac['ke']"
   ]
  },
  {
   "cell_type": "code",
   "execution_count": null,
   "id": "cheap-stamp",
   "metadata": {},
   "outputs": [],
   "source": []
  }
 ],
 "metadata": {
  "kernelspec": {
   "display_name": "Python 3",
   "language": "python",
   "name": "python3"
  },
  "language_info": {
   "codemirror_mode": {
    "name": "ipython",
    "version": 3
   },
   "file_extension": ".py",
   "mimetype": "text/x-python",
   "name": "python",
   "nbconvert_exporter": "python",
   "pygments_lexer": "ipython3",
   "version": "3.6.9"
  }
 },
 "nbformat": 4,
 "nbformat_minor": 5
}
