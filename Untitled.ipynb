{
 "cells": [
  {
   "cell_type": "code",
   "execution_count": 1,
   "id": "higher-twist",
   "metadata": {},
   "outputs": [],
   "source": [
    "import malariagen_data\n",
    "import numpy as np\n",
    "ag3 = malariagen_data.Ag3(\"simplecache::gs://vo_agam_release/\")"
   ]
  },
  {
   "cell_type": "code",
   "execution_count": null,
   "id": "capable-preservation",
   "metadata": {},
   "outputs": [],
   "source": [
    "import pandas as pd"
   ]
  },
  {
   "cell_type": "code",
   "execution_count": null,
   "id": "brilliant-member",
   "metadata": {},
   "outputs": [],
   "source": []
  },
  {
   "cell_type": "code",
   "execution_count": null,
   "id": "scheduled-retro",
   "metadata": {},
   "outputs": [],
   "source": [
    "df = ag3.sample_metadata()"
   ]
  },
  {
   "cell_type": "code",
   "execution_count": null,
   "id": "afraid-dynamics",
   "metadata": {},
   "outputs": [],
   "source": [
    "df"
   ]
  },
  {
   "cell_type": "code",
   "execution_count": null,
   "id": "municipal-address",
   "metadata": {},
   "outputs": [],
   "source": []
  },
  {
   "cell_type": "code",
   "execution_count": 2,
   "id": "verbal-publicity",
   "metadata": {},
   "outputs": [],
   "source": [
    "populations = {\n",
    "    \"ke\": \"country == 'Kenya'\",\n",
    "    \"bf_bana_2012_col\": \"country == 'Burkina Faso' and year == 2012 and species == 'coluzzii'\",\n",
    "#     \"bf_bana_2012_gam\": \"country == 'Burkina Faso' and year == 2012 and species == 'gambiae'\",\n",
    "}\n",
    "\n",
    "#     \"bf_bana_2012_col\": \"country='Burkina Faso' and year = 2012 and species = \"coluzzii\"\",\n",
    "#     \"bf_bana_2012_gam\": \"country='Burkina Faso' and year = 2012 and species = \"gambiae\"\","
   ]
  },
  {
   "cell_type": "code",
   "execution_count": null,
   "id": "solar-biography",
   "metadata": {},
   "outputs": [],
   "source": [
    "for pop, query in populations.items():\n",
    "    print(pop, query)\n",
    "    loc_pop = df.eval(query).values"
   ]
  },
  {
   "cell_type": "code",
   "execution_count": null,
   "id": "abandoned-centre",
   "metadata": {},
   "outputs": [],
   "source": [
    "loc_pop"
   ]
  },
  {
   "cell_type": "code",
   "execution_count": 3,
   "id": "double-region",
   "metadata": {},
   "outputs": [
    {
     "name": "stdout",
     "output_type": "stream",
     "text": [
      "transcript : AGAP009194-RA\n",
      "chromosome : 3R \n",
      "start : 28597652\n",
      "stop : 28598640\n",
      "strand : -\n",
      "CPU times: user 20.4 s, sys: 3.82 s, total: 24.2 s\n",
      "Wall time: 3min 45s\n"
     ]
    }
   ],
   "source": [
    "%%time\n",
    "afs = ag3.snp_allele_frequencies(transcript=\"AGAP009194-RA\", \n",
    "                           populations=populations, \n",
    "                           site_mask='gamb_colu', \n",
    "                           sample_sets=\"v3_wild\",\n",
    "                           drop_invariants=True)"
   ]
  },
  {
   "cell_type": "code",
   "execution_count": 4,
   "id": "confidential-index",
   "metadata": {},
   "outputs": [
    {
     "data": {
      "text/html": [
       "<div>\n",
       "<style scoped>\n",
       "    .dataframe tbody tr th:only-of-type {\n",
       "        vertical-align: middle;\n",
       "    }\n",
       "\n",
       "    .dataframe tbody tr th {\n",
       "        vertical-align: top;\n",
       "    }\n",
       "\n",
       "    .dataframe thead th {\n",
       "        text-align: right;\n",
       "    }\n",
       "</style>\n",
       "<table border=\"1\" class=\"dataframe\">\n",
       "  <thead>\n",
       "    <tr style=\"text-align: right;\">\n",
       "      <th></th>\n",
       "      <th>pos</th>\n",
       "      <th>ref_allele</th>\n",
       "      <th>alt_allele</th>\n",
       "      <th>ke</th>\n",
       "      <th>bf_bana_2012_col</th>\n",
       "    </tr>\n",
       "  </thead>\n",
       "  <tbody>\n",
       "    <tr>\n",
       "      <th>4</th>\n",
       "      <td>28597653</td>\n",
       "      <td>T</td>\n",
       "      <td>T</td>\n",
       "      <td>0.000000</td>\n",
       "      <td>0.006098</td>\n",
       "    </tr>\n",
       "    <tr>\n",
       "      <th>5</th>\n",
       "      <td>28597653</td>\n",
       "      <td>G</td>\n",
       "      <td>G</td>\n",
       "      <td>0.360465</td>\n",
       "      <td>0.317073</td>\n",
       "    </tr>\n",
       "    <tr>\n",
       "      <th>13</th>\n",
       "      <td>28597656</td>\n",
       "      <td>C</td>\n",
       "      <td>C</td>\n",
       "      <td>0.000000</td>\n",
       "      <td>0.006098</td>\n",
       "    </tr>\n",
       "    <tr>\n",
       "      <th>16</th>\n",
       "      <td>28597657</td>\n",
       "      <td>T</td>\n",
       "      <td>T</td>\n",
       "      <td>0.000000</td>\n",
       "      <td>0.006098</td>\n",
       "    </tr>\n",
       "    <tr>\n",
       "      <th>22</th>\n",
       "      <td>28597659</td>\n",
       "      <td>C</td>\n",
       "      <td>C</td>\n",
       "      <td>0.000000</td>\n",
       "      <td>0.006098</td>\n",
       "    </tr>\n",
       "    <tr>\n",
       "      <th>...</th>\n",
       "      <td>...</td>\n",
       "      <td>...</td>\n",
       "      <td>...</td>\n",
       "      <td>...</td>\n",
       "      <td>...</td>\n",
       "    </tr>\n",
       "    <tr>\n",
       "      <th>2732</th>\n",
       "      <td>28598604</td>\n",
       "      <td>G</td>\n",
       "      <td>G</td>\n",
       "      <td>0.000000</td>\n",
       "      <td>0.030488</td>\n",
       "    </tr>\n",
       "    <tr>\n",
       "      <th>2744</th>\n",
       "      <td>28598608</td>\n",
       "      <td>G</td>\n",
       "      <td>G</td>\n",
       "      <td>0.000000</td>\n",
       "      <td>0.006098</td>\n",
       "    </tr>\n",
       "    <tr>\n",
       "      <th>2757</th>\n",
       "      <td>28598613</td>\n",
       "      <td>A</td>\n",
       "      <td>A</td>\n",
       "      <td>0.325581</td>\n",
       "      <td>0.000000</td>\n",
       "    </tr>\n",
       "    <tr>\n",
       "      <th>2769</th>\n",
       "      <td>28598617</td>\n",
       "      <td>A</td>\n",
       "      <td>A</td>\n",
       "      <td>0.023256</td>\n",
       "      <td>0.000000</td>\n",
       "    </tr>\n",
       "    <tr>\n",
       "      <th>2816</th>\n",
       "      <td>28598632</td>\n",
       "      <td>G</td>\n",
       "      <td>G</td>\n",
       "      <td>0.005814</td>\n",
       "      <td>0.000000</td>\n",
       "    </tr>\n",
       "  </tbody>\n",
       "</table>\n",
       "<p>133 rows × 5 columns</p>\n",
       "</div>"
      ],
      "text/plain": [
       "           pos ref_allele alt_allele        ke  bf_bana_2012_col\n",
       "4     28597653          T          T  0.000000          0.006098\n",
       "5     28597653          G          G  0.360465          0.317073\n",
       "13    28597656          C          C  0.000000          0.006098\n",
       "16    28597657          T          T  0.000000          0.006098\n",
       "22    28597659          C          C  0.000000          0.006098\n",
       "...        ...        ...        ...       ...               ...\n",
       "2732  28598604          G          G  0.000000          0.030488\n",
       "2744  28598608          G          G  0.000000          0.006098\n",
       "2757  28598613          A          A  0.325581          0.000000\n",
       "2769  28598617          A          A  0.023256          0.000000\n",
       "2816  28598632          G          G  0.005814          0.000000\n",
       "\n",
       "[133 rows x 5 columns]"
      ]
     },
     "execution_count": 4,
     "metadata": {},
     "output_type": "execute_result"
    }
   ],
   "source": [
    "afs"
   ]
  },
  {
   "cell_type": "code",
   "execution_count": null,
   "id": "historical-young",
   "metadata": {},
   "outputs": [],
   "source": [
    "afs.loc[\"AGAP009194-RA\"]"
   ]
  },
  {
   "cell_type": "code",
   "execution_count": null,
   "id": "willing-marsh",
   "metadata": {},
   "outputs": [],
   "source": []
  },
  {
   "cell_type": "code",
   "execution_count": null,
   "id": "potential-timber",
   "metadata": {},
   "outputs": [],
   "source": [
    "afs[:10]"
   ]
  },
  {
   "cell_type": "code",
   "execution_count": null,
   "id": "considered-customer",
   "metadata": {},
   "outputs": [],
   "source": [
    "list(populations)"
   ]
  },
  {
   "cell_type": "code",
   "execution_count": null,
   "id": "brave-cable",
   "metadata": {},
   "outputs": [],
   "source": [
    "afs['dropping'] = afs[populations].sum(axis=1)"
   ]
  },
  {
   "cell_type": "code",
   "execution_count": null,
   "id": "adult-transport",
   "metadata": {},
   "outputs": [],
   "source": [
    "afs"
   ]
  },
  {
   "cell_type": "code",
   "execution_count": null,
   "id": "tough-assist",
   "metadata": {},
   "outputs": [],
   "source": [
    "afs[afs.dropping > 0]"
   ]
  },
  {
   "cell_type": "code",
   "execution_count": null,
   "id": "decent-finding",
   "metadata": {},
   "outputs": [],
   "source": [
    "cols['ke']"
   ]
  },
  {
   "cell_type": "code",
   "execution_count": null,
   "id": "express-distance",
   "metadata": {},
   "outputs": [],
   "source": [
    "ac['bf_bana_2012_gam'].shape, ac['ke'].shape"
   ]
  },
  {
   "cell_type": "code",
   "execution_count": null,
   "id": "serious-prototype",
   "metadata": {},
   "outputs": [],
   "source": [
    "invar = ac['ke'][:,0] != 1"
   ]
  },
  {
   "cell_type": "code",
   "execution_count": null,
   "id": "liable-jersey",
   "metadata": {},
   "outputs": [],
   "source": [
    "ac['ke'] = ac['ke'].compress(invar, axis=0)"
   ]
  },
  {
   "cell_type": "code",
   "execution_count": null,
   "id": "aggregate-georgia",
   "metadata": {},
   "outputs": [],
   "source": [
    "len(ac['ke'])"
   ]
  },
  {
   "cell_type": "code",
   "execution_count": null,
   "id": "seventh-closure",
   "metadata": {},
   "outputs": [],
   "source": [
    "ac['ke']"
   ]
  },
  {
   "cell_type": "code",
   "execution_count": null,
   "id": "cheap-stamp",
   "metadata": {},
   "outputs": [],
   "source": []
  }
 ],
 "metadata": {
  "kernelspec": {
   "display_name": "Python 3",
   "language": "python",
   "name": "python3"
  },
  "language_info": {
   "codemirror_mode": {
    "name": "ipython",
    "version": 3
   },
   "file_extension": ".py",
   "mimetype": "text/x-python",
   "name": "python",
   "nbconvert_exporter": "python",
   "pygments_lexer": "ipython3",
   "version": "3.6.9"
  }
 },
 "nbformat": 4,
 "nbformat_minor": 5
}
