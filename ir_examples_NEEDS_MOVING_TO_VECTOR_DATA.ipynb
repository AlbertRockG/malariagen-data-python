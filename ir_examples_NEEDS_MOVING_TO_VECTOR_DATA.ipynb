{
 "cells": [
  {
   "cell_type": "code",
   "execution_count": 4,
   "id": "nuclear-surgery",
   "metadata": {},
   "outputs": [],
   "source": [
    "import malariagen_data\n",
    "import numpy as np\n",
    "import pandas as pd"
   ]
  },
  {
   "cell_type": "code",
   "execution_count": 5,
   "id": "basic-upset",
   "metadata": {},
   "outputs": [],
   "source": [
    "# !poetry add plotly\n",
    "import plotly.express as px"
   ]
  },
  {
   "cell_type": "markdown",
   "id": "industrial-plastic",
   "metadata": {},
   "source": [
    "### setup malariagen_data and parameters"
   ]
  },
  {
   "cell_type": "code",
   "execution_count": 6,
   "id": "civilian-boulder",
   "metadata": {},
   "outputs": [],
   "source": [
    "# simplecache allows local cacheing\n",
    "ag3 = malariagen_data.Ag3(\"simplecache::gs://vo_agam_release/\")"
   ]
  },
  {
   "cell_type": "code",
   "execution_count": 7,
   "id": "southwest-haiti",
   "metadata": {},
   "outputs": [],
   "source": [
    "# RDL transcript\n",
    "transcript = \"AGAP006028-RA\"\n",
    "site_mask = \"gamb_colu\" # other options...\n",
    "sample_sets = \"v3_wild\" # explain?"
   ]
  },
  {
   "cell_type": "code",
   "execution_count": 8,
   "id": "after-premises",
   "metadata": {},
   "outputs": [],
   "source": [
    "# snp_allele_frequencies requires a population parameter in the form of a dictionary.\n",
    "# Here we want the allele frequencies from all Kenya samples and from Burkina Faso \n",
    "# An. coluzzii samples collected in 2012\n",
    "populations = {\n",
    "    \"Kenya\": \"country == 'Ghana' and species == 'gambiae'\",\n",
    "    \"Burkina Faso\": \"country == 'Burkina Faso' and species == 'gambiae'\",\n",
    "    \"Mayotte\": \"country == 'Mayotte'\",\n",
    "}"
   ]
  },
  {
   "cell_type": "markdown",
   "id": "verbal-apple",
   "metadata": {},
   "source": [
    "### generate statistic dataframes"
   ]
  },
  {
   "cell_type": "code",
   "execution_count": 9,
   "id": "european-facial",
   "metadata": {},
   "outputs": [
    {
     "name": "stdout",
     "output_type": "stream",
     "text": [
      "transcript : AGAP006028-RA\n",
      "chromosome : 2L \n",
      "start : 25363652\n",
      "stop : 25434556\n",
      "strand : +\n",
      "CPU times: user 1min 29s, sys: 1.58 s, total: 1min 31s\n",
      "Wall time: 4min 15s\n"
     ]
    }
   ],
   "source": [
    "%%time\n",
    "snp_effects_df = ag3.snp_effects(transcript, site_mask)"
   ]
  },
  {
   "cell_type": "code",
   "execution_count": 10,
   "id": "abstract-clause",
   "metadata": {},
   "outputs": [
    {
     "data": {
      "text/plain": [
       "effect                 impact  \n",
       "INTRONIC               MODIFIER    164055\n",
       "NON_SYNONYMOUS_CODING  MODERATE      3272\n",
       "SPLICE_CORE            HIGH            87\n",
       "SPLICE_REGION          MODERATE       204\n",
       "START_LOST             HIGH             3\n",
       "STOP_GAINED            HIGH           190\n",
       "STOP_LOST              HIGH             4\n",
       "SYNONYMOUS_CODING      LOW           1019\n",
       "dtype: int64"
      ]
     },
     "execution_count": 10,
     "metadata": {},
     "output_type": "execute_result"
    }
   ],
   "source": [
    "snp_effects_df.groupby(['effect','impact']).size()"
   ]
  },
  {
   "cell_type": "code",
   "execution_count": 11,
   "id": "antique-light",
   "metadata": {},
   "outputs": [
    {
     "data": {
      "text/plain": [
       "array(['START_LOST', 'NON_SYNONYMOUS_CODING', 'STOP_GAINED',\n",
       "       'SYNONYMOUS_CODING', 'INTRONIC', 'SPLICE_REGION', 'SPLICE_CORE',\n",
       "       'STOP_LOST'], dtype=object)"
      ]
     },
     "execution_count": 11,
     "metadata": {},
     "output_type": "execute_result"
    }
   ],
   "source": [
    "snp_effects_df.effect.unique()"
   ]
  },
  {
   "cell_type": "code",
   "execution_count": 12,
   "id": "strong-marijuana",
   "metadata": {},
   "outputs": [
    {
     "data": {
      "text/plain": [
       "array(['HIGH', 'MODERATE', 'LOW', 'MODIFIER'], dtype=object)"
      ]
     },
     "execution_count": 12,
     "metadata": {},
     "output_type": "execute_result"
    }
   ],
   "source": [
    "snp_effects_df.impact.unique()"
   ]
  },
  {
   "cell_type": "code",
   "execution_count": 13,
   "id": "comparative-uruguay",
   "metadata": {},
   "outputs": [
    {
     "name": "stdout",
     "output_type": "stream",
     "text": [
      "transcript : AGAP006028-RA\n",
      "chromosome : 2L \n",
      "start : 25363652\n",
      "stop : 25434556\n",
      "strand : +\n",
      "CPU times: user 24.1 s, sys: 5.06 s, total: 29.1 s\n",
      "Wall time: 1min 59s\n"
     ]
    }
   ],
   "source": [
    "%%time\n",
    "allele_freq_df = ag3.snp_allele_frequencies(transcript=transcript, \n",
    "                           populations=populations, \n",
    "                           site_mask=site_mask, \n",
    "                           sample_sets=sample_sets,\n",
    "                           drop_invariants=False)"
   ]
  },
  {
   "cell_type": "code",
   "execution_count": 14,
   "id": "equivalent-health",
   "metadata": {},
   "outputs": [
    {
     "data": {
      "text/html": [
       "<div>\n",
       "<style scoped>\n",
       "    .dataframe tbody tr th:only-of-type {\n",
       "        vertical-align: middle;\n",
       "    }\n",
       "\n",
       "    .dataframe tbody tr th {\n",
       "        vertical-align: top;\n",
       "    }\n",
       "\n",
       "    .dataframe thead th {\n",
       "        text-align: right;\n",
       "    }\n",
       "</style>\n",
       "<table border=\"1\" class=\"dataframe\">\n",
       "  <thead>\n",
       "    <tr style=\"text-align: right;\">\n",
       "      <th></th>\n",
       "      <th>position</th>\n",
       "      <th>ref_allele</th>\n",
       "      <th>alt_allele</th>\n",
       "      <th>Kenya</th>\n",
       "      <th>Burkina Faso</th>\n",
       "      <th>Mayotte</th>\n",
       "      <th>maximum</th>\n",
       "    </tr>\n",
       "  </thead>\n",
       "  <tbody>\n",
       "    <tr>\n",
       "      <th>0</th>\n",
       "      <td>25363652</td>\n",
       "      <td>A</td>\n",
       "      <td>C</td>\n",
       "      <td>0.0</td>\n",
       "      <td>0.0</td>\n",
       "      <td>0.0</td>\n",
       "      <td>0.0</td>\n",
       "    </tr>\n",
       "    <tr>\n",
       "      <th>1</th>\n",
       "      <td>25363652</td>\n",
       "      <td>A</td>\n",
       "      <td>T</td>\n",
       "      <td>0.0</td>\n",
       "      <td>0.0</td>\n",
       "      <td>0.0</td>\n",
       "      <td>0.0</td>\n",
       "    </tr>\n",
       "    <tr>\n",
       "      <th>2</th>\n",
       "      <td>25363652</td>\n",
       "      <td>A</td>\n",
       "      <td>G</td>\n",
       "      <td>0.0</td>\n",
       "      <td>0.0</td>\n",
       "      <td>0.0</td>\n",
       "      <td>0.0</td>\n",
       "    </tr>\n",
       "    <tr>\n",
       "      <th>3</th>\n",
       "      <td>25363653</td>\n",
       "      <td>T</td>\n",
       "      <td>A</td>\n",
       "      <td>0.0</td>\n",
       "      <td>0.0</td>\n",
       "      <td>0.0</td>\n",
       "      <td>0.0</td>\n",
       "    </tr>\n",
       "    <tr>\n",
       "      <th>4</th>\n",
       "      <td>25363653</td>\n",
       "      <td>T</td>\n",
       "      <td>C</td>\n",
       "      <td>0.0</td>\n",
       "      <td>0.0</td>\n",
       "      <td>0.0</td>\n",
       "      <td>0.0</td>\n",
       "    </tr>\n",
       "  </tbody>\n",
       "</table>\n",
       "</div>"
      ],
      "text/plain": [
       "   position ref_allele alt_allele  Kenya  Burkina Faso  Mayotte  maximum\n",
       "0  25363652          A          C    0.0           0.0      0.0      0.0\n",
       "1  25363652          A          T    0.0           0.0      0.0      0.0\n",
       "2  25363652          A          G    0.0           0.0      0.0      0.0\n",
       "3  25363653          T          A    0.0           0.0      0.0      0.0\n",
       "4  25363653          T          C    0.0           0.0      0.0      0.0"
      ]
     },
     "execution_count": 14,
     "metadata": {},
     "output_type": "execute_result"
    }
   ],
   "source": [
    "allele_freq_df.head()"
   ]
  },
  {
   "cell_type": "markdown",
   "id": "modular-humor",
   "metadata": {},
   "source": [
    "### join dataframes together so we can do some filtering"
   ]
  },
  {
   "cell_type": "code",
   "execution_count": 15,
   "id": "starting-billion",
   "metadata": {},
   "outputs": [],
   "source": [
    "merged_df = pd.merge(snp_effects_df, allele_freq_df, on=['position', 'ref_allele', 'alt_allele'])"
   ]
  },
  {
   "cell_type": "code",
   "execution_count": 16,
   "id": "comfortable-coordination",
   "metadata": {},
   "outputs": [
    {
     "data": {
      "text/html": [
       "<div>\n",
       "<style scoped>\n",
       "    .dataframe tbody tr th:only-of-type {\n",
       "        vertical-align: middle;\n",
       "    }\n",
       "\n",
       "    .dataframe tbody tr th {\n",
       "        vertical-align: top;\n",
       "    }\n",
       "\n",
       "    .dataframe thead th {\n",
       "        text-align: right;\n",
       "    }\n",
       "</style>\n",
       "<table border=\"1\" class=\"dataframe\">\n",
       "  <thead>\n",
       "    <tr style=\"text-align: right;\">\n",
       "      <th></th>\n",
       "      <th>position</th>\n",
       "      <th>ref_allele</th>\n",
       "      <th>alt_allele</th>\n",
       "      <th>effect</th>\n",
       "      <th>impact</th>\n",
       "      <th>ref_codon</th>\n",
       "      <th>alt_codon</th>\n",
       "      <th>aa_pos</th>\n",
       "      <th>ref_aa</th>\n",
       "      <th>alt_aa</th>\n",
       "      <th>aa_change</th>\n",
       "      <th>Kenya</th>\n",
       "      <th>Burkina Faso</th>\n",
       "      <th>Mayotte</th>\n",
       "      <th>maximum</th>\n",
       "    </tr>\n",
       "  </thead>\n",
       "  <tbody>\n",
       "    <tr>\n",
       "      <th>0</th>\n",
       "      <td>25363652</td>\n",
       "      <td>A</td>\n",
       "      <td>C</td>\n",
       "      <td>START_LOST</td>\n",
       "      <td>HIGH</td>\n",
       "      <td>Atg</td>\n",
       "      <td>Ctg</td>\n",
       "      <td>1.0</td>\n",
       "      <td>M</td>\n",
       "      <td>L</td>\n",
       "      <td>M1L</td>\n",
       "      <td>0.0</td>\n",
       "      <td>0.0</td>\n",
       "      <td>0.0</td>\n",
       "      <td>0.0</td>\n",
       "    </tr>\n",
       "    <tr>\n",
       "      <th>1</th>\n",
       "      <td>25363652</td>\n",
       "      <td>A</td>\n",
       "      <td>T</td>\n",
       "      <td>START_LOST</td>\n",
       "      <td>HIGH</td>\n",
       "      <td>Atg</td>\n",
       "      <td>Ttg</td>\n",
       "      <td>1.0</td>\n",
       "      <td>M</td>\n",
       "      <td>L</td>\n",
       "      <td>M1L</td>\n",
       "      <td>0.0</td>\n",
       "      <td>0.0</td>\n",
       "      <td>0.0</td>\n",
       "      <td>0.0</td>\n",
       "    </tr>\n",
       "    <tr>\n",
       "      <th>2</th>\n",
       "      <td>25363652</td>\n",
       "      <td>A</td>\n",
       "      <td>G</td>\n",
       "      <td>START_LOST</td>\n",
       "      <td>HIGH</td>\n",
       "      <td>Atg</td>\n",
       "      <td>Gtg</td>\n",
       "      <td>1.0</td>\n",
       "      <td>M</td>\n",
       "      <td>V</td>\n",
       "      <td>M1V</td>\n",
       "      <td>0.0</td>\n",
       "      <td>0.0</td>\n",
       "      <td>0.0</td>\n",
       "      <td>0.0</td>\n",
       "    </tr>\n",
       "    <tr>\n",
       "      <th>3</th>\n",
       "      <td>25363653</td>\n",
       "      <td>T</td>\n",
       "      <td>A</td>\n",
       "      <td>NON_SYNONYMOUS_CODING</td>\n",
       "      <td>MODERATE</td>\n",
       "      <td>aTg</td>\n",
       "      <td>aAg</td>\n",
       "      <td>1.0</td>\n",
       "      <td>M</td>\n",
       "      <td>K</td>\n",
       "      <td>M1K</td>\n",
       "      <td>0.0</td>\n",
       "      <td>0.0</td>\n",
       "      <td>0.0</td>\n",
       "      <td>0.0</td>\n",
       "    </tr>\n",
       "    <tr>\n",
       "      <th>4</th>\n",
       "      <td>25363653</td>\n",
       "      <td>T</td>\n",
       "      <td>C</td>\n",
       "      <td>NON_SYNONYMOUS_CODING</td>\n",
       "      <td>MODERATE</td>\n",
       "      <td>aTg</td>\n",
       "      <td>aCg</td>\n",
       "      <td>1.0</td>\n",
       "      <td>M</td>\n",
       "      <td>T</td>\n",
       "      <td>M1T</td>\n",
       "      <td>0.0</td>\n",
       "      <td>0.0</td>\n",
       "      <td>0.0</td>\n",
       "      <td>0.0</td>\n",
       "    </tr>\n",
       "    <tr>\n",
       "      <th>...</th>\n",
       "      <td>...</td>\n",
       "      <td>...</td>\n",
       "      <td>...</td>\n",
       "      <td>...</td>\n",
       "      <td>...</td>\n",
       "      <td>...</td>\n",
       "      <td>...</td>\n",
       "      <td>...</td>\n",
       "      <td>...</td>\n",
       "      <td>...</td>\n",
       "      <td>...</td>\n",
       "      <td>...</td>\n",
       "      <td>...</td>\n",
       "      <td>...</td>\n",
       "      <td>...</td>\n",
       "    </tr>\n",
       "    <tr>\n",
       "      <th>168829</th>\n",
       "      <td>25434555</td>\n",
       "      <td>A</td>\n",
       "      <td>T</td>\n",
       "      <td>STOP_LOST</td>\n",
       "      <td>HIGH</td>\n",
       "      <td>tAa</td>\n",
       "      <td>tTa</td>\n",
       "      <td>556.0</td>\n",
       "      <td>*</td>\n",
       "      <td>L</td>\n",
       "      <td>*556L</td>\n",
       "      <td>0.0</td>\n",
       "      <td>0.0</td>\n",
       "      <td>0.0</td>\n",
       "      <td>0.0</td>\n",
       "    </tr>\n",
       "    <tr>\n",
       "      <th>168830</th>\n",
       "      <td>25434555</td>\n",
       "      <td>A</td>\n",
       "      <td>G</td>\n",
       "      <td>SYNONYMOUS_CODING</td>\n",
       "      <td>LOW</td>\n",
       "      <td>tAa</td>\n",
       "      <td>tGa</td>\n",
       "      <td>556.0</td>\n",
       "      <td>*</td>\n",
       "      <td>*</td>\n",
       "      <td>*556*</td>\n",
       "      <td>0.0</td>\n",
       "      <td>0.0</td>\n",
       "      <td>0.0</td>\n",
       "      <td>0.0</td>\n",
       "    </tr>\n",
       "    <tr>\n",
       "      <th>168831</th>\n",
       "      <td>25434556</td>\n",
       "      <td>A</td>\n",
       "      <td>C</td>\n",
       "      <td>STOP_LOST</td>\n",
       "      <td>HIGH</td>\n",
       "      <td>taA</td>\n",
       "      <td>taC</td>\n",
       "      <td>556.0</td>\n",
       "      <td>*</td>\n",
       "      <td>Y</td>\n",
       "      <td>*556Y</td>\n",
       "      <td>0.0</td>\n",
       "      <td>0.0</td>\n",
       "      <td>0.0</td>\n",
       "      <td>0.0</td>\n",
       "    </tr>\n",
       "    <tr>\n",
       "      <th>168832</th>\n",
       "      <td>25434556</td>\n",
       "      <td>A</td>\n",
       "      <td>T</td>\n",
       "      <td>STOP_LOST</td>\n",
       "      <td>HIGH</td>\n",
       "      <td>taA</td>\n",
       "      <td>taT</td>\n",
       "      <td>556.0</td>\n",
       "      <td>*</td>\n",
       "      <td>Y</td>\n",
       "      <td>*556Y</td>\n",
       "      <td>0.0</td>\n",
       "      <td>0.0</td>\n",
       "      <td>0.0</td>\n",
       "      <td>0.0</td>\n",
       "    </tr>\n",
       "    <tr>\n",
       "      <th>168833</th>\n",
       "      <td>25434556</td>\n",
       "      <td>A</td>\n",
       "      <td>G</td>\n",
       "      <td>SYNONYMOUS_CODING</td>\n",
       "      <td>LOW</td>\n",
       "      <td>taA</td>\n",
       "      <td>taG</td>\n",
       "      <td>556.0</td>\n",
       "      <td>*</td>\n",
       "      <td>*</td>\n",
       "      <td>*556*</td>\n",
       "      <td>0.0</td>\n",
       "      <td>0.0</td>\n",
       "      <td>0.0</td>\n",
       "      <td>0.0</td>\n",
       "    </tr>\n",
       "  </tbody>\n",
       "</table>\n",
       "<p>168834 rows × 15 columns</p>\n",
       "</div>"
      ],
      "text/plain": [
       "        position ref_allele alt_allele                 effect    impact  \\\n",
       "0       25363652          A          C             START_LOST      HIGH   \n",
       "1       25363652          A          T             START_LOST      HIGH   \n",
       "2       25363652          A          G             START_LOST      HIGH   \n",
       "3       25363653          T          A  NON_SYNONYMOUS_CODING  MODERATE   \n",
       "4       25363653          T          C  NON_SYNONYMOUS_CODING  MODERATE   \n",
       "...          ...        ...        ...                    ...       ...   \n",
       "168829  25434555          A          T              STOP_LOST      HIGH   \n",
       "168830  25434555          A          G      SYNONYMOUS_CODING       LOW   \n",
       "168831  25434556          A          C              STOP_LOST      HIGH   \n",
       "168832  25434556          A          T              STOP_LOST      HIGH   \n",
       "168833  25434556          A          G      SYNONYMOUS_CODING       LOW   \n",
       "\n",
       "       ref_codon alt_codon  aa_pos ref_aa alt_aa aa_change  Kenya  \\\n",
       "0            Atg       Ctg     1.0      M      L       M1L    0.0   \n",
       "1            Atg       Ttg     1.0      M      L       M1L    0.0   \n",
       "2            Atg       Gtg     1.0      M      V       M1V    0.0   \n",
       "3            aTg       aAg     1.0      M      K       M1K    0.0   \n",
       "4            aTg       aCg     1.0      M      T       M1T    0.0   \n",
       "...          ...       ...     ...    ...    ...       ...    ...   \n",
       "168829       tAa       tTa   556.0      *      L     *556L    0.0   \n",
       "168830       tAa       tGa   556.0      *      *     *556*    0.0   \n",
       "168831       taA       taC   556.0      *      Y     *556Y    0.0   \n",
       "168832       taA       taT   556.0      *      Y     *556Y    0.0   \n",
       "168833       taA       taG   556.0      *      *     *556*    0.0   \n",
       "\n",
       "        Burkina Faso  Mayotte  maximum  \n",
       "0                0.0      0.0      0.0  \n",
       "1                0.0      0.0      0.0  \n",
       "2                0.0      0.0      0.0  \n",
       "3                0.0      0.0      0.0  \n",
       "4                0.0      0.0      0.0  \n",
       "...              ...      ...      ...  \n",
       "168829           0.0      0.0      0.0  \n",
       "168830           0.0      0.0      0.0  \n",
       "168831           0.0      0.0      0.0  \n",
       "168832           0.0      0.0      0.0  \n",
       "168833           0.0      0.0      0.0  \n",
       "\n",
       "[168834 rows x 15 columns]"
      ]
     },
     "execution_count": 16,
     "metadata": {},
     "output_type": "execute_result"
    }
   ],
   "source": [
    "merged_df"
   ]
  },
  {
   "cell_type": "markdown",
   "id": "declared-facing",
   "metadata": {},
   "source": [
    "### filter down to variants-of-interest"
   ]
  },
  {
   "cell_type": "code",
   "execution_count": 89,
   "id": "through-legislature",
   "metadata": {},
   "outputs": [],
   "source": [
    "# #let's keep  variants that have MODERATE (e.g. NON-SYN) or HIGH (e.g. STOP-LOST) impact.\n",
    "merged_df = merged_df[(merged_df.impact == \"HIGH\") | (merged_df.impact == \"MODERATE\" ) | (merged_df.impact == \"LOW\" )].copy()"
   ]
  },
  {
   "cell_type": "code",
   "execution_count": 90,
   "id": "running-stick",
   "metadata": {},
   "outputs": [
    {
     "data": {
      "text/html": [
       "<div>\n",
       "<style scoped>\n",
       "    .dataframe tbody tr th:only-of-type {\n",
       "        vertical-align: middle;\n",
       "    }\n",
       "\n",
       "    .dataframe tbody tr th {\n",
       "        vertical-align: top;\n",
       "    }\n",
       "\n",
       "    .dataframe thead th {\n",
       "        text-align: right;\n",
       "    }\n",
       "</style>\n",
       "<table border=\"1\" class=\"dataframe\">\n",
       "  <thead>\n",
       "    <tr style=\"text-align: right;\">\n",
       "      <th></th>\n",
       "      <th>position</th>\n",
       "      <th>ref_allele</th>\n",
       "      <th>alt_allele</th>\n",
       "      <th>effect</th>\n",
       "      <th>impact</th>\n",
       "      <th>ref_codon</th>\n",
       "      <th>alt_codon</th>\n",
       "      <th>aa_pos</th>\n",
       "      <th>ref_aa</th>\n",
       "      <th>alt_aa</th>\n",
       "      <th>aa_change</th>\n",
       "      <th>Kenya</th>\n",
       "      <th>Burkina Faso</th>\n",
       "      <th>Mayotte</th>\n",
       "      <th>maximum</th>\n",
       "    </tr>\n",
       "  </thead>\n",
       "  <tbody>\n",
       "    <tr>\n",
       "      <th>0</th>\n",
       "      <td>25363652</td>\n",
       "      <td>A</td>\n",
       "      <td>C</td>\n",
       "      <td>START_LOST</td>\n",
       "      <td>HIGH</td>\n",
       "      <td>Atg</td>\n",
       "      <td>Ctg</td>\n",
       "      <td>1.0</td>\n",
       "      <td>M</td>\n",
       "      <td>L</td>\n",
       "      <td>M1L</td>\n",
       "      <td>0.0</td>\n",
       "      <td>0.0</td>\n",
       "      <td>0.0</td>\n",
       "      <td>0.0</td>\n",
       "    </tr>\n",
       "    <tr>\n",
       "      <th>1</th>\n",
       "      <td>25363652</td>\n",
       "      <td>A</td>\n",
       "      <td>T</td>\n",
       "      <td>START_LOST</td>\n",
       "      <td>HIGH</td>\n",
       "      <td>Atg</td>\n",
       "      <td>Ttg</td>\n",
       "      <td>1.0</td>\n",
       "      <td>M</td>\n",
       "      <td>L</td>\n",
       "      <td>M1L</td>\n",
       "      <td>0.0</td>\n",
       "      <td>0.0</td>\n",
       "      <td>0.0</td>\n",
       "      <td>0.0</td>\n",
       "    </tr>\n",
       "    <tr>\n",
       "      <th>2</th>\n",
       "      <td>25363652</td>\n",
       "      <td>A</td>\n",
       "      <td>G</td>\n",
       "      <td>START_LOST</td>\n",
       "      <td>HIGH</td>\n",
       "      <td>Atg</td>\n",
       "      <td>Gtg</td>\n",
       "      <td>1.0</td>\n",
       "      <td>M</td>\n",
       "      <td>V</td>\n",
       "      <td>M1V</td>\n",
       "      <td>0.0</td>\n",
       "      <td>0.0</td>\n",
       "      <td>0.0</td>\n",
       "      <td>0.0</td>\n",
       "    </tr>\n",
       "    <tr>\n",
       "      <th>3</th>\n",
       "      <td>25363653</td>\n",
       "      <td>T</td>\n",
       "      <td>A</td>\n",
       "      <td>NON_SYNONYMOUS_CODING</td>\n",
       "      <td>MODERATE</td>\n",
       "      <td>aTg</td>\n",
       "      <td>aAg</td>\n",
       "      <td>1.0</td>\n",
       "      <td>M</td>\n",
       "      <td>K</td>\n",
       "      <td>M1K</td>\n",
       "      <td>0.0</td>\n",
       "      <td>0.0</td>\n",
       "      <td>0.0</td>\n",
       "      <td>0.0</td>\n",
       "    </tr>\n",
       "    <tr>\n",
       "      <th>4</th>\n",
       "      <td>25363653</td>\n",
       "      <td>T</td>\n",
       "      <td>C</td>\n",
       "      <td>NON_SYNONYMOUS_CODING</td>\n",
       "      <td>MODERATE</td>\n",
       "      <td>aTg</td>\n",
       "      <td>aCg</td>\n",
       "      <td>1.0</td>\n",
       "      <td>M</td>\n",
       "      <td>T</td>\n",
       "      <td>M1T</td>\n",
       "      <td>0.0</td>\n",
       "      <td>0.0</td>\n",
       "      <td>0.0</td>\n",
       "      <td>0.0</td>\n",
       "    </tr>\n",
       "    <tr>\n",
       "      <th>...</th>\n",
       "      <td>...</td>\n",
       "      <td>...</td>\n",
       "      <td>...</td>\n",
       "      <td>...</td>\n",
       "      <td>...</td>\n",
       "      <td>...</td>\n",
       "      <td>...</td>\n",
       "      <td>...</td>\n",
       "      <td>...</td>\n",
       "      <td>...</td>\n",
       "      <td>...</td>\n",
       "      <td>...</td>\n",
       "      <td>...</td>\n",
       "      <td>...</td>\n",
       "      <td>...</td>\n",
       "    </tr>\n",
       "    <tr>\n",
       "      <th>168827</th>\n",
       "      <td>25434553</td>\n",
       "      <td>G</td>\n",
       "      <td>T</td>\n",
       "      <td>NON_SYNONYMOUS_CODING</td>\n",
       "      <td>MODERATE</td>\n",
       "      <td>aaG</td>\n",
       "      <td>aaT</td>\n",
       "      <td>555.0</td>\n",
       "      <td>K</td>\n",
       "      <td>N</td>\n",
       "      <td>K555N</td>\n",
       "      <td>0.0</td>\n",
       "      <td>0.0</td>\n",
       "      <td>0.0</td>\n",
       "      <td>0.0</td>\n",
       "    </tr>\n",
       "    <tr>\n",
       "      <th>168828</th>\n",
       "      <td>25434555</td>\n",
       "      <td>A</td>\n",
       "      <td>C</td>\n",
       "      <td>STOP_LOST</td>\n",
       "      <td>HIGH</td>\n",
       "      <td>tAa</td>\n",
       "      <td>tCa</td>\n",
       "      <td>556.0</td>\n",
       "      <td>*</td>\n",
       "      <td>S</td>\n",
       "      <td>*556S</td>\n",
       "      <td>0.0</td>\n",
       "      <td>0.0</td>\n",
       "      <td>0.0</td>\n",
       "      <td>0.0</td>\n",
       "    </tr>\n",
       "    <tr>\n",
       "      <th>168829</th>\n",
       "      <td>25434555</td>\n",
       "      <td>A</td>\n",
       "      <td>T</td>\n",
       "      <td>STOP_LOST</td>\n",
       "      <td>HIGH</td>\n",
       "      <td>tAa</td>\n",
       "      <td>tTa</td>\n",
       "      <td>556.0</td>\n",
       "      <td>*</td>\n",
       "      <td>L</td>\n",
       "      <td>*556L</td>\n",
       "      <td>0.0</td>\n",
       "      <td>0.0</td>\n",
       "      <td>0.0</td>\n",
       "      <td>0.0</td>\n",
       "    </tr>\n",
       "    <tr>\n",
       "      <th>168831</th>\n",
       "      <td>25434556</td>\n",
       "      <td>A</td>\n",
       "      <td>C</td>\n",
       "      <td>STOP_LOST</td>\n",
       "      <td>HIGH</td>\n",
       "      <td>taA</td>\n",
       "      <td>taC</td>\n",
       "      <td>556.0</td>\n",
       "      <td>*</td>\n",
       "      <td>Y</td>\n",
       "      <td>*556Y</td>\n",
       "      <td>0.0</td>\n",
       "      <td>0.0</td>\n",
       "      <td>0.0</td>\n",
       "      <td>0.0</td>\n",
       "    </tr>\n",
       "    <tr>\n",
       "      <th>168832</th>\n",
       "      <td>25434556</td>\n",
       "      <td>A</td>\n",
       "      <td>T</td>\n",
       "      <td>STOP_LOST</td>\n",
       "      <td>HIGH</td>\n",
       "      <td>taA</td>\n",
       "      <td>taT</td>\n",
       "      <td>556.0</td>\n",
       "      <td>*</td>\n",
       "      <td>Y</td>\n",
       "      <td>*556Y</td>\n",
       "      <td>0.0</td>\n",
       "      <td>0.0</td>\n",
       "      <td>0.0</td>\n",
       "      <td>0.0</td>\n",
       "    </tr>\n",
       "  </tbody>\n",
       "</table>\n",
       "<p>3760 rows × 15 columns</p>\n",
       "</div>"
      ],
      "text/plain": [
       "        position ref_allele alt_allele                 effect    impact  \\\n",
       "0       25363652          A          C             START_LOST      HIGH   \n",
       "1       25363652          A          T             START_LOST      HIGH   \n",
       "2       25363652          A          G             START_LOST      HIGH   \n",
       "3       25363653          T          A  NON_SYNONYMOUS_CODING  MODERATE   \n",
       "4       25363653          T          C  NON_SYNONYMOUS_CODING  MODERATE   \n",
       "...          ...        ...        ...                    ...       ...   \n",
       "168827  25434553          G          T  NON_SYNONYMOUS_CODING  MODERATE   \n",
       "168828  25434555          A          C              STOP_LOST      HIGH   \n",
       "168829  25434555          A          T              STOP_LOST      HIGH   \n",
       "168831  25434556          A          C              STOP_LOST      HIGH   \n",
       "168832  25434556          A          T              STOP_LOST      HIGH   \n",
       "\n",
       "       ref_codon alt_codon  aa_pos ref_aa alt_aa aa_change  Kenya  \\\n",
       "0            Atg       Ctg     1.0      M      L       M1L    0.0   \n",
       "1            Atg       Ttg     1.0      M      L       M1L    0.0   \n",
       "2            Atg       Gtg     1.0      M      V       M1V    0.0   \n",
       "3            aTg       aAg     1.0      M      K       M1K    0.0   \n",
       "4            aTg       aCg     1.0      M      T       M1T    0.0   \n",
       "...          ...       ...     ...    ...    ...       ...    ...   \n",
       "168827       aaG       aaT   555.0      K      N     K555N    0.0   \n",
       "168828       tAa       tCa   556.0      *      S     *556S    0.0   \n",
       "168829       tAa       tTa   556.0      *      L     *556L    0.0   \n",
       "168831       taA       taC   556.0      *      Y     *556Y    0.0   \n",
       "168832       taA       taT   556.0      *      Y     *556Y    0.0   \n",
       "\n",
       "        Burkina Faso  Mayotte  maximum  \n",
       "0                0.0      0.0      0.0  \n",
       "1                0.0      0.0      0.0  \n",
       "2                0.0      0.0      0.0  \n",
       "3                0.0      0.0      0.0  \n",
       "4                0.0      0.0      0.0  \n",
       "...              ...      ...      ...  \n",
       "168827           0.0      0.0      0.0  \n",
       "168828           0.0      0.0      0.0  \n",
       "168829           0.0      0.0      0.0  \n",
       "168831           0.0      0.0      0.0  \n",
       "168832           0.0      0.0      0.0  \n",
       "\n",
       "[3760 rows x 15 columns]"
      ]
     },
     "execution_count": 90,
     "metadata": {},
     "output_type": "execute_result"
    }
   ],
   "source": [
    "merged_df"
   ]
  },
  {
   "cell_type": "code",
   "execution_count": 108,
   "id": "delayed-saint",
   "metadata": {},
   "outputs": [],
   "source": [
    "#next, we can remove invariant positions (where maximum allele frequency is >0)\n",
    "freq_filtered_df = merged_df[merged_df.maximum > 0].copy()"
   ]
  },
  {
   "cell_type": "code",
   "execution_count": 109,
   "id": "sunset-charles",
   "metadata": {},
   "outputs": [
    {
     "data": {
      "text/plain": [
       "Index(['position', 'ref_allele', 'alt_allele', 'effect', 'impact', 'ref_codon',\n",
       "       'alt_codon', 'aa_pos', 'ref_aa', 'alt_aa', 'aa_change', 'Kenya',\n",
       "       'Burkina Faso', 'Mayotte', 'maximum'],\n",
       "      dtype='object')"
      ]
     },
     "execution_count": 109,
     "metadata": {},
     "output_type": "execute_result"
    }
   ],
   "source": [
    "freq_filtered_df.columns"
   ]
  },
  {
   "cell_type": "code",
   "execution_count": 110,
   "id": "resident-plant",
   "metadata": {},
   "outputs": [
    {
     "data": {
      "text/plain": [
       "(35, 15)"
      ]
     },
     "execution_count": 110,
     "metadata": {},
     "output_type": "execute_result"
    }
   ],
   "source": [
    "freq_filtered_df.shape"
   ]
  },
  {
   "cell_type": "code",
   "execution_count": 112,
   "id": "primary-grill",
   "metadata": {},
   "outputs": [],
   "source": [
    "freq_filtered_df['pos_Mbp'] = freq_filtered_df.position/1e6"
   ]
  },
  {
   "cell_type": "code",
   "execution_count": 115,
   "id": "blank-lancaster",
   "metadata": {},
   "outputs": [
    {
     "data": {
      "text/html": [
       "<div>\n",
       "<style scoped>\n",
       "    .dataframe tbody tr th:only-of-type {\n",
       "        vertical-align: middle;\n",
       "    }\n",
       "\n",
       "    .dataframe tbody tr th {\n",
       "        vertical-align: top;\n",
       "    }\n",
       "\n",
       "    .dataframe thead th {\n",
       "        text-align: right;\n",
       "    }\n",
       "</style>\n",
       "<table border=\"1\" class=\"dataframe\">\n",
       "  <thead>\n",
       "    <tr style=\"text-align: right;\">\n",
       "      <th></th>\n",
       "      <th>position</th>\n",
       "      <th>ref_allele</th>\n",
       "      <th>alt_allele</th>\n",
       "      <th>effect</th>\n",
       "      <th>impact</th>\n",
       "      <th>ref_codon</th>\n",
       "      <th>alt_codon</th>\n",
       "      <th>aa_pos</th>\n",
       "      <th>ref_aa</th>\n",
       "      <th>alt_aa</th>\n",
       "      <th>aa_change</th>\n",
       "      <th>Kenya</th>\n",
       "      <th>Burkina Faso</th>\n",
       "      <th>Mayotte</th>\n",
       "      <th>maximum</th>\n",
       "      <th>pos_Mbp</th>\n",
       "    </tr>\n",
       "  </thead>\n",
       "  <tbody>\n",
       "    <tr>\n",
       "      <th>13</th>\n",
       "      <td>25363656</td>\n",
       "      <td>C</td>\n",
       "      <td>T</td>\n",
       "      <td>NON_SYNONYMOUS_CODING</td>\n",
       "      <td>MODERATE</td>\n",
       "      <td>tCg</td>\n",
       "      <td>tTg</td>\n",
       "      <td>2.0</td>\n",
       "      <td>S</td>\n",
       "      <td>L</td>\n",
       "      <td>S2L</td>\n",
       "      <td>0.000000</td>\n",
       "      <td>0.003185</td>\n",
       "      <td>0.000000</td>\n",
       "      <td>0.003185</td>\n",
       "      <td>25.363656</td>\n",
       "    </tr>\n",
       "    <tr>\n",
       "      <th>206</th>\n",
       "      <td>25363723</td>\n",
       "      <td>G</td>\n",
       "      <td>T</td>\n",
       "      <td>NON_SYNONYMOUS_CODING</td>\n",
       "      <td>MODERATE</td>\n",
       "      <td>ttG</td>\n",
       "      <td>ttT</td>\n",
       "      <td>24.0</td>\n",
       "      <td>L</td>\n",
       "      <td>F</td>\n",
       "      <td>L24F</td>\n",
       "      <td>0.000000</td>\n",
       "      <td>0.003185</td>\n",
       "      <td>0.000000</td>\n",
       "      <td>0.003185</td>\n",
       "      <td>25.363723</td>\n",
       "    </tr>\n",
       "    <tr>\n",
       "      <th>37332</th>\n",
       "      <td>25382773</td>\n",
       "      <td>C</td>\n",
       "      <td>A</td>\n",
       "      <td>SPLICE_REGION</td>\n",
       "      <td>MODERATE</td>\n",
       "      <td>None</td>\n",
       "      <td>None</td>\n",
       "      <td>NaN</td>\n",
       "      <td>None</td>\n",
       "      <td>None</td>\n",
       "      <td>None</td>\n",
       "      <td>0.000000</td>\n",
       "      <td>0.003185</td>\n",
       "      <td>0.000000</td>\n",
       "      <td>0.003185</td>\n",
       "      <td>25.382773</td>\n",
       "    </tr>\n",
       "    <tr>\n",
       "      <th>48429</th>\n",
       "      <td>25387091</td>\n",
       "      <td>G</td>\n",
       "      <td>A</td>\n",
       "      <td>NON_SYNONYMOUS_CODING</td>\n",
       "      <td>MODERATE</td>\n",
       "      <td>gGa</td>\n",
       "      <td>gAa</td>\n",
       "      <td>75.0</td>\n",
       "      <td>G</td>\n",
       "      <td>E</td>\n",
       "      <td>G75E</td>\n",
       "      <td>0.000000</td>\n",
       "      <td>0.003185</td>\n",
       "      <td>0.000000</td>\n",
       "      <td>0.003185</td>\n",
       "      <td>25.387091</td>\n",
       "    </tr>\n",
       "    <tr>\n",
       "      <th>48646</th>\n",
       "      <td>25387164</td>\n",
       "      <td>A</td>\n",
       "      <td>T</td>\n",
       "      <td>SPLICE_REGION</td>\n",
       "      <td>MODERATE</td>\n",
       "      <td>None</td>\n",
       "      <td>None</td>\n",
       "      <td>NaN</td>\n",
       "      <td>None</td>\n",
       "      <td>None</td>\n",
       "      <td>None</td>\n",
       "      <td>0.000000</td>\n",
       "      <td>0.003185</td>\n",
       "      <td>0.000000</td>\n",
       "      <td>0.003185</td>\n",
       "      <td>25.387164</td>\n",
       "    </tr>\n",
       "    <tr>\n",
       "      <th>116113</th>\n",
       "      <td>25413317</td>\n",
       "      <td>C</td>\n",
       "      <td>T</td>\n",
       "      <td>NON_SYNONYMOUS_CODING</td>\n",
       "      <td>MODERATE</td>\n",
       "      <td>Cca</td>\n",
       "      <td>Tca</td>\n",
       "      <td>228.0</td>\n",
       "      <td>P</td>\n",
       "      <td>S</td>\n",
       "      <td>P228S</td>\n",
       "      <td>0.000000</td>\n",
       "      <td>0.003185</td>\n",
       "      <td>0.000000</td>\n",
       "      <td>0.003185</td>\n",
       "      <td>25.413317</td>\n",
       "    </tr>\n",
       "    <tr>\n",
       "      <th>157736</th>\n",
       "      <td>25429236</td>\n",
       "      <td>C</td>\n",
       "      <td>G</td>\n",
       "      <td>NON_SYNONYMOUS_CODING</td>\n",
       "      <td>MODERATE</td>\n",
       "      <td>gCa</td>\n",
       "      <td>gGa</td>\n",
       "      <td>296.0</td>\n",
       "      <td>A</td>\n",
       "      <td>G</td>\n",
       "      <td>A296G</td>\n",
       "      <td>0.888889</td>\n",
       "      <td>0.388535</td>\n",
       "      <td>0.000000</td>\n",
       "      <td>0.888889</td>\n",
       "      <td>25.429236</td>\n",
       "    </tr>\n",
       "    <tr>\n",
       "      <th>167126</th>\n",
       "      <td>25433158</td>\n",
       "      <td>C</td>\n",
       "      <td>G</td>\n",
       "      <td>SPLICE_REGION</td>\n",
       "      <td>MODERATE</td>\n",
       "      <td>None</td>\n",
       "      <td>None</td>\n",
       "      <td>NaN</td>\n",
       "      <td>None</td>\n",
       "      <td>None</td>\n",
       "      <td>None</td>\n",
       "      <td>0.000000</td>\n",
       "      <td>0.009554</td>\n",
       "      <td>0.000000</td>\n",
       "      <td>0.009554</td>\n",
       "      <td>25.433158</td>\n",
       "    </tr>\n",
       "    <tr>\n",
       "      <th>167145</th>\n",
       "      <td>25433166</td>\n",
       "      <td>C</td>\n",
       "      <td>A</td>\n",
       "      <td>STOP_GAINED</td>\n",
       "      <td>HIGH</td>\n",
       "      <td>taC</td>\n",
       "      <td>taA</td>\n",
       "      <td>343.0</td>\n",
       "      <td>Y</td>\n",
       "      <td>*</td>\n",
       "      <td>Y343*</td>\n",
       "      <td>0.000000</td>\n",
       "      <td>0.003185</td>\n",
       "      <td>0.000000</td>\n",
       "      <td>0.003185</td>\n",
       "      <td>25.433166</td>\n",
       "    </tr>\n",
       "    <tr>\n",
       "      <th>167158</th>\n",
       "      <td>25433171</td>\n",
       "      <td>C</td>\n",
       "      <td>T</td>\n",
       "      <td>NON_SYNONYMOUS_CODING</td>\n",
       "      <td>MODERATE</td>\n",
       "      <td>aCg</td>\n",
       "      <td>aTg</td>\n",
       "      <td>345.0</td>\n",
       "      <td>T</td>\n",
       "      <td>M</td>\n",
       "      <td>T345M</td>\n",
       "      <td>0.888889</td>\n",
       "      <td>0.388535</td>\n",
       "      <td>0.000000</td>\n",
       "      <td>0.888889</td>\n",
       "      <td>25.433171</td>\n",
       "    </tr>\n",
       "    <tr>\n",
       "      <th>167195</th>\n",
       "      <td>25433184</td>\n",
       "      <td>G</td>\n",
       "      <td>T</td>\n",
       "      <td>NON_SYNONYMOUS_CODING</td>\n",
       "      <td>MODERATE</td>\n",
       "      <td>atG</td>\n",
       "      <td>atT</td>\n",
       "      <td>349.0</td>\n",
       "      <td>M</td>\n",
       "      <td>I</td>\n",
       "      <td>M349I</td>\n",
       "      <td>0.000000</td>\n",
       "      <td>0.003185</td>\n",
       "      <td>0.000000</td>\n",
       "      <td>0.003185</td>\n",
       "      <td>25.433184</td>\n",
       "    </tr>\n",
       "    <tr>\n",
       "      <th>167397</th>\n",
       "      <td>25433254</td>\n",
       "      <td>C</td>\n",
       "      <td>A</td>\n",
       "      <td>NON_SYNONYMOUS_CODING</td>\n",
       "      <td>MODERATE</td>\n",
       "      <td>Cag</td>\n",
       "      <td>Aag</td>\n",
       "      <td>373.0</td>\n",
       "      <td>Q</td>\n",
       "      <td>K</td>\n",
       "      <td>Q373K</td>\n",
       "      <td>0.000000</td>\n",
       "      <td>0.003185</td>\n",
       "      <td>0.000000</td>\n",
       "      <td>0.003185</td>\n",
       "      <td>25.433254</td>\n",
       "    </tr>\n",
       "    <tr>\n",
       "      <th>167427</th>\n",
       "      <td>25433264</td>\n",
       "      <td>A</td>\n",
       "      <td>C</td>\n",
       "      <td>NON_SYNONYMOUS_CODING</td>\n",
       "      <td>MODERATE</td>\n",
       "      <td>gAc</td>\n",
       "      <td>gCc</td>\n",
       "      <td>376.0</td>\n",
       "      <td>D</td>\n",
       "      <td>A</td>\n",
       "      <td>D376A</td>\n",
       "      <td>0.000000</td>\n",
       "      <td>0.000000</td>\n",
       "      <td>0.021739</td>\n",
       "      <td>0.021739</td>\n",
       "      <td>25.433264</td>\n",
       "    </tr>\n",
       "    <tr>\n",
       "      <th>167490</th>\n",
       "      <td>25433288</td>\n",
       "      <td>C</td>\n",
       "      <td>A</td>\n",
       "      <td>NON_SYNONYMOUS_CODING</td>\n",
       "      <td>MODERATE</td>\n",
       "      <td>cCc</td>\n",
       "      <td>cAc</td>\n",
       "      <td>384.0</td>\n",
       "      <td>P</td>\n",
       "      <td>H</td>\n",
       "      <td>P384H</td>\n",
       "      <td>0.000000</td>\n",
       "      <td>0.000000</td>\n",
       "      <td>0.021739</td>\n",
       "      <td>0.021739</td>\n",
       "      <td>25.433288</td>\n",
       "    </tr>\n",
       "    <tr>\n",
       "      <th>167531</th>\n",
       "      <td>25433302</td>\n",
       "      <td>G</td>\n",
       "      <td>T</td>\n",
       "      <td>NON_SYNONYMOUS_CODING</td>\n",
       "      <td>MODERATE</td>\n",
       "      <td>Gac</td>\n",
       "      <td>Tac</td>\n",
       "      <td>389.0</td>\n",
       "      <td>D</td>\n",
       "      <td>Y</td>\n",
       "      <td>D389Y</td>\n",
       "      <td>0.000000</td>\n",
       "      <td>0.003185</td>\n",
       "      <td>0.000000</td>\n",
       "      <td>0.003185</td>\n",
       "      <td>25.433302</td>\n",
       "    </tr>\n",
       "    <tr>\n",
       "      <th>167614</th>\n",
       "      <td>25433333</td>\n",
       "      <td>G</td>\n",
       "      <td>C</td>\n",
       "      <td>NON_SYNONYMOUS_CODING</td>\n",
       "      <td>MODERATE</td>\n",
       "      <td>aGc</td>\n",
       "      <td>aCc</td>\n",
       "      <td>399.0</td>\n",
       "      <td>S</td>\n",
       "      <td>T</td>\n",
       "      <td>S399T</td>\n",
       "      <td>0.000000</td>\n",
       "      <td>0.003185</td>\n",
       "      <td>0.000000</td>\n",
       "      <td>0.003185</td>\n",
       "      <td>25.433333</td>\n",
       "    </tr>\n",
       "    <tr>\n",
       "      <th>167649</th>\n",
       "      <td>25433345</td>\n",
       "      <td>A</td>\n",
       "      <td>C</td>\n",
       "      <td>NON_SYNONYMOUS_CODING</td>\n",
       "      <td>MODERATE</td>\n",
       "      <td>cAg</td>\n",
       "      <td>cCg</td>\n",
       "      <td>403.0</td>\n",
       "      <td>Q</td>\n",
       "      <td>P</td>\n",
       "      <td>Q403P</td>\n",
       "      <td>0.000000</td>\n",
       "      <td>0.000000</td>\n",
       "      <td>0.021739</td>\n",
       "      <td>0.021739</td>\n",
       "      <td>25.433345</td>\n",
       "    </tr>\n",
       "    <tr>\n",
       "      <th>167660</th>\n",
       "      <td>25433348</td>\n",
       "      <td>A</td>\n",
       "      <td>G</td>\n",
       "      <td>NON_SYNONYMOUS_CODING</td>\n",
       "      <td>MODERATE</td>\n",
       "      <td>cAc</td>\n",
       "      <td>cGc</td>\n",
       "      <td>404.0</td>\n",
       "      <td>H</td>\n",
       "      <td>R</td>\n",
       "      <td>H404R</td>\n",
       "      <td>0.000000</td>\n",
       "      <td>0.003185</td>\n",
       "      <td>0.000000</td>\n",
       "      <td>0.003185</td>\n",
       "      <td>25.433348</td>\n",
       "    </tr>\n",
       "    <tr>\n",
       "      <th>167712</th>\n",
       "      <td>25433367</td>\n",
       "      <td>G</td>\n",
       "      <td>A</td>\n",
       "      <td>NON_SYNONYMOUS_CODING</td>\n",
       "      <td>MODERATE</td>\n",
       "      <td>atG</td>\n",
       "      <td>atA</td>\n",
       "      <td>410.0</td>\n",
       "      <td>M</td>\n",
       "      <td>I</td>\n",
       "      <td>M410I</td>\n",
       "      <td>0.000000</td>\n",
       "      <td>0.003185</td>\n",
       "      <td>0.000000</td>\n",
       "      <td>0.003185</td>\n",
       "      <td>25.433367</td>\n",
       "    </tr>\n",
       "    <tr>\n",
       "      <th>167719</th>\n",
       "      <td>25433369</td>\n",
       "      <td>G</td>\n",
       "      <td>C</td>\n",
       "      <td>NON_SYNONYMOUS_CODING</td>\n",
       "      <td>MODERATE</td>\n",
       "      <td>gGc</td>\n",
       "      <td>gCc</td>\n",
       "      <td>411.0</td>\n",
       "      <td>G</td>\n",
       "      <td>A</td>\n",
       "      <td>G411A</td>\n",
       "      <td>0.000000</td>\n",
       "      <td>0.003185</td>\n",
       "      <td>0.000000</td>\n",
       "      <td>0.003185</td>\n",
       "      <td>25.433369</td>\n",
       "    </tr>\n",
       "    <tr>\n",
       "      <th>167727</th>\n",
       "      <td>25433372</td>\n",
       "      <td>G</td>\n",
       "      <td>A</td>\n",
       "      <td>NON_SYNONYMOUS_CODING</td>\n",
       "      <td>MODERATE</td>\n",
       "      <td>aGc</td>\n",
       "      <td>aAc</td>\n",
       "      <td>412.0</td>\n",
       "      <td>S</td>\n",
       "      <td>N</td>\n",
       "      <td>S412N</td>\n",
       "      <td>0.000000</td>\n",
       "      <td>0.003185</td>\n",
       "      <td>0.000000</td>\n",
       "      <td>0.003185</td>\n",
       "      <td>25.433372</td>\n",
       "    </tr>\n",
       "    <tr>\n",
       "      <th>167738</th>\n",
       "      <td>25433375</td>\n",
       "      <td>G</td>\n",
       "      <td>T</td>\n",
       "      <td>NON_SYNONYMOUS_CODING</td>\n",
       "      <td>MODERATE</td>\n",
       "      <td>cGg</td>\n",
       "      <td>cTg</td>\n",
       "      <td>413.0</td>\n",
       "      <td>R</td>\n",
       "      <td>L</td>\n",
       "      <td>R413L</td>\n",
       "      <td>0.000000</td>\n",
       "      <td>0.003185</td>\n",
       "      <td>0.000000</td>\n",
       "      <td>0.003185</td>\n",
       "      <td>25.433375</td>\n",
       "    </tr>\n",
       "    <tr>\n",
       "      <th>167816</th>\n",
       "      <td>25433402</td>\n",
       "      <td>C</td>\n",
       "      <td>G</td>\n",
       "      <td>NON_SYNONYMOUS_CODING</td>\n",
       "      <td>MODERATE</td>\n",
       "      <td>cCg</td>\n",
       "      <td>cGg</td>\n",
       "      <td>422.0</td>\n",
       "      <td>P</td>\n",
       "      <td>R</td>\n",
       "      <td>P422R</td>\n",
       "      <td>0.000000</td>\n",
       "      <td>0.003185</td>\n",
       "      <td>0.000000</td>\n",
       "      <td>0.003185</td>\n",
       "      <td>25.433402</td>\n",
       "    </tr>\n",
       "    <tr>\n",
       "      <th>167836</th>\n",
       "      <td>25433409</td>\n",
       "      <td>G</td>\n",
       "      <td>C</td>\n",
       "      <td>NON_SYNONYMOUS_CODING</td>\n",
       "      <td>MODERATE</td>\n",
       "      <td>atG</td>\n",
       "      <td>atC</td>\n",
       "      <td>424.0</td>\n",
       "      <td>M</td>\n",
       "      <td>I</td>\n",
       "      <td>M424I</td>\n",
       "      <td>0.000000</td>\n",
       "      <td>0.003185</td>\n",
       "      <td>0.000000</td>\n",
       "      <td>0.003185</td>\n",
       "      <td>25.433409</td>\n",
       "    </tr>\n",
       "    <tr>\n",
       "      <th>167929</th>\n",
       "      <td>25433441</td>\n",
       "      <td>T</td>\n",
       "      <td>C</td>\n",
       "      <td>NON_SYNONYMOUS_CODING</td>\n",
       "      <td>MODERATE</td>\n",
       "      <td>cTg</td>\n",
       "      <td>cCg</td>\n",
       "      <td>435.0</td>\n",
       "      <td>L</td>\n",
       "      <td>P</td>\n",
       "      <td>L435P</td>\n",
       "      <td>0.000000</td>\n",
       "      <td>0.003185</td>\n",
       "      <td>0.000000</td>\n",
       "      <td>0.003185</td>\n",
       "      <td>25.433441</td>\n",
       "    </tr>\n",
       "    <tr>\n",
       "      <th>168069</th>\n",
       "      <td>25433495</td>\n",
       "      <td>G</td>\n",
       "      <td>A</td>\n",
       "      <td>NON_SYNONYMOUS_CODING</td>\n",
       "      <td>MODERATE</td>\n",
       "      <td>gGc</td>\n",
       "      <td>gAc</td>\n",
       "      <td>453.0</td>\n",
       "      <td>G</td>\n",
       "      <td>D</td>\n",
       "      <td>G453D</td>\n",
       "      <td>0.000000</td>\n",
       "      <td>0.003185</td>\n",
       "      <td>0.000000</td>\n",
       "      <td>0.003185</td>\n",
       "      <td>25.433495</td>\n",
       "    </tr>\n",
       "    <tr>\n",
       "      <th>168096</th>\n",
       "      <td>25433507</td>\n",
       "      <td>A</td>\n",
       "      <td>C</td>\n",
       "      <td>NON_SYNONYMOUS_CODING</td>\n",
       "      <td>MODERATE</td>\n",
       "      <td>aAc</td>\n",
       "      <td>aCc</td>\n",
       "      <td>457.0</td>\n",
       "      <td>N</td>\n",
       "      <td>T</td>\n",
       "      <td>N457T</td>\n",
       "      <td>0.000000</td>\n",
       "      <td>0.000000</td>\n",
       "      <td>0.021739</td>\n",
       "      <td>0.021739</td>\n",
       "      <td>25.433507</td>\n",
       "    </tr>\n",
       "    <tr>\n",
       "      <th>168147</th>\n",
       "      <td>25433635</td>\n",
       "      <td>G</td>\n",
       "      <td>A</td>\n",
       "      <td>NON_SYNONYMOUS_CODING</td>\n",
       "      <td>MODERATE</td>\n",
       "      <td>Ggc</td>\n",
       "      <td>Agc</td>\n",
       "      <td>500.0</td>\n",
       "      <td>G</td>\n",
       "      <td>S</td>\n",
       "      <td>G500S</td>\n",
       "      <td>0.000000</td>\n",
       "      <td>0.003185</td>\n",
       "      <td>0.000000</td>\n",
       "      <td>0.003185</td>\n",
       "      <td>25.433635</td>\n",
       "    </tr>\n",
       "    <tr>\n",
       "      <th>168175</th>\n",
       "      <td>25433647</td>\n",
       "      <td>C</td>\n",
       "      <td>T</td>\n",
       "      <td>SPLICE_REGION</td>\n",
       "      <td>MODERATE</td>\n",
       "      <td>None</td>\n",
       "      <td>None</td>\n",
       "      <td>NaN</td>\n",
       "      <td>None</td>\n",
       "      <td>None</td>\n",
       "      <td>None</td>\n",
       "      <td>0.000000</td>\n",
       "      <td>0.006369</td>\n",
       "      <td>0.000000</td>\n",
       "      <td>0.006369</td>\n",
       "      <td>25.433647</td>\n",
       "    </tr>\n",
       "    <tr>\n",
       "      <th>168350</th>\n",
       "      <td>25434390</td>\n",
       "      <td>A</td>\n",
       "      <td>G</td>\n",
       "      <td>SPLICE_CORE</td>\n",
       "      <td>HIGH</td>\n",
       "      <td>None</td>\n",
       "      <td>None</td>\n",
       "      <td>NaN</td>\n",
       "      <td>None</td>\n",
       "      <td>None</td>\n",
       "      <td>None</td>\n",
       "      <td>0.000000</td>\n",
       "      <td>0.003185</td>\n",
       "      <td>0.000000</td>\n",
       "      <td>0.003185</td>\n",
       "      <td>25.434390</td>\n",
       "    </tr>\n",
       "    <tr>\n",
       "      <th>168612</th>\n",
       "      <td>25434478</td>\n",
       "      <td>T</td>\n",
       "      <td>A</td>\n",
       "      <td>NON_SYNONYMOUS_CODING</td>\n",
       "      <td>MODERATE</td>\n",
       "      <td>aaT</td>\n",
       "      <td>aaA</td>\n",
       "      <td>530.0</td>\n",
       "      <td>N</td>\n",
       "      <td>K</td>\n",
       "      <td>N530K</td>\n",
       "      <td>0.333333</td>\n",
       "      <td>0.073248</td>\n",
       "      <td>0.000000</td>\n",
       "      <td>0.333333</td>\n",
       "      <td>25.434478</td>\n",
       "    </tr>\n",
       "    <tr>\n",
       "      <th>168677</th>\n",
       "      <td>25434500</td>\n",
       "      <td>C</td>\n",
       "      <td>G</td>\n",
       "      <td>NON_SYNONYMOUS_CODING</td>\n",
       "      <td>MODERATE</td>\n",
       "      <td>Ctg</td>\n",
       "      <td>Gtg</td>\n",
       "      <td>538.0</td>\n",
       "      <td>L</td>\n",
       "      <td>V</td>\n",
       "      <td>L538V</td>\n",
       "      <td>0.000000</td>\n",
       "      <td>0.003185</td>\n",
       "      <td>0.000000</td>\n",
       "      <td>0.003185</td>\n",
       "      <td>25.434500</td>\n",
       "    </tr>\n",
       "    <tr>\n",
       "      <th>168688</th>\n",
       "      <td>25434504</td>\n",
       "      <td>A</td>\n",
       "      <td>T</td>\n",
       "      <td>NON_SYNONYMOUS_CODING</td>\n",
       "      <td>MODERATE</td>\n",
       "      <td>cAc</td>\n",
       "      <td>cTc</td>\n",
       "      <td>539.0</td>\n",
       "      <td>H</td>\n",
       "      <td>L</td>\n",
       "      <td>H539L</td>\n",
       "      <td>0.000000</td>\n",
       "      <td>0.003185</td>\n",
       "      <td>0.000000</td>\n",
       "      <td>0.003185</td>\n",
       "      <td>25.434504</td>\n",
       "    </tr>\n",
       "    <tr>\n",
       "      <th>168692</th>\n",
       "      <td>25434505</td>\n",
       "      <td>C</td>\n",
       "      <td>G</td>\n",
       "      <td>NON_SYNONYMOUS_CODING</td>\n",
       "      <td>MODERATE</td>\n",
       "      <td>caC</td>\n",
       "      <td>caG</td>\n",
       "      <td>539.0</td>\n",
       "      <td>H</td>\n",
       "      <td>Q</td>\n",
       "      <td>H539Q</td>\n",
       "      <td>0.138889</td>\n",
       "      <td>0.140127</td>\n",
       "      <td>0.000000</td>\n",
       "      <td>0.140127</td>\n",
       "      <td>25.434505</td>\n",
       "    </tr>\n",
       "    <tr>\n",
       "      <th>168711</th>\n",
       "      <td>25434512</td>\n",
       "      <td>G</td>\n",
       "      <td>A</td>\n",
       "      <td>NON_SYNONYMOUS_CODING</td>\n",
       "      <td>MODERATE</td>\n",
       "      <td>Gac</td>\n",
       "      <td>Aac</td>\n",
       "      <td>542.0</td>\n",
       "      <td>D</td>\n",
       "      <td>N</td>\n",
       "      <td>D542N</td>\n",
       "      <td>0.000000</td>\n",
       "      <td>0.003185</td>\n",
       "      <td>0.000000</td>\n",
       "      <td>0.003185</td>\n",
       "      <td>25.434512</td>\n",
       "    </tr>\n",
       "  </tbody>\n",
       "</table>\n",
       "</div>"
      ],
      "text/plain": [
       "        position ref_allele alt_allele                 effect    impact  \\\n",
       "13      25363656          C          T  NON_SYNONYMOUS_CODING  MODERATE   \n",
       "206     25363723          G          T  NON_SYNONYMOUS_CODING  MODERATE   \n",
       "37332   25382773          C          A          SPLICE_REGION  MODERATE   \n",
       "48429   25387091          G          A  NON_SYNONYMOUS_CODING  MODERATE   \n",
       "48646   25387164          A          T          SPLICE_REGION  MODERATE   \n",
       "116113  25413317          C          T  NON_SYNONYMOUS_CODING  MODERATE   \n",
       "157736  25429236          C          G  NON_SYNONYMOUS_CODING  MODERATE   \n",
       "167126  25433158          C          G          SPLICE_REGION  MODERATE   \n",
       "167145  25433166          C          A            STOP_GAINED      HIGH   \n",
       "167158  25433171          C          T  NON_SYNONYMOUS_CODING  MODERATE   \n",
       "167195  25433184          G          T  NON_SYNONYMOUS_CODING  MODERATE   \n",
       "167397  25433254          C          A  NON_SYNONYMOUS_CODING  MODERATE   \n",
       "167427  25433264          A          C  NON_SYNONYMOUS_CODING  MODERATE   \n",
       "167490  25433288          C          A  NON_SYNONYMOUS_CODING  MODERATE   \n",
       "167531  25433302          G          T  NON_SYNONYMOUS_CODING  MODERATE   \n",
       "167614  25433333          G          C  NON_SYNONYMOUS_CODING  MODERATE   \n",
       "167649  25433345          A          C  NON_SYNONYMOUS_CODING  MODERATE   \n",
       "167660  25433348          A          G  NON_SYNONYMOUS_CODING  MODERATE   \n",
       "167712  25433367          G          A  NON_SYNONYMOUS_CODING  MODERATE   \n",
       "167719  25433369          G          C  NON_SYNONYMOUS_CODING  MODERATE   \n",
       "167727  25433372          G          A  NON_SYNONYMOUS_CODING  MODERATE   \n",
       "167738  25433375          G          T  NON_SYNONYMOUS_CODING  MODERATE   \n",
       "167816  25433402          C          G  NON_SYNONYMOUS_CODING  MODERATE   \n",
       "167836  25433409          G          C  NON_SYNONYMOUS_CODING  MODERATE   \n",
       "167929  25433441          T          C  NON_SYNONYMOUS_CODING  MODERATE   \n",
       "168069  25433495          G          A  NON_SYNONYMOUS_CODING  MODERATE   \n",
       "168096  25433507          A          C  NON_SYNONYMOUS_CODING  MODERATE   \n",
       "168147  25433635          G          A  NON_SYNONYMOUS_CODING  MODERATE   \n",
       "168175  25433647          C          T          SPLICE_REGION  MODERATE   \n",
       "168350  25434390          A          G            SPLICE_CORE      HIGH   \n",
       "168612  25434478          T          A  NON_SYNONYMOUS_CODING  MODERATE   \n",
       "168677  25434500          C          G  NON_SYNONYMOUS_CODING  MODERATE   \n",
       "168688  25434504          A          T  NON_SYNONYMOUS_CODING  MODERATE   \n",
       "168692  25434505          C          G  NON_SYNONYMOUS_CODING  MODERATE   \n",
       "168711  25434512          G          A  NON_SYNONYMOUS_CODING  MODERATE   \n",
       "\n",
       "       ref_codon alt_codon  aa_pos ref_aa alt_aa aa_change     Kenya  \\\n",
       "13           tCg       tTg     2.0      S      L       S2L  0.000000   \n",
       "206          ttG       ttT    24.0      L      F      L24F  0.000000   \n",
       "37332       None      None     NaN   None   None      None  0.000000   \n",
       "48429        gGa       gAa    75.0      G      E      G75E  0.000000   \n",
       "48646       None      None     NaN   None   None      None  0.000000   \n",
       "116113       Cca       Tca   228.0      P      S     P228S  0.000000   \n",
       "157736       gCa       gGa   296.0      A      G     A296G  0.888889   \n",
       "167126      None      None     NaN   None   None      None  0.000000   \n",
       "167145       taC       taA   343.0      Y      *     Y343*  0.000000   \n",
       "167158       aCg       aTg   345.0      T      M     T345M  0.888889   \n",
       "167195       atG       atT   349.0      M      I     M349I  0.000000   \n",
       "167397       Cag       Aag   373.0      Q      K     Q373K  0.000000   \n",
       "167427       gAc       gCc   376.0      D      A     D376A  0.000000   \n",
       "167490       cCc       cAc   384.0      P      H     P384H  0.000000   \n",
       "167531       Gac       Tac   389.0      D      Y     D389Y  0.000000   \n",
       "167614       aGc       aCc   399.0      S      T     S399T  0.000000   \n",
       "167649       cAg       cCg   403.0      Q      P     Q403P  0.000000   \n",
       "167660       cAc       cGc   404.0      H      R     H404R  0.000000   \n",
       "167712       atG       atA   410.0      M      I     M410I  0.000000   \n",
       "167719       gGc       gCc   411.0      G      A     G411A  0.000000   \n",
       "167727       aGc       aAc   412.0      S      N     S412N  0.000000   \n",
       "167738       cGg       cTg   413.0      R      L     R413L  0.000000   \n",
       "167816       cCg       cGg   422.0      P      R     P422R  0.000000   \n",
       "167836       atG       atC   424.0      M      I     M424I  0.000000   \n",
       "167929       cTg       cCg   435.0      L      P     L435P  0.000000   \n",
       "168069       gGc       gAc   453.0      G      D     G453D  0.000000   \n",
       "168096       aAc       aCc   457.0      N      T     N457T  0.000000   \n",
       "168147       Ggc       Agc   500.0      G      S     G500S  0.000000   \n",
       "168175      None      None     NaN   None   None      None  0.000000   \n",
       "168350      None      None     NaN   None   None      None  0.000000   \n",
       "168612       aaT       aaA   530.0      N      K     N530K  0.333333   \n",
       "168677       Ctg       Gtg   538.0      L      V     L538V  0.000000   \n",
       "168688       cAc       cTc   539.0      H      L     H539L  0.000000   \n",
       "168692       caC       caG   539.0      H      Q     H539Q  0.138889   \n",
       "168711       Gac       Aac   542.0      D      N     D542N  0.000000   \n",
       "\n",
       "        Burkina Faso   Mayotte   maximum    pos_Mbp  \n",
       "13          0.003185  0.000000  0.003185  25.363656  \n",
       "206         0.003185  0.000000  0.003185  25.363723  \n",
       "37332       0.003185  0.000000  0.003185  25.382773  \n",
       "48429       0.003185  0.000000  0.003185  25.387091  \n",
       "48646       0.003185  0.000000  0.003185  25.387164  \n",
       "116113      0.003185  0.000000  0.003185  25.413317  \n",
       "157736      0.388535  0.000000  0.888889  25.429236  \n",
       "167126      0.009554  0.000000  0.009554  25.433158  \n",
       "167145      0.003185  0.000000  0.003185  25.433166  \n",
       "167158      0.388535  0.000000  0.888889  25.433171  \n",
       "167195      0.003185  0.000000  0.003185  25.433184  \n",
       "167397      0.003185  0.000000  0.003185  25.433254  \n",
       "167427      0.000000  0.021739  0.021739  25.433264  \n",
       "167490      0.000000  0.021739  0.021739  25.433288  \n",
       "167531      0.003185  0.000000  0.003185  25.433302  \n",
       "167614      0.003185  0.000000  0.003185  25.433333  \n",
       "167649      0.000000  0.021739  0.021739  25.433345  \n",
       "167660      0.003185  0.000000  0.003185  25.433348  \n",
       "167712      0.003185  0.000000  0.003185  25.433367  \n",
       "167719      0.003185  0.000000  0.003185  25.433369  \n",
       "167727      0.003185  0.000000  0.003185  25.433372  \n",
       "167738      0.003185  0.000000  0.003185  25.433375  \n",
       "167816      0.003185  0.000000  0.003185  25.433402  \n",
       "167836      0.003185  0.000000  0.003185  25.433409  \n",
       "167929      0.003185  0.000000  0.003185  25.433441  \n",
       "168069      0.003185  0.000000  0.003185  25.433495  \n",
       "168096      0.000000  0.021739  0.021739  25.433507  \n",
       "168147      0.003185  0.000000  0.003185  25.433635  \n",
       "168175      0.006369  0.000000  0.006369  25.433647  \n",
       "168350      0.003185  0.000000  0.003185  25.434390  \n",
       "168612      0.073248  0.000000  0.333333  25.434478  \n",
       "168677      0.003185  0.000000  0.003185  25.434500  \n",
       "168688      0.003185  0.000000  0.003185  25.434504  \n",
       "168692      0.140127  0.000000  0.140127  25.434505  \n",
       "168711      0.003185  0.000000  0.003185  25.434512  "
      ]
     },
     "execution_count": 115,
     "metadata": {},
     "output_type": "execute_result"
    }
   ],
   "source": [
    "freq_filtered_df"
   ]
  },
  {
   "cell_type": "markdown",
   "id": "enormous-month",
   "metadata": {},
   "source": [
    "### plot"
   ]
  },
  {
   "cell_type": "code",
   "execution_count": 38,
   "id": "confidential-dayton",
   "metadata": {},
   "outputs": [],
   "source": [
    "# # first we need a plotly friendly dataframe...\n",
    "# plotly_cols = {\n",
    "#     'position' : np.tile(freq_filtered_df.position/1e6, len(populations)),\n",
    "#     'effect' : np.tile(freq_filtered_df.effect, len(populations)),\n",
    "#     'aa_change' : np.tile(freq_filtered_df.aa_change, len(populations)),\n",
    "#     'frequency' : [],\n",
    "#     'population' : []\n",
    "# }\n",
    "\n",
    "# for pop in freq_filtered_df[populations]:\n",
    "#     for freq in freq_filtered_df[pop]:\n",
    "#         plotly_cols['frequency'].append(freq)\n",
    "#         plotly_cols['population'].append(pop)\n",
    "        \n",
    "# plotly_df = pd.DataFrame(plotly_cols)"
   ]
  },
  {
   "cell_type": "code",
   "execution_count": 39,
   "id": "brave-council",
   "metadata": {},
   "outputs": [
    {
     "data": {
      "application/vnd.plotly.v1+json": {
       "config": {
        "plotlyServerURL": "https://plot.ly"
       },
       "data": [
        {
         "customdata": [
          [
           "Kenya",
           "NON_SYNONYMOUS_CODING",
           "S2L"
          ],
          [
           "Kenya",
           "NON_SYNONYMOUS_CODING",
           "L24F"
          ],
          [
           "Kenya",
           "NON_SYNONYMOUS_CODING",
           "G75E"
          ],
          [
           "Kenya",
           "NON_SYNONYMOUS_CODING",
           "P228S"
          ],
          [
           "Kenya",
           "NON_SYNONYMOUS_CODING",
           "A296G"
          ],
          [
           "Kenya",
           "NON_SYNONYMOUS_CODING",
           "T345M"
          ],
          [
           "Kenya",
           "NON_SYNONYMOUS_CODING",
           "M349I"
          ],
          [
           "Kenya",
           "NON_SYNONYMOUS_CODING",
           "Q373K"
          ],
          [
           "Kenya",
           "NON_SYNONYMOUS_CODING",
           "D376A"
          ],
          [
           "Kenya",
           "NON_SYNONYMOUS_CODING",
           "P384H"
          ],
          [
           "Kenya",
           "NON_SYNONYMOUS_CODING",
           "D389Y"
          ],
          [
           "Kenya",
           "NON_SYNONYMOUS_CODING",
           "S399T"
          ],
          [
           "Kenya",
           "NON_SYNONYMOUS_CODING",
           "Q403P"
          ],
          [
           "Kenya",
           "NON_SYNONYMOUS_CODING",
           "H404R"
          ],
          [
           "Kenya",
           "NON_SYNONYMOUS_CODING",
           "M410I"
          ],
          [
           "Kenya",
           "NON_SYNONYMOUS_CODING",
           "G411A"
          ],
          [
           "Kenya",
           "NON_SYNONYMOUS_CODING",
           "S412N"
          ],
          [
           "Kenya",
           "NON_SYNONYMOUS_CODING",
           "R413L"
          ],
          [
           "Kenya",
           "NON_SYNONYMOUS_CODING",
           "P422R"
          ],
          [
           "Kenya",
           "NON_SYNONYMOUS_CODING",
           "M424I"
          ],
          [
           "Kenya",
           "NON_SYNONYMOUS_CODING",
           "L435P"
          ],
          [
           "Kenya",
           "NON_SYNONYMOUS_CODING",
           "G453D"
          ],
          [
           "Kenya",
           "NON_SYNONYMOUS_CODING",
           "N457T"
          ],
          [
           "Kenya",
           "NON_SYNONYMOUS_CODING",
           "G500S"
          ],
          [
           "Kenya",
           "NON_SYNONYMOUS_CODING",
           "N530K"
          ],
          [
           "Kenya",
           "NON_SYNONYMOUS_CODING",
           "L538V"
          ],
          [
           "Kenya",
           "NON_SYNONYMOUS_CODING",
           "H539L"
          ],
          [
           "Kenya",
           "NON_SYNONYMOUS_CODING",
           "H539Q"
          ],
          [
           "Kenya",
           "NON_SYNONYMOUS_CODING",
           "D542N"
          ]
         ],
         "hovertemplate": "population=%{customdata[0]}<br>effect=%{customdata[1]}<br>position=%{x}<br>frequency=%{y}<br>aa_change=%{customdata[2]}<extra></extra>",
         "legendgroup": "Kenya, NON_SYNONYMOUS_CODING",
         "marker": {
          "color": "#636efa",
          "symbol": "circle"
         },
         "mode": "markers",
         "name": "Kenya, NON_SYNONYMOUS_CODING",
         "orientation": "v",
         "showlegend": true,
         "type": "scatter",
         "x": [
          25.363656,
          25.363723,
          25.387091,
          25.413317,
          25.429236,
          25.433171,
          25.433184,
          25.433254,
          25.433264,
          25.433288,
          25.433302,
          25.433333,
          25.433345,
          25.433348,
          25.433367,
          25.433369,
          25.433372,
          25.433375,
          25.433402,
          25.433409,
          25.433441,
          25.433495,
          25.433507,
          25.433635,
          25.434478,
          25.4345,
          25.434504,
          25.434505,
          25.434512
         ],
         "xaxis": "x",
         "y": [
          0,
          0,
          0,
          0,
          0.8888888888888888,
          0.8888888888888888,
          0,
          0,
          0,
          0,
          0,
          0,
          0,
          0,
          0,
          0,
          0,
          0,
          0,
          0,
          0,
          0,
          0,
          0,
          0.3333333333333333,
          0,
          0,
          0.1388888888888889,
          0
         ],
         "yaxis": "y"
        },
        {
         "customdata": [
          [
           "Kenya",
           "SPLICE_REGION",
           null
          ],
          [
           "Kenya",
           "SPLICE_REGION",
           null
          ],
          [
           "Kenya",
           "SPLICE_REGION",
           null
          ],
          [
           "Kenya",
           "SPLICE_REGION",
           null
          ]
         ],
         "hovertemplate": "population=%{customdata[0]}<br>effect=%{customdata[1]}<br>position=%{x}<br>frequency=%{y}<br>aa_change=%{customdata[2]}<extra></extra>",
         "legendgroup": "Kenya, SPLICE_REGION",
         "marker": {
          "color": "#636efa",
          "symbol": "diamond"
         },
         "mode": "markers",
         "name": "Kenya, SPLICE_REGION",
         "orientation": "v",
         "showlegend": true,
         "type": "scatter",
         "x": [
          25.382773,
          25.387164,
          25.433158,
          25.433647
         ],
         "xaxis": "x",
         "y": [
          0,
          0,
          0,
          0
         ],
         "yaxis": "y"
        },
        {
         "customdata": [
          [
           "Kenya",
           "STOP_GAINED",
           "Y343*"
          ]
         ],
         "hovertemplate": "population=%{customdata[0]}<br>effect=%{customdata[1]}<br>position=%{x}<br>frequency=%{y}<br>aa_change=%{customdata[2]}<extra></extra>",
         "legendgroup": "Kenya, STOP_GAINED",
         "marker": {
          "color": "#636efa",
          "symbol": "square"
         },
         "mode": "markers",
         "name": "Kenya, STOP_GAINED",
         "orientation": "v",
         "showlegend": true,
         "type": "scatter",
         "x": [
          25.433166
         ],
         "xaxis": "x",
         "y": [
          0
         ],
         "yaxis": "y"
        },
        {
         "customdata": [
          [
           "Kenya",
           "SPLICE_CORE",
           null
          ]
         ],
         "hovertemplate": "population=%{customdata[0]}<br>effect=%{customdata[1]}<br>position=%{x}<br>frequency=%{y}<br>aa_change=%{customdata[2]}<extra></extra>",
         "legendgroup": "Kenya, SPLICE_CORE",
         "marker": {
          "color": "#636efa",
          "symbol": "x"
         },
         "mode": "markers",
         "name": "Kenya, SPLICE_CORE",
         "orientation": "v",
         "showlegend": true,
         "type": "scatter",
         "x": [
          25.43439
         ],
         "xaxis": "x",
         "y": [
          0
         ],
         "yaxis": "y"
        },
        {
         "customdata": [
          [
           "Burkina Faso",
           "NON_SYNONYMOUS_CODING",
           "S2L"
          ],
          [
           "Burkina Faso",
           "NON_SYNONYMOUS_CODING",
           "L24F"
          ],
          [
           "Burkina Faso",
           "NON_SYNONYMOUS_CODING",
           "G75E"
          ],
          [
           "Burkina Faso",
           "NON_SYNONYMOUS_CODING",
           "P228S"
          ],
          [
           "Burkina Faso",
           "NON_SYNONYMOUS_CODING",
           "A296G"
          ],
          [
           "Burkina Faso",
           "NON_SYNONYMOUS_CODING",
           "T345M"
          ],
          [
           "Burkina Faso",
           "NON_SYNONYMOUS_CODING",
           "M349I"
          ],
          [
           "Burkina Faso",
           "NON_SYNONYMOUS_CODING",
           "Q373K"
          ],
          [
           "Burkina Faso",
           "NON_SYNONYMOUS_CODING",
           "D376A"
          ],
          [
           "Burkina Faso",
           "NON_SYNONYMOUS_CODING",
           "P384H"
          ],
          [
           "Burkina Faso",
           "NON_SYNONYMOUS_CODING",
           "D389Y"
          ],
          [
           "Burkina Faso",
           "NON_SYNONYMOUS_CODING",
           "S399T"
          ],
          [
           "Burkina Faso",
           "NON_SYNONYMOUS_CODING",
           "Q403P"
          ],
          [
           "Burkina Faso",
           "NON_SYNONYMOUS_CODING",
           "H404R"
          ],
          [
           "Burkina Faso",
           "NON_SYNONYMOUS_CODING",
           "M410I"
          ],
          [
           "Burkina Faso",
           "NON_SYNONYMOUS_CODING",
           "G411A"
          ],
          [
           "Burkina Faso",
           "NON_SYNONYMOUS_CODING",
           "S412N"
          ],
          [
           "Burkina Faso",
           "NON_SYNONYMOUS_CODING",
           "R413L"
          ],
          [
           "Burkina Faso",
           "NON_SYNONYMOUS_CODING",
           "P422R"
          ],
          [
           "Burkina Faso",
           "NON_SYNONYMOUS_CODING",
           "M424I"
          ],
          [
           "Burkina Faso",
           "NON_SYNONYMOUS_CODING",
           "L435P"
          ],
          [
           "Burkina Faso",
           "NON_SYNONYMOUS_CODING",
           "G453D"
          ],
          [
           "Burkina Faso",
           "NON_SYNONYMOUS_CODING",
           "N457T"
          ],
          [
           "Burkina Faso",
           "NON_SYNONYMOUS_CODING",
           "G500S"
          ],
          [
           "Burkina Faso",
           "NON_SYNONYMOUS_CODING",
           "N530K"
          ],
          [
           "Burkina Faso",
           "NON_SYNONYMOUS_CODING",
           "L538V"
          ],
          [
           "Burkina Faso",
           "NON_SYNONYMOUS_CODING",
           "H539L"
          ],
          [
           "Burkina Faso",
           "NON_SYNONYMOUS_CODING",
           "H539Q"
          ],
          [
           "Burkina Faso",
           "NON_SYNONYMOUS_CODING",
           "D542N"
          ]
         ],
         "hovertemplate": "population=%{customdata[0]}<br>effect=%{customdata[1]}<br>position=%{x}<br>frequency=%{y}<br>aa_change=%{customdata[2]}<extra></extra>",
         "legendgroup": "Burkina Faso, NON_SYNONYMOUS_CODING",
         "marker": {
          "color": "#EF553B",
          "symbol": "circle"
         },
         "mode": "markers",
         "name": "Burkina Faso, NON_SYNONYMOUS_CODING",
         "orientation": "v",
         "showlegend": true,
         "type": "scatter",
         "x": [
          25.363656,
          25.363723,
          25.387091,
          25.413317,
          25.429236,
          25.433171,
          25.433184,
          25.433254,
          25.433264,
          25.433288,
          25.433302,
          25.433333,
          25.433345,
          25.433348,
          25.433367,
          25.433369,
          25.433372,
          25.433375,
          25.433402,
          25.433409,
          25.433441,
          25.433495,
          25.433507,
          25.433635,
          25.434478,
          25.4345,
          25.434504,
          25.434505,
          25.434512
         ],
         "xaxis": "x",
         "y": [
          0.0031847133757961785,
          0.0031847133757961785,
          0.0031847133757961785,
          0.0031847133757961785,
          0.3885350318471338,
          0.3885350318471338,
          0.0031847133757961785,
          0.0031847133757961785,
          0,
          0,
          0.0031847133757961785,
          0.0031847133757961785,
          0,
          0.0031847133757961785,
          0.0031847133757961785,
          0.0031847133757961785,
          0.0031847133757961785,
          0.0031847133757961785,
          0.0031847133757961785,
          0.0031847133757961785,
          0.0031847133757961785,
          0.0031847133757961785,
          0,
          0.0031847133757961785,
          0.0732484076433121,
          0.0031847133757961785,
          0.0031847133757961785,
          0.14012738853503184,
          0.0031847133757961785
         ],
         "yaxis": "y"
        },
        {
         "customdata": [
          [
           "Burkina Faso",
           "SPLICE_REGION",
           null
          ],
          [
           "Burkina Faso",
           "SPLICE_REGION",
           null
          ],
          [
           "Burkina Faso",
           "SPLICE_REGION",
           null
          ],
          [
           "Burkina Faso",
           "SPLICE_REGION",
           null
          ]
         ],
         "hovertemplate": "population=%{customdata[0]}<br>effect=%{customdata[1]}<br>position=%{x}<br>frequency=%{y}<br>aa_change=%{customdata[2]}<extra></extra>",
         "legendgroup": "Burkina Faso, SPLICE_REGION",
         "marker": {
          "color": "#EF553B",
          "symbol": "diamond"
         },
         "mode": "markers",
         "name": "Burkina Faso, SPLICE_REGION",
         "orientation": "v",
         "showlegend": true,
         "type": "scatter",
         "x": [
          25.382773,
          25.387164,
          25.433158,
          25.433647
         ],
         "xaxis": "x",
         "y": [
          0.0031847133757961785,
          0.0031847133757961785,
          0.009554140127388535,
          0.006369426751592357
         ],
         "yaxis": "y"
        },
        {
         "customdata": [
          [
           "Burkina Faso",
           "STOP_GAINED",
           "Y343*"
          ]
         ],
         "hovertemplate": "population=%{customdata[0]}<br>effect=%{customdata[1]}<br>position=%{x}<br>frequency=%{y}<br>aa_change=%{customdata[2]}<extra></extra>",
         "legendgroup": "Burkina Faso, STOP_GAINED",
         "marker": {
          "color": "#EF553B",
          "symbol": "square"
         },
         "mode": "markers",
         "name": "Burkina Faso, STOP_GAINED",
         "orientation": "v",
         "showlegend": true,
         "type": "scatter",
         "x": [
          25.433166
         ],
         "xaxis": "x",
         "y": [
          0.0031847133757961785
         ],
         "yaxis": "y"
        },
        {
         "customdata": [
          [
           "Burkina Faso",
           "SPLICE_CORE",
           null
          ]
         ],
         "hovertemplate": "population=%{customdata[0]}<br>effect=%{customdata[1]}<br>position=%{x}<br>frequency=%{y}<br>aa_change=%{customdata[2]}<extra></extra>",
         "legendgroup": "Burkina Faso, SPLICE_CORE",
         "marker": {
          "color": "#EF553B",
          "symbol": "x"
         },
         "mode": "markers",
         "name": "Burkina Faso, SPLICE_CORE",
         "orientation": "v",
         "showlegend": true,
         "type": "scatter",
         "x": [
          25.43439
         ],
         "xaxis": "x",
         "y": [
          0.0031847133757961785
         ],
         "yaxis": "y"
        },
        {
         "customdata": [
          [
           "Mayotte",
           "NON_SYNONYMOUS_CODING",
           "S2L"
          ],
          [
           "Mayotte",
           "NON_SYNONYMOUS_CODING",
           "L24F"
          ],
          [
           "Mayotte",
           "NON_SYNONYMOUS_CODING",
           "G75E"
          ],
          [
           "Mayotte",
           "NON_SYNONYMOUS_CODING",
           "P228S"
          ],
          [
           "Mayotte",
           "NON_SYNONYMOUS_CODING",
           "A296G"
          ],
          [
           "Mayotte",
           "NON_SYNONYMOUS_CODING",
           "T345M"
          ],
          [
           "Mayotte",
           "NON_SYNONYMOUS_CODING",
           "M349I"
          ],
          [
           "Mayotte",
           "NON_SYNONYMOUS_CODING",
           "Q373K"
          ],
          [
           "Mayotte",
           "NON_SYNONYMOUS_CODING",
           "D376A"
          ],
          [
           "Mayotte",
           "NON_SYNONYMOUS_CODING",
           "P384H"
          ],
          [
           "Mayotte",
           "NON_SYNONYMOUS_CODING",
           "D389Y"
          ],
          [
           "Mayotte",
           "NON_SYNONYMOUS_CODING",
           "S399T"
          ],
          [
           "Mayotte",
           "NON_SYNONYMOUS_CODING",
           "Q403P"
          ],
          [
           "Mayotte",
           "NON_SYNONYMOUS_CODING",
           "H404R"
          ],
          [
           "Mayotte",
           "NON_SYNONYMOUS_CODING",
           "M410I"
          ],
          [
           "Mayotte",
           "NON_SYNONYMOUS_CODING",
           "G411A"
          ],
          [
           "Mayotte",
           "NON_SYNONYMOUS_CODING",
           "S412N"
          ],
          [
           "Mayotte",
           "NON_SYNONYMOUS_CODING",
           "R413L"
          ],
          [
           "Mayotte",
           "NON_SYNONYMOUS_CODING",
           "P422R"
          ],
          [
           "Mayotte",
           "NON_SYNONYMOUS_CODING",
           "M424I"
          ],
          [
           "Mayotte",
           "NON_SYNONYMOUS_CODING",
           "L435P"
          ],
          [
           "Mayotte",
           "NON_SYNONYMOUS_CODING",
           "G453D"
          ],
          [
           "Mayotte",
           "NON_SYNONYMOUS_CODING",
           "N457T"
          ],
          [
           "Mayotte",
           "NON_SYNONYMOUS_CODING",
           "G500S"
          ],
          [
           "Mayotte",
           "NON_SYNONYMOUS_CODING",
           "N530K"
          ],
          [
           "Mayotte",
           "NON_SYNONYMOUS_CODING",
           "L538V"
          ],
          [
           "Mayotte",
           "NON_SYNONYMOUS_CODING",
           "H539L"
          ],
          [
           "Mayotte",
           "NON_SYNONYMOUS_CODING",
           "H539Q"
          ],
          [
           "Mayotte",
           "NON_SYNONYMOUS_CODING",
           "D542N"
          ]
         ],
         "hovertemplate": "population=%{customdata[0]}<br>effect=%{customdata[1]}<br>position=%{x}<br>frequency=%{y}<br>aa_change=%{customdata[2]}<extra></extra>",
         "legendgroup": "Mayotte, NON_SYNONYMOUS_CODING",
         "marker": {
          "color": "#00cc96",
          "symbol": "circle"
         },
         "mode": "markers",
         "name": "Mayotte, NON_SYNONYMOUS_CODING",
         "orientation": "v",
         "showlegend": true,
         "type": "scatter",
         "x": [
          25.363656,
          25.363723,
          25.387091,
          25.413317,
          25.429236,
          25.433171,
          25.433184,
          25.433254,
          25.433264,
          25.433288,
          25.433302,
          25.433333,
          25.433345,
          25.433348,
          25.433367,
          25.433369,
          25.433372,
          25.433375,
          25.433402,
          25.433409,
          25.433441,
          25.433495,
          25.433507,
          25.433635,
          25.434478,
          25.4345,
          25.434504,
          25.434505,
          25.434512
         ],
         "xaxis": "x",
         "y": [
          0,
          0,
          0,
          0,
          0,
          0,
          0,
          0,
          0.021739130434782608,
          0.021739130434782608,
          0,
          0,
          0.021739130434782608,
          0,
          0,
          0,
          0,
          0,
          0,
          0,
          0,
          0,
          0.021739130434782608,
          0,
          0,
          0,
          0,
          0,
          0
         ],
         "yaxis": "y"
        },
        {
         "customdata": [
          [
           "Mayotte",
           "SPLICE_REGION",
           null
          ],
          [
           "Mayotte",
           "SPLICE_REGION",
           null
          ],
          [
           "Mayotte",
           "SPLICE_REGION",
           null
          ],
          [
           "Mayotte",
           "SPLICE_REGION",
           null
          ]
         ],
         "hovertemplate": "population=%{customdata[0]}<br>effect=%{customdata[1]}<br>position=%{x}<br>frequency=%{y}<br>aa_change=%{customdata[2]}<extra></extra>",
         "legendgroup": "Mayotte, SPLICE_REGION",
         "marker": {
          "color": "#00cc96",
          "symbol": "diamond"
         },
         "mode": "markers",
         "name": "Mayotte, SPLICE_REGION",
         "orientation": "v",
         "showlegend": true,
         "type": "scatter",
         "x": [
          25.382773,
          25.387164,
          25.433158,
          25.433647
         ],
         "xaxis": "x",
         "y": [
          0,
          0,
          0,
          0
         ],
         "yaxis": "y"
        },
        {
         "customdata": [
          [
           "Mayotte",
           "STOP_GAINED",
           "Y343*"
          ]
         ],
         "hovertemplate": "population=%{customdata[0]}<br>effect=%{customdata[1]}<br>position=%{x}<br>frequency=%{y}<br>aa_change=%{customdata[2]}<extra></extra>",
         "legendgroup": "Mayotte, STOP_GAINED",
         "marker": {
          "color": "#00cc96",
          "symbol": "square"
         },
         "mode": "markers",
         "name": "Mayotte, STOP_GAINED",
         "orientation": "v",
         "showlegend": true,
         "type": "scatter",
         "x": [
          25.433166
         ],
         "xaxis": "x",
         "y": [
          0
         ],
         "yaxis": "y"
        },
        {
         "customdata": [
          [
           "Mayotte",
           "SPLICE_CORE",
           null
          ]
         ],
         "hovertemplate": "population=%{customdata[0]}<br>effect=%{customdata[1]}<br>position=%{x}<br>frequency=%{y}<br>aa_change=%{customdata[2]}<extra></extra>",
         "legendgroup": "Mayotte, SPLICE_CORE",
         "marker": {
          "color": "#00cc96",
          "symbol": "x"
         },
         "mode": "markers",
         "name": "Mayotte, SPLICE_CORE",
         "orientation": "v",
         "showlegend": true,
         "type": "scatter",
         "x": [
          25.43439
         ],
         "xaxis": "x",
         "y": [
          0
         ],
         "yaxis": "y"
        }
       ],
       "layout": {
        "legend": {
         "title": {
          "text": "population, effect"
         },
         "tracegroupgap": 0
        },
        "margin": {
         "t": 60
        },
        "template": {
         "data": {
          "bar": [
           {
            "error_x": {
             "color": "#2a3f5f"
            },
            "error_y": {
             "color": "#2a3f5f"
            },
            "marker": {
             "line": {
              "color": "#E5ECF6",
              "width": 0.5
             }
            },
            "type": "bar"
           }
          ],
          "barpolar": [
           {
            "marker": {
             "line": {
              "color": "#E5ECF6",
              "width": 0.5
             }
            },
            "type": "barpolar"
           }
          ],
          "carpet": [
           {
            "aaxis": {
             "endlinecolor": "#2a3f5f",
             "gridcolor": "white",
             "linecolor": "white",
             "minorgridcolor": "white",
             "startlinecolor": "#2a3f5f"
            },
            "baxis": {
             "endlinecolor": "#2a3f5f",
             "gridcolor": "white",
             "linecolor": "white",
             "minorgridcolor": "white",
             "startlinecolor": "#2a3f5f"
            },
            "type": "carpet"
           }
          ],
          "choropleth": [
           {
            "colorbar": {
             "outlinewidth": 0,
             "ticks": ""
            },
            "type": "choropleth"
           }
          ],
          "contour": [
           {
            "colorbar": {
             "outlinewidth": 0,
             "ticks": ""
            },
            "colorscale": [
             [
              0,
              "#0d0887"
             ],
             [
              0.1111111111111111,
              "#46039f"
             ],
             [
              0.2222222222222222,
              "#7201a8"
             ],
             [
              0.3333333333333333,
              "#9c179e"
             ],
             [
              0.4444444444444444,
              "#bd3786"
             ],
             [
              0.5555555555555556,
              "#d8576b"
             ],
             [
              0.6666666666666666,
              "#ed7953"
             ],
             [
              0.7777777777777778,
              "#fb9f3a"
             ],
             [
              0.8888888888888888,
              "#fdca26"
             ],
             [
              1,
              "#f0f921"
             ]
            ],
            "type": "contour"
           }
          ],
          "contourcarpet": [
           {
            "colorbar": {
             "outlinewidth": 0,
             "ticks": ""
            },
            "type": "contourcarpet"
           }
          ],
          "heatmap": [
           {
            "colorbar": {
             "outlinewidth": 0,
             "ticks": ""
            },
            "colorscale": [
             [
              0,
              "#0d0887"
             ],
             [
              0.1111111111111111,
              "#46039f"
             ],
             [
              0.2222222222222222,
              "#7201a8"
             ],
             [
              0.3333333333333333,
              "#9c179e"
             ],
             [
              0.4444444444444444,
              "#bd3786"
             ],
             [
              0.5555555555555556,
              "#d8576b"
             ],
             [
              0.6666666666666666,
              "#ed7953"
             ],
             [
              0.7777777777777778,
              "#fb9f3a"
             ],
             [
              0.8888888888888888,
              "#fdca26"
             ],
             [
              1,
              "#f0f921"
             ]
            ],
            "type": "heatmap"
           }
          ],
          "heatmapgl": [
           {
            "colorbar": {
             "outlinewidth": 0,
             "ticks": ""
            },
            "colorscale": [
             [
              0,
              "#0d0887"
             ],
             [
              0.1111111111111111,
              "#46039f"
             ],
             [
              0.2222222222222222,
              "#7201a8"
             ],
             [
              0.3333333333333333,
              "#9c179e"
             ],
             [
              0.4444444444444444,
              "#bd3786"
             ],
             [
              0.5555555555555556,
              "#d8576b"
             ],
             [
              0.6666666666666666,
              "#ed7953"
             ],
             [
              0.7777777777777778,
              "#fb9f3a"
             ],
             [
              0.8888888888888888,
              "#fdca26"
             ],
             [
              1,
              "#f0f921"
             ]
            ],
            "type": "heatmapgl"
           }
          ],
          "histogram": [
           {
            "marker": {
             "colorbar": {
              "outlinewidth": 0,
              "ticks": ""
             }
            },
            "type": "histogram"
           }
          ],
          "histogram2d": [
           {
            "colorbar": {
             "outlinewidth": 0,
             "ticks": ""
            },
            "colorscale": [
             [
              0,
              "#0d0887"
             ],
             [
              0.1111111111111111,
              "#46039f"
             ],
             [
              0.2222222222222222,
              "#7201a8"
             ],
             [
              0.3333333333333333,
              "#9c179e"
             ],
             [
              0.4444444444444444,
              "#bd3786"
             ],
             [
              0.5555555555555556,
              "#d8576b"
             ],
             [
              0.6666666666666666,
              "#ed7953"
             ],
             [
              0.7777777777777778,
              "#fb9f3a"
             ],
             [
              0.8888888888888888,
              "#fdca26"
             ],
             [
              1,
              "#f0f921"
             ]
            ],
            "type": "histogram2d"
           }
          ],
          "histogram2dcontour": [
           {
            "colorbar": {
             "outlinewidth": 0,
             "ticks": ""
            },
            "colorscale": [
             [
              0,
              "#0d0887"
             ],
             [
              0.1111111111111111,
              "#46039f"
             ],
             [
              0.2222222222222222,
              "#7201a8"
             ],
             [
              0.3333333333333333,
              "#9c179e"
             ],
             [
              0.4444444444444444,
              "#bd3786"
             ],
             [
              0.5555555555555556,
              "#d8576b"
             ],
             [
              0.6666666666666666,
              "#ed7953"
             ],
             [
              0.7777777777777778,
              "#fb9f3a"
             ],
             [
              0.8888888888888888,
              "#fdca26"
             ],
             [
              1,
              "#f0f921"
             ]
            ],
            "type": "histogram2dcontour"
           }
          ],
          "mesh3d": [
           {
            "colorbar": {
             "outlinewidth": 0,
             "ticks": ""
            },
            "type": "mesh3d"
           }
          ],
          "parcoords": [
           {
            "line": {
             "colorbar": {
              "outlinewidth": 0,
              "ticks": ""
             }
            },
            "type": "parcoords"
           }
          ],
          "pie": [
           {
            "automargin": true,
            "type": "pie"
           }
          ],
          "scatter": [
           {
            "marker": {
             "colorbar": {
              "outlinewidth": 0,
              "ticks": ""
             }
            },
            "type": "scatter"
           }
          ],
          "scatter3d": [
           {
            "line": {
             "colorbar": {
              "outlinewidth": 0,
              "ticks": ""
             }
            },
            "marker": {
             "colorbar": {
              "outlinewidth": 0,
              "ticks": ""
             }
            },
            "type": "scatter3d"
           }
          ],
          "scattercarpet": [
           {
            "marker": {
             "colorbar": {
              "outlinewidth": 0,
              "ticks": ""
             }
            },
            "type": "scattercarpet"
           }
          ],
          "scattergeo": [
           {
            "marker": {
             "colorbar": {
              "outlinewidth": 0,
              "ticks": ""
             }
            },
            "type": "scattergeo"
           }
          ],
          "scattergl": [
           {
            "marker": {
             "colorbar": {
              "outlinewidth": 0,
              "ticks": ""
             }
            },
            "type": "scattergl"
           }
          ],
          "scattermapbox": [
           {
            "marker": {
             "colorbar": {
              "outlinewidth": 0,
              "ticks": ""
             }
            },
            "type": "scattermapbox"
           }
          ],
          "scatterpolar": [
           {
            "marker": {
             "colorbar": {
              "outlinewidth": 0,
              "ticks": ""
             }
            },
            "type": "scatterpolar"
           }
          ],
          "scatterpolargl": [
           {
            "marker": {
             "colorbar": {
              "outlinewidth": 0,
              "ticks": ""
             }
            },
            "type": "scatterpolargl"
           }
          ],
          "scatterternary": [
           {
            "marker": {
             "colorbar": {
              "outlinewidth": 0,
              "ticks": ""
             }
            },
            "type": "scatterternary"
           }
          ],
          "surface": [
           {
            "colorbar": {
             "outlinewidth": 0,
             "ticks": ""
            },
            "colorscale": [
             [
              0,
              "#0d0887"
             ],
             [
              0.1111111111111111,
              "#46039f"
             ],
             [
              0.2222222222222222,
              "#7201a8"
             ],
             [
              0.3333333333333333,
              "#9c179e"
             ],
             [
              0.4444444444444444,
              "#bd3786"
             ],
             [
              0.5555555555555556,
              "#d8576b"
             ],
             [
              0.6666666666666666,
              "#ed7953"
             ],
             [
              0.7777777777777778,
              "#fb9f3a"
             ],
             [
              0.8888888888888888,
              "#fdca26"
             ],
             [
              1,
              "#f0f921"
             ]
            ],
            "type": "surface"
           }
          ],
          "table": [
           {
            "cells": {
             "fill": {
              "color": "#EBF0F8"
             },
             "line": {
              "color": "white"
             }
            },
            "header": {
             "fill": {
              "color": "#C8D4E3"
             },
             "line": {
              "color": "white"
             }
            },
            "type": "table"
           }
          ]
         },
         "layout": {
          "annotationdefaults": {
           "arrowcolor": "#2a3f5f",
           "arrowhead": 0,
           "arrowwidth": 1
          },
          "autotypenumbers": "strict",
          "coloraxis": {
           "colorbar": {
            "outlinewidth": 0,
            "ticks": ""
           }
          },
          "colorscale": {
           "diverging": [
            [
             0,
             "#8e0152"
            ],
            [
             0.1,
             "#c51b7d"
            ],
            [
             0.2,
             "#de77ae"
            ],
            [
             0.3,
             "#f1b6da"
            ],
            [
             0.4,
             "#fde0ef"
            ],
            [
             0.5,
             "#f7f7f7"
            ],
            [
             0.6,
             "#e6f5d0"
            ],
            [
             0.7,
             "#b8e186"
            ],
            [
             0.8,
             "#7fbc41"
            ],
            [
             0.9,
             "#4d9221"
            ],
            [
             1,
             "#276419"
            ]
           ],
           "sequential": [
            [
             0,
             "#0d0887"
            ],
            [
             0.1111111111111111,
             "#46039f"
            ],
            [
             0.2222222222222222,
             "#7201a8"
            ],
            [
             0.3333333333333333,
             "#9c179e"
            ],
            [
             0.4444444444444444,
             "#bd3786"
            ],
            [
             0.5555555555555556,
             "#d8576b"
            ],
            [
             0.6666666666666666,
             "#ed7953"
            ],
            [
             0.7777777777777778,
             "#fb9f3a"
            ],
            [
             0.8888888888888888,
             "#fdca26"
            ],
            [
             1,
             "#f0f921"
            ]
           ],
           "sequentialminus": [
            [
             0,
             "#0d0887"
            ],
            [
             0.1111111111111111,
             "#46039f"
            ],
            [
             0.2222222222222222,
             "#7201a8"
            ],
            [
             0.3333333333333333,
             "#9c179e"
            ],
            [
             0.4444444444444444,
             "#bd3786"
            ],
            [
             0.5555555555555556,
             "#d8576b"
            ],
            [
             0.6666666666666666,
             "#ed7953"
            ],
            [
             0.7777777777777778,
             "#fb9f3a"
            ],
            [
             0.8888888888888888,
             "#fdca26"
            ],
            [
             1,
             "#f0f921"
            ]
           ]
          },
          "colorway": [
           "#636efa",
           "#EF553B",
           "#00cc96",
           "#ab63fa",
           "#FFA15A",
           "#19d3f3",
           "#FF6692",
           "#B6E880",
           "#FF97FF",
           "#FECB52"
          ],
          "font": {
           "color": "#2a3f5f"
          },
          "geo": {
           "bgcolor": "white",
           "lakecolor": "white",
           "landcolor": "#E5ECF6",
           "showlakes": true,
           "showland": true,
           "subunitcolor": "white"
          },
          "hoverlabel": {
           "align": "left"
          },
          "hovermode": "closest",
          "mapbox": {
           "style": "light"
          },
          "paper_bgcolor": "white",
          "plot_bgcolor": "#E5ECF6",
          "polar": {
           "angularaxis": {
            "gridcolor": "white",
            "linecolor": "white",
            "ticks": ""
           },
           "bgcolor": "#E5ECF6",
           "radialaxis": {
            "gridcolor": "white",
            "linecolor": "white",
            "ticks": ""
           }
          },
          "scene": {
           "xaxis": {
            "backgroundcolor": "#E5ECF6",
            "gridcolor": "white",
            "gridwidth": 2,
            "linecolor": "white",
            "showbackground": true,
            "ticks": "",
            "zerolinecolor": "white"
           },
           "yaxis": {
            "backgroundcolor": "#E5ECF6",
            "gridcolor": "white",
            "gridwidth": 2,
            "linecolor": "white",
            "showbackground": true,
            "ticks": "",
            "zerolinecolor": "white"
           },
           "zaxis": {
            "backgroundcolor": "#E5ECF6",
            "gridcolor": "white",
            "gridwidth": 2,
            "linecolor": "white",
            "showbackground": true,
            "ticks": "",
            "zerolinecolor": "white"
           }
          },
          "shapedefaults": {
           "line": {
            "color": "#2a3f5f"
           }
          },
          "ternary": {
           "aaxis": {
            "gridcolor": "white",
            "linecolor": "white",
            "ticks": ""
           },
           "baxis": {
            "gridcolor": "white",
            "linecolor": "white",
            "ticks": ""
           },
           "bgcolor": "#E5ECF6",
           "caxis": {
            "gridcolor": "white",
            "linecolor": "white",
            "ticks": ""
           }
          },
          "title": {
           "x": 0.05
          },
          "xaxis": {
           "automargin": true,
           "gridcolor": "white",
           "linecolor": "white",
           "ticks": "",
           "title": {
            "standoff": 15
           },
           "zerolinecolor": "white",
           "zerolinewidth": 2
          },
          "yaxis": {
           "automargin": true,
           "gridcolor": "white",
           "linecolor": "white",
           "ticks": "",
           "title": {
            "standoff": 15
           },
           "zerolinecolor": "white",
           "zerolinewidth": 2
          }
         }
        },
        "xaxis": {
         "anchor": "y",
         "domain": [
          0,
          1
         ],
         "title": {
          "text": "position"
         }
        },
        "yaxis": {
         "anchor": "x",
         "domain": [
          0,
          1
         ],
         "title": {
          "text": "frequency"
         }
        }
       }
      },
      "text/html": [
       "<div>                            <div id=\"ad9f5d69-04eb-4ab2-82e8-e3dc7e9fccdd\" class=\"plotly-graph-div\" style=\"height:525px; width:100%;\"></div>            <script type=\"text/javascript\">                require([\"plotly\"], function(Plotly) {                    window.PLOTLYENV=window.PLOTLYENV || {};                                    if (document.getElementById(\"ad9f5d69-04eb-4ab2-82e8-e3dc7e9fccdd\")) {                    Plotly.newPlot(                        \"ad9f5d69-04eb-4ab2-82e8-e3dc7e9fccdd\",                        [{\"customdata\": [[\"Kenya\", \"NON_SYNONYMOUS_CODING\", \"S2L\"], [\"Kenya\", \"NON_SYNONYMOUS_CODING\", \"L24F\"], [\"Kenya\", \"NON_SYNONYMOUS_CODING\", \"G75E\"], [\"Kenya\", \"NON_SYNONYMOUS_CODING\", \"P228S\"], [\"Kenya\", \"NON_SYNONYMOUS_CODING\", \"A296G\"], [\"Kenya\", \"NON_SYNONYMOUS_CODING\", \"T345M\"], [\"Kenya\", \"NON_SYNONYMOUS_CODING\", \"M349I\"], [\"Kenya\", \"NON_SYNONYMOUS_CODING\", \"Q373K\"], [\"Kenya\", \"NON_SYNONYMOUS_CODING\", \"D376A\"], [\"Kenya\", \"NON_SYNONYMOUS_CODING\", \"P384H\"], [\"Kenya\", \"NON_SYNONYMOUS_CODING\", \"D389Y\"], [\"Kenya\", \"NON_SYNONYMOUS_CODING\", \"S399T\"], [\"Kenya\", \"NON_SYNONYMOUS_CODING\", \"Q403P\"], [\"Kenya\", \"NON_SYNONYMOUS_CODING\", \"H404R\"], [\"Kenya\", \"NON_SYNONYMOUS_CODING\", \"M410I\"], [\"Kenya\", \"NON_SYNONYMOUS_CODING\", \"G411A\"], [\"Kenya\", \"NON_SYNONYMOUS_CODING\", \"S412N\"], [\"Kenya\", \"NON_SYNONYMOUS_CODING\", \"R413L\"], [\"Kenya\", \"NON_SYNONYMOUS_CODING\", \"P422R\"], [\"Kenya\", \"NON_SYNONYMOUS_CODING\", \"M424I\"], [\"Kenya\", \"NON_SYNONYMOUS_CODING\", \"L435P\"], [\"Kenya\", \"NON_SYNONYMOUS_CODING\", \"G453D\"], [\"Kenya\", \"NON_SYNONYMOUS_CODING\", \"N457T\"], [\"Kenya\", \"NON_SYNONYMOUS_CODING\", \"G500S\"], [\"Kenya\", \"NON_SYNONYMOUS_CODING\", \"N530K\"], [\"Kenya\", \"NON_SYNONYMOUS_CODING\", \"L538V\"], [\"Kenya\", \"NON_SYNONYMOUS_CODING\", \"H539L\"], [\"Kenya\", \"NON_SYNONYMOUS_CODING\", \"H539Q\"], [\"Kenya\", \"NON_SYNONYMOUS_CODING\", \"D542N\"]], \"hovertemplate\": \"population=%{customdata[0]}<br>effect=%{customdata[1]}<br>position=%{x}<br>frequency=%{y}<br>aa_change=%{customdata[2]}<extra></extra>\", \"legendgroup\": \"Kenya, NON_SYNONYMOUS_CODING\", \"marker\": {\"color\": \"#636efa\", \"symbol\": \"circle\"}, \"mode\": \"markers\", \"name\": \"Kenya, NON_SYNONYMOUS_CODING\", \"orientation\": \"v\", \"showlegend\": true, \"type\": \"scatter\", \"x\": [25.363656, 25.363723, 25.387091, 25.413317, 25.429236, 25.433171, 25.433184, 25.433254, 25.433264, 25.433288, 25.433302, 25.433333, 25.433345, 25.433348, 25.433367, 25.433369, 25.433372, 25.433375, 25.433402, 25.433409, 25.433441, 25.433495, 25.433507, 25.433635, 25.434478, 25.4345, 25.434504, 25.434505, 25.434512], \"xaxis\": \"x\", \"y\": [0.0, 0.0, 0.0, 0.0, 0.8888888888888888, 0.8888888888888888, 0.0, 0.0, 0.0, 0.0, 0.0, 0.0, 0.0, 0.0, 0.0, 0.0, 0.0, 0.0, 0.0, 0.0, 0.0, 0.0, 0.0, 0.0, 0.3333333333333333, 0.0, 0.0, 0.1388888888888889, 0.0], \"yaxis\": \"y\"}, {\"customdata\": [[\"Kenya\", \"SPLICE_REGION\", null], [\"Kenya\", \"SPLICE_REGION\", null], [\"Kenya\", \"SPLICE_REGION\", null], [\"Kenya\", \"SPLICE_REGION\", null]], \"hovertemplate\": \"population=%{customdata[0]}<br>effect=%{customdata[1]}<br>position=%{x}<br>frequency=%{y}<br>aa_change=%{customdata[2]}<extra></extra>\", \"legendgroup\": \"Kenya, SPLICE_REGION\", \"marker\": {\"color\": \"#636efa\", \"symbol\": \"diamond\"}, \"mode\": \"markers\", \"name\": \"Kenya, SPLICE_REGION\", \"orientation\": \"v\", \"showlegend\": true, \"type\": \"scatter\", \"x\": [25.382773, 25.387164, 25.433158, 25.433647], \"xaxis\": \"x\", \"y\": [0.0, 0.0, 0.0, 0.0], \"yaxis\": \"y\"}, {\"customdata\": [[\"Kenya\", \"STOP_GAINED\", \"Y343*\"]], \"hovertemplate\": \"population=%{customdata[0]}<br>effect=%{customdata[1]}<br>position=%{x}<br>frequency=%{y}<br>aa_change=%{customdata[2]}<extra></extra>\", \"legendgroup\": \"Kenya, STOP_GAINED\", \"marker\": {\"color\": \"#636efa\", \"symbol\": \"square\"}, \"mode\": \"markers\", \"name\": \"Kenya, STOP_GAINED\", \"orientation\": \"v\", \"showlegend\": true, \"type\": \"scatter\", \"x\": [25.433166], \"xaxis\": \"x\", \"y\": [0.0], \"yaxis\": \"y\"}, {\"customdata\": [[\"Kenya\", \"SPLICE_CORE\", null]], \"hovertemplate\": \"population=%{customdata[0]}<br>effect=%{customdata[1]}<br>position=%{x}<br>frequency=%{y}<br>aa_change=%{customdata[2]}<extra></extra>\", \"legendgroup\": \"Kenya, SPLICE_CORE\", \"marker\": {\"color\": \"#636efa\", \"symbol\": \"x\"}, \"mode\": \"markers\", \"name\": \"Kenya, SPLICE_CORE\", \"orientation\": \"v\", \"showlegend\": true, \"type\": \"scatter\", \"x\": [25.43439], \"xaxis\": \"x\", \"y\": [0.0], \"yaxis\": \"y\"}, {\"customdata\": [[\"Burkina Faso\", \"NON_SYNONYMOUS_CODING\", \"S2L\"], [\"Burkina Faso\", \"NON_SYNONYMOUS_CODING\", \"L24F\"], [\"Burkina Faso\", \"NON_SYNONYMOUS_CODING\", \"G75E\"], [\"Burkina Faso\", \"NON_SYNONYMOUS_CODING\", \"P228S\"], [\"Burkina Faso\", \"NON_SYNONYMOUS_CODING\", \"A296G\"], [\"Burkina Faso\", \"NON_SYNONYMOUS_CODING\", \"T345M\"], [\"Burkina Faso\", \"NON_SYNONYMOUS_CODING\", \"M349I\"], [\"Burkina Faso\", \"NON_SYNONYMOUS_CODING\", \"Q373K\"], [\"Burkina Faso\", \"NON_SYNONYMOUS_CODING\", \"D376A\"], [\"Burkina Faso\", \"NON_SYNONYMOUS_CODING\", \"P384H\"], [\"Burkina Faso\", \"NON_SYNONYMOUS_CODING\", \"D389Y\"], [\"Burkina Faso\", \"NON_SYNONYMOUS_CODING\", \"S399T\"], [\"Burkina Faso\", \"NON_SYNONYMOUS_CODING\", \"Q403P\"], [\"Burkina Faso\", \"NON_SYNONYMOUS_CODING\", \"H404R\"], [\"Burkina Faso\", \"NON_SYNONYMOUS_CODING\", \"M410I\"], [\"Burkina Faso\", \"NON_SYNONYMOUS_CODING\", \"G411A\"], [\"Burkina Faso\", \"NON_SYNONYMOUS_CODING\", \"S412N\"], [\"Burkina Faso\", \"NON_SYNONYMOUS_CODING\", \"R413L\"], [\"Burkina Faso\", \"NON_SYNONYMOUS_CODING\", \"P422R\"], [\"Burkina Faso\", \"NON_SYNONYMOUS_CODING\", \"M424I\"], [\"Burkina Faso\", \"NON_SYNONYMOUS_CODING\", \"L435P\"], [\"Burkina Faso\", \"NON_SYNONYMOUS_CODING\", \"G453D\"], [\"Burkina Faso\", \"NON_SYNONYMOUS_CODING\", \"N457T\"], [\"Burkina Faso\", \"NON_SYNONYMOUS_CODING\", \"G500S\"], [\"Burkina Faso\", \"NON_SYNONYMOUS_CODING\", \"N530K\"], [\"Burkina Faso\", \"NON_SYNONYMOUS_CODING\", \"L538V\"], [\"Burkina Faso\", \"NON_SYNONYMOUS_CODING\", \"H539L\"], [\"Burkina Faso\", \"NON_SYNONYMOUS_CODING\", \"H539Q\"], [\"Burkina Faso\", \"NON_SYNONYMOUS_CODING\", \"D542N\"]], \"hovertemplate\": \"population=%{customdata[0]}<br>effect=%{customdata[1]}<br>position=%{x}<br>frequency=%{y}<br>aa_change=%{customdata[2]}<extra></extra>\", \"legendgroup\": \"Burkina Faso, NON_SYNONYMOUS_CODING\", \"marker\": {\"color\": \"#EF553B\", \"symbol\": \"circle\"}, \"mode\": \"markers\", \"name\": \"Burkina Faso, NON_SYNONYMOUS_CODING\", \"orientation\": \"v\", \"showlegend\": true, \"type\": \"scatter\", \"x\": [25.363656, 25.363723, 25.387091, 25.413317, 25.429236, 25.433171, 25.433184, 25.433254, 25.433264, 25.433288, 25.433302, 25.433333, 25.433345, 25.433348, 25.433367, 25.433369, 25.433372, 25.433375, 25.433402, 25.433409, 25.433441, 25.433495, 25.433507, 25.433635, 25.434478, 25.4345, 25.434504, 25.434505, 25.434512], \"xaxis\": \"x\", \"y\": [0.0031847133757961785, 0.0031847133757961785, 0.0031847133757961785, 0.0031847133757961785, 0.3885350318471338, 0.3885350318471338, 0.0031847133757961785, 0.0031847133757961785, 0.0, 0.0, 0.0031847133757961785, 0.0031847133757961785, 0.0, 0.0031847133757961785, 0.0031847133757961785, 0.0031847133757961785, 0.0031847133757961785, 0.0031847133757961785, 0.0031847133757961785, 0.0031847133757961785, 0.0031847133757961785, 0.0031847133757961785, 0.0, 0.0031847133757961785, 0.0732484076433121, 0.0031847133757961785, 0.0031847133757961785, 0.14012738853503184, 0.0031847133757961785], \"yaxis\": \"y\"}, {\"customdata\": [[\"Burkina Faso\", \"SPLICE_REGION\", null], [\"Burkina Faso\", \"SPLICE_REGION\", null], [\"Burkina Faso\", \"SPLICE_REGION\", null], [\"Burkina Faso\", \"SPLICE_REGION\", null]], \"hovertemplate\": \"population=%{customdata[0]}<br>effect=%{customdata[1]}<br>position=%{x}<br>frequency=%{y}<br>aa_change=%{customdata[2]}<extra></extra>\", \"legendgroup\": \"Burkina Faso, SPLICE_REGION\", \"marker\": {\"color\": \"#EF553B\", \"symbol\": \"diamond\"}, \"mode\": \"markers\", \"name\": \"Burkina Faso, SPLICE_REGION\", \"orientation\": \"v\", \"showlegend\": true, \"type\": \"scatter\", \"x\": [25.382773, 25.387164, 25.433158, 25.433647], \"xaxis\": \"x\", \"y\": [0.0031847133757961785, 0.0031847133757961785, 0.009554140127388535, 0.006369426751592357], \"yaxis\": \"y\"}, {\"customdata\": [[\"Burkina Faso\", \"STOP_GAINED\", \"Y343*\"]], \"hovertemplate\": \"population=%{customdata[0]}<br>effect=%{customdata[1]}<br>position=%{x}<br>frequency=%{y}<br>aa_change=%{customdata[2]}<extra></extra>\", \"legendgroup\": \"Burkina Faso, STOP_GAINED\", \"marker\": {\"color\": \"#EF553B\", \"symbol\": \"square\"}, \"mode\": \"markers\", \"name\": \"Burkina Faso, STOP_GAINED\", \"orientation\": \"v\", \"showlegend\": true, \"type\": \"scatter\", \"x\": [25.433166], \"xaxis\": \"x\", \"y\": [0.0031847133757961785], \"yaxis\": \"y\"}, {\"customdata\": [[\"Burkina Faso\", \"SPLICE_CORE\", null]], \"hovertemplate\": \"population=%{customdata[0]}<br>effect=%{customdata[1]}<br>position=%{x}<br>frequency=%{y}<br>aa_change=%{customdata[2]}<extra></extra>\", \"legendgroup\": \"Burkina Faso, SPLICE_CORE\", \"marker\": {\"color\": \"#EF553B\", \"symbol\": \"x\"}, \"mode\": \"markers\", \"name\": \"Burkina Faso, SPLICE_CORE\", \"orientation\": \"v\", \"showlegend\": true, \"type\": \"scatter\", \"x\": [25.43439], \"xaxis\": \"x\", \"y\": [0.0031847133757961785], \"yaxis\": \"y\"}, {\"customdata\": [[\"Mayotte\", \"NON_SYNONYMOUS_CODING\", \"S2L\"], [\"Mayotte\", \"NON_SYNONYMOUS_CODING\", \"L24F\"], [\"Mayotte\", \"NON_SYNONYMOUS_CODING\", \"G75E\"], [\"Mayotte\", \"NON_SYNONYMOUS_CODING\", \"P228S\"], [\"Mayotte\", \"NON_SYNONYMOUS_CODING\", \"A296G\"], [\"Mayotte\", \"NON_SYNONYMOUS_CODING\", \"T345M\"], [\"Mayotte\", \"NON_SYNONYMOUS_CODING\", \"M349I\"], [\"Mayotte\", \"NON_SYNONYMOUS_CODING\", \"Q373K\"], [\"Mayotte\", \"NON_SYNONYMOUS_CODING\", \"D376A\"], [\"Mayotte\", \"NON_SYNONYMOUS_CODING\", \"P384H\"], [\"Mayotte\", \"NON_SYNONYMOUS_CODING\", \"D389Y\"], [\"Mayotte\", \"NON_SYNONYMOUS_CODING\", \"S399T\"], [\"Mayotte\", \"NON_SYNONYMOUS_CODING\", \"Q403P\"], [\"Mayotte\", \"NON_SYNONYMOUS_CODING\", \"H404R\"], [\"Mayotte\", \"NON_SYNONYMOUS_CODING\", \"M410I\"], [\"Mayotte\", \"NON_SYNONYMOUS_CODING\", \"G411A\"], [\"Mayotte\", \"NON_SYNONYMOUS_CODING\", \"S412N\"], [\"Mayotte\", \"NON_SYNONYMOUS_CODING\", \"R413L\"], [\"Mayotte\", \"NON_SYNONYMOUS_CODING\", \"P422R\"], [\"Mayotte\", \"NON_SYNONYMOUS_CODING\", \"M424I\"], [\"Mayotte\", \"NON_SYNONYMOUS_CODING\", \"L435P\"], [\"Mayotte\", \"NON_SYNONYMOUS_CODING\", \"G453D\"], [\"Mayotte\", \"NON_SYNONYMOUS_CODING\", \"N457T\"], [\"Mayotte\", \"NON_SYNONYMOUS_CODING\", \"G500S\"], [\"Mayotte\", \"NON_SYNONYMOUS_CODING\", \"N530K\"], [\"Mayotte\", \"NON_SYNONYMOUS_CODING\", \"L538V\"], [\"Mayotte\", \"NON_SYNONYMOUS_CODING\", \"H539L\"], [\"Mayotte\", \"NON_SYNONYMOUS_CODING\", \"H539Q\"], [\"Mayotte\", \"NON_SYNONYMOUS_CODING\", \"D542N\"]], \"hovertemplate\": \"population=%{customdata[0]}<br>effect=%{customdata[1]}<br>position=%{x}<br>frequency=%{y}<br>aa_change=%{customdata[2]}<extra></extra>\", \"legendgroup\": \"Mayotte, NON_SYNONYMOUS_CODING\", \"marker\": {\"color\": \"#00cc96\", \"symbol\": \"circle\"}, \"mode\": \"markers\", \"name\": \"Mayotte, NON_SYNONYMOUS_CODING\", \"orientation\": \"v\", \"showlegend\": true, \"type\": \"scatter\", \"x\": [25.363656, 25.363723, 25.387091, 25.413317, 25.429236, 25.433171, 25.433184, 25.433254, 25.433264, 25.433288, 25.433302, 25.433333, 25.433345, 25.433348, 25.433367, 25.433369, 25.433372, 25.433375, 25.433402, 25.433409, 25.433441, 25.433495, 25.433507, 25.433635, 25.434478, 25.4345, 25.434504, 25.434505, 25.434512], \"xaxis\": \"x\", \"y\": [0.0, 0.0, 0.0, 0.0, 0.0, 0.0, 0.0, 0.0, 0.021739130434782608, 0.021739130434782608, 0.0, 0.0, 0.021739130434782608, 0.0, 0.0, 0.0, 0.0, 0.0, 0.0, 0.0, 0.0, 0.0, 0.021739130434782608, 0.0, 0.0, 0.0, 0.0, 0.0, 0.0], \"yaxis\": \"y\"}, {\"customdata\": [[\"Mayotte\", \"SPLICE_REGION\", null], [\"Mayotte\", \"SPLICE_REGION\", null], [\"Mayotte\", \"SPLICE_REGION\", null], [\"Mayotte\", \"SPLICE_REGION\", null]], \"hovertemplate\": \"population=%{customdata[0]}<br>effect=%{customdata[1]}<br>position=%{x}<br>frequency=%{y}<br>aa_change=%{customdata[2]}<extra></extra>\", \"legendgroup\": \"Mayotte, SPLICE_REGION\", \"marker\": {\"color\": \"#00cc96\", \"symbol\": \"diamond\"}, \"mode\": \"markers\", \"name\": \"Mayotte, SPLICE_REGION\", \"orientation\": \"v\", \"showlegend\": true, \"type\": \"scatter\", \"x\": [25.382773, 25.387164, 25.433158, 25.433647], \"xaxis\": \"x\", \"y\": [0.0, 0.0, 0.0, 0.0], \"yaxis\": \"y\"}, {\"customdata\": [[\"Mayotte\", \"STOP_GAINED\", \"Y343*\"]], \"hovertemplate\": \"population=%{customdata[0]}<br>effect=%{customdata[1]}<br>position=%{x}<br>frequency=%{y}<br>aa_change=%{customdata[2]}<extra></extra>\", \"legendgroup\": \"Mayotte, STOP_GAINED\", \"marker\": {\"color\": \"#00cc96\", \"symbol\": \"square\"}, \"mode\": \"markers\", \"name\": \"Mayotte, STOP_GAINED\", \"orientation\": \"v\", \"showlegend\": true, \"type\": \"scatter\", \"x\": [25.433166], \"xaxis\": \"x\", \"y\": [0.0], \"yaxis\": \"y\"}, {\"customdata\": [[\"Mayotte\", \"SPLICE_CORE\", null]], \"hovertemplate\": \"population=%{customdata[0]}<br>effect=%{customdata[1]}<br>position=%{x}<br>frequency=%{y}<br>aa_change=%{customdata[2]}<extra></extra>\", \"legendgroup\": \"Mayotte, SPLICE_CORE\", \"marker\": {\"color\": \"#00cc96\", \"symbol\": \"x\"}, \"mode\": \"markers\", \"name\": \"Mayotte, SPLICE_CORE\", \"orientation\": \"v\", \"showlegend\": true, \"type\": \"scatter\", \"x\": [25.43439], \"xaxis\": \"x\", \"y\": [0.0], \"yaxis\": \"y\"}],                        {\"legend\": {\"title\": {\"text\": \"population, effect\"}, \"tracegroupgap\": 0}, \"margin\": {\"t\": 60}, \"template\": {\"data\": {\"bar\": [{\"error_x\": {\"color\": \"#2a3f5f\"}, \"error_y\": {\"color\": \"#2a3f5f\"}, \"marker\": {\"line\": {\"color\": \"#E5ECF6\", \"width\": 0.5}}, \"type\": \"bar\"}], \"barpolar\": [{\"marker\": {\"line\": {\"color\": \"#E5ECF6\", \"width\": 0.5}}, \"type\": \"barpolar\"}], \"carpet\": [{\"aaxis\": {\"endlinecolor\": \"#2a3f5f\", \"gridcolor\": \"white\", \"linecolor\": \"white\", \"minorgridcolor\": \"white\", \"startlinecolor\": \"#2a3f5f\"}, \"baxis\": {\"endlinecolor\": \"#2a3f5f\", \"gridcolor\": \"white\", \"linecolor\": \"white\", \"minorgridcolor\": \"white\", \"startlinecolor\": \"#2a3f5f\"}, \"type\": \"carpet\"}], \"choropleth\": [{\"colorbar\": {\"outlinewidth\": 0, \"ticks\": \"\"}, \"type\": \"choropleth\"}], \"contour\": [{\"colorbar\": {\"outlinewidth\": 0, \"ticks\": \"\"}, \"colorscale\": [[0.0, \"#0d0887\"], [0.1111111111111111, \"#46039f\"], [0.2222222222222222, \"#7201a8\"], [0.3333333333333333, \"#9c179e\"], [0.4444444444444444, \"#bd3786\"], [0.5555555555555556, \"#d8576b\"], [0.6666666666666666, \"#ed7953\"], [0.7777777777777778, \"#fb9f3a\"], [0.8888888888888888, \"#fdca26\"], [1.0, \"#f0f921\"]], \"type\": \"contour\"}], \"contourcarpet\": [{\"colorbar\": {\"outlinewidth\": 0, \"ticks\": \"\"}, \"type\": \"contourcarpet\"}], \"heatmap\": [{\"colorbar\": {\"outlinewidth\": 0, \"ticks\": \"\"}, \"colorscale\": [[0.0, \"#0d0887\"], [0.1111111111111111, \"#46039f\"], [0.2222222222222222, \"#7201a8\"], [0.3333333333333333, \"#9c179e\"], [0.4444444444444444, \"#bd3786\"], [0.5555555555555556, \"#d8576b\"], [0.6666666666666666, \"#ed7953\"], [0.7777777777777778, \"#fb9f3a\"], [0.8888888888888888, \"#fdca26\"], [1.0, \"#f0f921\"]], \"type\": \"heatmap\"}], \"heatmapgl\": [{\"colorbar\": {\"outlinewidth\": 0, \"ticks\": \"\"}, \"colorscale\": [[0.0, \"#0d0887\"], [0.1111111111111111, \"#46039f\"], [0.2222222222222222, \"#7201a8\"], [0.3333333333333333, \"#9c179e\"], [0.4444444444444444, \"#bd3786\"], [0.5555555555555556, \"#d8576b\"], [0.6666666666666666, \"#ed7953\"], [0.7777777777777778, \"#fb9f3a\"], [0.8888888888888888, \"#fdca26\"], [1.0, \"#f0f921\"]], \"type\": \"heatmapgl\"}], \"histogram\": [{\"marker\": {\"colorbar\": {\"outlinewidth\": 0, \"ticks\": \"\"}}, \"type\": \"histogram\"}], \"histogram2d\": [{\"colorbar\": {\"outlinewidth\": 0, \"ticks\": \"\"}, \"colorscale\": [[0.0, \"#0d0887\"], [0.1111111111111111, \"#46039f\"], [0.2222222222222222, \"#7201a8\"], [0.3333333333333333, \"#9c179e\"], [0.4444444444444444, \"#bd3786\"], [0.5555555555555556, \"#d8576b\"], [0.6666666666666666, \"#ed7953\"], [0.7777777777777778, \"#fb9f3a\"], [0.8888888888888888, \"#fdca26\"], [1.0, \"#f0f921\"]], \"type\": \"histogram2d\"}], \"histogram2dcontour\": [{\"colorbar\": {\"outlinewidth\": 0, \"ticks\": \"\"}, \"colorscale\": [[0.0, \"#0d0887\"], [0.1111111111111111, \"#46039f\"], [0.2222222222222222, \"#7201a8\"], [0.3333333333333333, \"#9c179e\"], [0.4444444444444444, \"#bd3786\"], [0.5555555555555556, \"#d8576b\"], [0.6666666666666666, \"#ed7953\"], [0.7777777777777778, \"#fb9f3a\"], [0.8888888888888888, \"#fdca26\"], [1.0, \"#f0f921\"]], \"type\": \"histogram2dcontour\"}], \"mesh3d\": [{\"colorbar\": {\"outlinewidth\": 0, \"ticks\": \"\"}, \"type\": \"mesh3d\"}], \"parcoords\": [{\"line\": {\"colorbar\": {\"outlinewidth\": 0, \"ticks\": \"\"}}, \"type\": \"parcoords\"}], \"pie\": [{\"automargin\": true, \"type\": \"pie\"}], \"scatter\": [{\"marker\": {\"colorbar\": {\"outlinewidth\": 0, \"ticks\": \"\"}}, \"type\": \"scatter\"}], \"scatter3d\": [{\"line\": {\"colorbar\": {\"outlinewidth\": 0, \"ticks\": \"\"}}, \"marker\": {\"colorbar\": {\"outlinewidth\": 0, \"ticks\": \"\"}}, \"type\": \"scatter3d\"}], \"scattercarpet\": [{\"marker\": {\"colorbar\": {\"outlinewidth\": 0, \"ticks\": \"\"}}, \"type\": \"scattercarpet\"}], \"scattergeo\": [{\"marker\": {\"colorbar\": {\"outlinewidth\": 0, \"ticks\": \"\"}}, \"type\": \"scattergeo\"}], \"scattergl\": [{\"marker\": {\"colorbar\": {\"outlinewidth\": 0, \"ticks\": \"\"}}, \"type\": \"scattergl\"}], \"scattermapbox\": [{\"marker\": {\"colorbar\": {\"outlinewidth\": 0, \"ticks\": \"\"}}, \"type\": \"scattermapbox\"}], \"scatterpolar\": [{\"marker\": {\"colorbar\": {\"outlinewidth\": 0, \"ticks\": \"\"}}, \"type\": \"scatterpolar\"}], \"scatterpolargl\": [{\"marker\": {\"colorbar\": {\"outlinewidth\": 0, \"ticks\": \"\"}}, \"type\": \"scatterpolargl\"}], \"scatterternary\": [{\"marker\": {\"colorbar\": {\"outlinewidth\": 0, \"ticks\": \"\"}}, \"type\": \"scatterternary\"}], \"surface\": [{\"colorbar\": {\"outlinewidth\": 0, \"ticks\": \"\"}, \"colorscale\": [[0.0, \"#0d0887\"], [0.1111111111111111, \"#46039f\"], [0.2222222222222222, \"#7201a8\"], [0.3333333333333333, \"#9c179e\"], [0.4444444444444444, \"#bd3786\"], [0.5555555555555556, \"#d8576b\"], [0.6666666666666666, \"#ed7953\"], [0.7777777777777778, \"#fb9f3a\"], [0.8888888888888888, \"#fdca26\"], [1.0, \"#f0f921\"]], \"type\": \"surface\"}], \"table\": [{\"cells\": {\"fill\": {\"color\": \"#EBF0F8\"}, \"line\": {\"color\": \"white\"}}, \"header\": {\"fill\": {\"color\": \"#C8D4E3\"}, \"line\": {\"color\": \"white\"}}, \"type\": \"table\"}]}, \"layout\": {\"annotationdefaults\": {\"arrowcolor\": \"#2a3f5f\", \"arrowhead\": 0, \"arrowwidth\": 1}, \"autotypenumbers\": \"strict\", \"coloraxis\": {\"colorbar\": {\"outlinewidth\": 0, \"ticks\": \"\"}}, \"colorscale\": {\"diverging\": [[0, \"#8e0152\"], [0.1, \"#c51b7d\"], [0.2, \"#de77ae\"], [0.3, \"#f1b6da\"], [0.4, \"#fde0ef\"], [0.5, \"#f7f7f7\"], [0.6, \"#e6f5d0\"], [0.7, \"#b8e186\"], [0.8, \"#7fbc41\"], [0.9, \"#4d9221\"], [1, \"#276419\"]], \"sequential\": [[0.0, \"#0d0887\"], [0.1111111111111111, \"#46039f\"], [0.2222222222222222, \"#7201a8\"], [0.3333333333333333, \"#9c179e\"], [0.4444444444444444, \"#bd3786\"], [0.5555555555555556, \"#d8576b\"], [0.6666666666666666, \"#ed7953\"], [0.7777777777777778, \"#fb9f3a\"], [0.8888888888888888, \"#fdca26\"], [1.0, \"#f0f921\"]], \"sequentialminus\": [[0.0, \"#0d0887\"], [0.1111111111111111, \"#46039f\"], [0.2222222222222222, \"#7201a8\"], [0.3333333333333333, \"#9c179e\"], [0.4444444444444444, \"#bd3786\"], [0.5555555555555556, \"#d8576b\"], [0.6666666666666666, \"#ed7953\"], [0.7777777777777778, \"#fb9f3a\"], [0.8888888888888888, \"#fdca26\"], [1.0, \"#f0f921\"]]}, \"colorway\": [\"#636efa\", \"#EF553B\", \"#00cc96\", \"#ab63fa\", \"#FFA15A\", \"#19d3f3\", \"#FF6692\", \"#B6E880\", \"#FF97FF\", \"#FECB52\"], \"font\": {\"color\": \"#2a3f5f\"}, \"geo\": {\"bgcolor\": \"white\", \"lakecolor\": \"white\", \"landcolor\": \"#E5ECF6\", \"showlakes\": true, \"showland\": true, \"subunitcolor\": \"white\"}, \"hoverlabel\": {\"align\": \"left\"}, \"hovermode\": \"closest\", \"mapbox\": {\"style\": \"light\"}, \"paper_bgcolor\": \"white\", \"plot_bgcolor\": \"#E5ECF6\", \"polar\": {\"angularaxis\": {\"gridcolor\": \"white\", \"linecolor\": \"white\", \"ticks\": \"\"}, \"bgcolor\": \"#E5ECF6\", \"radialaxis\": {\"gridcolor\": \"white\", \"linecolor\": \"white\", \"ticks\": \"\"}}, \"scene\": {\"xaxis\": {\"backgroundcolor\": \"#E5ECF6\", \"gridcolor\": \"white\", \"gridwidth\": 2, \"linecolor\": \"white\", \"showbackground\": true, \"ticks\": \"\", \"zerolinecolor\": \"white\"}, \"yaxis\": {\"backgroundcolor\": \"#E5ECF6\", \"gridcolor\": \"white\", \"gridwidth\": 2, \"linecolor\": \"white\", \"showbackground\": true, \"ticks\": \"\", \"zerolinecolor\": \"white\"}, \"zaxis\": {\"backgroundcolor\": \"#E5ECF6\", \"gridcolor\": \"white\", \"gridwidth\": 2, \"linecolor\": \"white\", \"showbackground\": true, \"ticks\": \"\", \"zerolinecolor\": \"white\"}}, \"shapedefaults\": {\"line\": {\"color\": \"#2a3f5f\"}}, \"ternary\": {\"aaxis\": {\"gridcolor\": \"white\", \"linecolor\": \"white\", \"ticks\": \"\"}, \"baxis\": {\"gridcolor\": \"white\", \"linecolor\": \"white\", \"ticks\": \"\"}, \"bgcolor\": \"#E5ECF6\", \"caxis\": {\"gridcolor\": \"white\", \"linecolor\": \"white\", \"ticks\": \"\"}}, \"title\": {\"x\": 0.05}, \"xaxis\": {\"automargin\": true, \"gridcolor\": \"white\", \"linecolor\": \"white\", \"ticks\": \"\", \"title\": {\"standoff\": 15}, \"zerolinecolor\": \"white\", \"zerolinewidth\": 2}, \"yaxis\": {\"automargin\": true, \"gridcolor\": \"white\", \"linecolor\": \"white\", \"ticks\": \"\", \"title\": {\"standoff\": 15}, \"zerolinecolor\": \"white\", \"zerolinewidth\": 2}}}, \"xaxis\": {\"anchor\": \"y\", \"domain\": [0.0, 1.0], \"title\": {\"text\": \"position\"}}, \"yaxis\": {\"anchor\": \"x\", \"domain\": [0.0, 1.0], \"title\": {\"text\": \"frequency\"}}},                        {\"responsive\": true}                    ).then(function(){\n",
       "                            \n",
       "var gd = document.getElementById('ad9f5d69-04eb-4ab2-82e8-e3dc7e9fccdd');\n",
       "var x = new MutationObserver(function (mutations, observer) {{\n",
       "        var display = window.getComputedStyle(gd).display;\n",
       "        if (!display || display === 'none') {{\n",
       "            console.log([gd, 'removed!']);\n",
       "            Plotly.purge(gd);\n",
       "            observer.disconnect();\n",
       "        }}\n",
       "}});\n",
       "\n",
       "// Listen for the removal of the full notebook cells\n",
       "var notebookContainer = gd.closest('#notebook-container');\n",
       "if (notebookContainer) {{\n",
       "    x.observe(notebookContainer, {childList: true});\n",
       "}}\n",
       "\n",
       "// Listen for the clearing of the current output cell\n",
       "var outputEl = gd.closest('.output');\n",
       "if (outputEl) {{\n",
       "    x.observe(outputEl, {childList: true});\n",
       "}}\n",
       "\n",
       "                        })                };                });            </script>        </div>"
      ]
     },
     "metadata": {},
     "output_type": "display_data"
    }
   ],
   "source": [
    "# fig = px.scatter(plotly_df, x=\"position\", y=\"frequency\", color=\"population\", symbol='effect', hover_data=[\"population\", \"frequency\", \"effect\", \"aa_change\"])\n",
    "# fig.show()"
   ]
  },
  {
   "cell_type": "markdown",
   "id": "perceived-classification",
   "metadata": {},
   "source": [
    "### we're going to use bokeh for the user guide"
   ]
  },
  {
   "cell_type": "code",
   "execution_count": 28,
   "id": "configured-price",
   "metadata": {},
   "outputs": [
    {
     "name": "stdout",
     "output_type": "stream",
     "text": [
      "The following packages are already present in the pyproject.toml and will be skipped:\r\n",
      "\r\n",
      "  • \u001b[36mbokeh\u001b[0m\r\n",
      "\r\n",
      "If you want to update it to the latest compatible version, you can use `poetry update package`.\r\n",
      "If you prefer to upgrade it to the latest available version, you can use `poetry add package@latest`.\r\n",
      "\r\n",
      "Nothing to add.\r\n"
     ]
    }
   ],
   "source": [
    "# !poetry add bokeh"
   ]
  },
  {
   "cell_type": "code",
   "execution_count": 116,
   "id": "weekly-chick",
   "metadata": {},
   "outputs": [],
   "source": [
    "import bokeh.plotting as bkplt\n",
    "import bokeh.models as bkmod\n",
    "import bokeh.layouts as bklay\n",
    "import bokeh.io as bkio\n",
    "from bokeh.layouts import row \n",
    "from bokeh.plotting import figure"
   ]
  },
  {
   "cell_type": "code",
   "execution_count": 117,
   "id": "compressed-bleeding",
   "metadata": {},
   "outputs": [
    {
     "data": {
      "text/html": [
       "\n",
       "    <div class=\"bk-root\">\n",
       "        <a href=\"https://bokeh.org\" target=\"_blank\" class=\"bk-logo bk-logo-small bk-logo-notebook\"></a>\n",
       "        <span id=\"6262\">Loading BokehJS ...</span>\n",
       "    </div>"
      ]
     },
     "metadata": {},
     "output_type": "display_data"
    },
    {
     "data": {
      "application/javascript": [
       "\n",
       "(function(root) {\n",
       "  function now() {\n",
       "    return new Date();\n",
       "  }\n",
       "\n",
       "  var force = true;\n",
       "\n",
       "  if (typeof root._bokeh_onload_callbacks === \"undefined\" || force === true) {\n",
       "    root._bokeh_onload_callbacks = [];\n",
       "    root._bokeh_is_loading = undefined;\n",
       "  }\n",
       "\n",
       "  var JS_MIME_TYPE = 'application/javascript';\n",
       "  var HTML_MIME_TYPE = 'text/html';\n",
       "  var EXEC_MIME_TYPE = 'application/vnd.bokehjs_exec.v0+json';\n",
       "  var CLASS_NAME = 'output_bokeh rendered_html';\n",
       "\n",
       "  /**\n",
       "   * Render data to the DOM node\n",
       "   */\n",
       "  function render(props, node) {\n",
       "    var script = document.createElement(\"script\");\n",
       "    node.appendChild(script);\n",
       "  }\n",
       "\n",
       "  /**\n",
       "   * Handle when an output is cleared or removed\n",
       "   */\n",
       "  function handleClearOutput(event, handle) {\n",
       "    var cell = handle.cell;\n",
       "\n",
       "    var id = cell.output_area._bokeh_element_id;\n",
       "    var server_id = cell.output_area._bokeh_server_id;\n",
       "    // Clean up Bokeh references\n",
       "    if (id != null && id in Bokeh.index) {\n",
       "      Bokeh.index[id].model.document.clear();\n",
       "      delete Bokeh.index[id];\n",
       "    }\n",
       "\n",
       "    if (server_id !== undefined) {\n",
       "      // Clean up Bokeh references\n",
       "      var cmd = \"from bokeh.io.state import curstate; print(curstate().uuid_to_server['\" + server_id + \"'].get_sessions()[0].document.roots[0]._id)\";\n",
       "      cell.notebook.kernel.execute(cmd, {\n",
       "        iopub: {\n",
       "          output: function(msg) {\n",
       "            var id = msg.content.text.trim();\n",
       "            if (id in Bokeh.index) {\n",
       "              Bokeh.index[id].model.document.clear();\n",
       "              delete Bokeh.index[id];\n",
       "            }\n",
       "          }\n",
       "        }\n",
       "      });\n",
       "      // Destroy server and session\n",
       "      var cmd = \"import bokeh.io.notebook as ion; ion.destroy_server('\" + server_id + \"')\";\n",
       "      cell.notebook.kernel.execute(cmd);\n",
       "    }\n",
       "  }\n",
       "\n",
       "  /**\n",
       "   * Handle when a new output is added\n",
       "   */\n",
       "  function handleAddOutput(event, handle) {\n",
       "    var output_area = handle.output_area;\n",
       "    var output = handle.output;\n",
       "\n",
       "    // limit handleAddOutput to display_data with EXEC_MIME_TYPE content only\n",
       "    if ((output.output_type != \"display_data\") || (!Object.prototype.hasOwnProperty.call(output.data, EXEC_MIME_TYPE))) {\n",
       "      return\n",
       "    }\n",
       "\n",
       "    var toinsert = output_area.element.find(\".\" + CLASS_NAME.split(' ')[0]);\n",
       "\n",
       "    if (output.metadata[EXEC_MIME_TYPE][\"id\"] !== undefined) {\n",
       "      toinsert[toinsert.length - 1].firstChild.textContent = output.data[JS_MIME_TYPE];\n",
       "      // store reference to embed id on output_area\n",
       "      output_area._bokeh_element_id = output.metadata[EXEC_MIME_TYPE][\"id\"];\n",
       "    }\n",
       "    if (output.metadata[EXEC_MIME_TYPE][\"server_id\"] !== undefined) {\n",
       "      var bk_div = document.createElement(\"div\");\n",
       "      bk_div.innerHTML = output.data[HTML_MIME_TYPE];\n",
       "      var script_attrs = bk_div.children[0].attributes;\n",
       "      for (var i = 0; i < script_attrs.length; i++) {\n",
       "        toinsert[toinsert.length - 1].firstChild.setAttribute(script_attrs[i].name, script_attrs[i].value);\n",
       "        toinsert[toinsert.length - 1].firstChild.textContent = bk_div.children[0].textContent\n",
       "      }\n",
       "      // store reference to server id on output_area\n",
       "      output_area._bokeh_server_id = output.metadata[EXEC_MIME_TYPE][\"server_id\"];\n",
       "    }\n",
       "  }\n",
       "\n",
       "  function register_renderer(events, OutputArea) {\n",
       "\n",
       "    function append_mime(data, metadata, element) {\n",
       "      // create a DOM node to render to\n",
       "      var toinsert = this.create_output_subarea(\n",
       "        metadata,\n",
       "        CLASS_NAME,\n",
       "        EXEC_MIME_TYPE\n",
       "      );\n",
       "      this.keyboard_manager.register_events(toinsert);\n",
       "      // Render to node\n",
       "      var props = {data: data, metadata: metadata[EXEC_MIME_TYPE]};\n",
       "      render(props, toinsert[toinsert.length - 1]);\n",
       "      element.append(toinsert);\n",
       "      return toinsert\n",
       "    }\n",
       "\n",
       "    /* Handle when an output is cleared or removed */\n",
       "    events.on('clear_output.CodeCell', handleClearOutput);\n",
       "    events.on('delete.Cell', handleClearOutput);\n",
       "\n",
       "    /* Handle when a new output is added */\n",
       "    events.on('output_added.OutputArea', handleAddOutput);\n",
       "\n",
       "    /**\n",
       "     * Register the mime type and append_mime function with output_area\n",
       "     */\n",
       "    OutputArea.prototype.register_mime_type(EXEC_MIME_TYPE, append_mime, {\n",
       "      /* Is output safe? */\n",
       "      safe: true,\n",
       "      /* Index of renderer in `output_area.display_order` */\n",
       "      index: 0\n",
       "    });\n",
       "  }\n",
       "\n",
       "  // register the mime type if in Jupyter Notebook environment and previously unregistered\n",
       "  if (root.Jupyter !== undefined) {\n",
       "    var events = require('base/js/events');\n",
       "    var OutputArea = require('notebook/js/outputarea').OutputArea;\n",
       "\n",
       "    if (OutputArea.prototype.mime_types().indexOf(EXEC_MIME_TYPE) == -1) {\n",
       "      register_renderer(events, OutputArea);\n",
       "    }\n",
       "  }\n",
       "\n",
       "  \n",
       "  if (typeof (root._bokeh_timeout) === \"undefined\" || force === true) {\n",
       "    root._bokeh_timeout = Date.now() + 5000;\n",
       "    root._bokeh_failed_load = false;\n",
       "  }\n",
       "\n",
       "  var NB_LOAD_WARNING = {'data': {'text/html':\n",
       "     \"<div style='background-color: #fdd'>\\n\"+\n",
       "     \"<p>\\n\"+\n",
       "     \"BokehJS does not appear to have successfully loaded. If loading BokehJS from CDN, this \\n\"+\n",
       "     \"may be due to a slow or bad network connection. Possible fixes:\\n\"+\n",
       "     \"</p>\\n\"+\n",
       "     \"<ul>\\n\"+\n",
       "     \"<li>re-rerun `output_notebook()` to attempt to load from CDN again, or</li>\\n\"+\n",
       "     \"<li>use INLINE resources instead, as so:</li>\\n\"+\n",
       "     \"</ul>\\n\"+\n",
       "     \"<code>\\n\"+\n",
       "     \"from bokeh.resources import INLINE\\n\"+\n",
       "     \"output_notebook(resources=INLINE)\\n\"+\n",
       "     \"</code>\\n\"+\n",
       "     \"</div>\"}};\n",
       "\n",
       "  function display_loaded() {\n",
       "    var el = document.getElementById(\"6262\");\n",
       "    if (el != null) {\n",
       "      el.textContent = \"BokehJS is loading...\";\n",
       "    }\n",
       "    if (root.Bokeh !== undefined) {\n",
       "      if (el != null) {\n",
       "        el.textContent = \"BokehJS \" + root.Bokeh.version + \" successfully loaded.\";\n",
       "      }\n",
       "    } else if (Date.now() < root._bokeh_timeout) {\n",
       "      setTimeout(display_loaded, 100)\n",
       "    }\n",
       "  }\n",
       "\n",
       "\n",
       "  function run_callbacks() {\n",
       "    try {\n",
       "      root._bokeh_onload_callbacks.forEach(function(callback) {\n",
       "        if (callback != null)\n",
       "          callback();\n",
       "      });\n",
       "    } finally {\n",
       "      delete root._bokeh_onload_callbacks\n",
       "    }\n",
       "    console.debug(\"Bokeh: all callbacks have finished\");\n",
       "  }\n",
       "\n",
       "  function load_libs(css_urls, js_urls, callback) {\n",
       "    if (css_urls == null) css_urls = [];\n",
       "    if (js_urls == null) js_urls = [];\n",
       "\n",
       "    root._bokeh_onload_callbacks.push(callback);\n",
       "    if (root._bokeh_is_loading > 0) {\n",
       "      console.debug(\"Bokeh: BokehJS is being loaded, scheduling callback at\", now());\n",
       "      return null;\n",
       "    }\n",
       "    if (js_urls == null || js_urls.length === 0) {\n",
       "      run_callbacks();\n",
       "      return null;\n",
       "    }\n",
       "    console.debug(\"Bokeh: BokehJS not loaded, scheduling load and callback at\", now());\n",
       "    root._bokeh_is_loading = css_urls.length + js_urls.length;\n",
       "\n",
       "    function on_load() {\n",
       "      root._bokeh_is_loading--;\n",
       "      if (root._bokeh_is_loading === 0) {\n",
       "        console.debug(\"Bokeh: all BokehJS libraries/stylesheets loaded\");\n",
       "        run_callbacks()\n",
       "      }\n",
       "    }\n",
       "\n",
       "    function on_error(url) {\n",
       "      console.error(\"failed to load \" + url);\n",
       "    }\n",
       "\n",
       "    for (let i = 0; i < css_urls.length; i++) {\n",
       "      const url = css_urls[i];\n",
       "      const element = document.createElement(\"link\");\n",
       "      element.onload = on_load;\n",
       "      element.onerror = on_error.bind(null, url);\n",
       "      element.rel = \"stylesheet\";\n",
       "      element.type = \"text/css\";\n",
       "      element.href = url;\n",
       "      console.debug(\"Bokeh: injecting link tag for BokehJS stylesheet: \", url);\n",
       "      document.body.appendChild(element);\n",
       "    }\n",
       "\n",
       "    const hashes = {\"https://cdn.bokeh.org/bokeh/release/bokeh-2.3.1.min.js\": \"YF85VygJKMVnHE+lLv2AM93Vbstr0yo2TbIu5v8se5Rq3UQAUmcuh4aaJwNlpKwa\", \"https://cdn.bokeh.org/bokeh/release/bokeh-widgets-2.3.1.min.js\": \"KKuas3gevv3PvrlkyCMzffFeaMq5we/a2QsP5AUoS3mJ0jmaCL7jirFJN3GoE/lM\", \"https://cdn.bokeh.org/bokeh/release/bokeh-tables-2.3.1.min.js\": \"MK/uFc3YT18pkvvXRl66tTHjP0/dxoSH2e/eiNMFIguKlun2+WVqaPTWmUy/zvh4\"};\n",
       "\n",
       "    for (let i = 0; i < js_urls.length; i++) {\n",
       "      const url = js_urls[i];\n",
       "      const element = document.createElement('script');\n",
       "      element.onload = on_load;\n",
       "      element.onerror = on_error.bind(null, url);\n",
       "      element.async = false;\n",
       "      element.src = url;\n",
       "      if (url in hashes) {\n",
       "        element.crossOrigin = \"anonymous\";\n",
       "        element.integrity = \"sha384-\" + hashes[url];\n",
       "      }\n",
       "      console.debug(\"Bokeh: injecting script tag for BokehJS library: \", url);\n",
       "      document.head.appendChild(element);\n",
       "    }\n",
       "  };\n",
       "\n",
       "  function inject_raw_css(css) {\n",
       "    const element = document.createElement(\"style\");\n",
       "    element.appendChild(document.createTextNode(css));\n",
       "    document.body.appendChild(element);\n",
       "  }\n",
       "\n",
       "  \n",
       "  var js_urls = [\"https://cdn.bokeh.org/bokeh/release/bokeh-2.3.1.min.js\", \"https://cdn.bokeh.org/bokeh/release/bokeh-widgets-2.3.1.min.js\", \"https://cdn.bokeh.org/bokeh/release/bokeh-tables-2.3.1.min.js\"];\n",
       "  var css_urls = [];\n",
       "  \n",
       "\n",
       "  var inline_js = [\n",
       "    function(Bokeh) {\n",
       "      Bokeh.set_log_level(\"info\");\n",
       "    },\n",
       "    function(Bokeh) {\n",
       "    \n",
       "    \n",
       "    }\n",
       "  ];\n",
       "\n",
       "  function run_inline_js() {\n",
       "    \n",
       "    if (root.Bokeh !== undefined || force === true) {\n",
       "      \n",
       "    for (var i = 0; i < inline_js.length; i++) {\n",
       "      inline_js[i].call(root, root.Bokeh);\n",
       "    }\n",
       "    if (force === true) {\n",
       "        display_loaded();\n",
       "      }} else if (Date.now() < root._bokeh_timeout) {\n",
       "      setTimeout(run_inline_js, 100);\n",
       "    } else if (!root._bokeh_failed_load) {\n",
       "      console.log(\"Bokeh: BokehJS failed to load within specified timeout.\");\n",
       "      root._bokeh_failed_load = true;\n",
       "    } else if (force !== true) {\n",
       "      var cell = $(document.getElementById(\"6262\")).parents('.cell').data().cell;\n",
       "      cell.output_area.append_execute_result(NB_LOAD_WARNING)\n",
       "    }\n",
       "\n",
       "  }\n",
       "\n",
       "  if (root._bokeh_is_loading === 0) {\n",
       "    console.debug(\"Bokeh: BokehJS loaded, going straight to plotting\");\n",
       "    run_inline_js();\n",
       "  } else {\n",
       "    load_libs(css_urls, js_urls, function() {\n",
       "      console.debug(\"Bokeh: BokehJS plotting callback run at\", now());\n",
       "      run_inline_js();\n",
       "    });\n",
       "  }\n",
       "}(window));"
      ],
      "application/vnd.bokehjs_load.v0+json": "\n(function(root) {\n  function now() {\n    return new Date();\n  }\n\n  var force = true;\n\n  if (typeof root._bokeh_onload_callbacks === \"undefined\" || force === true) {\n    root._bokeh_onload_callbacks = [];\n    root._bokeh_is_loading = undefined;\n  }\n\n  \n\n  \n  if (typeof (root._bokeh_timeout) === \"undefined\" || force === true) {\n    root._bokeh_timeout = Date.now() + 5000;\n    root._bokeh_failed_load = false;\n  }\n\n  var NB_LOAD_WARNING = {'data': {'text/html':\n     \"<div style='background-color: #fdd'>\\n\"+\n     \"<p>\\n\"+\n     \"BokehJS does not appear to have successfully loaded. If loading BokehJS from CDN, this \\n\"+\n     \"may be due to a slow or bad network connection. Possible fixes:\\n\"+\n     \"</p>\\n\"+\n     \"<ul>\\n\"+\n     \"<li>re-rerun `output_notebook()` to attempt to load from CDN again, or</li>\\n\"+\n     \"<li>use INLINE resources instead, as so:</li>\\n\"+\n     \"</ul>\\n\"+\n     \"<code>\\n\"+\n     \"from bokeh.resources import INLINE\\n\"+\n     \"output_notebook(resources=INLINE)\\n\"+\n     \"</code>\\n\"+\n     \"</div>\"}};\n\n  function display_loaded() {\n    var el = document.getElementById(\"6262\");\n    if (el != null) {\n      el.textContent = \"BokehJS is loading...\";\n    }\n    if (root.Bokeh !== undefined) {\n      if (el != null) {\n        el.textContent = \"BokehJS \" + root.Bokeh.version + \" successfully loaded.\";\n      }\n    } else if (Date.now() < root._bokeh_timeout) {\n      setTimeout(display_loaded, 100)\n    }\n  }\n\n\n  function run_callbacks() {\n    try {\n      root._bokeh_onload_callbacks.forEach(function(callback) {\n        if (callback != null)\n          callback();\n      });\n    } finally {\n      delete root._bokeh_onload_callbacks\n    }\n    console.debug(\"Bokeh: all callbacks have finished\");\n  }\n\n  function load_libs(css_urls, js_urls, callback) {\n    if (css_urls == null) css_urls = [];\n    if (js_urls == null) js_urls = [];\n\n    root._bokeh_onload_callbacks.push(callback);\n    if (root._bokeh_is_loading > 0) {\n      console.debug(\"Bokeh: BokehJS is being loaded, scheduling callback at\", now());\n      return null;\n    }\n    if (js_urls == null || js_urls.length === 0) {\n      run_callbacks();\n      return null;\n    }\n    console.debug(\"Bokeh: BokehJS not loaded, scheduling load and callback at\", now());\n    root._bokeh_is_loading = css_urls.length + js_urls.length;\n\n    function on_load() {\n      root._bokeh_is_loading--;\n      if (root._bokeh_is_loading === 0) {\n        console.debug(\"Bokeh: all BokehJS libraries/stylesheets loaded\");\n        run_callbacks()\n      }\n    }\n\n    function on_error(url) {\n      console.error(\"failed to load \" + url);\n    }\n\n    for (let i = 0; i < css_urls.length; i++) {\n      const url = css_urls[i];\n      const element = document.createElement(\"link\");\n      element.onload = on_load;\n      element.onerror = on_error.bind(null, url);\n      element.rel = \"stylesheet\";\n      element.type = \"text/css\";\n      element.href = url;\n      console.debug(\"Bokeh: injecting link tag for BokehJS stylesheet: \", url);\n      document.body.appendChild(element);\n    }\n\n    const hashes = {\"https://cdn.bokeh.org/bokeh/release/bokeh-2.3.1.min.js\": \"YF85VygJKMVnHE+lLv2AM93Vbstr0yo2TbIu5v8se5Rq3UQAUmcuh4aaJwNlpKwa\", \"https://cdn.bokeh.org/bokeh/release/bokeh-widgets-2.3.1.min.js\": \"KKuas3gevv3PvrlkyCMzffFeaMq5we/a2QsP5AUoS3mJ0jmaCL7jirFJN3GoE/lM\", \"https://cdn.bokeh.org/bokeh/release/bokeh-tables-2.3.1.min.js\": \"MK/uFc3YT18pkvvXRl66tTHjP0/dxoSH2e/eiNMFIguKlun2+WVqaPTWmUy/zvh4\"};\n\n    for (let i = 0; i < js_urls.length; i++) {\n      const url = js_urls[i];\n      const element = document.createElement('script');\n      element.onload = on_load;\n      element.onerror = on_error.bind(null, url);\n      element.async = false;\n      element.src = url;\n      if (url in hashes) {\n        element.crossOrigin = \"anonymous\";\n        element.integrity = \"sha384-\" + hashes[url];\n      }\n      console.debug(\"Bokeh: injecting script tag for BokehJS library: \", url);\n      document.head.appendChild(element);\n    }\n  };\n\n  function inject_raw_css(css) {\n    const element = document.createElement(\"style\");\n    element.appendChild(document.createTextNode(css));\n    document.body.appendChild(element);\n  }\n\n  \n  var js_urls = [\"https://cdn.bokeh.org/bokeh/release/bokeh-2.3.1.min.js\", \"https://cdn.bokeh.org/bokeh/release/bokeh-widgets-2.3.1.min.js\", \"https://cdn.bokeh.org/bokeh/release/bokeh-tables-2.3.1.min.js\"];\n  var css_urls = [];\n  \n\n  var inline_js = [\n    function(Bokeh) {\n      Bokeh.set_log_level(\"info\");\n    },\n    function(Bokeh) {\n    \n    \n    }\n  ];\n\n  function run_inline_js() {\n    \n    if (root.Bokeh !== undefined || force === true) {\n      \n    for (var i = 0; i < inline_js.length; i++) {\n      inline_js[i].call(root, root.Bokeh);\n    }\n    if (force === true) {\n        display_loaded();\n      }} else if (Date.now() < root._bokeh_timeout) {\n      setTimeout(run_inline_js, 100);\n    } else if (!root._bokeh_failed_load) {\n      console.log(\"Bokeh: BokehJS failed to load within specified timeout.\");\n      root._bokeh_failed_load = true;\n    } else if (force !== true) {\n      var cell = $(document.getElementById(\"6262\")).parents('.cell').data().cell;\n      cell.output_area.append_execute_result(NB_LOAD_WARNING)\n    }\n\n  }\n\n  if (root._bokeh_is_loading === 0) {\n    console.debug(\"Bokeh: BokehJS loaded, going straight to plotting\");\n    run_inline_js();\n  } else {\n    load_libs(css_urls, js_urls, function() {\n      console.debug(\"Bokeh: BokehJS plotting callback run at\", now());\n      run_inline_js();\n    });\n  }\n}(window));"
     },
     "metadata": {},
     "output_type": "display_data"
    }
   ],
   "source": [
    "bkio.output_notebook()"
   ]
  },
  {
   "cell_type": "code",
   "execution_count": 132,
   "id": "simple-closing",
   "metadata": {},
   "outputs": [
    {
     "data": {
      "text/html": [
       "\n",
       "\n",
       "\n",
       "\n",
       "\n",
       "\n",
       "  <div class=\"bk-root\" id=\"d28c75dd-6bee-4719-b913-c93541cf7596\" data-root-id=\"8700\"></div>\n"
      ]
     },
     "metadata": {},
     "output_type": "display_data"
    },
    {
     "data": {
      "application/javascript": [
       "(function(root) {\n",
       "  function embed_document(root) {\n",
       "    \n",
       "  var docs_json = {\"33ec718b-d1de-4dcc-8091-805c415afa58\":{\"defs\":[],\"roots\":{\"references\":[{\"attributes\":{\"below\":[{\"id\":\"8709\"}],\"center\":[{\"id\":\"8712\"},{\"id\":\"8716\"}],\"height\":400,\"left\":[{\"id\":\"8713\"}],\"renderers\":[{\"id\":\"8737\"},{\"id\":\"8743\"},{\"id\":\"8749\"}],\"title\":{\"id\":\"9106\"},\"toolbar\":{\"id\":\"8725\"},\"width\":800,\"x_range\":{\"id\":\"8701\"},\"x_scale\":{\"id\":\"8705\"},\"y_range\":{\"id\":\"8703\"},\"y_scale\":{\"id\":\"8707\"}},\"id\":\"8700\",\"subtype\":\"Figure\",\"type\":\"Plot\"},{\"attributes\":{},\"id\":\"9118\",\"type\":\"UnionRenderers\"},{\"attributes\":{},\"id\":\"8707\",\"type\":\"LinearScale\"},{\"attributes\":{},\"id\":\"8720\",\"type\":\"SaveTool\"},{\"attributes\":{\"axis_label\":\"population nucleotide frequency\",\"formatter\":{\"id\":\"9108\"},\"major_label_policy\":{\"id\":\"9110\"},\"ticker\":{\"id\":\"8714\"}},\"id\":\"8713\",\"type\":\"LinearAxis\"},{\"attributes\":{\"axis\":{\"id\":\"8713\"},\"dimension\":1,\"ticker\":null},\"id\":\"8716\",\"type\":\"Grid\"},{\"attributes\":{},\"id\":\"8714\",\"type\":\"BasicTicker\"},{\"attributes\":{\"fill_alpha\":{\"value\":0.8},\"fill_color\":{\"value\":\"grey\"},\"line_alpha\":{\"value\":0.8},\"line_color\":{\"value\":\"grey\"},\"size\":{\"value\":10},\"x\":{\"field\":\"pos_Mbp\"},\"y\":{\"field\":\"Burkina Faso\"}},\"id\":\"8741\",\"type\":\"Circle\"},{\"attributes\":{\"data_source\":{\"id\":\"8739\"},\"glyph\":{\"id\":\"8741\"},\"hover_glyph\":null,\"muted_glyph\":null,\"nonselection_glyph\":{\"id\":\"8742\"},\"view\":{\"id\":\"8744\"}},\"id\":\"8743\",\"type\":\"GlyphRenderer\"},{\"attributes\":{},\"id\":\"8718\",\"type\":\"WheelZoomTool\"},{\"attributes\":{},\"id\":\"9115\",\"type\":\"Selection\"},{\"attributes\":{},\"id\":\"8710\",\"type\":\"BasicTicker\"},{\"attributes\":{},\"id\":\"9113\",\"type\":\"AllLabels\"},{\"attributes\":{},\"id\":\"8703\",\"type\":\"DataRange1d\"},{\"attributes\":{\"source\":{\"id\":\"8739\"}},\"id\":\"8744\",\"type\":\"CDSView\"},{\"attributes\":{\"callback\":null,\"tooltips\":[[\"position\",\"@position\"],[\"aa change\",\"@aa_change\"]]},\"id\":\"8724\",\"type\":\"HoverTool\"},{\"attributes\":{},\"id\":\"9111\",\"type\":\"BasicTickFormatter\"},{\"attributes\":{},\"id\":\"9120\",\"type\":\"UnionRenderers\"},{\"attributes\":{\"fill_alpha\":{\"value\":0.8},\"fill_color\":{\"value\":\"pink\"},\"line_alpha\":{\"value\":0.8},\"line_color\":{\"value\":\"pink\"},\"size\":{\"value\":10},\"x\":{\"field\":\"pos_Mbp\"},\"y\":{\"field\":\"Kenya\"}},\"id\":\"8735\",\"type\":\"Circle\"},{\"attributes\":{\"data\":{\"Burkina Faso\":{\"__ndarray__\":\"Akt6+dMWaj8CS3r50xZqPwJLevnTFmo/Akt6+dMWaj8CS3r50xZqPwJLevnTFmo/fo/ICcLd2D9BuBv7HpGDPwJLevnTFmo/fo/ICcLd2D8CS3r50xZqPwJLevnTFmo/AAAAAAAAAAAAAAAAAAAAAAJLevnTFmo/Akt6+dMWaj8AAAAAAAAAAAJLevnTFmo/Akt6+dMWaj8CS3r50xZqPwJLevnTFmo/Akt6+dMWaj8CS3r50xZqPwJLevnTFmo/Akt6+dMWaj8CS3r50xZqPwAAAAAAAAAAAkt6+dMWaj8CS3r50xZ6PwJLevnTFmo/6eVPW2jAsj8CS3r50xZqPwJLevnTFmo/kROEu7HvwT8CS3r50xZqPw==\",\"dtype\":\"float64\",\"order\":\"little\",\"shape\":[35]},\"Kenya\":{\"__ndarray__\":\"AAAAAAAAAAAAAAAAAAAAAAAAAAAAAAAAAAAAAAAAAAAAAAAAAAAAAAAAAAAAAAAAHMdxHMdx7D8AAAAAAAAAAAAAAAAAAAAAHMdxHMdx7D8AAAAAAAAAAAAAAAAAAAAAAAAAAAAAAAAAAAAAAAAAAAAAAAAAAAAAAAAAAAAAAAAAAAAAAAAAAAAAAAAAAAAAAAAAAAAAAAAAAAAAAAAAAAAAAAAAAAAAAAAAAAAAAAAAAAAAAAAAAAAAAAAAAAAAAAAAAAAAAAAAAAAAAAAAAAAAAAAAAAAAAAAAAAAAAAAAAAAAAAAAAAAAAAAAAAAAVVVVVVVV1T8AAAAAAAAAAAAAAAAAAAAAchzHcRzHwT8AAAAAAAAAAA==\",\"dtype\":\"float64\",\"order\":\"little\",\"shape\":[35]},\"Mayotte\":{\"__ndarray__\":\"AAAAAAAAAAAAAAAAAAAAAAAAAAAAAAAAAAAAAAAAAAAAAAAAAAAAAAAAAAAAAAAAAAAAAAAAAAAAAAAAAAAAAAAAAAAAAAAAAAAAAAAAAAAAAAAAAAAAAAAAAAAAAAAAZCELWchClj9kIQtZyEKWPwAAAAAAAAAAAAAAAAAAAABkIQtZyEKWPwAAAAAAAAAAAAAAAAAAAAAAAAAAAAAAAAAAAAAAAAAAAAAAAAAAAAAAAAAAAAAAAAAAAAAAAAAAAAAAAAAAAAAAAAAAAAAAAGQhC1nIQpY/AAAAAAAAAAAAAAAAAAAAAAAAAAAAAAAAAAAAAAAAAAAAAAAAAAAAAAAAAAAAAAAAAAAAAAAAAAAAAAAAAAAAAA==\",\"dtype\":\"float64\",\"order\":\"little\",\"shape\":[35]},\"aa_change\":[\"S2L\",\"L24F\",\"NaN\",\"G75E\",\"NaN\",\"P228S\",\"A296G\",\"NaN\",\"Y343*\",\"T345M\",\"M349I\",\"Q373K\",\"D376A\",\"P384H\",\"D389Y\",\"S399T\",\"Q403P\",\"H404R\",\"M410I\",\"G411A\",\"S412N\",\"R413L\",\"P422R\",\"M424I\",\"L435P\",\"G453D\",\"N457T\",\"G500S\",\"NaN\",\"NaN\",\"N530K\",\"L538V\",\"H539L\",\"H539Q\",\"D542N\"],\"aa_pos\":{\"__ndarray__\":\"AAAAAAAAAEAAAAAAAAA4QAAAAAAAAPh/AAAAAADAUkAAAAAAAAD4fwAAAAAAgGxAAAAAAACAckAAAAAAAAD4fwAAAAAAcHVAAAAAAACQdUAAAAAAANB1QAAAAAAAUHdAAAAAAACAd0AAAAAAAAB4QAAAAAAAUHhAAAAAAADweEAAAAAAADB5QAAAAAAAQHlAAAAAAACgeUAAAAAAALB5QAAAAAAAwHlAAAAAAADQeUAAAAAAAGB6QAAAAAAAgHpAAAAAAAAwe0AAAAAAAFB8QAAAAAAAkHxAAAAAAABAf0AAAAAAAAD4fwAAAAAAAPh/AAAAAACQgEAAAAAAANCAQAAAAAAA2IBAAAAAAADYgEAAAAAAAPCAQA==\",\"dtype\":\"float64\",\"order\":\"little\",\"shape\":[35]},\"alt_aa\":[\"L\",\"F\",\"NaN\",\"E\",\"NaN\",\"S\",\"G\",\"NaN\",\"*\",\"M\",\"I\",\"K\",\"A\",\"H\",\"Y\",\"T\",\"P\",\"R\",\"I\",\"A\",\"N\",\"L\",\"R\",\"I\",\"P\",\"D\",\"T\",\"S\",\"NaN\",\"NaN\",\"K\",\"V\",\"L\",\"Q\",\"N\"],\"alt_allele\":[\"T\",\"T\",\"A\",\"A\",\"T\",\"T\",\"G\",\"G\",\"A\",\"T\",\"T\",\"A\",\"C\",\"A\",\"T\",\"C\",\"C\",\"G\",\"A\",\"C\",\"A\",\"T\",\"G\",\"C\",\"C\",\"A\",\"C\",\"A\",\"T\",\"G\",\"A\",\"G\",\"T\",\"G\",\"A\"],\"alt_codon\":[\"tTg\",\"ttT\",\"NaN\",\"gAa\",\"NaN\",\"Tca\",\"gGa\",\"NaN\",\"taA\",\"aTg\",\"atT\",\"Aag\",\"gCc\",\"cAc\",\"Tac\",\"aCc\",\"cCg\",\"cGc\",\"atA\",\"gCc\",\"aAc\",\"cTg\",\"cGg\",\"atC\",\"cCg\",\"gAc\",\"aCc\",\"Agc\",\"NaN\",\"NaN\",\"aaA\",\"Gtg\",\"cTc\",\"caG\",\"Aac\"],\"effect\":[\"NON_SYNONYMOUS_CODING\",\"NON_SYNONYMOUS_CODING\",\"SPLICE_REGION\",\"NON_SYNONYMOUS_CODING\",\"SPLICE_REGION\",\"NON_SYNONYMOUS_CODING\",\"NON_SYNONYMOUS_CODING\",\"SPLICE_REGION\",\"STOP_GAINED\",\"NON_SYNONYMOUS_CODING\",\"NON_SYNONYMOUS_CODING\",\"NON_SYNONYMOUS_CODING\",\"NON_SYNONYMOUS_CODING\",\"NON_SYNONYMOUS_CODING\",\"NON_SYNONYMOUS_CODING\",\"NON_SYNONYMOUS_CODING\",\"NON_SYNONYMOUS_CODING\",\"NON_SYNONYMOUS_CODING\",\"NON_SYNONYMOUS_CODING\",\"NON_SYNONYMOUS_CODING\",\"NON_SYNONYMOUS_CODING\",\"NON_SYNONYMOUS_CODING\",\"NON_SYNONYMOUS_CODING\",\"NON_SYNONYMOUS_CODING\",\"NON_SYNONYMOUS_CODING\",\"NON_SYNONYMOUS_CODING\",\"NON_SYNONYMOUS_CODING\",\"NON_SYNONYMOUS_CODING\",\"SPLICE_REGION\",\"SPLICE_CORE\",\"NON_SYNONYMOUS_CODING\",\"NON_SYNONYMOUS_CODING\",\"NON_SYNONYMOUS_CODING\",\"NON_SYNONYMOUS_CODING\",\"NON_SYNONYMOUS_CODING\"],\"impact\":[\"MODERATE\",\"MODERATE\",\"MODERATE\",\"MODERATE\",\"MODERATE\",\"MODERATE\",\"MODERATE\",\"MODERATE\",\"HIGH\",\"MODERATE\",\"MODERATE\",\"MODERATE\",\"MODERATE\",\"MODERATE\",\"MODERATE\",\"MODERATE\",\"MODERATE\",\"MODERATE\",\"MODERATE\",\"MODERATE\",\"MODERATE\",\"MODERATE\",\"MODERATE\",\"MODERATE\",\"MODERATE\",\"MODERATE\",\"MODERATE\",\"MODERATE\",\"MODERATE\",\"HIGH\",\"MODERATE\",\"MODERATE\",\"MODERATE\",\"MODERATE\",\"MODERATE\"],\"index\":[13,206,37332,48429,48646,116113,157736,167126,167145,167158,167195,167397,167427,167490,167531,167614,167649,167660,167712,167719,167727,167738,167816,167836,167929,168069,168096,168147,168175,168350,168612,168677,168688,168692,168711],\"maximum\":{\"__ndarray__\":\"Akt6+dMWaj8CS3r50xZqPwJLevnTFmo/Akt6+dMWaj8CS3r50xZqPwJLevnTFmo/HMdxHMdx7D9BuBv7HpGDPwJLevnTFmo/HMdxHMdx7D8CS3r50xZqPwJLevnTFmo/ZCELWchClj9kIQtZyEKWPwJLevnTFmo/Akt6+dMWaj9kIQtZyEKWPwJLevnTFmo/Akt6+dMWaj8CS3r50xZqPwJLevnTFmo/Akt6+dMWaj8CS3r50xZqPwJLevnTFmo/Akt6+dMWaj8CS3r50xZqP2QhC1nIQpY/Akt6+dMWaj8CS3r50xZ6PwJLevnTFmo/VVVVVVVV1T8CS3r50xZqPwJLevnTFmo/kROEu7HvwT8CS3r50xZqPw==\",\"dtype\":\"float64\",\"order\":\"little\",\"shape\":[35]},\"pos_Mbp\":{\"__ndarray__\":\"gv5CjxhdOUCSzVXzHF05QLTKTGn9YTlAcZNRZRhjOUBEMA4uHWM5QH7hlSTPaTlAD0QWaeJtOUAyAFRx4245QDi9i/fjbjlAXJNuS+RuOUCFJokl5W45QHfc8LvpbjlAvoi2Y+puOUDPv1326245QJlKP+HsbjlAD0dX6e5uOUCX4qqy7245QHnJ/+TvbjlAZyrEI/FuOUCoGVJF8W45QIoAp3fxbjlAbef7qfFuOUBgBfhu8245QMXKaOTzbjlA275H/fVuOUDC+j+H+W45QEqWk1D6bjlApWYPtAJvOUAuAmN9A285QJ612y40bzlA3NRA8zlvOUCsHFpkO285QC/7dac7bzlA0PI8uDtvOUA1uK0tPG85QA==\",\"dtype\":\"float64\",\"order\":\"little\",\"shape\":[35]},\"position\":{\"__ndarray__\":\"yASDAQsFgwF1T4MBU2CDAZxggwHFxoMB9ASEAUYUhAFOFIQBUxSEAWAUhAGmFIQBsBSEAcgUhAHWFIQB9RSEAQEVhAEEFYQBFxWEARkVhAEcFYQBHxWEAToVhAFBFYQBYRWEAZcVhAGjFYQBIxaEAS8WhAEWGYQBbhmEAYQZhAGIGYQBiRmEAZAZhAE=\",\"dtype\":\"int32\",\"order\":\"little\",\"shape\":[35]},\"ref_aa\":[\"S\",\"L\",\"NaN\",\"G\",\"NaN\",\"P\",\"A\",\"NaN\",\"Y\",\"T\",\"M\",\"Q\",\"D\",\"P\",\"D\",\"S\",\"Q\",\"H\",\"M\",\"G\",\"S\",\"R\",\"P\",\"M\",\"L\",\"G\",\"N\",\"G\",\"NaN\",\"NaN\",\"N\",\"L\",\"H\",\"H\",\"D\"],\"ref_allele\":[\"C\",\"G\",\"C\",\"G\",\"A\",\"C\",\"C\",\"C\",\"C\",\"C\",\"G\",\"C\",\"A\",\"C\",\"G\",\"G\",\"A\",\"A\",\"G\",\"G\",\"G\",\"G\",\"C\",\"G\",\"T\",\"G\",\"A\",\"G\",\"C\",\"A\",\"T\",\"C\",\"A\",\"C\",\"G\"],\"ref_codon\":[\"tCg\",\"ttG\",\"NaN\",\"gGa\",\"NaN\",\"Cca\",\"gCa\",\"NaN\",\"taC\",\"aCg\",\"atG\",\"Cag\",\"gAc\",\"cCc\",\"Gac\",\"aGc\",\"cAg\",\"cAc\",\"atG\",\"gGc\",\"aGc\",\"cGg\",\"cCg\",\"atG\",\"cTg\",\"gGc\",\"aAc\",\"Ggc\",\"NaN\",\"NaN\",\"aaT\",\"Ctg\",\"cAc\",\"caC\",\"Gac\"]},\"selected\":{\"id\":\"9117\"},\"selection_policy\":{\"id\":\"9118\"}},\"id\":\"8739\",\"type\":\"ColumnDataSource\"},{\"attributes\":{},\"id\":\"9117\",\"type\":\"Selection\"},{\"attributes\":{\"fill_alpha\":{\"value\":0.1},\"fill_color\":{\"value\":\"pink\"},\"line_alpha\":{\"value\":0.1},\"line_color\":{\"value\":\"pink\"},\"size\":{\"value\":10},\"x\":{\"field\":\"pos_Mbp\"},\"y\":{\"field\":\"Kenya\"}},\"id\":\"8736\",\"type\":\"Circle\"},{\"attributes\":{\"axis_label\":\"position (Mbp)\",\"formatter\":{\"id\":\"9111\"},\"major_label_policy\":{\"id\":\"9113\"},\"ticker\":{\"id\":\"8710\"}},\"id\":\"8709\",\"type\":\"LinearAxis\"},{\"attributes\":{},\"id\":\"9106\",\"type\":\"Title\"},{\"attributes\":{},\"id\":\"9108\",\"type\":\"BasicTickFormatter\"},{\"attributes\":{},\"id\":\"8722\",\"type\":\"HelpTool\"},{\"attributes\":{},\"id\":\"8717\",\"type\":\"PanTool\"},{\"attributes\":{},\"id\":\"8701\",\"type\":\"DataRange1d\"},{\"attributes\":{\"fill_alpha\":{\"value\":0.1},\"fill_color\":{\"value\":\"grey\"},\"line_alpha\":{\"value\":0.1},\"line_color\":{\"value\":\"grey\"},\"size\":{\"value\":10},\"x\":{\"field\":\"pos_Mbp\"},\"y\":{\"field\":\"Burkina Faso\"}},\"id\":\"8742\",\"type\":\"Circle\"},{\"attributes\":{\"active_multi\":null,\"tools\":[{\"id\":\"8717\"},{\"id\":\"8718\"},{\"id\":\"8719\"},{\"id\":\"8720\"},{\"id\":\"8721\"},{\"id\":\"8722\"},{\"id\":\"8724\"}]},\"id\":\"8725\",\"type\":\"Toolbar\"},{\"attributes\":{\"source\":{\"id\":\"8733\"}},\"id\":\"8738\",\"type\":\"CDSView\"},{\"attributes\":{},\"id\":\"9119\",\"type\":\"Selection\"},{\"attributes\":{\"data_source\":{\"id\":\"8733\"},\"glyph\":{\"id\":\"8735\"},\"hover_glyph\":null,\"muted_glyph\":null,\"nonselection_glyph\":{\"id\":\"8736\"},\"view\":{\"id\":\"8738\"}},\"id\":\"8737\",\"type\":\"GlyphRenderer\"},{\"attributes\":{},\"id\":\"8721\",\"type\":\"ResetTool\"},{\"attributes\":{\"data\":{\"Burkina Faso\":{\"__ndarray__\":\"Akt6+dMWaj8CS3r50xZqPwJLevnTFmo/Akt6+dMWaj8CS3r50xZqPwJLevnTFmo/fo/ICcLd2D9BuBv7HpGDPwJLevnTFmo/fo/ICcLd2D8CS3r50xZqPwJLevnTFmo/AAAAAAAAAAAAAAAAAAAAAAJLevnTFmo/Akt6+dMWaj8AAAAAAAAAAAJLevnTFmo/Akt6+dMWaj8CS3r50xZqPwJLevnTFmo/Akt6+dMWaj8CS3r50xZqPwJLevnTFmo/Akt6+dMWaj8CS3r50xZqPwAAAAAAAAAAAkt6+dMWaj8CS3r50xZ6PwJLevnTFmo/6eVPW2jAsj8CS3r50xZqPwJLevnTFmo/kROEu7HvwT8CS3r50xZqPw==\",\"dtype\":\"float64\",\"order\":\"little\",\"shape\":[35]},\"Kenya\":{\"__ndarray__\":\"AAAAAAAAAAAAAAAAAAAAAAAAAAAAAAAAAAAAAAAAAAAAAAAAAAAAAAAAAAAAAAAAHMdxHMdx7D8AAAAAAAAAAAAAAAAAAAAAHMdxHMdx7D8AAAAAAAAAAAAAAAAAAAAAAAAAAAAAAAAAAAAAAAAAAAAAAAAAAAAAAAAAAAAAAAAAAAAAAAAAAAAAAAAAAAAAAAAAAAAAAAAAAAAAAAAAAAAAAAAAAAAAAAAAAAAAAAAAAAAAAAAAAAAAAAAAAAAAAAAAAAAAAAAAAAAAAAAAAAAAAAAAAAAAAAAAAAAAAAAAAAAAAAAAAAAAAAAAAAAAVVVVVVVV1T8AAAAAAAAAAAAAAAAAAAAAchzHcRzHwT8AAAAAAAAAAA==\",\"dtype\":\"float64\",\"order\":\"little\",\"shape\":[35]},\"Mayotte\":{\"__ndarray__\":\"AAAAAAAAAAAAAAAAAAAAAAAAAAAAAAAAAAAAAAAAAAAAAAAAAAAAAAAAAAAAAAAAAAAAAAAAAAAAAAAAAAAAAAAAAAAAAAAAAAAAAAAAAAAAAAAAAAAAAAAAAAAAAAAAZCELWchClj9kIQtZyEKWPwAAAAAAAAAAAAAAAAAAAABkIQtZyEKWPwAAAAAAAAAAAAAAAAAAAAAAAAAAAAAAAAAAAAAAAAAAAAAAAAAAAAAAAAAAAAAAAAAAAAAAAAAAAAAAAAAAAAAAAAAAAAAAAGQhC1nIQpY/AAAAAAAAAAAAAAAAAAAAAAAAAAAAAAAAAAAAAAAAAAAAAAAAAAAAAAAAAAAAAAAAAAAAAAAAAAAAAAAAAAAAAA==\",\"dtype\":\"float64\",\"order\":\"little\",\"shape\":[35]},\"aa_change\":[\"S2L\",\"L24F\",\"NaN\",\"G75E\",\"NaN\",\"P228S\",\"A296G\",\"NaN\",\"Y343*\",\"T345M\",\"M349I\",\"Q373K\",\"D376A\",\"P384H\",\"D389Y\",\"S399T\",\"Q403P\",\"H404R\",\"M410I\",\"G411A\",\"S412N\",\"R413L\",\"P422R\",\"M424I\",\"L435P\",\"G453D\",\"N457T\",\"G500S\",\"NaN\",\"NaN\",\"N530K\",\"L538V\",\"H539L\",\"H539Q\",\"D542N\"],\"aa_pos\":{\"__ndarray__\":\"AAAAAAAAAEAAAAAAAAA4QAAAAAAAAPh/AAAAAADAUkAAAAAAAAD4fwAAAAAAgGxAAAAAAACAckAAAAAAAAD4fwAAAAAAcHVAAAAAAACQdUAAAAAAANB1QAAAAAAAUHdAAAAAAACAd0AAAAAAAAB4QAAAAAAAUHhAAAAAAADweEAAAAAAADB5QAAAAAAAQHlAAAAAAACgeUAAAAAAALB5QAAAAAAAwHlAAAAAAADQeUAAAAAAAGB6QAAAAAAAgHpAAAAAAAAwe0AAAAAAAFB8QAAAAAAAkHxAAAAAAABAf0AAAAAAAAD4fwAAAAAAAPh/AAAAAACQgEAAAAAAANCAQAAAAAAA2IBAAAAAAADYgEAAAAAAAPCAQA==\",\"dtype\":\"float64\",\"order\":\"little\",\"shape\":[35]},\"alt_aa\":[\"L\",\"F\",\"NaN\",\"E\",\"NaN\",\"S\",\"G\",\"NaN\",\"*\",\"M\",\"I\",\"K\",\"A\",\"H\",\"Y\",\"T\",\"P\",\"R\",\"I\",\"A\",\"N\",\"L\",\"R\",\"I\",\"P\",\"D\",\"T\",\"S\",\"NaN\",\"NaN\",\"K\",\"V\",\"L\",\"Q\",\"N\"],\"alt_allele\":[\"T\",\"T\",\"A\",\"A\",\"T\",\"T\",\"G\",\"G\",\"A\",\"T\",\"T\",\"A\",\"C\",\"A\",\"T\",\"C\",\"C\",\"G\",\"A\",\"C\",\"A\",\"T\",\"G\",\"C\",\"C\",\"A\",\"C\",\"A\",\"T\",\"G\",\"A\",\"G\",\"T\",\"G\",\"A\"],\"alt_codon\":[\"tTg\",\"ttT\",\"NaN\",\"gAa\",\"NaN\",\"Tca\",\"gGa\",\"NaN\",\"taA\",\"aTg\",\"atT\",\"Aag\",\"gCc\",\"cAc\",\"Tac\",\"aCc\",\"cCg\",\"cGc\",\"atA\",\"gCc\",\"aAc\",\"cTg\",\"cGg\",\"atC\",\"cCg\",\"gAc\",\"aCc\",\"Agc\",\"NaN\",\"NaN\",\"aaA\",\"Gtg\",\"cTc\",\"caG\",\"Aac\"],\"effect\":[\"NON_SYNONYMOUS_CODING\",\"NON_SYNONYMOUS_CODING\",\"SPLICE_REGION\",\"NON_SYNONYMOUS_CODING\",\"SPLICE_REGION\",\"NON_SYNONYMOUS_CODING\",\"NON_SYNONYMOUS_CODING\",\"SPLICE_REGION\",\"STOP_GAINED\",\"NON_SYNONYMOUS_CODING\",\"NON_SYNONYMOUS_CODING\",\"NON_SYNONYMOUS_CODING\",\"NON_SYNONYMOUS_CODING\",\"NON_SYNONYMOUS_CODING\",\"NON_SYNONYMOUS_CODING\",\"NON_SYNONYMOUS_CODING\",\"NON_SYNONYMOUS_CODING\",\"NON_SYNONYMOUS_CODING\",\"NON_SYNONYMOUS_CODING\",\"NON_SYNONYMOUS_CODING\",\"NON_SYNONYMOUS_CODING\",\"NON_SYNONYMOUS_CODING\",\"NON_SYNONYMOUS_CODING\",\"NON_SYNONYMOUS_CODING\",\"NON_SYNONYMOUS_CODING\",\"NON_SYNONYMOUS_CODING\",\"NON_SYNONYMOUS_CODING\",\"NON_SYNONYMOUS_CODING\",\"SPLICE_REGION\",\"SPLICE_CORE\",\"NON_SYNONYMOUS_CODING\",\"NON_SYNONYMOUS_CODING\",\"NON_SYNONYMOUS_CODING\",\"NON_SYNONYMOUS_CODING\",\"NON_SYNONYMOUS_CODING\"],\"impact\":[\"MODERATE\",\"MODERATE\",\"MODERATE\",\"MODERATE\",\"MODERATE\",\"MODERATE\",\"MODERATE\",\"MODERATE\",\"HIGH\",\"MODERATE\",\"MODERATE\",\"MODERATE\",\"MODERATE\",\"MODERATE\",\"MODERATE\",\"MODERATE\",\"MODERATE\",\"MODERATE\",\"MODERATE\",\"MODERATE\",\"MODERATE\",\"MODERATE\",\"MODERATE\",\"MODERATE\",\"MODERATE\",\"MODERATE\",\"MODERATE\",\"MODERATE\",\"MODERATE\",\"HIGH\",\"MODERATE\",\"MODERATE\",\"MODERATE\",\"MODERATE\",\"MODERATE\"],\"index\":[13,206,37332,48429,48646,116113,157736,167126,167145,167158,167195,167397,167427,167490,167531,167614,167649,167660,167712,167719,167727,167738,167816,167836,167929,168069,168096,168147,168175,168350,168612,168677,168688,168692,168711],\"maximum\":{\"__ndarray__\":\"Akt6+dMWaj8CS3r50xZqPwJLevnTFmo/Akt6+dMWaj8CS3r50xZqPwJLevnTFmo/HMdxHMdx7D9BuBv7HpGDPwJLevnTFmo/HMdxHMdx7D8CS3r50xZqPwJLevnTFmo/ZCELWchClj9kIQtZyEKWPwJLevnTFmo/Akt6+dMWaj9kIQtZyEKWPwJLevnTFmo/Akt6+dMWaj8CS3r50xZqPwJLevnTFmo/Akt6+dMWaj8CS3r50xZqPwJLevnTFmo/Akt6+dMWaj8CS3r50xZqP2QhC1nIQpY/Akt6+dMWaj8CS3r50xZ6PwJLevnTFmo/VVVVVVVV1T8CS3r50xZqPwJLevnTFmo/kROEu7HvwT8CS3r50xZqPw==\",\"dtype\":\"float64\",\"order\":\"little\",\"shape\":[35]},\"pos_Mbp\":{\"__ndarray__\":\"gv5CjxhdOUCSzVXzHF05QLTKTGn9YTlAcZNRZRhjOUBEMA4uHWM5QH7hlSTPaTlAD0QWaeJtOUAyAFRx4245QDi9i/fjbjlAXJNuS+RuOUCFJokl5W45QHfc8LvpbjlAvoi2Y+puOUDPv1326245QJlKP+HsbjlAD0dX6e5uOUCX4qqy7245QHnJ/+TvbjlAZyrEI/FuOUCoGVJF8W45QIoAp3fxbjlAbef7qfFuOUBgBfhu8245QMXKaOTzbjlA275H/fVuOUDC+j+H+W45QEqWk1D6bjlApWYPtAJvOUAuAmN9A285QJ612y40bzlA3NRA8zlvOUCsHFpkO285QC/7dac7bzlA0PI8uDtvOUA1uK0tPG85QA==\",\"dtype\":\"float64\",\"order\":\"little\",\"shape\":[35]},\"position\":{\"__ndarray__\":\"yASDAQsFgwF1T4MBU2CDAZxggwHFxoMB9ASEAUYUhAFOFIQBUxSEAWAUhAGmFIQBsBSEAcgUhAHWFIQB9RSEAQEVhAEEFYQBFxWEARkVhAEcFYQBHxWEAToVhAFBFYQBYRWEAZcVhAGjFYQBIxaEAS8WhAEWGYQBbhmEAYQZhAGIGYQBiRmEAZAZhAE=\",\"dtype\":\"int32\",\"order\":\"little\",\"shape\":[35]},\"ref_aa\":[\"S\",\"L\",\"NaN\",\"G\",\"NaN\",\"P\",\"A\",\"NaN\",\"Y\",\"T\",\"M\",\"Q\",\"D\",\"P\",\"D\",\"S\",\"Q\",\"H\",\"M\",\"G\",\"S\",\"R\",\"P\",\"M\",\"L\",\"G\",\"N\",\"G\",\"NaN\",\"NaN\",\"N\",\"L\",\"H\",\"H\",\"D\"],\"ref_allele\":[\"C\",\"G\",\"C\",\"G\",\"A\",\"C\",\"C\",\"C\",\"C\",\"C\",\"G\",\"C\",\"A\",\"C\",\"G\",\"G\",\"A\",\"A\",\"G\",\"G\",\"G\",\"G\",\"C\",\"G\",\"T\",\"G\",\"A\",\"G\",\"C\",\"A\",\"T\",\"C\",\"A\",\"C\",\"G\"],\"ref_codon\":[\"tCg\",\"ttG\",\"NaN\",\"gGa\",\"NaN\",\"Cca\",\"gCa\",\"NaN\",\"taC\",\"aCg\",\"atG\",\"Cag\",\"gAc\",\"cCc\",\"Gac\",\"aGc\",\"cAg\",\"cAc\",\"atG\",\"gGc\",\"aGc\",\"cGg\",\"cCg\",\"atG\",\"cTg\",\"gGc\",\"aAc\",\"Ggc\",\"NaN\",\"NaN\",\"aaT\",\"Ctg\",\"cAc\",\"caC\",\"Gac\"]},\"selected\":{\"id\":\"9115\"},\"selection_policy\":{\"id\":\"9116\"}},\"id\":\"8733\",\"type\":\"ColumnDataSource\"},{\"attributes\":{},\"id\":\"9110\",\"type\":\"AllLabels\"},{\"attributes\":{},\"id\":\"9116\",\"type\":\"UnionRenderers\"},{\"attributes\":{\"source\":{\"id\":\"8745\"}},\"id\":\"8750\",\"type\":\"CDSView\"},{\"attributes\":{\"overlay\":{\"id\":\"8723\"}},\"id\":\"8719\",\"type\":\"BoxZoomTool\"},{\"attributes\":{\"fill_alpha\":{\"value\":0.8},\"fill_color\":{\"value\":\"orange\"},\"line_alpha\":{\"value\":0.8},\"line_color\":{\"value\":\"orange\"},\"size\":{\"value\":10},\"x\":{\"field\":\"pos_Mbp\"},\"y\":{\"field\":\"Mayotte\"}},\"id\":\"8747\",\"type\":\"Circle\"},{\"attributes\":{\"data_source\":{\"id\":\"8745\"},\"glyph\":{\"id\":\"8747\"},\"hover_glyph\":null,\"muted_glyph\":null,\"nonselection_glyph\":{\"id\":\"8748\"},\"view\":{\"id\":\"8750\"}},\"id\":\"8749\",\"type\":\"GlyphRenderer\"},{\"attributes\":{\"axis\":{\"id\":\"8709\"},\"ticker\":null},\"id\":\"8712\",\"type\":\"Grid\"},{\"attributes\":{\"data\":{\"Burkina Faso\":{\"__ndarray__\":\"Akt6+dMWaj8CS3r50xZqPwJLevnTFmo/Akt6+dMWaj8CS3r50xZqPwJLevnTFmo/fo/ICcLd2D9BuBv7HpGDPwJLevnTFmo/fo/ICcLd2D8CS3r50xZqPwJLevnTFmo/AAAAAAAAAAAAAAAAAAAAAAJLevnTFmo/Akt6+dMWaj8AAAAAAAAAAAJLevnTFmo/Akt6+dMWaj8CS3r50xZqPwJLevnTFmo/Akt6+dMWaj8CS3r50xZqPwJLevnTFmo/Akt6+dMWaj8CS3r50xZqPwAAAAAAAAAAAkt6+dMWaj8CS3r50xZ6PwJLevnTFmo/6eVPW2jAsj8CS3r50xZqPwJLevnTFmo/kROEu7HvwT8CS3r50xZqPw==\",\"dtype\":\"float64\",\"order\":\"little\",\"shape\":[35]},\"Kenya\":{\"__ndarray__\":\"AAAAAAAAAAAAAAAAAAAAAAAAAAAAAAAAAAAAAAAAAAAAAAAAAAAAAAAAAAAAAAAAHMdxHMdx7D8AAAAAAAAAAAAAAAAAAAAAHMdxHMdx7D8AAAAAAAAAAAAAAAAAAAAAAAAAAAAAAAAAAAAAAAAAAAAAAAAAAAAAAAAAAAAAAAAAAAAAAAAAAAAAAAAAAAAAAAAAAAAAAAAAAAAAAAAAAAAAAAAAAAAAAAAAAAAAAAAAAAAAAAAAAAAAAAAAAAAAAAAAAAAAAAAAAAAAAAAAAAAAAAAAAAAAAAAAAAAAAAAAAAAAAAAAAAAAAAAAAAAAVVVVVVVV1T8AAAAAAAAAAAAAAAAAAAAAchzHcRzHwT8AAAAAAAAAAA==\",\"dtype\":\"float64\",\"order\":\"little\",\"shape\":[35]},\"Mayotte\":{\"__ndarray__\":\"AAAAAAAAAAAAAAAAAAAAAAAAAAAAAAAAAAAAAAAAAAAAAAAAAAAAAAAAAAAAAAAAAAAAAAAAAAAAAAAAAAAAAAAAAAAAAAAAAAAAAAAAAAAAAAAAAAAAAAAAAAAAAAAAZCELWchClj9kIQtZyEKWPwAAAAAAAAAAAAAAAAAAAABkIQtZyEKWPwAAAAAAAAAAAAAAAAAAAAAAAAAAAAAAAAAAAAAAAAAAAAAAAAAAAAAAAAAAAAAAAAAAAAAAAAAAAAAAAAAAAAAAAAAAAAAAAGQhC1nIQpY/AAAAAAAAAAAAAAAAAAAAAAAAAAAAAAAAAAAAAAAAAAAAAAAAAAAAAAAAAAAAAAAAAAAAAAAAAAAAAAAAAAAAAA==\",\"dtype\":\"float64\",\"order\":\"little\",\"shape\":[35]},\"aa_change\":[\"S2L\",\"L24F\",\"NaN\",\"G75E\",\"NaN\",\"P228S\",\"A296G\",\"NaN\",\"Y343*\",\"T345M\",\"M349I\",\"Q373K\",\"D376A\",\"P384H\",\"D389Y\",\"S399T\",\"Q403P\",\"H404R\",\"M410I\",\"G411A\",\"S412N\",\"R413L\",\"P422R\",\"M424I\",\"L435P\",\"G453D\",\"N457T\",\"G500S\",\"NaN\",\"NaN\",\"N530K\",\"L538V\",\"H539L\",\"H539Q\",\"D542N\"],\"aa_pos\":{\"__ndarray__\":\"AAAAAAAAAEAAAAAAAAA4QAAAAAAAAPh/AAAAAADAUkAAAAAAAAD4fwAAAAAAgGxAAAAAAACAckAAAAAAAAD4fwAAAAAAcHVAAAAAAACQdUAAAAAAANB1QAAAAAAAUHdAAAAAAACAd0AAAAAAAAB4QAAAAAAAUHhAAAAAAADweEAAAAAAADB5QAAAAAAAQHlAAAAAAACgeUAAAAAAALB5QAAAAAAAwHlAAAAAAADQeUAAAAAAAGB6QAAAAAAAgHpAAAAAAAAwe0AAAAAAAFB8QAAAAAAAkHxAAAAAAABAf0AAAAAAAAD4fwAAAAAAAPh/AAAAAACQgEAAAAAAANCAQAAAAAAA2IBAAAAAAADYgEAAAAAAAPCAQA==\",\"dtype\":\"float64\",\"order\":\"little\",\"shape\":[35]},\"alt_aa\":[\"L\",\"F\",\"NaN\",\"E\",\"NaN\",\"S\",\"G\",\"NaN\",\"*\",\"M\",\"I\",\"K\",\"A\",\"H\",\"Y\",\"T\",\"P\",\"R\",\"I\",\"A\",\"N\",\"L\",\"R\",\"I\",\"P\",\"D\",\"T\",\"S\",\"NaN\",\"NaN\",\"K\",\"V\",\"L\",\"Q\",\"N\"],\"alt_allele\":[\"T\",\"T\",\"A\",\"A\",\"T\",\"T\",\"G\",\"G\",\"A\",\"T\",\"T\",\"A\",\"C\",\"A\",\"T\",\"C\",\"C\",\"G\",\"A\",\"C\",\"A\",\"T\",\"G\",\"C\",\"C\",\"A\",\"C\",\"A\",\"T\",\"G\",\"A\",\"G\",\"T\",\"G\",\"A\"],\"alt_codon\":[\"tTg\",\"ttT\",\"NaN\",\"gAa\",\"NaN\",\"Tca\",\"gGa\",\"NaN\",\"taA\",\"aTg\",\"atT\",\"Aag\",\"gCc\",\"cAc\",\"Tac\",\"aCc\",\"cCg\",\"cGc\",\"atA\",\"gCc\",\"aAc\",\"cTg\",\"cGg\",\"atC\",\"cCg\",\"gAc\",\"aCc\",\"Agc\",\"NaN\",\"NaN\",\"aaA\",\"Gtg\",\"cTc\",\"caG\",\"Aac\"],\"effect\":[\"NON_SYNONYMOUS_CODING\",\"NON_SYNONYMOUS_CODING\",\"SPLICE_REGION\",\"NON_SYNONYMOUS_CODING\",\"SPLICE_REGION\",\"NON_SYNONYMOUS_CODING\",\"NON_SYNONYMOUS_CODING\",\"SPLICE_REGION\",\"STOP_GAINED\",\"NON_SYNONYMOUS_CODING\",\"NON_SYNONYMOUS_CODING\",\"NON_SYNONYMOUS_CODING\",\"NON_SYNONYMOUS_CODING\",\"NON_SYNONYMOUS_CODING\",\"NON_SYNONYMOUS_CODING\",\"NON_SYNONYMOUS_CODING\",\"NON_SYNONYMOUS_CODING\",\"NON_SYNONYMOUS_CODING\",\"NON_SYNONYMOUS_CODING\",\"NON_SYNONYMOUS_CODING\",\"NON_SYNONYMOUS_CODING\",\"NON_SYNONYMOUS_CODING\",\"NON_SYNONYMOUS_CODING\",\"NON_SYNONYMOUS_CODING\",\"NON_SYNONYMOUS_CODING\",\"NON_SYNONYMOUS_CODING\",\"NON_SYNONYMOUS_CODING\",\"NON_SYNONYMOUS_CODING\",\"SPLICE_REGION\",\"SPLICE_CORE\",\"NON_SYNONYMOUS_CODING\",\"NON_SYNONYMOUS_CODING\",\"NON_SYNONYMOUS_CODING\",\"NON_SYNONYMOUS_CODING\",\"NON_SYNONYMOUS_CODING\"],\"impact\":[\"MODERATE\",\"MODERATE\",\"MODERATE\",\"MODERATE\",\"MODERATE\",\"MODERATE\",\"MODERATE\",\"MODERATE\",\"HIGH\",\"MODERATE\",\"MODERATE\",\"MODERATE\",\"MODERATE\",\"MODERATE\",\"MODERATE\",\"MODERATE\",\"MODERATE\",\"MODERATE\",\"MODERATE\",\"MODERATE\",\"MODERATE\",\"MODERATE\",\"MODERATE\",\"MODERATE\",\"MODERATE\",\"MODERATE\",\"MODERATE\",\"MODERATE\",\"MODERATE\",\"HIGH\",\"MODERATE\",\"MODERATE\",\"MODERATE\",\"MODERATE\",\"MODERATE\"],\"index\":[13,206,37332,48429,48646,116113,157736,167126,167145,167158,167195,167397,167427,167490,167531,167614,167649,167660,167712,167719,167727,167738,167816,167836,167929,168069,168096,168147,168175,168350,168612,168677,168688,168692,168711],\"maximum\":{\"__ndarray__\":\"Akt6+dMWaj8CS3r50xZqPwJLevnTFmo/Akt6+dMWaj8CS3r50xZqPwJLevnTFmo/HMdxHMdx7D9BuBv7HpGDPwJLevnTFmo/HMdxHMdx7D8CS3r50xZqPwJLevnTFmo/ZCELWchClj9kIQtZyEKWPwJLevnTFmo/Akt6+dMWaj9kIQtZyEKWPwJLevnTFmo/Akt6+dMWaj8CS3r50xZqPwJLevnTFmo/Akt6+dMWaj8CS3r50xZqPwJLevnTFmo/Akt6+dMWaj8CS3r50xZqP2QhC1nIQpY/Akt6+dMWaj8CS3r50xZ6PwJLevnTFmo/VVVVVVVV1T8CS3r50xZqPwJLevnTFmo/kROEu7HvwT8CS3r50xZqPw==\",\"dtype\":\"float64\",\"order\":\"little\",\"shape\":[35]},\"pos_Mbp\":{\"__ndarray__\":\"gv5CjxhdOUCSzVXzHF05QLTKTGn9YTlAcZNRZRhjOUBEMA4uHWM5QH7hlSTPaTlAD0QWaeJtOUAyAFRx4245QDi9i/fjbjlAXJNuS+RuOUCFJokl5W45QHfc8LvpbjlAvoi2Y+puOUDPv1326245QJlKP+HsbjlAD0dX6e5uOUCX4qqy7245QHnJ/+TvbjlAZyrEI/FuOUCoGVJF8W45QIoAp3fxbjlAbef7qfFuOUBgBfhu8245QMXKaOTzbjlA275H/fVuOUDC+j+H+W45QEqWk1D6bjlApWYPtAJvOUAuAmN9A285QJ612y40bzlA3NRA8zlvOUCsHFpkO285QC/7dac7bzlA0PI8uDtvOUA1uK0tPG85QA==\",\"dtype\":\"float64\",\"order\":\"little\",\"shape\":[35]},\"position\":{\"__ndarray__\":\"yASDAQsFgwF1T4MBU2CDAZxggwHFxoMB9ASEAUYUhAFOFIQBUxSEAWAUhAGmFIQBsBSEAcgUhAHWFIQB9RSEAQEVhAEEFYQBFxWEARkVhAEcFYQBHxWEAToVhAFBFYQBYRWEAZcVhAGjFYQBIxaEAS8WhAEWGYQBbhmEAYQZhAGIGYQBiRmEAZAZhAE=\",\"dtype\":\"int32\",\"order\":\"little\",\"shape\":[35]},\"ref_aa\":[\"S\",\"L\",\"NaN\",\"G\",\"NaN\",\"P\",\"A\",\"NaN\",\"Y\",\"T\",\"M\",\"Q\",\"D\",\"P\",\"D\",\"S\",\"Q\",\"H\",\"M\",\"G\",\"S\",\"R\",\"P\",\"M\",\"L\",\"G\",\"N\",\"G\",\"NaN\",\"NaN\",\"N\",\"L\",\"H\",\"H\",\"D\"],\"ref_allele\":[\"C\",\"G\",\"C\",\"G\",\"A\",\"C\",\"C\",\"C\",\"C\",\"C\",\"G\",\"C\",\"A\",\"C\",\"G\",\"G\",\"A\",\"A\",\"G\",\"G\",\"G\",\"G\",\"C\",\"G\",\"T\",\"G\",\"A\",\"G\",\"C\",\"A\",\"T\",\"C\",\"A\",\"C\",\"G\"],\"ref_codon\":[\"tCg\",\"ttG\",\"NaN\",\"gGa\",\"NaN\",\"Cca\",\"gCa\",\"NaN\",\"taC\",\"aCg\",\"atG\",\"Cag\",\"gAc\",\"cCc\",\"Gac\",\"aGc\",\"cAg\",\"cAc\",\"atG\",\"gGc\",\"aGc\",\"cGg\",\"cCg\",\"atG\",\"cTg\",\"gGc\",\"aAc\",\"Ggc\",\"NaN\",\"NaN\",\"aaT\",\"Ctg\",\"cAc\",\"caC\",\"Gac\"]},\"selected\":{\"id\":\"9119\"},\"selection_policy\":{\"id\":\"9120\"}},\"id\":\"8745\",\"type\":\"ColumnDataSource\"},{\"attributes\":{\"fill_alpha\":{\"value\":0.1},\"fill_color\":{\"value\":\"orange\"},\"line_alpha\":{\"value\":0.1},\"line_color\":{\"value\":\"orange\"},\"size\":{\"value\":10},\"x\":{\"field\":\"pos_Mbp\"},\"y\":{\"field\":\"Mayotte\"}},\"id\":\"8748\",\"type\":\"Circle\"},{\"attributes\":{},\"id\":\"8705\",\"type\":\"LinearScale\"},{\"attributes\":{\"bottom_units\":\"screen\",\"fill_alpha\":0.5,\"fill_color\":\"lightgrey\",\"left_units\":\"screen\",\"level\":\"overlay\",\"line_alpha\":1.0,\"line_color\":\"black\",\"line_dash\":[4,4],\"line_width\":2,\"right_units\":\"screen\",\"syncable\":false,\"top_units\":\"screen\"},\"id\":\"8723\",\"type\":\"BoxAnnotation\"}],\"root_ids\":[\"8700\"]},\"title\":\"Bokeh Application\",\"version\":\"2.3.1\"}};\n",
       "  var render_items = [{\"docid\":\"33ec718b-d1de-4dcc-8091-805c415afa58\",\"root_ids\":[\"8700\"],\"roots\":{\"8700\":\"d28c75dd-6bee-4719-b913-c93541cf7596\"}}];\n",
       "  root.Bokeh.embed.embed_items_notebook(docs_json, render_items);\n",
       "\n",
       "  }\n",
       "  if (root.Bokeh !== undefined) {\n",
       "    embed_document(root);\n",
       "  } else {\n",
       "    var attempts = 0;\n",
       "    var timer = setInterval(function(root) {\n",
       "      if (root.Bokeh !== undefined) {\n",
       "        clearInterval(timer);\n",
       "        embed_document(root);\n",
       "      } else {\n",
       "        attempts++;\n",
       "        if (attempts > 100) {\n",
       "          clearInterval(timer);\n",
       "          console.log(\"Bokeh: ERROR: Unable to run BokehJS code because BokehJS library is missing\");\n",
       "        }\n",
       "      }\n",
       "    }, 10, root)\n",
       "  }\n",
       "})(window);"
      ],
      "application/vnd.bokehjs_exec.v0+json": ""
     },
     "metadata": {
      "application/vnd.bokehjs_exec.v0+json": {
       "id": "8700"
      }
     },
     "output_type": "display_data"
    }
   ],
   "source": [
    "# TODO if we want to have the pop name in the tool tip, we should build the \"source\" per pop with a pop column.\n",
    "# TODO add legend\n",
    "# TODO add gene model\n",
    "\n",
    "\n",
    "col_dict = {\n",
    "    \"Kenya\" : \"pink\",\n",
    "    \"Mayotte\" : \"orange\",\n",
    "    \"Burkina Faso\" : \"grey\"\n",
    "}\n",
    "\n",
    "# define tooltips for hover\n",
    "tooltips = [\n",
    "    \n",
    "    (\"position\", '@position'),\n",
    "    (\"aa change\", '@aa_change'),\n",
    "]\n",
    "\n",
    "fig = figure(plot_width=800, plot_height=400, tooltips=tooltips)\n",
    "\n",
    "source = freq_filtered_df\n",
    "for pop in populations:\n",
    "\n",
    "    fig.circle(\"pos_Mbp\", pop, size=10, color=col_dict[pop], alpha=0.8, source=source)\n",
    "\n",
    "\n",
    "fig.xaxis.axis_label = f'position (Mbp)'\n",
    "fig.yaxis.axis_label = f'population nucleotide frequency'\n",
    "# show the results\n",
    "bkplt.show(fig)"
   ]
  },
  {
   "cell_type": "code",
   "execution_count": 121,
   "id": "amateur-rogers",
   "metadata": {},
   "outputs": [
    {
     "data": {
      "text/html": [
       "<div>\n",
       "<style scoped>\n",
       "    .dataframe tbody tr th:only-of-type {\n",
       "        vertical-align: middle;\n",
       "    }\n",
       "\n",
       "    .dataframe tbody tr th {\n",
       "        vertical-align: top;\n",
       "    }\n",
       "\n",
       "    .dataframe thead th {\n",
       "        text-align: right;\n",
       "    }\n",
       "</style>\n",
       "<table border=\"1\" class=\"dataframe\">\n",
       "  <thead>\n",
       "    <tr style=\"text-align: right;\">\n",
       "      <th></th>\n",
       "      <th>seqid</th>\n",
       "      <th>source</th>\n",
       "      <th>type</th>\n",
       "      <th>start</th>\n",
       "      <th>end</th>\n",
       "      <th>score</th>\n",
       "      <th>strand</th>\n",
       "      <th>phase</th>\n",
       "      <th>Parent</th>\n",
       "      <th>Name</th>\n",
       "      <th>description</th>\n",
       "    </tr>\n",
       "    <tr>\n",
       "      <th>ID</th>\n",
       "      <th></th>\n",
       "      <th></th>\n",
       "      <th></th>\n",
       "      <th></th>\n",
       "      <th></th>\n",
       "      <th></th>\n",
       "      <th></th>\n",
       "      <th></th>\n",
       "      <th></th>\n",
       "      <th></th>\n",
       "      <th></th>\n",
       "    </tr>\n",
       "  </thead>\n",
       "  <tbody>\n",
       "    <tr>\n",
       "      <th>2L</th>\n",
       "      <td>2L</td>\n",
       "      <td>VectorBase</td>\n",
       "      <td>chromosome</td>\n",
       "      <td>1</td>\n",
       "      <td>49364325</td>\n",
       "      <td>NaN</td>\n",
       "      <td>NaN</td>\n",
       "      <td>NaN</td>\n",
       "      <td>NaN</td>\n",
       "      <td>NaN</td>\n",
       "      <td>NaN</td>\n",
       "    </tr>\n",
       "    <tr>\n",
       "      <th>AGAP004677</th>\n",
       "      <td>2L</td>\n",
       "      <td>VectorBase</td>\n",
       "      <td>gene</td>\n",
       "      <td>157348</td>\n",
       "      <td>186936</td>\n",
       "      <td>NaN</td>\n",
       "      <td>-</td>\n",
       "      <td>NaN</td>\n",
       "      <td>NaN</td>\n",
       "      <td>NaN</td>\n",
       "      <td>methylenetetrahydrofolate dehydrogenase(NAD ) ...</td>\n",
       "    </tr>\n",
       "    <tr>\n",
       "      <th>AGAP004677-RA</th>\n",
       "      <td>2L</td>\n",
       "      <td>VectorBase</td>\n",
       "      <td>mRNA</td>\n",
       "      <td>157348</td>\n",
       "      <td>181305</td>\n",
       "      <td>NaN</td>\n",
       "      <td>-</td>\n",
       "      <td>NaN</td>\n",
       "      <td>AGAP004677</td>\n",
       "      <td>NaN</td>\n",
       "      <td>NaN</td>\n",
       "    </tr>\n",
       "    <tr>\n",
       "      <th>NaN</th>\n",
       "      <td>2L</td>\n",
       "      <td>VectorBase</td>\n",
       "      <td>three_prime_UTR</td>\n",
       "      <td>157348</td>\n",
       "      <td>157495</td>\n",
       "      <td>NaN</td>\n",
       "      <td>-</td>\n",
       "      <td>NaN</td>\n",
       "      <td>AGAP004677-RA</td>\n",
       "      <td>NaN</td>\n",
       "      <td>NaN</td>\n",
       "    </tr>\n",
       "    <tr>\n",
       "      <th>NaN</th>\n",
       "      <td>2L</td>\n",
       "      <td>VectorBase</td>\n",
       "      <td>exon</td>\n",
       "      <td>157348</td>\n",
       "      <td>157623</td>\n",
       "      <td>NaN</td>\n",
       "      <td>-</td>\n",
       "      <td>NaN</td>\n",
       "      <td>AGAP004677-RA</td>\n",
       "      <td>AGAP004677-RB-E4</td>\n",
       "      <td>NaN</td>\n",
       "    </tr>\n",
       "    <tr>\n",
       "      <th>...</th>\n",
       "      <td>...</td>\n",
       "      <td>...</td>\n",
       "      <td>...</td>\n",
       "      <td>...</td>\n",
       "      <td>...</td>\n",
       "      <td>...</td>\n",
       "      <td>...</td>\n",
       "      <td>...</td>\n",
       "      <td>...</td>\n",
       "      <td>...</td>\n",
       "      <td>...</td>\n",
       "    </tr>\n",
       "    <tr>\n",
       "      <th>NaN</th>\n",
       "      <td>Y_unplaced</td>\n",
       "      <td>VectorBase</td>\n",
       "      <td>five_prime_UTR</td>\n",
       "      <td>47932</td>\n",
       "      <td>48111</td>\n",
       "      <td>NaN</td>\n",
       "      <td>+</td>\n",
       "      <td>NaN</td>\n",
       "      <td>AGAP029375-RA</td>\n",
       "      <td>NaN</td>\n",
       "      <td>NaN</td>\n",
       "    </tr>\n",
       "    <tr>\n",
       "      <th>NaN</th>\n",
       "      <td>Y_unplaced</td>\n",
       "      <td>VectorBase</td>\n",
       "      <td>exon</td>\n",
       "      <td>47932</td>\n",
       "      <td>48138</td>\n",
       "      <td>NaN</td>\n",
       "      <td>+</td>\n",
       "      <td>NaN</td>\n",
       "      <td>AGAP029375-RA</td>\n",
       "      <td>AGAP029375-RA-E2</td>\n",
       "      <td>NaN</td>\n",
       "    </tr>\n",
       "    <tr>\n",
       "      <th>AGAP029375-PA</th>\n",
       "      <td>Y_unplaced</td>\n",
       "      <td>VectorBase</td>\n",
       "      <td>CDS</td>\n",
       "      <td>48112</td>\n",
       "      <td>48138</td>\n",
       "      <td>NaN</td>\n",
       "      <td>+</td>\n",
       "      <td>0.0</td>\n",
       "      <td>AGAP029375-RA</td>\n",
       "      <td>NaN</td>\n",
       "      <td>NaN</td>\n",
       "    </tr>\n",
       "    <tr>\n",
       "      <th>NaN</th>\n",
       "      <td>Y_unplaced</td>\n",
       "      <td>VectorBase</td>\n",
       "      <td>exon</td>\n",
       "      <td>48301</td>\n",
       "      <td>48385</td>\n",
       "      <td>NaN</td>\n",
       "      <td>+</td>\n",
       "      <td>NaN</td>\n",
       "      <td>AGAP029375-RA</td>\n",
       "      <td>AGAP029375-RA-E3</td>\n",
       "      <td>NaN</td>\n",
       "    </tr>\n",
       "    <tr>\n",
       "      <th>AGAP029375-PA</th>\n",
       "      <td>Y_unplaced</td>\n",
       "      <td>VectorBase</td>\n",
       "      <td>CDS</td>\n",
       "      <td>48301</td>\n",
       "      <td>48385</td>\n",
       "      <td>NaN</td>\n",
       "      <td>+</td>\n",
       "      <td>0.0</td>\n",
       "      <td>AGAP029375-RA</td>\n",
       "      <td>NaN</td>\n",
       "      <td>NaN</td>\n",
       "    </tr>\n",
       "  </tbody>\n",
       "</table>\n",
       "<p>196145 rows × 11 columns</p>\n",
       "</div>"
      ],
      "text/plain": [
       "                    seqid      source             type   start       end  \\\n",
       "ID                                                                         \n",
       "2L                     2L  VectorBase       chromosome       1  49364325   \n",
       "AGAP004677             2L  VectorBase             gene  157348    186936   \n",
       "AGAP004677-RA          2L  VectorBase             mRNA  157348    181305   \n",
       "NaN                    2L  VectorBase  three_prime_UTR  157348    157495   \n",
       "NaN                    2L  VectorBase             exon  157348    157623   \n",
       "...                   ...         ...              ...     ...       ...   \n",
       "NaN            Y_unplaced  VectorBase   five_prime_UTR   47932     48111   \n",
       "NaN            Y_unplaced  VectorBase             exon   47932     48138   \n",
       "AGAP029375-PA  Y_unplaced  VectorBase              CDS   48112     48138   \n",
       "NaN            Y_unplaced  VectorBase             exon   48301     48385   \n",
       "AGAP029375-PA  Y_unplaced  VectorBase              CDS   48301     48385   \n",
       "\n",
       "               score strand  phase         Parent              Name  \\\n",
       "ID                                                                    \n",
       "2L               NaN    NaN    NaN            NaN               NaN   \n",
       "AGAP004677       NaN      -    NaN            NaN               NaN   \n",
       "AGAP004677-RA    NaN      -    NaN     AGAP004677               NaN   \n",
       "NaN              NaN      -    NaN  AGAP004677-RA               NaN   \n",
       "NaN              NaN      -    NaN  AGAP004677-RA  AGAP004677-RB-E4   \n",
       "...              ...    ...    ...            ...               ...   \n",
       "NaN              NaN      +    NaN  AGAP029375-RA               NaN   \n",
       "NaN              NaN      +    NaN  AGAP029375-RA  AGAP029375-RA-E2   \n",
       "AGAP029375-PA    NaN      +    0.0  AGAP029375-RA               NaN   \n",
       "NaN              NaN      +    NaN  AGAP029375-RA  AGAP029375-RA-E3   \n",
       "AGAP029375-PA    NaN      +    0.0  AGAP029375-RA               NaN   \n",
       "\n",
       "                                                     description  \n",
       "ID                                                                \n",
       "2L                                                           NaN  \n",
       "AGAP004677     methylenetetrahydrofolate dehydrogenase(NAD ) ...  \n",
       "AGAP004677-RA                                                NaN  \n",
       "NaN                                                          NaN  \n",
       "NaN                                                          NaN  \n",
       "...                                                          ...  \n",
       "NaN                                                          NaN  \n",
       "NaN                                                          NaN  \n",
       "AGAP029375-PA                                                NaN  \n",
       "NaN                                                          NaN  \n",
       "AGAP029375-PA                                                NaN  \n",
       "\n",
       "[196145 rows x 11 columns]"
      ]
     },
     "execution_count": 121,
     "metadata": {},
     "output_type": "execute_result"
    }
   ],
   "source": [
    "df_geneset = ag3.geneset(attributes=[\"ID\", \"Parent\", \"Name\", \"description\"]).set_index(\"ID\")\n",
    "df_geneset"
   ]
  },
  {
   "cell_type": "code",
   "execution_count": 86,
   "id": "biological-missile",
   "metadata": {},
   "outputs": [],
   "source": [
    "def plot_transcripts(gene_id, width=700, track_height=30):\n",
    "\n",
    "    # fing the gene\n",
    "    gene = df_geneset.loc[gene_id]\n",
    "\n",
    "    # find mRNA records for the given gene\n",
    "    df_transcripts = df_geneset.query(f\"Parent == '{gene_id}'\")\n",
    "\n",
    "    # calculate plot height depending on number of transcripts\n",
    "    height = 70 + len(df_transcripts) * track_height\n",
    "\n",
    "    # define tooltips for hover\n",
    "    tooltips = [\n",
    "        (\"Type\", '@type'),\n",
    "        (\"Location\", '@seqid:@start{,}..@end{,}'),\n",
    "    ]\n",
    "\n",
    "    # make a figure\n",
    "    fig = bkplt.figure(\n",
    "        title=f'Transcripts - {gene_id} ({gene.strand})',\n",
    "        plot_width=width, \n",
    "        plot_height=height,\n",
    "        tools='xpan,xzoom_in,xzoom_out,xwheel_zoom,reset,hover',\n",
    "        toolbar_location='above',\n",
    "        active_scroll='xwheel_zoom',\n",
    "        active_drag='xpan',\n",
    "        tooltips=tooltips,\n",
    "    )\n",
    "\n",
    "    # plot the transcripts\n",
    "    for i, transcript in enumerate(df_transcripts.itertuples()):\n",
    "\n",
    "        data = df_geneset.query(f\"Parent == '{transcript.Index}'\").copy()\n",
    "        data['left'] = data['start'] / 1e6  # plot in Mbp coordinates\n",
    "        data['right'] = data['end'] / 1e6  # plot in Mbp coordinates\n",
    "        data['bottom'] = i - 0.4\n",
    "        data['top'] = i + 0.4\n",
    "\n",
    "        # plot exons\n",
    "        exons = data.query(\"type == 'exon'\")\n",
    "        fig.quad(bottom='bottom', top='top', left='left', right='right',\n",
    "                 source=exons, \n",
    "                 fill_color=None, line_color='black', line_width=.5, fill_alpha=0)\n",
    "        \n",
    "        # plot introns\n",
    "        for l, r in zip(exons[:-1]['right'], exons[1:]['left']):\n",
    "            m = (l + r) / 2\n",
    "            fig.line([l, m, r], [i, i+.1, i], line_width=1, line_color=\"black\")\n",
    "\n",
    "        # plot UTRs\n",
    "        fig.quad(bottom='bottom', top='top', left='left', right='right',\n",
    "                 source=data.query(\"type == 'five_prime_UTR'\"), \n",
    "                 fill_color='green', line_width=0, fill_alpha=.5)\n",
    "        fig.quad(bottom='bottom', top='top', left='left', right='right',\n",
    "                 source=data.query(\"type == 'three_prime_UTR'\"), \n",
    "                 fill_color='red', line_width=0, fill_alpha=.5)\n",
    "\n",
    "        # plot CDSs\n",
    "        fig.quad(bottom='bottom', top='top', left='left', right='right',\n",
    "                 source=data.query(\"type == 'CDS'\"), \n",
    "                 fill_color='blue', line_width=0, fill_alpha=.5)\n",
    "\n",
    "    fig.xaxis.axis_label = f'Position (Mbp)'\n",
    "    fig.y_range = bkmod.Range1d(-.5, len(df_transcripts)-.5)\n",
    "    fig.xaxis.axis_label = f'Contig {gene.seqid} position (Mbp)'\n",
    "    yticks = list(range(len(df_transcripts)))\n",
    "    yticklabels = df_transcripts.index\n",
    "    fig.yaxis.ticker = yticks\n",
    "    fig.yaxis.major_label_overrides = {k: v for k, v in zip(yticks, yticklabels)}\n",
    "\n",
    "    # show the figure\n",
    "    bkplt.show(fig)"
   ]
  },
  {
   "cell_type": "code",
   "execution_count": 87,
   "id": "major-assets",
   "metadata": {},
   "outputs": [
    {
     "data": {
      "text/html": [
       "\n",
       "\n",
       "\n",
       "\n",
       "\n",
       "\n",
       "  <div class=\"bk-root\" id=\"38e49f94-0ec5-4d40-b823-5245b80705de\" data-root-id=\"4638\"></div>\n"
      ]
     },
     "metadata": {},
     "output_type": "display_data"
    },
    {
     "data": {
      "application/javascript": [
       "(function(root) {\n",
       "  function embed_document(root) {\n",
       "    \n",
       "  var docs_json = {\"4c0c8b8a-64cf-4c53-b3f1-fc1ab4c26771\":{\"defs\":[],\"roots\":{\"references\":[{\"attributes\":{\"below\":[{\"id\":\"4649\"}],\"center\":[{\"id\":\"4652\"},{\"id\":\"4656\"}],\"height\":130,\"left\":[{\"id\":\"4653\"}],\"renderers\":[{\"id\":\"4674\"},{\"id\":\"4679\"},{\"id\":\"4684\"},{\"id\":\"4689\"},{\"id\":\"4694\"},{\"id\":\"4699\"},{\"id\":\"4705\"},{\"id\":\"4711\"},{\"id\":\"4717\"},{\"id\":\"4723\"},{\"id\":\"4728\"},{\"id\":\"4733\"},{\"id\":\"4738\"},{\"id\":\"4743\"},{\"id\":\"4748\"},{\"id\":\"4753\"},{\"id\":\"4759\"},{\"id\":\"4765\"},{\"id\":\"4771\"}],\"title\":{\"id\":\"4639\"},\"toolbar\":{\"id\":\"4663\"},\"toolbar_location\":\"above\",\"width\":700,\"x_range\":{\"id\":\"4641\"},\"x_scale\":{\"id\":\"4645\"},\"y_range\":{\"id\":\"4773\"},\"y_scale\":{\"id\":\"4647\"}},\"id\":\"4638\",\"subtype\":\"Figure\",\"type\":\"Plot\"},{\"attributes\":{\"x\":{\"field\":\"x\"},\"y\":{\"field\":\"y\"}},\"id\":\"4726\",\"type\":\"Line\"},{\"attributes\":{\"data_source\":{\"id\":\"4686\"},\"glyph\":{\"id\":\"4687\"},\"hover_glyph\":null,\"muted_glyph\":null,\"nonselection_glyph\":{\"id\":\"4688\"},\"view\":{\"id\":\"4690\"}},\"id\":\"4689\",\"type\":\"GlyphRenderer\"},{\"attributes\":{\"dimensions\":\"width\"},\"id\":\"4660\",\"type\":\"WheelZoomTool\"},{\"attributes\":{\"data\":{\"ID\":[\"AGAP004050-PA\",\"AGAP004050-PA\",\"AGAP004050-PA\",\"AGAP004050-PA\"],\"Name\":[\"NaN\",\"NaN\",\"NaN\",\"NaN\"],\"Parent\":[\"AGAP004050-RA\",\"AGAP004050-RA\",\"AGAP004050-RA\",\"AGAP004050-RA\"],\"bottom\":{\"__ndarray__\":\"mpmZmZmZ2b+amZmZmZnZv5qZmZmZmdm/mpmZmZmZ2b8=\",\"dtype\":\"float64\",\"order\":\"little\",\"shape\":[4]},\"description\":[\"NaN\",\"NaN\",\"NaN\",\"NaN\"],\"end\":[48712794,48715295,48747737,48784710],\"left\":{\"__ndarray__\":\"424QrRVbSED1L0lliltIQFw5e2e0X0hAw4GQLGBkSEA=\",\"dtype\":\"float64\",\"order\":\"little\",\"shape\":[4]},\"phase\":{\"__ndarray__\":\"AAAAAAAAAEAAAAAAAAAAQAAAAAAAAABAAAAAAAAAAAA=\",\"dtype\":\"float64\",\"order\":\"little\",\"shape\":[4]},\"right\":{\"__ndarray__\":\"fGRz1TxbSEAE/1vJjltIQCyBlNi1X0hADWyVYHFkSEA=\",\"dtype\":\"float64\",\"order\":\"little\",\"shape\":[4]},\"score\":{\"__ndarray__\":\"AAAAAAAA+H8AAAAAAAD4fwAAAAAAAPh/AAAAAAAA+H8=\",\"dtype\":\"float64\",\"order\":\"little\",\"shape\":[4]},\"seqid\":[\"2R\",\"2R\",\"2R\",\"2R\"],\"source\":[\"VectorBase\",\"VectorBase\",\"VectorBase\",\"VectorBase\"],\"start\":[48711599,48715161,48747693,48784185],\"strand\":[\"-\",\"-\",\"-\",\"-\"],\"top\":{\"__ndarray__\":\"mpmZmZmZ2T+amZmZmZnZP5qZmZmZmdk/mpmZmZmZ2T8=\",\"dtype\":\"float64\",\"order\":\"little\",\"shape\":[4]},\"type\":[\"CDS\",\"CDS\",\"CDS\",\"CDS\"]},\"selected\":{\"id\":\"5012\"},\"selection_policy\":{\"id\":\"5013\"}},\"id\":\"4713\",\"type\":\"ColumnDataSource\"},{\"attributes\":{\"source\":{\"id\":\"4767\"}},\"id\":\"4772\",\"type\":\"CDSView\"},{\"attributes\":{\"x\":{\"field\":\"x\"},\"y\":{\"field\":\"y\"}},\"id\":\"4677\",\"type\":\"Line\"},{\"attributes\":{\"data\":{\"ID\":{\"__ndarray__\":\"AAAAAAAA+H8AAAAAAAD4fwAAAAAAAPh/\",\"dtype\":\"float64\",\"order\":\"little\",\"shape\":[3]},\"Name\":[\"NaN\",\"NaN\",\"NaN\"],\"Parent\":[\"AGAP004050-RB\",\"AGAP004050-RB\",\"AGAP004050-RB\"],\"bottom\":{\"__ndarray__\":\"MzMzMzMz4z8zMzMzMzPjPzMzMzMzM+M/\",\"dtype\":\"float64\",\"order\":\"little\",\"shape\":[3]},\"description\":[\"NaN\",\"NaN\",\"NaN\"],\"end\":[48706331,48712794,48714556],\"left\":{\"__ndarray__\":\"sK91qRFaSEAaGHlZE1tIQCY6yyxCW0hA\",\"dtype\":\"float64\",\"order\":\"little\",\"shape\":[3]},\"phase\":{\"__ndarray__\":\"AAAAAAAA+H8AAAAAAAD4fwAAAAAAAPh/\",\"dtype\":\"float64\",\"order\":\"little\",\"shape\":[3]},\"right\":{\"__ndarray__\":\"U5PgDWlaSEB8ZHPVPFtIQI6ULZJ2W0hA\",\"dtype\":\"float64\",\"order\":\"little\",\"shape\":[3]},\"score\":{\"__ndarray__\":\"AAAAAAAA+H8AAAAAAAD4fwAAAAAAAPh/\",\"dtype\":\"float64\",\"order\":\"little\",\"shape\":[3]},\"seqid\":[\"2R\",\"2R\",\"2R\"],\"source\":[\"VectorBase\",\"VectorBase\",\"VectorBase\"],\"start\":[48703664,48711528,48712957],\"strand\":[\"-\",\"-\",\"-\"],\"top\":{\"__ndarray__\":\"ZmZmZmZm9j9mZmZmZmb2P2ZmZmZmZvY/\",\"dtype\":\"float64\",\"order\":\"little\",\"shape\":[3]},\"type\":[\"three_prime_UTR\",\"three_prime_UTR\",\"three_prime_UTR\"]},\"selected\":{\"id\":\"5030\"},\"selection_policy\":{\"id\":\"5031\"}},\"id\":\"4761\",\"type\":\"ColumnDataSource\"},{\"attributes\":{\"line_alpha\":0.1,\"x\":{\"field\":\"x\"},\"y\":{\"field\":\"y\"}},\"id\":\"4678\",\"type\":\"Line\"},{\"attributes\":{\"data\":{\"x\":[48.785629,48.7863375,48.787046],\"y\":[0,0.1,0]},\"selected\":{\"id\":\"5006\"},\"selection_policy\":{\"id\":\"5007\"}},\"id\":\"4696\",\"type\":\"ColumnDataSource\"},{\"attributes\":{\"line_alpha\":0.1,\"x\":{\"field\":\"x\"},\"y\":{\"field\":\"y\"}},\"id\":\"4683\",\"type\":\"Line\"},{\"attributes\":{\"data\":{\"ID\":{\"__ndarray__\":\"AAAAAAAA+H8AAAAAAAD4fw==\",\"dtype\":\"float64\",\"order\":\"little\",\"shape\":[2]},\"Name\":[\"NaN\",\"NaN\"],\"Parent\":[\"AGAP004050-RA\",\"AGAP004050-RA\"],\"bottom\":{\"__ndarray__\":\"mpmZmZmZ2b+amZmZmZnZvw==\",\"dtype\":\"float64\",\"order\":\"little\",\"shape\":[2]},\"description\":[\"NaN\",\"NaN\"],\"end\":[48706331,48711598],\"left\":{\"__ndarray__\":\"sK91qRFaSEAaGHlZE1tIQA==\",\"dtype\":\"float64\",\"order\":\"little\",\"shape\":[2]},\"phase\":{\"__ndarray__\":\"AAAAAAAA+H8AAAAAAAD4fw==\",\"dtype\":\"float64\",\"order\":\"little\",\"shape\":[2]},\"right\":{\"__ndarray__\":\"U5PgDWlaSEAT86ykFVtIQA==\",\"dtype\":\"float64\",\"order\":\"little\",\"shape\":[2]},\"score\":{\"__ndarray__\":\"AAAAAAAA+H8AAAAAAAD4fw==\",\"dtype\":\"float64\",\"order\":\"little\",\"shape\":[2]},\"seqid\":[\"2R\",\"2R\"],\"source\":[\"VectorBase\",\"VectorBase\"],\"start\":[48703664,48711528],\"strand\":[\"-\",\"-\"],\"top\":{\"__ndarray__\":\"mpmZmZmZ2T+amZmZmZnZPw==\",\"dtype\":\"float64\",\"order\":\"little\",\"shape\":[2]},\"type\":[\"three_prime_UTR\",\"three_prime_UTR\"]},\"selected\":{\"id\":\"5010\"},\"selection_policy\":{\"id\":\"5011\"}},\"id\":\"4707\",\"type\":\"ColumnDataSource\"},{\"attributes\":{\"data_source\":{\"id\":\"4676\"},\"glyph\":{\"id\":\"4677\"},\"hover_glyph\":null,\"muted_glyph\":null,\"nonselection_glyph\":{\"id\":\"4678\"},\"view\":{\"id\":\"4680\"}},\"id\":\"4679\",\"type\":\"GlyphRenderer\"},{\"attributes\":{\"source\":{\"id\":\"4681\"}},\"id\":\"4685\",\"type\":\"CDSView\"},{\"attributes\":{\"data_source\":{\"id\":\"4691\"},\"glyph\":{\"id\":\"4692\"},\"hover_glyph\":null,\"muted_glyph\":null,\"nonselection_glyph\":{\"id\":\"4693\"},\"view\":{\"id\":\"4695\"}},\"id\":\"4694\",\"type\":\"GlyphRenderer\"},{\"attributes\":{\"bottom\":{\"field\":\"bottom\"},\"fill_alpha\":{\"value\":0.1},\"fill_color\":{\"value\":\"green\"},\"left\":{\"field\":\"left\"},\"line_alpha\":{\"value\":0.1},\"line_color\":{\"value\":\"#1f77b4\"},\"line_width\":{\"value\":0},\"right\":{\"field\":\"right\"},\"top\":{\"field\":\"top\"}},\"id\":\"4704\",\"type\":\"Quad\"},{\"attributes\":{\"source\":{\"id\":\"4719\"}},\"id\":\"4724\",\"type\":\"CDSView\"},{\"attributes\":{\"data_source\":{\"id\":\"4670\"},\"glyph\":{\"id\":\"4672\"},\"hover_glyph\":null,\"muted_glyph\":null,\"nonselection_glyph\":{\"id\":\"4673\"},\"view\":{\"id\":\"4675\"}},\"id\":\"4674\",\"type\":\"GlyphRenderer\"},{\"attributes\":{},\"id\":\"4661\",\"type\":\"ResetTool\"},{\"attributes\":{\"bottom\":{\"field\":\"bottom\"},\"fill_alpha\":{\"value\":0},\"fill_color\":{\"value\":null},\"left\":{\"field\":\"left\"},\"line_width\":{\"value\":0.5},\"right\":{\"field\":\"right\"},\"top\":{\"field\":\"top\"}},\"id\":\"4672\",\"type\":\"Quad\"},{\"attributes\":{\"bottom\":{\"field\":\"bottom\"},\"fill_alpha\":{\"value\":0},\"fill_color\":{\"value\":null},\"left\":{\"field\":\"left\"},\"line_width\":{\"value\":0.5},\"right\":{\"field\":\"right\"},\"top\":{\"field\":\"top\"}},\"id\":\"4721\",\"type\":\"Quad\"},{\"attributes\":{\"source\":{\"id\":\"4670\"}},\"id\":\"4675\",\"type\":\"CDSView\"},{\"attributes\":{\"line_alpha\":0.1,\"x\":{\"field\":\"x\"},\"y\":{\"field\":\"y\"}},\"id\":\"4737\",\"type\":\"Line\"},{\"attributes\":{\"data_source\":{\"id\":\"4719\"},\"glyph\":{\"id\":\"4721\"},\"hover_glyph\":null,\"muted_glyph\":null,\"nonselection_glyph\":{\"id\":\"4722\"},\"view\":{\"id\":\"4724\"}},\"id\":\"4723\",\"type\":\"GlyphRenderer\"},{\"attributes\":{\"dimensions\":\"width\"},\"id\":\"4658\",\"type\":\"ZoomInTool\"},{\"attributes\":{\"source\":{\"id\":\"4676\"}},\"id\":\"4680\",\"type\":\"CDSView\"},{\"attributes\":{\"dimensions\":\"width\"},\"id\":\"4657\",\"type\":\"PanTool\"},{\"attributes\":{\"data\":{\"ID\":{\"__ndarray__\":\"AAAAAAAA+H8AAAAAAAD4fw==\",\"dtype\":\"float64\",\"order\":\"little\",\"shape\":[2]},\"Name\":[\"NaN\",\"NaN\"],\"Parent\":[\"AGAP004050-RA\",\"AGAP004050-RA\"],\"bottom\":{\"__ndarray__\":\"mpmZmZmZ2b+amZmZmZnZvw==\",\"dtype\":\"float64\",\"order\":\"little\",\"shape\":[2]},\"description\":[\"NaN\",\"NaN\"],\"end\":[48785629,48788460],\"left\":{\"__ndarray__\":\"3uf4aHFkSEBLOV/svWRIQA==\",\"dtype\":\"float64\",\"order\":\"little\",\"shape\":[2]},\"phase\":{\"__ndarray__\":\"AAAAAAAA+H8AAAAAAAD4fw==\",\"dtype\":\"float64\",\"order\":\"little\",\"shape\":[2]},\"right\":{\"__ndarray__\":\"BOW2fY9kSEAiGt1B7GRIQA==\",\"dtype\":\"float64\",\"order\":\"little\",\"shape\":[2]},\"score\":{\"__ndarray__\":\"AAAAAAAA+H8AAAAAAAD4fw==\",\"dtype\":\"float64\",\"order\":\"little\",\"shape\":[2]},\"seqid\":[\"2R\",\"2R\"],\"source\":[\"VectorBase\",\"VectorBase\"],\"start\":[48784711,48787046],\"strand\":[\"-\",\"-\"],\"top\":{\"__ndarray__\":\"mpmZmZmZ2T+amZmZmZnZPw==\",\"dtype\":\"float64\",\"order\":\"little\",\"shape\":[2]},\"type\":[\"five_prime_UTR\",\"five_prime_UTR\"]},\"selected\":{\"id\":\"5008\"},\"selection_policy\":{\"id\":\"5009\"}},\"id\":\"4701\",\"type\":\"ColumnDataSource\"},{\"attributes\":{\"bottom\":{\"field\":\"bottom\"},\"fill_alpha\":{\"value\":0.5},\"fill_color\":{\"value\":\"red\"},\"left\":{\"field\":\"left\"},\"line_color\":{\"value\":\"#1f77b4\"},\"line_width\":{\"value\":0},\"right\":{\"field\":\"right\"},\"top\":{\"field\":\"top\"}},\"id\":\"4709\",\"type\":\"Quad\"},{\"attributes\":{\"data_source\":{\"id\":\"4767\"},\"glyph\":{\"id\":\"4769\"},\"hover_glyph\":null,\"muted_glyph\":null,\"nonselection_glyph\":{\"id\":\"4770\"},\"view\":{\"id\":\"4772\"}},\"id\":\"4771\",\"type\":\"GlyphRenderer\"},{\"attributes\":{\"data\":{\"x\":[48.706331,48.708929499999996,48.711528],\"y\":[0,0.1,0]},\"selected\":{\"id\":\"4998\"},\"selection_policy\":{\"id\":\"4999\"}},\"id\":\"4676\",\"type\":\"ColumnDataSource\"},{\"attributes\":{\"x\":{\"field\":\"x\"},\"y\":{\"field\":\"y\"}},\"id\":\"4682\",\"type\":\"Line\"},{\"attributes\":{\"source\":{\"id\":\"4691\"}},\"id\":\"4695\",\"type\":\"CDSView\"},{\"attributes\":{\"bottom\":{\"field\":\"bottom\"},\"fill_alpha\":{\"value\":0.1},\"fill_color\":{\"value\":null},\"left\":{\"field\":\"left\"},\"line_alpha\":{\"value\":0.1},\"line_width\":{\"value\":0.5},\"right\":{\"field\":\"right\"},\"top\":{\"field\":\"top\"}},\"id\":\"4722\",\"type\":\"Quad\"},{\"attributes\":{\"data_source\":{\"id\":\"4725\"},\"glyph\":{\"id\":\"4726\"},\"hover_glyph\":null,\"muted_glyph\":null,\"nonselection_glyph\":{\"id\":\"4727\"},\"view\":{\"id\":\"4729\"}},\"id\":\"4728\",\"type\":\"GlyphRenderer\"},{\"attributes\":{\"axis\":{\"id\":\"4653\"},\"dimension\":1,\"ticker\":null},\"id\":\"4656\",\"type\":\"Grid\"},{\"attributes\":{\"bottom\":{\"field\":\"bottom\"},\"fill_alpha\":{\"value\":0.5},\"fill_color\":{\"value\":\"blue\"},\"left\":{\"field\":\"left\"},\"line_color\":{\"value\":\"#1f77b4\"},\"line_width\":{\"value\":0},\"right\":{\"field\":\"right\"},\"top\":{\"field\":\"top\"}},\"id\":\"4715\",\"type\":\"Quad\"},{\"attributes\":{},\"id\":\"4999\",\"type\":\"UnionRenderers\"},{\"attributes\":{\"formatter\":{\"id\":\"4991\"},\"major_label_overrides\":{\"0\":\"AGAP004050-RA\",\"1\":\"AGAP004050-RB\"},\"major_label_policy\":{\"id\":\"4992\"},\"ticker\":{\"id\":\"4774\"}},\"id\":\"4653\",\"type\":\"LinearAxis\"},{\"attributes\":{\"bottom\":{\"field\":\"bottom\"},\"fill_alpha\":{\"value\":0.5},\"fill_color\":{\"value\":\"green\"},\"left\":{\"field\":\"left\"},\"line_color\":{\"value\":\"#1f77b4\"},\"line_width\":{\"value\":0},\"right\":{\"field\":\"right\"},\"top\":{\"field\":\"top\"}},\"id\":\"4703\",\"type\":\"Quad\"},{\"attributes\":{\"data\":{\"x\":[48.706331,48.708929499999996,48.711528],\"y\":[1,1.1,1]},\"selected\":{\"id\":\"5016\"},\"selection_policy\":{\"id\":\"5017\"}},\"id\":\"4725\",\"type\":\"ColumnDataSource\"},{\"attributes\":{\"data\":{\"x\":[48.747737,48.765961000000004,48.784185],\"y\":[0,0.1,0]},\"selected\":{\"id\":\"5004\"},\"selection_policy\":{\"id\":\"5005\"}},\"id\":\"4691\",\"type\":\"ColumnDataSource\"},{\"attributes\":{\"source\":{\"id\":\"4713\"}},\"id\":\"4718\",\"type\":\"CDSView\"},{\"attributes\":{},\"id\":\"4998\",\"type\":\"Selection\"},{\"attributes\":{},\"id\":\"4992\",\"type\":\"AllLabels\"},{\"attributes\":{\"x\":{\"field\":\"x\"},\"y\":{\"field\":\"y\"}},\"id\":\"4687\",\"type\":\"Line\"},{\"attributes\":{\"data_source\":{\"id\":\"4681\"},\"glyph\":{\"id\":\"4682\"},\"hover_glyph\":null,\"muted_glyph\":null,\"nonselection_glyph\":{\"id\":\"4683\"},\"view\":{\"id\":\"4685\"}},\"id\":\"4684\",\"type\":\"GlyphRenderer\"},{\"attributes\":{\"bottom\":{\"field\":\"bottom\"},\"fill_alpha\":{\"value\":0.1},\"fill_color\":{\"value\":\"blue\"},\"left\":{\"field\":\"left\"},\"line_alpha\":{\"value\":0.1},\"line_color\":{\"value\":\"#1f77b4\"},\"line_width\":{\"value\":0},\"right\":{\"field\":\"right\"},\"top\":{\"field\":\"top\"}},\"id\":\"4770\",\"type\":\"Quad\"},{\"attributes\":{\"bottom\":{\"field\":\"bottom\"},\"fill_alpha\":{\"value\":0.1},\"fill_color\":{\"value\":null},\"left\":{\"field\":\"left\"},\"line_alpha\":{\"value\":0.1},\"line_width\":{\"value\":0.5},\"right\":{\"field\":\"right\"},\"top\":{\"field\":\"top\"}},\"id\":\"4673\",\"type\":\"Quad\"},{\"attributes\":{\"source\":{\"id\":\"4686\"}},\"id\":\"4690\",\"type\":\"CDSView\"},{\"attributes\":{\"bottom\":{\"field\":\"bottom\"},\"fill_alpha\":{\"value\":0.1},\"fill_color\":{\"value\":\"blue\"},\"left\":{\"field\":\"left\"},\"line_alpha\":{\"value\":0.1},\"line_color\":{\"value\":\"#1f77b4\"},\"line_width\":{\"value\":0},\"right\":{\"field\":\"right\"},\"top\":{\"field\":\"top\"}},\"id\":\"4716\",\"type\":\"Quad\"},{\"attributes\":{\"data_source\":{\"id\":\"4696\"},\"glyph\":{\"id\":\"4697\"},\"hover_glyph\":null,\"muted_glyph\":null,\"nonselection_glyph\":{\"id\":\"4698\"},\"view\":{\"id\":\"4700\"}},\"id\":\"4699\",\"type\":\"GlyphRenderer\"},{\"attributes\":{\"dimensions\":\"width\"},\"id\":\"4659\",\"type\":\"ZoomOutTool\"},{\"attributes\":{\"source\":{\"id\":\"4696\"}},\"id\":\"4700\",\"type\":\"CDSView\"},{\"attributes\":{\"line_alpha\":0.1,\"x\":{\"field\":\"x\"},\"y\":{\"field\":\"y\"}},\"id\":\"4727\",\"type\":\"Line\"},{\"attributes\":{\"bottom\":{\"field\":\"bottom\"},\"fill_alpha\":{\"value\":0.5},\"fill_color\":{\"value\":\"green\"},\"left\":{\"field\":\"left\"},\"line_color\":{\"value\":\"#1f77b4\"},\"line_width\":{\"value\":0},\"right\":{\"field\":\"right\"},\"top\":{\"field\":\"top\"}},\"id\":\"4757\",\"type\":\"Quad\"},{\"attributes\":{},\"id\":\"4641\",\"type\":\"DataRange1d\"},{\"attributes\":{\"source\":{\"id\":\"4725\"}},\"id\":\"4729\",\"type\":\"CDSView\"},{\"attributes\":{},\"id\":\"4997\",\"type\":\"UnionRenderers\"},{\"attributes\":{\"data_source\":{\"id\":\"4713\"},\"glyph\":{\"id\":\"4715\"},\"hover_glyph\":null,\"muted_glyph\":null,\"nonselection_glyph\":{\"id\":\"4716\"},\"view\":{\"id\":\"4718\"}},\"id\":\"4717\",\"type\":\"GlyphRenderer\"},{\"attributes\":{\"text\":\"Transcripts - AGAP004050 (-)\"},\"id\":\"4639\",\"type\":\"Title\"},{\"attributes\":{\"line_alpha\":0.1,\"x\":{\"field\":\"x\"},\"y\":{\"field\":\"y\"}},\"id\":\"4688\",\"type\":\"Line\"},{\"attributes\":{\"source\":{\"id\":\"4707\"}},\"id\":\"4712\",\"type\":\"CDSView\"},{\"attributes\":{},\"id\":\"4993\",\"type\":\"BasicTickFormatter\"},{\"attributes\":{\"ticks\":[0,1]},\"id\":\"4774\",\"type\":\"FixedTicker\"},{\"attributes\":{\"bottom\":{\"field\":\"bottom\"},\"fill_alpha\":{\"value\":0.1},\"fill_color\":{\"value\":\"red\"},\"left\":{\"field\":\"left\"},\"line_alpha\":{\"value\":0.1},\"line_color\":{\"value\":\"#1f77b4\"},\"line_width\":{\"value\":0},\"right\":{\"field\":\"right\"},\"top\":{\"field\":\"top\"}},\"id\":\"4710\",\"type\":\"Quad\"},{\"attributes\":{\"data_source\":{\"id\":\"4730\"},\"glyph\":{\"id\":\"4731\"},\"hover_glyph\":null,\"muted_glyph\":null,\"nonselection_glyph\":{\"id\":\"4732\"},\"view\":{\"id\":\"4734\"}},\"id\":\"4733\",\"type\":\"GlyphRenderer\"},{\"attributes\":{\"x\":{\"field\":\"x\"},\"y\":{\"field\":\"y\"}},\"id\":\"4736\",\"type\":\"Line\"},{\"attributes\":{},\"id\":\"4650\",\"type\":\"BasicTicker\"},{\"attributes\":{\"data\":{\"x\":[48.715295,48.731494,48.747693],\"y\":[0,0.1,0]},\"selected\":{\"id\":\"5002\"},\"selection_policy\":{\"id\":\"5003\"}},\"id\":\"4686\",\"type\":\"ColumnDataSource\"},{\"attributes\":{\"line_alpha\":0.1,\"x\":{\"field\":\"x\"},\"y\":{\"field\":\"y\"}},\"id\":\"4732\",\"type\":\"Line\"},{\"attributes\":{\"data\":{\"ID\":{\"__ndarray__\":\"AAAAAAAA+H8AAAAAAAD4fwAAAAAAAPh/AAAAAAAA+H8AAAAAAAD4fwAAAAAAAPh/\",\"dtype\":\"float64\",\"order\":\"little\",\"shape\":[6]},\"Name\":[\"AGAP004050-RA-E6\",\"AGAP004050-RA-E5\",\"AGAP004050-RA-E4\",\"AGAP004050-RA-E3\",\"AGAP004050-RA-E2\",\"AGAP004050-RA-E1\"],\"Parent\":[\"AGAP004050-RA\",\"AGAP004050-RA\",\"AGAP004050-RA\",\"AGAP004050-RA\",\"AGAP004050-RA\",\"AGAP004050-RA\"],\"bottom\":{\"__ndarray__\":\"mpmZmZmZ2b+amZmZmZnZv5qZmZmZmdm/mpmZmZmZ2b+amZmZmZnZv5qZmZmZmdm/\",\"dtype\":\"float64\",\"order\":\"little\",\"shape\":[6]},\"description\":[\"NaN\",\"NaN\",\"NaN\",\"NaN\",\"NaN\",\"NaN\"],\"end\":[48706331,48712794,48715295,48747737,48785629,48788460],\"left\":{\"__ndarray__\":\"sK91qRFaSEAaGHlZE1tIQPUvSWWKW0hAXDl7Z7RfSEDDgZAsYGRIQEs5X+y9ZEhA\",\"dtype\":\"float64\",\"order\":\"little\",\"shape\":[6]},\"phase\":{\"__ndarray__\":\"AAAAAAAA+H8AAAAAAAD4fwAAAAAAAPh/AAAAAAAA+H8AAAAAAAD4fwAAAAAAAPh/\",\"dtype\":\"float64\",\"order\":\"little\",\"shape\":[6]},\"right\":{\"__ndarray__\":\"U5PgDWlaSEB8ZHPVPFtIQAT/W8mOW0hALIGU2LVfSEAE5bZ9j2RIQCIa3UHsZEhA\",\"dtype\":\"float64\",\"order\":\"little\",\"shape\":[6]},\"score\":{\"__ndarray__\":\"AAAAAAAA+H8AAAAAAAD4fwAAAAAAAPh/AAAAAAAA+H8AAAAAAAD4fwAAAAAAAPh/\",\"dtype\":\"float64\",\"order\":\"little\",\"shape\":[6]},\"seqid\":[\"2R\",\"2R\",\"2R\",\"2R\",\"2R\",\"2R\"],\"source\":[\"VectorBase\",\"VectorBase\",\"VectorBase\",\"VectorBase\",\"VectorBase\",\"VectorBase\"],\"start\":[48703664,48711528,48715161,48747693,48784185,48787046],\"strand\":[\"-\",\"-\",\"-\",\"-\",\"-\",\"-\"],\"top\":{\"__ndarray__\":\"mpmZmZmZ2T+amZmZmZnZP5qZmZmZmdk/mpmZmZmZ2T+amZmZmZnZP5qZmZmZmdk/\",\"dtype\":\"float64\",\"order\":\"little\",\"shape\":[6]},\"type\":[\"exon\",\"exon\",\"exon\",\"exon\",\"exon\",\"exon\"]},\"selected\":{\"id\":\"4996\"},\"selection_policy\":{\"id\":\"4997\"}},\"id\":\"4670\",\"type\":\"ColumnDataSource\"},{\"attributes\":{\"x\":{\"field\":\"x\"},\"y\":{\"field\":\"y\"}},\"id\":\"4697\",\"type\":\"Line\"},{\"attributes\":{\"data_source\":{\"id\":\"4707\"},\"glyph\":{\"id\":\"4709\"},\"hover_glyph\":null,\"muted_glyph\":null,\"nonselection_glyph\":{\"id\":\"4710\"},\"view\":{\"id\":\"4712\"}},\"id\":\"4711\",\"type\":\"GlyphRenderer\"},{\"attributes\":{},\"id\":\"4991\",\"type\":\"BasicTickFormatter\"},{\"attributes\":{\"data\":{\"x\":[48.712794,48.7139775,48.715161],\"y\":[0,0.1,0]},\"selected\":{\"id\":\"5000\"},\"selection_policy\":{\"id\":\"5001\"}},\"id\":\"4681\",\"type\":\"ColumnDataSource\"},{\"attributes\":{\"x\":{\"field\":\"x\"},\"y\":{\"field\":\"y\"}},\"id\":\"4692\",\"type\":\"Line\"},{\"attributes\":{\"data_source\":{\"id\":\"4701\"},\"glyph\":{\"id\":\"4703\"},\"hover_glyph\":null,\"muted_glyph\":null,\"nonselection_glyph\":{\"id\":\"4704\"},\"view\":{\"id\":\"4706\"}},\"id\":\"4705\",\"type\":\"GlyphRenderer\"},{\"attributes\":{\"line_alpha\":0.1,\"x\":{\"field\":\"x\"},\"y\":{\"field\":\"y\"}},\"id\":\"4698\",\"type\":\"Line\"},{\"attributes\":{\"axis_label\":\"Contig 2R position (Mbp)\",\"formatter\":{\"id\":\"4993\"},\"major_label_policy\":{\"id\":\"4995\"},\"ticker\":{\"id\":\"4650\"}},\"id\":\"4649\",\"type\":\"LinearAxis\"},{\"attributes\":{\"bottom\":{\"field\":\"bottom\"},\"fill_alpha\":{\"value\":0.5},\"fill_color\":{\"value\":\"blue\"},\"left\":{\"field\":\"left\"},\"line_color\":{\"value\":\"#1f77b4\"},\"line_width\":{\"value\":0},\"right\":{\"field\":\"right\"},\"top\":{\"field\":\"top\"}},\"id\":\"4769\",\"type\":\"Quad\"},{\"attributes\":{\"source\":{\"id\":\"4701\"}},\"id\":\"4706\",\"type\":\"CDSView\"},{\"attributes\":{},\"id\":\"4995\",\"type\":\"AllLabels\"},{\"attributes\":{\"source\":{\"id\":\"4730\"}},\"id\":\"4734\",\"type\":\"CDSView\"},{\"attributes\":{},\"id\":\"4645\",\"type\":\"LinearScale\"},{\"attributes\":{\"axis\":{\"id\":\"4649\"},\"ticker\":null},\"id\":\"4652\",\"type\":\"Grid\"},{\"attributes\":{\"line_alpha\":0.1,\"x\":{\"field\":\"x\"},\"y\":{\"field\":\"y\"}},\"id\":\"4693\",\"type\":\"Line\"},{\"attributes\":{\"data\":{\"x\":[48.714648,48.7149045,48.715161],\"y\":[1,1.1,1]},\"selected\":{\"id\":\"5020\"},\"selection_policy\":{\"id\":\"5021\"}},\"id\":\"4735\",\"type\":\"ColumnDataSource\"},{\"attributes\":{\"callback\":null,\"tooltips\":[[\"Type\",\"@type\"],[\"Location\",\"@seqid:@start{,}..@end{,}\"]]},\"id\":\"4662\",\"type\":\"HoverTool\"},{\"attributes\":{\"x\":{\"field\":\"x\"},\"y\":{\"field\":\"y\"}},\"id\":\"4731\",\"type\":\"Line\"},{\"attributes\":{\"active_drag\":{\"id\":\"4657\"},\"active_multi\":null,\"active_scroll\":{\"id\":\"4660\"},\"tools\":[{\"id\":\"4657\"},{\"id\":\"4658\"},{\"id\":\"4659\"},{\"id\":\"4660\"},{\"id\":\"4661\"},{\"id\":\"4662\"}]},\"id\":\"4663\",\"type\":\"Toolbar\"},{\"attributes\":{},\"id\":\"4647\",\"type\":\"LinearScale\"},{\"attributes\":{\"data\":{\"x\":[48.712794,48.7128755,48.712957],\"y\":[1,1.1,1]},\"selected\":{\"id\":\"5018\"},\"selection_policy\":{\"id\":\"5019\"}},\"id\":\"4730\",\"type\":\"ColumnDataSource\"},{\"attributes\":{},\"id\":\"4996\",\"type\":\"Selection\"},{\"attributes\":{\"data\":{\"ID\":{\"__ndarray__\":\"AAAAAAAA+H8AAAAAAAD4fwAAAAAAAPh/AAAAAAAA+H8AAAAAAAD4fwAAAAAAAPh/AAAAAAAA+H8=\",\"dtype\":\"float64\",\"order\":\"little\",\"shape\":[7]},\"Name\":[\"AGAP004050-RA-E6\",\"AGAP004050-RB-E6\",\"AGAP004050-RB-E5\",\"AGAP004050-RA-E4\",\"AGAP004050-RA-E3\",\"AGAP004050-RA-E2\",\"AGAP004050-RA-E1\"],\"Parent\":[\"AGAP004050-RB\",\"AGAP004050-RB\",\"AGAP004050-RB\",\"AGAP004050-RB\",\"AGAP004050-RB\",\"AGAP004050-RB\",\"AGAP004050-RB\"],\"bottom\":{\"__ndarray__\":\"MzMzMzMz4z8zMzMzMzPjPzMzMzMzM+M/MzMzMzMz4z8zMzMzMzPjPzMzMzMzM+M/MzMzMzMz4z8=\",\"dtype\":\"float64\",\"order\":\"little\",\"shape\":[7]},\"description\":[\"NaN\",\"NaN\",\"NaN\",\"NaN\",\"NaN\",\"NaN\",\"NaN\"],\"end\":[48706331,48712794,48714648,48715295,48747737,48785629,48788460],\"left\":{\"__ndarray__\":\"sK91qRFaSEAaGHlZE1tIQCY6yyxCW0hA9S9JZYpbSEBcOXtntF9IQMOBkCxgZEhASzlf7L1kSEA=\",\"dtype\":\"float64\",\"order\":\"little\",\"shape\":[7]},\"phase\":{\"__ndarray__\":\"AAAAAAAA+H8AAAAAAAD4fwAAAAAAAPh/AAAAAAAA+H8AAAAAAAD4fwAAAAAAAPh/AAAAAAAA+H8=\",\"dtype\":\"float64\",\"order\":\"little\",\"shape\":[7]},\"right\":{\"__ndarray__\":\"U5PgDWlaSEB8ZHPVPFtIQG4T7pV5W0hABP9byY5bSEAsgZTYtV9IQATltn2PZEhAIhrdQexkSEA=\",\"dtype\":\"float64\",\"order\":\"little\",\"shape\":[7]},\"score\":{\"__ndarray__\":\"AAAAAAAA+H8AAAAAAAD4fwAAAAAAAPh/AAAAAAAA+H8AAAAAAAD4fwAAAAAAAPh/AAAAAAAA+H8=\",\"dtype\":\"float64\",\"order\":\"little\",\"shape\":[7]},\"seqid\":[\"2R\",\"2R\",\"2R\",\"2R\",\"2R\",\"2R\",\"2R\"],\"source\":[\"VectorBase\",\"VectorBase\",\"VectorBase\",\"VectorBase\",\"VectorBase\",\"VectorBase\",\"VectorBase\"],\"start\":[48703664,48711528,48712957,48715161,48747693,48784185,48787046],\"strand\":[\"-\",\"-\",\"-\",\"-\",\"-\",\"-\",\"-\"],\"top\":{\"__ndarray__\":\"ZmZmZmZm9j9mZmZmZmb2P2ZmZmZmZvY/ZmZmZmZm9j9mZmZmZmb2P2ZmZmZmZvY/ZmZmZmZm9j8=\",\"dtype\":\"float64\",\"order\":\"little\",\"shape\":[7]},\"type\":[\"exon\",\"exon\",\"exon\",\"exon\",\"exon\",\"exon\",\"exon\"]},\"selected\":{\"id\":\"5014\"},\"selection_policy\":{\"id\":\"5015\"}},\"id\":\"4719\",\"type\":\"ColumnDataSource\"},{\"attributes\":{\"x\":{\"field\":\"x\"},\"y\":{\"field\":\"y\"}},\"id\":\"4751\",\"type\":\"Line\"},{\"attributes\":{\"source\":{\"id\":\"4745\"}},\"id\":\"4749\",\"type\":\"CDSView\"},{\"attributes\":{},\"id\":\"5033\",\"type\":\"UnionRenderers\"},{\"attributes\":{\"data\":{\"x\":[48.785629,48.7863375,48.787046],\"y\":[1,1.1,1]},\"selected\":{\"id\":\"5026\"},\"selection_policy\":{\"id\":\"5027\"}},\"id\":\"4750\",\"type\":\"ColumnDataSource\"},{\"attributes\":{},\"id\":\"5032\",\"type\":\"Selection\"},{\"attributes\":{\"line_alpha\":0.1,\"x\":{\"field\":\"x\"},\"y\":{\"field\":\"y\"}},\"id\":\"4752\",\"type\":\"Line\"},{\"attributes\":{\"line_alpha\":0.1,\"x\":{\"field\":\"x\"},\"y\":{\"field\":\"y\"}},\"id\":\"4747\",\"type\":\"Line\"},{\"attributes\":{},\"id\":\"5031\",\"type\":\"UnionRenderers\"},{\"attributes\":{},\"id\":\"5029\",\"type\":\"UnionRenderers\"},{\"attributes\":{\"x\":{\"field\":\"x\"},\"y\":{\"field\":\"y\"}},\"id\":\"4746\",\"type\":\"Line\"},{\"attributes\":{},\"id\":\"5030\",\"type\":\"Selection\"},{\"attributes\":{\"data_source\":{\"id\":\"4745\"},\"glyph\":{\"id\":\"4746\"},\"hover_glyph\":null,\"muted_glyph\":null,\"nonselection_glyph\":{\"id\":\"4747\"},\"view\":{\"id\":\"4749\"}},\"id\":\"4748\",\"type\":\"GlyphRenderer\"},{\"attributes\":{},\"id\":\"5028\",\"type\":\"Selection\"},{\"attributes\":{\"data\":{\"x\":[48.747737,48.765961000000004,48.784185],\"y\":[1,1.1,1]},\"selected\":{\"id\":\"5024\"},\"selection_policy\":{\"id\":\"5025\"}},\"id\":\"4745\",\"type\":\"ColumnDataSource\"},{\"attributes\":{},\"id\":\"5027\",\"type\":\"UnionRenderers\"},{\"attributes\":{\"x\":{\"field\":\"x\"},\"y\":{\"field\":\"y\"}},\"id\":\"4741\",\"type\":\"Line\"},{\"attributes\":{},\"id\":\"5026\",\"type\":\"Selection\"},{\"attributes\":{},\"id\":\"5024\",\"type\":\"Selection\"},{\"attributes\":{\"data_source\":{\"id\":\"4735\"},\"glyph\":{\"id\":\"4736\"},\"hover_glyph\":null,\"muted_glyph\":null,\"nonselection_glyph\":{\"id\":\"4737\"},\"view\":{\"id\":\"4739\"}},\"id\":\"4738\",\"type\":\"GlyphRenderer\"},{\"attributes\":{},\"id\":\"5025\",\"type\":\"UnionRenderers\"},{\"attributes\":{},\"id\":\"5023\",\"type\":\"UnionRenderers\"},{\"attributes\":{},\"id\":\"5020\",\"type\":\"Selection\"},{\"attributes\":{\"source\":{\"id\":\"4740\"}},\"id\":\"4744\",\"type\":\"CDSView\"},{\"attributes\":{},\"id\":\"5022\",\"type\":\"Selection\"},{\"attributes\":{\"data\":{\"x\":[48.715295,48.731494,48.747693],\"y\":[1,1.1,1]},\"selected\":{\"id\":\"5022\"},\"selection_policy\":{\"id\":\"5023\"}},\"id\":\"4740\",\"type\":\"ColumnDataSource\"},{\"attributes\":{\"data_source\":{\"id\":\"4740\"},\"glyph\":{\"id\":\"4741\"},\"hover_glyph\":null,\"muted_glyph\":null,\"nonselection_glyph\":{\"id\":\"4742\"},\"view\":{\"id\":\"4744\"}},\"id\":\"4743\",\"type\":\"GlyphRenderer\"},{\"attributes\":{},\"id\":\"5021\",\"type\":\"UnionRenderers\"},{\"attributes\":{\"source\":{\"id\":\"4735\"}},\"id\":\"4739\",\"type\":\"CDSView\"},{\"attributes\":{\"data\":{\"ID\":[\"AGAP004050-PB\",\"AGAP004050-PB\",\"AGAP004050-PB\",\"AGAP004050-PB\"],\"Name\":[\"NaN\",\"NaN\",\"NaN\",\"NaN\"],\"Parent\":[\"AGAP004050-RB\",\"AGAP004050-RB\",\"AGAP004050-RB\",\"AGAP004050-RB\"],\"bottom\":{\"__ndarray__\":\"MzMzMzMz4z8zMzMzMzPjPzMzMzMzM+M/MzMzMzMz4z8=\",\"dtype\":\"float64\",\"order\":\"little\",\"shape\":[4]},\"description\":[\"NaN\",\"NaN\",\"NaN\",\"NaN\"],\"end\":[48714648,48715295,48747737,48784710],\"left\":{\"__ndarray__\":\"XhCRmnZbSED1L0lliltIQFw5e2e0X0hAw4GQLGBkSEA=\",\"dtype\":\"float64\",\"order\":\"little\",\"shape\":[4]},\"phase\":{\"__ndarray__\":\"AAAAAAAAAEAAAAAAAAAAQAAAAAAAAABAAAAAAAAAAAA=\",\"dtype\":\"float64\",\"order\":\"little\",\"shape\":[4]},\"right\":{\"__ndarray__\":\"bhPulXlbSEAE/1vJjltIQCyBlNi1X0hADWyVYHFkSEA=\",\"dtype\":\"float64\",\"order\":\"little\",\"shape\":[4]},\"score\":{\"__ndarray__\":\"AAAAAAAA+H8AAAAAAAD4fwAAAAAAAPh/AAAAAAAA+H8=\",\"dtype\":\"float64\",\"order\":\"little\",\"shape\":[4]},\"seqid\":[\"2R\",\"2R\",\"2R\",\"2R\"],\"source\":[\"VectorBase\",\"VectorBase\",\"VectorBase\",\"VectorBase\"],\"start\":[48714557,48715161,48747693,48784185],\"strand\":[\"-\",\"-\",\"-\",\"-\"],\"top\":{\"__ndarray__\":\"ZmZmZmZm9j9mZmZmZmb2P2ZmZmZmZvY/ZmZmZmZm9j8=\",\"dtype\":\"float64\",\"order\":\"little\",\"shape\":[4]},\"type\":[\"CDS\",\"CDS\",\"CDS\",\"CDS\"]},\"selected\":{\"id\":\"5032\"},\"selection_policy\":{\"id\":\"5033\"}},\"id\":\"4767\",\"type\":\"ColumnDataSource\"},{\"attributes\":{\"source\":{\"id\":\"4761\"}},\"id\":\"4766\",\"type\":\"CDSView\"},{\"attributes\":{},\"id\":\"5015\",\"type\":\"UnionRenderers\"},{\"attributes\":{},\"id\":\"5018\",\"type\":\"Selection\"},{\"attributes\":{\"line_alpha\":0.1,\"x\":{\"field\":\"x\"},\"y\":{\"field\":\"y\"}},\"id\":\"4742\",\"type\":\"Line\"},{\"attributes\":{},\"id\":\"5017\",\"type\":\"UnionRenderers\"},{\"attributes\":{\"data\":{\"ID\":{\"__ndarray__\":\"AAAAAAAA+H8AAAAAAAD4fw==\",\"dtype\":\"float64\",\"order\":\"little\",\"shape\":[2]},\"Name\":[\"NaN\",\"NaN\"],\"Parent\":[\"AGAP004050-RB\",\"AGAP004050-RB\"],\"bottom\":{\"__ndarray__\":\"MzMzMzMz4z8zMzMzMzPjPw==\",\"dtype\":\"float64\",\"order\":\"little\",\"shape\":[2]},\"description\":[\"NaN\",\"NaN\"],\"end\":[48785629,48788460],\"left\":{\"__ndarray__\":\"3uf4aHFkSEBLOV/svWRIQA==\",\"dtype\":\"float64\",\"order\":\"little\",\"shape\":[2]},\"phase\":{\"__ndarray__\":\"AAAAAAAA+H8AAAAAAAD4fw==\",\"dtype\":\"float64\",\"order\":\"little\",\"shape\":[2]},\"right\":{\"__ndarray__\":\"BOW2fY9kSEAiGt1B7GRIQA==\",\"dtype\":\"float64\",\"order\":\"little\",\"shape\":[2]},\"score\":{\"__ndarray__\":\"AAAAAAAA+H8AAAAAAAD4fw==\",\"dtype\":\"float64\",\"order\":\"little\",\"shape\":[2]},\"seqid\":[\"2R\",\"2R\"],\"source\":[\"VectorBase\",\"VectorBase\"],\"start\":[48784711,48787046],\"strand\":[\"-\",\"-\"],\"top\":{\"__ndarray__\":\"ZmZmZmZm9j9mZmZmZmb2Pw==\",\"dtype\":\"float64\",\"order\":\"little\",\"shape\":[2]},\"type\":[\"five_prime_UTR\",\"five_prime_UTR\"]},\"selected\":{\"id\":\"5028\"},\"selection_policy\":{\"id\":\"5029\"}},\"id\":\"4755\",\"type\":\"ColumnDataSource\"},{\"attributes\":{},\"id\":\"5013\",\"type\":\"UnionRenderers\"},{\"attributes\":{},\"id\":\"5019\",\"type\":\"UnionRenderers\"},{\"attributes\":{\"end\":1.5,\"start\":-0.5},\"id\":\"4773\",\"type\":\"Range1d\"},{\"attributes\":{},\"id\":\"5012\",\"type\":\"Selection\"},{\"attributes\":{},\"id\":\"5009\",\"type\":\"UnionRenderers\"},{\"attributes\":{\"data_source\":{\"id\":\"4761\"},\"glyph\":{\"id\":\"4763\"},\"hover_glyph\":null,\"muted_glyph\":null,\"nonselection_glyph\":{\"id\":\"4764\"},\"view\":{\"id\":\"4766\"}},\"id\":\"4765\",\"type\":\"GlyphRenderer\"},{\"attributes\":{},\"id\":\"5016\",\"type\":\"Selection\"},{\"attributes\":{\"bottom\":{\"field\":\"bottom\"},\"fill_alpha\":{\"value\":0.5},\"fill_color\":{\"value\":\"red\"},\"left\":{\"field\":\"left\"},\"line_color\":{\"value\":\"#1f77b4\"},\"line_width\":{\"value\":0},\"right\":{\"field\":\"right\"},\"top\":{\"field\":\"top\"}},\"id\":\"4763\",\"type\":\"Quad\"},{\"attributes\":{\"bottom\":{\"field\":\"bottom\"},\"fill_alpha\":{\"value\":0.1},\"fill_color\":{\"value\":\"green\"},\"left\":{\"field\":\"left\"},\"line_alpha\":{\"value\":0.1},\"line_color\":{\"value\":\"#1f77b4\"},\"line_width\":{\"value\":0},\"right\":{\"field\":\"right\"},\"top\":{\"field\":\"top\"}},\"id\":\"4758\",\"type\":\"Quad\"},{\"attributes\":{},\"id\":\"5008\",\"type\":\"Selection\"},{\"attributes\":{},\"id\":\"5010\",\"type\":\"Selection\"},{\"attributes\":{},\"id\":\"5007\",\"type\":\"UnionRenderers\"},{\"attributes\":{},\"id\":\"5000\",\"type\":\"Selection\"},{\"attributes\":{\"bottom\":{\"field\":\"bottom\"},\"fill_alpha\":{\"value\":0.1},\"fill_color\":{\"value\":\"red\"},\"left\":{\"field\":\"left\"},\"line_alpha\":{\"value\":0.1},\"line_color\":{\"value\":\"#1f77b4\"},\"line_width\":{\"value\":0},\"right\":{\"field\":\"right\"},\"top\":{\"field\":\"top\"}},\"id\":\"4764\",\"type\":\"Quad\"},{\"attributes\":{},\"id\":\"5006\",\"type\":\"Selection\"},{\"attributes\":{},\"id\":\"5011\",\"type\":\"UnionRenderers\"},{\"attributes\":{},\"id\":\"5002\",\"type\":\"Selection\"},{\"attributes\":{},\"id\":\"5001\",\"type\":\"UnionRenderers\"},{\"attributes\":{},\"id\":\"5005\",\"type\":\"UnionRenderers\"},{\"attributes\":{\"source\":{\"id\":\"4755\"}},\"id\":\"4760\",\"type\":\"CDSView\"},{\"attributes\":{},\"id\":\"5003\",\"type\":\"UnionRenderers\"},{\"attributes\":{\"data_source\":{\"id\":\"4755\"},\"glyph\":{\"id\":\"4757\"},\"hover_glyph\":null,\"muted_glyph\":null,\"nonselection_glyph\":{\"id\":\"4758\"},\"view\":{\"id\":\"4760\"}},\"id\":\"4759\",\"type\":\"GlyphRenderer\"},{\"attributes\":{},\"id\":\"5014\",\"type\":\"Selection\"},{\"attributes\":{},\"id\":\"5004\",\"type\":\"Selection\"},{\"attributes\":{\"source\":{\"id\":\"4750\"}},\"id\":\"4754\",\"type\":\"CDSView\"},{\"attributes\":{\"data_source\":{\"id\":\"4750\"},\"glyph\":{\"id\":\"4751\"},\"hover_glyph\":null,\"muted_glyph\":null,\"nonselection_glyph\":{\"id\":\"4752\"},\"view\":{\"id\":\"4754\"}},\"id\":\"4753\",\"type\":\"GlyphRenderer\"}],\"root_ids\":[\"4638\"]},\"title\":\"Bokeh Application\",\"version\":\"2.3.1\"}};\n",
       "  var render_items = [{\"docid\":\"4c0c8b8a-64cf-4c53-b3f1-fc1ab4c26771\",\"root_ids\":[\"4638\"],\"roots\":{\"4638\":\"38e49f94-0ec5-4d40-b823-5245b80705de\"}}];\n",
       "  root.Bokeh.embed.embed_items_notebook(docs_json, render_items);\n",
       "\n",
       "  }\n",
       "  if (root.Bokeh !== undefined) {\n",
       "    embed_document(root);\n",
       "  } else {\n",
       "    var attempts = 0;\n",
       "    var timer = setInterval(function(root) {\n",
       "      if (root.Bokeh !== undefined) {\n",
       "        clearInterval(timer);\n",
       "        embed_document(root);\n",
       "      } else {\n",
       "        attempts++;\n",
       "        if (attempts > 100) {\n",
       "          clearInterval(timer);\n",
       "          console.log(\"Bokeh: ERROR: Unable to run BokehJS code because BokehJS library is missing\");\n",
       "        }\n",
       "      }\n",
       "    }, 10, root)\n",
       "  }\n",
       "})(window);"
      ],
      "application/vnd.bokehjs_exec.v0+json": ""
     },
     "metadata": {
      "application/vnd.bokehjs_exec.v0+json": {
       "id": "4638"
      }
     },
     "output_type": "display_data"
    }
   ],
   "source": [
    "plot_transcripts(\"AGAP004050\")"
   ]
  },
  {
   "cell_type": "code",
   "execution_count": null,
   "id": "immune-perry",
   "metadata": {},
   "outputs": [],
   "source": []
  },
  {
   "cell_type": "code",
   "execution_count": null,
   "id": "premium-grounds",
   "metadata": {},
   "outputs": [],
   "source": []
  },
  {
   "cell_type": "code",
   "execution_count": 40,
   "id": "verbal-accuracy",
   "metadata": {},
   "outputs": [
    {
     "data": {
      "text/html": [
       "<div style=\"display: table;\"><div style=\"display: table-row;\"><div style=\"display: table-cell;\"><b title=\"bokeh.models.renderers.GlyphRenderer\">GlyphRenderer</b>(</div><div style=\"display: table-cell;\">id&nbsp;=&nbsp;'1208', <span id=\"1211\" style=\"cursor: pointer;\">&hellip;)</span></div></div><div class=\"1210\" style=\"display: none;\"><div style=\"display: table-cell;\"></div><div style=\"display: table-cell;\">data_source&nbsp;=&nbsp;ColumnDataSource(id='1204', ...),</div></div><div class=\"1210\" style=\"display: none;\"><div style=\"display: table-cell;\"></div><div style=\"display: table-cell;\">glyph&nbsp;=&nbsp;Circle(id='1206', ...),</div></div><div class=\"1210\" style=\"display: none;\"><div style=\"display: table-cell;\"></div><div style=\"display: table-cell;\">hover_glyph&nbsp;=&nbsp;None,</div></div><div class=\"1210\" style=\"display: none;\"><div style=\"display: table-cell;\"></div><div style=\"display: table-cell;\">js_event_callbacks&nbsp;=&nbsp;{},</div></div><div class=\"1210\" style=\"display: none;\"><div style=\"display: table-cell;\"></div><div style=\"display: table-cell;\">js_property_callbacks&nbsp;=&nbsp;{},</div></div><div class=\"1210\" style=\"display: none;\"><div style=\"display: table-cell;\"></div><div style=\"display: table-cell;\">level&nbsp;=&nbsp;'glyph',</div></div><div class=\"1210\" style=\"display: none;\"><div style=\"display: table-cell;\"></div><div style=\"display: table-cell;\">muted&nbsp;=&nbsp;False,</div></div><div class=\"1210\" style=\"display: none;\"><div style=\"display: table-cell;\"></div><div style=\"display: table-cell;\">muted_glyph&nbsp;=&nbsp;None,</div></div><div class=\"1210\" style=\"display: none;\"><div style=\"display: table-cell;\"></div><div style=\"display: table-cell;\">name&nbsp;=&nbsp;None,</div></div><div class=\"1210\" style=\"display: none;\"><div style=\"display: table-cell;\"></div><div style=\"display: table-cell;\">nonselection_glyph&nbsp;=&nbsp;Circle(id='1207', ...),</div></div><div class=\"1210\" style=\"display: none;\"><div style=\"display: table-cell;\"></div><div style=\"display: table-cell;\">selection_glyph&nbsp;=&nbsp;'auto',</div></div><div class=\"1210\" style=\"display: none;\"><div style=\"display: table-cell;\"></div><div style=\"display: table-cell;\">subscribed_events&nbsp;=&nbsp;[],</div></div><div class=\"1210\" style=\"display: none;\"><div style=\"display: table-cell;\"></div><div style=\"display: table-cell;\">syncable&nbsp;=&nbsp;True,</div></div><div class=\"1210\" style=\"display: none;\"><div style=\"display: table-cell;\"></div><div style=\"display: table-cell;\">tags&nbsp;=&nbsp;[],</div></div><div class=\"1210\" style=\"display: none;\"><div style=\"display: table-cell;\"></div><div style=\"display: table-cell;\">view&nbsp;=&nbsp;CDSView(id='1209', ...),</div></div><div class=\"1210\" style=\"display: none;\"><div style=\"display: table-cell;\"></div><div style=\"display: table-cell;\">visible&nbsp;=&nbsp;True,</div></div><div class=\"1210\" style=\"display: none;\"><div style=\"display: table-cell;\"></div><div style=\"display: table-cell;\">x_range_name&nbsp;=&nbsp;'default',</div></div><div class=\"1210\" style=\"display: none;\"><div style=\"display: table-cell;\"></div><div style=\"display: table-cell;\">y_range_name&nbsp;=&nbsp;'default')</div></div></div>\n",
       "<script>\n",
       "(function() {\n",
       "  var expanded = false;\n",
       "  var ellipsis = document.getElementById(\"1211\");\n",
       "  ellipsis.addEventListener(\"click\", function() {\n",
       "    var rows = document.getElementsByClassName(\"1210\");\n",
       "    for (var i = 0; i < rows.length; i++) {\n",
       "      var el = rows[i];\n",
       "      el.style.display = expanded ? \"none\" : \"table-row\";\n",
       "    }\n",
       "    ellipsis.innerHTML = expanded ? \"&hellip;)\" : \"&lsaquo;&lsaquo;&lsaquo;\";\n",
       "    expanded = !expanded;\n",
       "  });\n",
       "})();\n",
       "</script>\n"
      ],
      "text/plain": [
       "GlyphRenderer(id='1208', ...)"
      ]
     },
     "execution_count": 40,
     "metadata": {},
     "output_type": "execute_result"
    }
   ],
   "source": [
    "p = figure(title = transcript+\": position x frequency\")\n",
    "p.circle('position','frequency',source=plotly_df,fill_alpha=0.2, size=10)"
   ]
  },
  {
   "cell_type": "code",
   "execution_count": 41,
   "id": "criminal-twenty",
   "metadata": {},
   "outputs": [
    {
     "data": {
      "text/html": [
       "\n",
       "\n",
       "\n",
       "\n",
       "\n",
       "\n",
       "  <div class=\"bk-root\" id=\"e0ceea32-0230-41c9-874e-7107e1c5d4e0\" data-root-id=\"1171\"></div>\n"
      ]
     },
     "metadata": {},
     "output_type": "display_data"
    },
    {
     "data": {
      "application/javascript": [
       "(function(root) {\n",
       "  function embed_document(root) {\n",
       "    \n",
       "  var docs_json = {\"9aae37e4-098b-4e23-9958-30396634031a\":{\"defs\":[],\"roots\":{\"references\":[{\"attributes\":{\"below\":[{\"id\":\"1182\"}],\"center\":[{\"id\":\"1185\"},{\"id\":\"1189\"}],\"left\":[{\"id\":\"1186\"}],\"renderers\":[{\"id\":\"1208\"}],\"title\":{\"id\":\"1172\"},\"toolbar\":{\"id\":\"1197\"},\"x_range\":{\"id\":\"1174\"},\"x_scale\":{\"id\":\"1178\"},\"y_range\":{\"id\":\"1176\"},\"y_scale\":{\"id\":\"1180\"}},\"id\":\"1171\",\"subtype\":\"Figure\",\"type\":\"Plot\"},{\"attributes\":{},\"id\":\"1228\",\"type\":\"AllLabels\"},{\"attributes\":{\"fill_alpha\":{\"value\":0.2},\"fill_color\":{\"value\":\"#1f77b4\"},\"line_color\":{\"value\":\"#1f77b4\"},\"size\":{\"value\":10},\"x\":{\"field\":\"position\"},\"y\":{\"field\":\"frequency\"}},\"id\":\"1206\",\"type\":\"Circle\"},{\"attributes\":{},\"id\":\"1226\",\"type\":\"BasicTickFormatter\"},{\"attributes\":{\"text\":\"AGAP006028-RA: position x frequency\"},\"id\":\"1172\",\"type\":\"Title\"},{\"attributes\":{},\"id\":\"1183\",\"type\":\"BasicTicker\"},{\"attributes\":{},\"id\":\"1194\",\"type\":\"ResetTool\"},{\"attributes\":{},\"id\":\"1225\",\"type\":\"AllLabels\"},{\"attributes\":{},\"id\":\"1180\",\"type\":\"LinearScale\"},{\"attributes\":{\"formatter\":{\"id\":\"1226\"},\"major_label_policy\":{\"id\":\"1228\"},\"ticker\":{\"id\":\"1183\"}},\"id\":\"1182\",\"type\":\"LinearAxis\"},{\"attributes\":{\"bottom_units\":\"screen\",\"fill_alpha\":0.5,\"fill_color\":\"lightgrey\",\"left_units\":\"screen\",\"level\":\"overlay\",\"line_alpha\":1.0,\"line_color\":\"black\",\"line_dash\":[4,4],\"line_width\":2,\"right_units\":\"screen\",\"syncable\":false,\"top_units\":\"screen\"},\"id\":\"1196\",\"type\":\"BoxAnnotation\"},{\"attributes\":{},\"id\":\"1178\",\"type\":\"LinearScale\"},{\"attributes\":{\"active_multi\":null,\"tools\":[{\"id\":\"1190\"},{\"id\":\"1191\"},{\"id\":\"1192\"},{\"id\":\"1193\"},{\"id\":\"1194\"},{\"id\":\"1195\"}]},\"id\":\"1197\",\"type\":\"Toolbar\"},{\"attributes\":{},\"id\":\"1176\",\"type\":\"DataRange1d\"},{\"attributes\":{},\"id\":\"1195\",\"type\":\"HelpTool\"},{\"attributes\":{\"data\":{\"aa_change\":[\"S2L\",\"L24F\",\"NaN\",\"G75E\",\"NaN\",\"P228S\",\"A296G\",\"NaN\",\"Y343*\",\"T345M\",\"M349I\",\"Q373K\",\"D376A\",\"P384H\",\"D389Y\",\"S399T\",\"Q403P\",\"H404R\",\"M410I\",\"G411A\",\"S412N\",\"R413L\",\"P422R\",\"M424I\",\"L435P\",\"G453D\",\"N457T\",\"G500S\",\"NaN\",\"NaN\",\"N530K\",\"L538V\",\"H539L\",\"H539Q\",\"D542N\",\"S2L\",\"L24F\",\"NaN\",\"G75E\",\"NaN\",\"P228S\",\"A296G\",\"NaN\",\"Y343*\",\"T345M\",\"M349I\",\"Q373K\",\"D376A\",\"P384H\",\"D389Y\",\"S399T\",\"Q403P\",\"H404R\",\"M410I\",\"G411A\",\"S412N\",\"R413L\",\"P422R\",\"M424I\",\"L435P\",\"G453D\",\"N457T\",\"G500S\",\"NaN\",\"NaN\",\"N530K\",\"L538V\",\"H539L\",\"H539Q\",\"D542N\",\"S2L\",\"L24F\",\"NaN\",\"G75E\",\"NaN\",\"P228S\",\"A296G\",\"NaN\",\"Y343*\",\"T345M\",\"M349I\",\"Q373K\",\"D376A\",\"P384H\",\"D389Y\",\"S399T\",\"Q403P\",\"H404R\",\"M410I\",\"G411A\",\"S412N\",\"R413L\",\"P422R\",\"M424I\",\"L435P\",\"G453D\",\"N457T\",\"G500S\",\"NaN\",\"NaN\",\"N530K\",\"L538V\",\"H539L\",\"H539Q\",\"D542N\"],\"effect\":[\"NON_SYNONYMOUS_CODING\",\"NON_SYNONYMOUS_CODING\",\"SPLICE_REGION\",\"NON_SYNONYMOUS_CODING\",\"SPLICE_REGION\",\"NON_SYNONYMOUS_CODING\",\"NON_SYNONYMOUS_CODING\",\"SPLICE_REGION\",\"STOP_GAINED\",\"NON_SYNONYMOUS_CODING\",\"NON_SYNONYMOUS_CODING\",\"NON_SYNONYMOUS_CODING\",\"NON_SYNONYMOUS_CODING\",\"NON_SYNONYMOUS_CODING\",\"NON_SYNONYMOUS_CODING\",\"NON_SYNONYMOUS_CODING\",\"NON_SYNONYMOUS_CODING\",\"NON_SYNONYMOUS_CODING\",\"NON_SYNONYMOUS_CODING\",\"NON_SYNONYMOUS_CODING\",\"NON_SYNONYMOUS_CODING\",\"NON_SYNONYMOUS_CODING\",\"NON_SYNONYMOUS_CODING\",\"NON_SYNONYMOUS_CODING\",\"NON_SYNONYMOUS_CODING\",\"NON_SYNONYMOUS_CODING\",\"NON_SYNONYMOUS_CODING\",\"NON_SYNONYMOUS_CODING\",\"SPLICE_REGION\",\"SPLICE_CORE\",\"NON_SYNONYMOUS_CODING\",\"NON_SYNONYMOUS_CODING\",\"NON_SYNONYMOUS_CODING\",\"NON_SYNONYMOUS_CODING\",\"NON_SYNONYMOUS_CODING\",\"NON_SYNONYMOUS_CODING\",\"NON_SYNONYMOUS_CODING\",\"SPLICE_REGION\",\"NON_SYNONYMOUS_CODING\",\"SPLICE_REGION\",\"NON_SYNONYMOUS_CODING\",\"NON_SYNONYMOUS_CODING\",\"SPLICE_REGION\",\"STOP_GAINED\",\"NON_SYNONYMOUS_CODING\",\"NON_SYNONYMOUS_CODING\",\"NON_SYNONYMOUS_CODING\",\"NON_SYNONYMOUS_CODING\",\"NON_SYNONYMOUS_CODING\",\"NON_SYNONYMOUS_CODING\",\"NON_SYNONYMOUS_CODING\",\"NON_SYNONYMOUS_CODING\",\"NON_SYNONYMOUS_CODING\",\"NON_SYNONYMOUS_CODING\",\"NON_SYNONYMOUS_CODING\",\"NON_SYNONYMOUS_CODING\",\"NON_SYNONYMOUS_CODING\",\"NON_SYNONYMOUS_CODING\",\"NON_SYNONYMOUS_CODING\",\"NON_SYNONYMOUS_CODING\",\"NON_SYNONYMOUS_CODING\",\"NON_SYNONYMOUS_CODING\",\"NON_SYNONYMOUS_CODING\",\"SPLICE_REGION\",\"SPLICE_CORE\",\"NON_SYNONYMOUS_CODING\",\"NON_SYNONYMOUS_CODING\",\"NON_SYNONYMOUS_CODING\",\"NON_SYNONYMOUS_CODING\",\"NON_SYNONYMOUS_CODING\",\"NON_SYNONYMOUS_CODING\",\"NON_SYNONYMOUS_CODING\",\"SPLICE_REGION\",\"NON_SYNONYMOUS_CODING\",\"SPLICE_REGION\",\"NON_SYNONYMOUS_CODING\",\"NON_SYNONYMOUS_CODING\",\"SPLICE_REGION\",\"STOP_GAINED\",\"NON_SYNONYMOUS_CODING\",\"NON_SYNONYMOUS_CODING\",\"NON_SYNONYMOUS_CODING\",\"NON_SYNONYMOUS_CODING\",\"NON_SYNONYMOUS_CODING\",\"NON_SYNONYMOUS_CODING\",\"NON_SYNONYMOUS_CODING\",\"NON_SYNONYMOUS_CODING\",\"NON_SYNONYMOUS_CODING\",\"NON_SYNONYMOUS_CODING\",\"NON_SYNONYMOUS_CODING\",\"NON_SYNONYMOUS_CODING\",\"NON_SYNONYMOUS_CODING\",\"NON_SYNONYMOUS_CODING\",\"NON_SYNONYMOUS_CODING\",\"NON_SYNONYMOUS_CODING\",\"NON_SYNONYMOUS_CODING\",\"NON_SYNONYMOUS_CODING\",\"NON_SYNONYMOUS_CODING\",\"SPLICE_REGION\",\"SPLICE_CORE\",\"NON_SYNONYMOUS_CODING\",\"NON_SYNONYMOUS_CODING\",\"NON_SYNONYMOUS_CODING\",\"NON_SYNONYMOUS_CODING\",\"NON_SYNONYMOUS_CODING\"],\"frequency\":{\"__ndarray__\":\"AAAAAAAAAAAAAAAAAAAAAAAAAAAAAAAAAAAAAAAAAAAAAAAAAAAAAAAAAAAAAAAAHMdxHMdx7D8AAAAAAAAAAAAAAAAAAAAAHMdxHMdx7D8AAAAAAAAAAAAAAAAAAAAAAAAAAAAAAAAAAAAAAAAAAAAAAAAAAAAAAAAAAAAAAAAAAAAAAAAAAAAAAAAAAAAAAAAAAAAAAAAAAAAAAAAAAAAAAAAAAAAAAAAAAAAAAAAAAAAAAAAAAAAAAAAAAAAAAAAAAAAAAAAAAAAAAAAAAAAAAAAAAAAAAAAAAAAAAAAAAAAAAAAAAAAAAAAAAAAAVVVVVVVV1T8AAAAAAAAAAAAAAAAAAAAAchzHcRzHwT8AAAAAAAAAAAJLevnTFmo/Akt6+dMWaj8CS3r50xZqPwJLevnTFmo/Akt6+dMWaj8CS3r50xZqP36PyAnC3dg/Qbgb+x6Rgz8CS3r50xZqP36PyAnC3dg/Akt6+dMWaj8CS3r50xZqPwAAAAAAAAAAAAAAAAAAAAACS3r50xZqPwJLevnTFmo/AAAAAAAAAAACS3r50xZqPwJLevnTFmo/Akt6+dMWaj8CS3r50xZqPwJLevnTFmo/Akt6+dMWaj8CS3r50xZqPwJLevnTFmo/Akt6+dMWaj8AAAAAAAAAAAJLevnTFmo/Akt6+dMWej8CS3r50xZqP+nlT1towLI/Akt6+dMWaj8CS3r50xZqP5EThLux78E/Akt6+dMWaj8AAAAAAAAAAAAAAAAAAAAAAAAAAAAAAAAAAAAAAAAAAAAAAAAAAAAAAAAAAAAAAAAAAAAAAAAAAAAAAAAAAAAAAAAAAAAAAAAAAAAAAAAAAAAAAAAAAAAAAAAAAAAAAABkIQtZyEKWP2QhC1nIQpY/AAAAAAAAAAAAAAAAAAAAAGQhC1nIQpY/AAAAAAAAAAAAAAAAAAAAAAAAAAAAAAAAAAAAAAAAAAAAAAAAAAAAAAAAAAAAAAAAAAAAAAAAAAAAAAAAAAAAAAAAAAAAAAAAZCELWchClj8AAAAAAAAAAAAAAAAAAAAAAAAAAAAAAAAAAAAAAAAAAAAAAAAAAAAAAAAAAAAAAAAAAAAAAAAAAAAAAAAAAAAA\",\"dtype\":\"float64\",\"order\":\"little\",\"shape\":[105]},\"index\":[0,1,2,3,4,5,6,7,8,9,10,11,12,13,14,15,16,17,18,19,20,21,22,23,24,25,26,27,28,29,30,31,32,33,34,35,36,37,38,39,40,41,42,43,44,45,46,47,48,49,50,51,52,53,54,55,56,57,58,59,60,61,62,63,64,65,66,67,68,69,70,71,72,73,74,75,76,77,78,79,80,81,82,83,84,85,86,87,88,89,90,91,92,93,94,95,96,97,98,99,100,101,102,103,104],\"population\":[\"Kenya\",\"Kenya\",\"Kenya\",\"Kenya\",\"Kenya\",\"Kenya\",\"Kenya\",\"Kenya\",\"Kenya\",\"Kenya\",\"Kenya\",\"Kenya\",\"Kenya\",\"Kenya\",\"Kenya\",\"Kenya\",\"Kenya\",\"Kenya\",\"Kenya\",\"Kenya\",\"Kenya\",\"Kenya\",\"Kenya\",\"Kenya\",\"Kenya\",\"Kenya\",\"Kenya\",\"Kenya\",\"Kenya\",\"Kenya\",\"Kenya\",\"Kenya\",\"Kenya\",\"Kenya\",\"Kenya\",\"Burkina Faso\",\"Burkina Faso\",\"Burkina Faso\",\"Burkina Faso\",\"Burkina Faso\",\"Burkina Faso\",\"Burkina Faso\",\"Burkina Faso\",\"Burkina Faso\",\"Burkina Faso\",\"Burkina Faso\",\"Burkina Faso\",\"Burkina Faso\",\"Burkina Faso\",\"Burkina Faso\",\"Burkina Faso\",\"Burkina Faso\",\"Burkina Faso\",\"Burkina Faso\",\"Burkina Faso\",\"Burkina Faso\",\"Burkina Faso\",\"Burkina Faso\",\"Burkina Faso\",\"Burkina Faso\",\"Burkina Faso\",\"Burkina Faso\",\"Burkina Faso\",\"Burkina Faso\",\"Burkina Faso\",\"Burkina Faso\",\"Burkina Faso\",\"Burkina Faso\",\"Burkina Faso\",\"Burkina Faso\",\"Mayotte\",\"Mayotte\",\"Mayotte\",\"Mayotte\",\"Mayotte\",\"Mayotte\",\"Mayotte\",\"Mayotte\",\"Mayotte\",\"Mayotte\",\"Mayotte\",\"Mayotte\",\"Mayotte\",\"Mayotte\",\"Mayotte\",\"Mayotte\",\"Mayotte\",\"Mayotte\",\"Mayotte\",\"Mayotte\",\"Mayotte\",\"Mayotte\",\"Mayotte\",\"Mayotte\",\"Mayotte\",\"Mayotte\",\"Mayotte\",\"Mayotte\",\"Mayotte\",\"Mayotte\",\"Mayotte\",\"Mayotte\",\"Mayotte\",\"Mayotte\",\"Mayotte\"],\"position\":{\"__ndarray__\":\"gv5CjxhdOUCSzVXzHF05QLTKTGn9YTlAcZNRZRhjOUBEMA4uHWM5QH7hlSTPaTlAD0QWaeJtOUAyAFRx4245QDi9i/fjbjlAXJNuS+RuOUCFJokl5W45QHfc8LvpbjlAvoi2Y+puOUDPv1326245QJlKP+HsbjlAD0dX6e5uOUCX4qqy7245QHnJ/+TvbjlAZyrEI/FuOUCoGVJF8W45QIoAp3fxbjlAbef7qfFuOUBgBfhu8245QMXKaOTzbjlA275H/fVuOUDC+j+H+W45QEqWk1D6bjlApWYPtAJvOUAuAmN9A285QJ612y40bzlA3NRA8zlvOUCsHFpkO285QC/7dac7bzlA0PI8uDtvOUA1uK0tPG85QIL+Qo8YXTlAks1V8xxdOUC0ykxp/WE5QHGTUWUYYzlARDAOLh1jOUB+4ZUkz2k5QA9EFmnibTlAMgBUceNuOUA4vYv34245QFyTbkvkbjlAhSaJJeVuOUB33PC76W45QL6ItmPqbjlAz79d9utuOUCZSj/h7G45QA9HV+nubjlAl+Kqsu9uOUB5yf/k7245QGcqxCPxbjlAqBlSRfFuOUCKAKd38W45QG3n+6nxbjlAYAX4bvNuOUDFymjk8245QNu+R/31bjlAwvo/h/luOUBKlpNQ+m45QKVmD7QCbzlALgJjfQNvOUCetdsuNG85QNzUQPM5bzlArBxaZDtvOUAv+3WnO285QNDyPLg7bzlANbitLTxvOUCC/kKPGF05QJLNVfMcXTlAtMpMaf1hOUBxk1FlGGM5QEQwDi4dYzlAfuGVJM9pOUAPRBZp4m05QDIAVHHjbjlAOL2L9+NuOUBck25L5G45QIUmiSXlbjlAd9zwu+luOUC+iLZj6m45QM+/XfbrbjlAmUo/4exuOUAPR1fp7m45QJfiqrLvbjlAecn/5O9uOUBnKsQj8W45QKgZUkXxbjlAigCnd/FuOUBt5/up8W45QGAF+G7zbjlAxcpo5PNuOUDbvkf99W45QML6P4f5bjlASpaTUPpuOUClZg+0Am85QC4CY30DbzlAnrXbLjRvOUDc1EDzOW85QKwcWmQ7bzlAL/t1pztvOUDQ8jy4O285QDW4rS08bzlA\",\"dtype\":\"float64\",\"order\":\"little\",\"shape\":[105]}},\"selected\":{\"id\":\"1230\"},\"selection_policy\":{\"id\":\"1231\"}},\"id\":\"1204\",\"type\":\"ColumnDataSource\"},{\"attributes\":{\"axis\":{\"id\":\"1186\"},\"dimension\":1,\"ticker\":null},\"id\":\"1189\",\"type\":\"Grid\"},{\"attributes\":{\"fill_alpha\":{\"value\":0.1},\"fill_color\":{\"value\":\"#1f77b4\"},\"line_alpha\":{\"value\":0.1},\"line_color\":{\"value\":\"#1f77b4\"},\"size\":{\"value\":10},\"x\":{\"field\":\"position\"},\"y\":{\"field\":\"frequency\"}},\"id\":\"1207\",\"type\":\"Circle\"},{\"attributes\":{\"data_source\":{\"id\":\"1204\"},\"glyph\":{\"id\":\"1206\"},\"hover_glyph\":null,\"muted_glyph\":null,\"nonselection_glyph\":{\"id\":\"1207\"},\"view\":{\"id\":\"1209\"}},\"id\":\"1208\",\"type\":\"GlyphRenderer\"},{\"attributes\":{},\"id\":\"1187\",\"type\":\"BasicTicker\"},{\"attributes\":{},\"id\":\"1231\",\"type\":\"UnionRenderers\"},{\"attributes\":{\"formatter\":{\"id\":\"1223\"},\"major_label_policy\":{\"id\":\"1225\"},\"ticker\":{\"id\":\"1187\"}},\"id\":\"1186\",\"type\":\"LinearAxis\"},{\"attributes\":{},\"id\":\"1230\",\"type\":\"Selection\"},{\"attributes\":{\"axis\":{\"id\":\"1182\"},\"ticker\":null},\"id\":\"1185\",\"type\":\"Grid\"},{\"attributes\":{\"source\":{\"id\":\"1204\"}},\"id\":\"1209\",\"type\":\"CDSView\"},{\"attributes\":{},\"id\":\"1193\",\"type\":\"SaveTool\"},{\"attributes\":{},\"id\":\"1174\",\"type\":\"DataRange1d\"},{\"attributes\":{\"overlay\":{\"id\":\"1196\"}},\"id\":\"1192\",\"type\":\"BoxZoomTool\"},{\"attributes\":{},\"id\":\"1223\",\"type\":\"BasicTickFormatter\"},{\"attributes\":{},\"id\":\"1191\",\"type\":\"WheelZoomTool\"},{\"attributes\":{},\"id\":\"1190\",\"type\":\"PanTool\"}],\"root_ids\":[\"1171\"]},\"title\":\"Bokeh Application\",\"version\":\"2.3.1\"}};\n",
       "  var render_items = [{\"docid\":\"9aae37e4-098b-4e23-9958-30396634031a\",\"root_ids\":[\"1171\"],\"roots\":{\"1171\":\"e0ceea32-0230-41c9-874e-7107e1c5d4e0\"}}];\n",
       "  root.Bokeh.embed.embed_items_notebook(docs_json, render_items);\n",
       "\n",
       "  }\n",
       "  if (root.Bokeh !== undefined) {\n",
       "    embed_document(root);\n",
       "  } else {\n",
       "    var attempts = 0;\n",
       "    var timer = setInterval(function(root) {\n",
       "      if (root.Bokeh !== undefined) {\n",
       "        clearInterval(timer);\n",
       "        embed_document(root);\n",
       "      } else {\n",
       "        attempts++;\n",
       "        if (attempts > 100) {\n",
       "          clearInterval(timer);\n",
       "          console.log(\"Bokeh: ERROR: Unable to run BokehJS code because BokehJS library is missing\");\n",
       "        }\n",
       "      }\n",
       "    }, 10, root)\n",
       "  }\n",
       "})(window);"
      ],
      "application/vnd.bokehjs_exec.v0+json": ""
     },
     "metadata": {
      "application/vnd.bokehjs_exec.v0+json": {
       "id": "1171"
      }
     },
     "output_type": "display_data"
    }
   ],
   "source": [
    "bkplt.show(p)"
   ]
  },
  {
   "cell_type": "code",
   "execution_count": null,
   "id": "auburn-panama",
   "metadata": {},
   "outputs": [],
   "source": []
  }
 ],
 "metadata": {
  "kernelspec": {
   "display_name": "Python 3",
   "language": "python",
   "name": "python3"
  },
  "language_info": {
   "codemirror_mode": {
    "name": "ipython",
    "version": 3
   },
   "file_extension": ".py",
   "mimetype": "text/x-python",
   "name": "python",
   "nbconvert_exporter": "python",
   "pygments_lexer": "ipython3",
   "version": "3.6.9"
  }
 },
 "nbformat": 4,
 "nbformat_minor": 5
}
