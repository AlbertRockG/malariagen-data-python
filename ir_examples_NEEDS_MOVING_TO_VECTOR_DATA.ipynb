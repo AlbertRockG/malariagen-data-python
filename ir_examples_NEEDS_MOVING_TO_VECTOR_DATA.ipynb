{
 "cells": [
  {
   "cell_type": "code",
   "execution_count": 50,
   "id": "nuclear-surgery",
   "metadata": {},
   "outputs": [],
   "source": [
    "import malariagen_data\n",
    "import numpy as np\n",
    "import pandas as pd"
   ]
  },
  {
   "cell_type": "code",
   "execution_count": 60,
   "id": "basic-upset",
   "metadata": {},
   "outputs": [],
   "source": [
    "# !poetry add plotly\n",
    "import plotly.express as px"
   ]
  },
  {
   "cell_type": "markdown",
   "id": "industrial-plastic",
   "metadata": {},
   "source": [
    "### setup malariagen_data and parameters"
   ]
  },
  {
   "cell_type": "code",
   "execution_count": 2,
   "id": "civilian-boulder",
   "metadata": {},
   "outputs": [],
   "source": [
    "# simplecache allows local cacheing\n",
    "ag3 = malariagen_data.Ag3(\"simplecache::gs://vo_agam_release/\")"
   ]
  },
  {
   "cell_type": "code",
   "execution_count": 3,
   "id": "southwest-haiti",
   "metadata": {},
   "outputs": [],
   "source": [
    "# Vgsc transcript (the one we use codon numbering from in MalariaGEN)\n",
    "transcript = \"AGAP004707-RD\"\n",
    "site_mask = \"gamb_colu\" # other options...\n",
    "sample_sets = \"v3_wild\" # explain?"
   ]
  },
  {
   "cell_type": "code",
   "execution_count": 34,
   "id": "after-premises",
   "metadata": {},
   "outputs": [],
   "source": [
    "# snp_allele_frequencies requires a population parameter in the form of a dictionary.\n",
    "# Here we want the allele frequencies from all Kenya samples and from Burkina Faso \n",
    "# An. coluzzii samples collected in 2012\n",
    "populations = {\n",
    "    \"ke\": \"country == 'Ghana' and species == 'gambiae'\",\n",
    "    \"my\": \"country == 'Mayotte'\",\n",
    "}"
   ]
  },
  {
   "cell_type": "markdown",
   "id": "verbal-apple",
   "metadata": {},
   "source": [
    "### generate statistic dataframes"
   ]
  },
  {
   "cell_type": "code",
   "execution_count": 35,
   "id": "european-facial",
   "metadata": {},
   "outputs": [
    {
     "name": "stdout",
     "output_type": "stream",
     "text": [
      "transcript : AGAP004707-RD\n",
      "chromosome : 2L \n",
      "start : 2358158\n",
      "stop : 2431617\n",
      "strand : +\n"
     ]
    }
   ],
   "source": [
    "snp_effects_df = ag3.snp_effects(transcript, site_mask)"
   ]
  },
  {
   "cell_type": "code",
   "execution_count": 36,
   "id": "antique-light",
   "metadata": {},
   "outputs": [
    {
     "data": {
      "text/html": [
       "<div>\n",
       "<style scoped>\n",
       "    .dataframe tbody tr th:only-of-type {\n",
       "        vertical-align: middle;\n",
       "    }\n",
       "\n",
       "    .dataframe tbody tr th {\n",
       "        vertical-align: top;\n",
       "    }\n",
       "\n",
       "    .dataframe thead th {\n",
       "        text-align: right;\n",
       "    }\n",
       "</style>\n",
       "<table border=\"1\" class=\"dataframe\">\n",
       "  <thead>\n",
       "    <tr style=\"text-align: right;\">\n",
       "      <th></th>\n",
       "      <th>position</th>\n",
       "      <th>ref_allele</th>\n",
       "      <th>alt_allele</th>\n",
       "      <th>effect</th>\n",
       "      <th>impact</th>\n",
       "      <th>ref_codon</th>\n",
       "      <th>alt_codon</th>\n",
       "      <th>aa_pos</th>\n",
       "      <th>ref_aa</th>\n",
       "      <th>alt_aa</th>\n",
       "      <th>aa_change</th>\n",
       "    </tr>\n",
       "  </thead>\n",
       "  <tbody>\n",
       "    <tr>\n",
       "      <th>0</th>\n",
       "      <td>2358158</td>\n",
       "      <td>A</td>\n",
       "      <td>C</td>\n",
       "      <td>START_LOST</td>\n",
       "      <td>HIGH</td>\n",
       "      <td>Atg</td>\n",
       "      <td>Ctg</td>\n",
       "      <td>1.0</td>\n",
       "      <td>M</td>\n",
       "      <td>L</td>\n",
       "      <td>M1L</td>\n",
       "    </tr>\n",
       "    <tr>\n",
       "      <th>1</th>\n",
       "      <td>2358158</td>\n",
       "      <td>A</td>\n",
       "      <td>T</td>\n",
       "      <td>START_LOST</td>\n",
       "      <td>HIGH</td>\n",
       "      <td>Atg</td>\n",
       "      <td>Ttg</td>\n",
       "      <td>1.0</td>\n",
       "      <td>M</td>\n",
       "      <td>L</td>\n",
       "      <td>M1L</td>\n",
       "    </tr>\n",
       "    <tr>\n",
       "      <th>2</th>\n",
       "      <td>2358158</td>\n",
       "      <td>A</td>\n",
       "      <td>G</td>\n",
       "      <td>START_LOST</td>\n",
       "      <td>HIGH</td>\n",
       "      <td>Atg</td>\n",
       "      <td>Gtg</td>\n",
       "      <td>1.0</td>\n",
       "      <td>M</td>\n",
       "      <td>V</td>\n",
       "      <td>M1V</td>\n",
       "    </tr>\n",
       "    <tr>\n",
       "      <th>3</th>\n",
       "      <td>2358159</td>\n",
       "      <td>T</td>\n",
       "      <td>A</td>\n",
       "      <td>NON_SYNONYMOUS_CODING</td>\n",
       "      <td>MODERATE</td>\n",
       "      <td>aTg</td>\n",
       "      <td>aAg</td>\n",
       "      <td>1.0</td>\n",
       "      <td>M</td>\n",
       "      <td>K</td>\n",
       "      <td>M1K</td>\n",
       "    </tr>\n",
       "    <tr>\n",
       "      <th>4</th>\n",
       "      <td>2358159</td>\n",
       "      <td>T</td>\n",
       "      <td>C</td>\n",
       "      <td>NON_SYNONYMOUS_CODING</td>\n",
       "      <td>MODERATE</td>\n",
       "      <td>aTg</td>\n",
       "      <td>aCg</td>\n",
       "      <td>1.0</td>\n",
       "      <td>M</td>\n",
       "      <td>T</td>\n",
       "      <td>M1T</td>\n",
       "    </tr>\n",
       "  </tbody>\n",
       "</table>\n",
       "</div>"
      ],
      "text/plain": [
       "   position ref_allele alt_allele                 effect    impact ref_codon  \\\n",
       "0   2358158          A          C             START_LOST      HIGH       Atg   \n",
       "1   2358158          A          T             START_LOST      HIGH       Atg   \n",
       "2   2358158          A          G             START_LOST      HIGH       Atg   \n",
       "3   2358159          T          A  NON_SYNONYMOUS_CODING  MODERATE       aTg   \n",
       "4   2358159          T          C  NON_SYNONYMOUS_CODING  MODERATE       aTg   \n",
       "\n",
       "  alt_codon  aa_pos ref_aa alt_aa aa_change  \n",
       "0       Ctg     1.0      M      L       M1L  \n",
       "1       Ttg     1.0      M      L       M1L  \n",
       "2       Gtg     1.0      M      V       M1V  \n",
       "3       aAg     1.0      M      K       M1K  \n",
       "4       aCg     1.0      M      T       M1T  "
      ]
     },
     "execution_count": 36,
     "metadata": {},
     "output_type": "execute_result"
    }
   ],
   "source": [
    "snp_effects_df.head()"
   ]
  },
  {
   "cell_type": "code",
   "execution_count": 38,
   "id": "comparative-uruguay",
   "metadata": {},
   "outputs": [
    {
     "name": "stdout",
     "output_type": "stream",
     "text": [
      "transcript : AGAP004707-RD\n",
      "chromosome : 2L \n",
      "start : 2358158\n",
      "stop : 2431617\n",
      "strand : +\n"
     ]
    }
   ],
   "source": [
    "allele_freq_df = ag3.snp_allele_frequencies(transcript=transcript, \n",
    "                           populations=populations, \n",
    "                           site_mask=site_mask, \n",
    "                           sample_sets=sample_sets,\n",
    "                           drop_invariants=False)"
   ]
  },
  {
   "cell_type": "code",
   "execution_count": 39,
   "id": "equivalent-health",
   "metadata": {},
   "outputs": [
    {
     "data": {
      "text/html": [
       "<div>\n",
       "<style scoped>\n",
       "    .dataframe tbody tr th:only-of-type {\n",
       "        vertical-align: middle;\n",
       "    }\n",
       "\n",
       "    .dataframe tbody tr th {\n",
       "        vertical-align: top;\n",
       "    }\n",
       "\n",
       "    .dataframe thead th {\n",
       "        text-align: right;\n",
       "    }\n",
       "</style>\n",
       "<table border=\"1\" class=\"dataframe\">\n",
       "  <thead>\n",
       "    <tr style=\"text-align: right;\">\n",
       "      <th></th>\n",
       "      <th>position</th>\n",
       "      <th>ref_allele</th>\n",
       "      <th>alt_allele</th>\n",
       "      <th>ke</th>\n",
       "      <th>my</th>\n",
       "      <th>maximum</th>\n",
       "    </tr>\n",
       "  </thead>\n",
       "  <tbody>\n",
       "    <tr>\n",
       "      <th>0</th>\n",
       "      <td>2358158</td>\n",
       "      <td>A</td>\n",
       "      <td>C</td>\n",
       "      <td>0.0</td>\n",
       "      <td>0.0</td>\n",
       "      <td>0.0</td>\n",
       "    </tr>\n",
       "    <tr>\n",
       "      <th>1</th>\n",
       "      <td>2358158</td>\n",
       "      <td>A</td>\n",
       "      <td>T</td>\n",
       "      <td>0.0</td>\n",
       "      <td>0.0</td>\n",
       "      <td>0.0</td>\n",
       "    </tr>\n",
       "    <tr>\n",
       "      <th>2</th>\n",
       "      <td>2358158</td>\n",
       "      <td>A</td>\n",
       "      <td>G</td>\n",
       "      <td>0.0</td>\n",
       "      <td>0.0</td>\n",
       "      <td>0.0</td>\n",
       "    </tr>\n",
       "    <tr>\n",
       "      <th>3</th>\n",
       "      <td>2358159</td>\n",
       "      <td>T</td>\n",
       "      <td>A</td>\n",
       "      <td>0.0</td>\n",
       "      <td>0.0</td>\n",
       "      <td>0.0</td>\n",
       "    </tr>\n",
       "    <tr>\n",
       "      <th>4</th>\n",
       "      <td>2358159</td>\n",
       "      <td>T</td>\n",
       "      <td>C</td>\n",
       "      <td>0.0</td>\n",
       "      <td>0.0</td>\n",
       "      <td>0.0</td>\n",
       "    </tr>\n",
       "  </tbody>\n",
       "</table>\n",
       "</div>"
      ],
      "text/plain": [
       "   position ref_allele alt_allele   ke   my  maximum\n",
       "0   2358158          A          C  0.0  0.0      0.0\n",
       "1   2358158          A          T  0.0  0.0      0.0\n",
       "2   2358158          A          G  0.0  0.0      0.0\n",
       "3   2358159          T          A  0.0  0.0      0.0\n",
       "4   2358159          T          C  0.0  0.0      0.0"
      ]
     },
     "execution_count": 39,
     "metadata": {},
     "output_type": "execute_result"
    }
   ],
   "source": [
    "allele_freq_df.head()"
   ]
  },
  {
   "cell_type": "markdown",
   "id": "modular-humor",
   "metadata": {},
   "source": [
    "### join dataframes together so we can do some filtering"
   ]
  },
  {
   "cell_type": "code",
   "execution_count": 40,
   "id": "starting-billion",
   "metadata": {},
   "outputs": [],
   "source": [
    "merged_df = pd.merge(snp_effects_df, allele_freq_df, on=['position', 'ref_allele', 'alt_allele'])"
   ]
  },
  {
   "cell_type": "code",
   "execution_count": 41,
   "id": "comfortable-coordination",
   "metadata": {},
   "outputs": [
    {
     "data": {
      "text/html": [
       "<div>\n",
       "<style scoped>\n",
       "    .dataframe tbody tr th:only-of-type {\n",
       "        vertical-align: middle;\n",
       "    }\n",
       "\n",
       "    .dataframe tbody tr th {\n",
       "        vertical-align: top;\n",
       "    }\n",
       "\n",
       "    .dataframe thead th {\n",
       "        text-align: right;\n",
       "    }\n",
       "</style>\n",
       "<table border=\"1\" class=\"dataframe\">\n",
       "  <thead>\n",
       "    <tr style=\"text-align: right;\">\n",
       "      <th></th>\n",
       "      <th>position</th>\n",
       "      <th>ref_allele</th>\n",
       "      <th>alt_allele</th>\n",
       "      <th>effect</th>\n",
       "      <th>impact</th>\n",
       "      <th>ref_codon</th>\n",
       "      <th>alt_codon</th>\n",
       "      <th>aa_pos</th>\n",
       "      <th>ref_aa</th>\n",
       "      <th>alt_aa</th>\n",
       "      <th>aa_change</th>\n",
       "      <th>ke</th>\n",
       "      <th>my</th>\n",
       "      <th>maximum</th>\n",
       "    </tr>\n",
       "  </thead>\n",
       "  <tbody>\n",
       "    <tr>\n",
       "      <th>0</th>\n",
       "      <td>2358158</td>\n",
       "      <td>A</td>\n",
       "      <td>C</td>\n",
       "      <td>START_LOST</td>\n",
       "      <td>HIGH</td>\n",
       "      <td>Atg</td>\n",
       "      <td>Ctg</td>\n",
       "      <td>1.0</td>\n",
       "      <td>M</td>\n",
       "      <td>L</td>\n",
       "      <td>M1L</td>\n",
       "      <td>0.0</td>\n",
       "      <td>0.0</td>\n",
       "      <td>0.0</td>\n",
       "    </tr>\n",
       "    <tr>\n",
       "      <th>1</th>\n",
       "      <td>2358158</td>\n",
       "      <td>A</td>\n",
       "      <td>T</td>\n",
       "      <td>START_LOST</td>\n",
       "      <td>HIGH</td>\n",
       "      <td>Atg</td>\n",
       "      <td>Ttg</td>\n",
       "      <td>1.0</td>\n",
       "      <td>M</td>\n",
       "      <td>L</td>\n",
       "      <td>M1L</td>\n",
       "      <td>0.0</td>\n",
       "      <td>0.0</td>\n",
       "      <td>0.0</td>\n",
       "    </tr>\n",
       "    <tr>\n",
       "      <th>2</th>\n",
       "      <td>2358158</td>\n",
       "      <td>A</td>\n",
       "      <td>G</td>\n",
       "      <td>START_LOST</td>\n",
       "      <td>HIGH</td>\n",
       "      <td>Atg</td>\n",
       "      <td>Gtg</td>\n",
       "      <td>1.0</td>\n",
       "      <td>M</td>\n",
       "      <td>V</td>\n",
       "      <td>M1V</td>\n",
       "      <td>0.0</td>\n",
       "      <td>0.0</td>\n",
       "      <td>0.0</td>\n",
       "    </tr>\n",
       "    <tr>\n",
       "      <th>3</th>\n",
       "      <td>2358159</td>\n",
       "      <td>T</td>\n",
       "      <td>A</td>\n",
       "      <td>NON_SYNONYMOUS_CODING</td>\n",
       "      <td>MODERATE</td>\n",
       "      <td>aTg</td>\n",
       "      <td>aAg</td>\n",
       "      <td>1.0</td>\n",
       "      <td>M</td>\n",
       "      <td>K</td>\n",
       "      <td>M1K</td>\n",
       "      <td>0.0</td>\n",
       "      <td>0.0</td>\n",
       "      <td>0.0</td>\n",
       "    </tr>\n",
       "    <tr>\n",
       "      <th>4</th>\n",
       "      <td>2358159</td>\n",
       "      <td>T</td>\n",
       "      <td>C</td>\n",
       "      <td>NON_SYNONYMOUS_CODING</td>\n",
       "      <td>MODERATE</td>\n",
       "      <td>aTg</td>\n",
       "      <td>aCg</td>\n",
       "      <td>1.0</td>\n",
       "      <td>M</td>\n",
       "      <td>T</td>\n",
       "      <td>M1T</td>\n",
       "      <td>0.0</td>\n",
       "      <td>0.0</td>\n",
       "      <td>0.0</td>\n",
       "    </tr>\n",
       "    <tr>\n",
       "      <th>...</th>\n",
       "      <td>...</td>\n",
       "      <td>...</td>\n",
       "      <td>...</td>\n",
       "      <td>...</td>\n",
       "      <td>...</td>\n",
       "      <td>...</td>\n",
       "      <td>...</td>\n",
       "      <td>...</td>\n",
       "      <td>...</td>\n",
       "      <td>...</td>\n",
       "      <td>...</td>\n",
       "      <td>...</td>\n",
       "      <td>...</td>\n",
       "      <td>...</td>\n",
       "    </tr>\n",
       "    <tr>\n",
       "      <th>132301</th>\n",
       "      <td>2431616</td>\n",
       "      <td>G</td>\n",
       "      <td>C</td>\n",
       "      <td>STOP_LOST</td>\n",
       "      <td>HIGH</td>\n",
       "      <td>tGa</td>\n",
       "      <td>tCa</td>\n",
       "      <td>2119.0</td>\n",
       "      <td>*</td>\n",
       "      <td>S</td>\n",
       "      <td>*2119S</td>\n",
       "      <td>0.0</td>\n",
       "      <td>0.0</td>\n",
       "      <td>0.0</td>\n",
       "    </tr>\n",
       "    <tr>\n",
       "      <th>132302</th>\n",
       "      <td>2431616</td>\n",
       "      <td>G</td>\n",
       "      <td>T</td>\n",
       "      <td>STOP_LOST</td>\n",
       "      <td>HIGH</td>\n",
       "      <td>tGa</td>\n",
       "      <td>tTa</td>\n",
       "      <td>2119.0</td>\n",
       "      <td>*</td>\n",
       "      <td>L</td>\n",
       "      <td>*2119L</td>\n",
       "      <td>0.0</td>\n",
       "      <td>0.0</td>\n",
       "      <td>0.0</td>\n",
       "    </tr>\n",
       "    <tr>\n",
       "      <th>132303</th>\n",
       "      <td>2431617</td>\n",
       "      <td>A</td>\n",
       "      <td>C</td>\n",
       "      <td>STOP_LOST</td>\n",
       "      <td>HIGH</td>\n",
       "      <td>tgA</td>\n",
       "      <td>tgC</td>\n",
       "      <td>2119.0</td>\n",
       "      <td>*</td>\n",
       "      <td>C</td>\n",
       "      <td>*2119C</td>\n",
       "      <td>0.0</td>\n",
       "      <td>0.0</td>\n",
       "      <td>0.0</td>\n",
       "    </tr>\n",
       "    <tr>\n",
       "      <th>132304</th>\n",
       "      <td>2431617</td>\n",
       "      <td>A</td>\n",
       "      <td>T</td>\n",
       "      <td>STOP_LOST</td>\n",
       "      <td>HIGH</td>\n",
       "      <td>tgA</td>\n",
       "      <td>tgT</td>\n",
       "      <td>2119.0</td>\n",
       "      <td>*</td>\n",
       "      <td>C</td>\n",
       "      <td>*2119C</td>\n",
       "      <td>0.0</td>\n",
       "      <td>0.0</td>\n",
       "      <td>0.0</td>\n",
       "    </tr>\n",
       "    <tr>\n",
       "      <th>132305</th>\n",
       "      <td>2431617</td>\n",
       "      <td>A</td>\n",
       "      <td>G</td>\n",
       "      <td>STOP_LOST</td>\n",
       "      <td>HIGH</td>\n",
       "      <td>tgA</td>\n",
       "      <td>tgG</td>\n",
       "      <td>2119.0</td>\n",
       "      <td>*</td>\n",
       "      <td>W</td>\n",
       "      <td>*2119W</td>\n",
       "      <td>0.0</td>\n",
       "      <td>0.0</td>\n",
       "      <td>0.0</td>\n",
       "    </tr>\n",
       "  </tbody>\n",
       "</table>\n",
       "<p>132306 rows × 14 columns</p>\n",
       "</div>"
      ],
      "text/plain": [
       "        position ref_allele alt_allele                 effect    impact  \\\n",
       "0        2358158          A          C             START_LOST      HIGH   \n",
       "1        2358158          A          T             START_LOST      HIGH   \n",
       "2        2358158          A          G             START_LOST      HIGH   \n",
       "3        2358159          T          A  NON_SYNONYMOUS_CODING  MODERATE   \n",
       "4        2358159          T          C  NON_SYNONYMOUS_CODING  MODERATE   \n",
       "...          ...        ...        ...                    ...       ...   \n",
       "132301   2431616          G          C              STOP_LOST      HIGH   \n",
       "132302   2431616          G          T              STOP_LOST      HIGH   \n",
       "132303   2431617          A          C              STOP_LOST      HIGH   \n",
       "132304   2431617          A          T              STOP_LOST      HIGH   \n",
       "132305   2431617          A          G              STOP_LOST      HIGH   \n",
       "\n",
       "       ref_codon alt_codon  aa_pos ref_aa alt_aa aa_change   ke   my  maximum  \n",
       "0            Atg       Ctg     1.0      M      L       M1L  0.0  0.0      0.0  \n",
       "1            Atg       Ttg     1.0      M      L       M1L  0.0  0.0      0.0  \n",
       "2            Atg       Gtg     1.0      M      V       M1V  0.0  0.0      0.0  \n",
       "3            aTg       aAg     1.0      M      K       M1K  0.0  0.0      0.0  \n",
       "4            aTg       aCg     1.0      M      T       M1T  0.0  0.0      0.0  \n",
       "...          ...       ...     ...    ...    ...       ...  ...  ...      ...  \n",
       "132301       tGa       tCa  2119.0      *      S    *2119S  0.0  0.0      0.0  \n",
       "132302       tGa       tTa  2119.0      *      L    *2119L  0.0  0.0      0.0  \n",
       "132303       tgA       tgC  2119.0      *      C    *2119C  0.0  0.0      0.0  \n",
       "132304       tgA       tgT  2119.0      *      C    *2119C  0.0  0.0      0.0  \n",
       "132305       tgA       tgG  2119.0      *      W    *2119W  0.0  0.0      0.0  \n",
       "\n",
       "[132306 rows x 14 columns]"
      ]
     },
     "execution_count": 41,
     "metadata": {},
     "output_type": "execute_result"
    }
   ],
   "source": [
    "merged_df"
   ]
  },
  {
   "cell_type": "markdown",
   "id": "declared-facing",
   "metadata": {},
   "source": [
    "### filter down to variants-of-interest"
   ]
  },
  {
   "cell_type": "code",
   "execution_count": 44,
   "id": "through-legislature",
   "metadata": {},
   "outputs": [],
   "source": [
    "#let's keep  variants that have MODERATE (e.g. NON-SYN) or HIGH (e.g. STOP-LOST) impact.\n",
    "impact_filtered_df = merged_df[(merged_df.impact == \"HIGH\") | (merged_df.impact == \"MODERATE\")].copy()"
   ]
  },
  {
   "cell_type": "code",
   "execution_count": 45,
   "id": "running-stick",
   "metadata": {},
   "outputs": [
    {
     "data": {
      "text/html": [
       "<div>\n",
       "<style scoped>\n",
       "    .dataframe tbody tr th:only-of-type {\n",
       "        vertical-align: middle;\n",
       "    }\n",
       "\n",
       "    .dataframe tbody tr th {\n",
       "        vertical-align: top;\n",
       "    }\n",
       "\n",
       "    .dataframe thead th {\n",
       "        text-align: right;\n",
       "    }\n",
       "</style>\n",
       "<table border=\"1\" class=\"dataframe\">\n",
       "  <thead>\n",
       "    <tr style=\"text-align: right;\">\n",
       "      <th></th>\n",
       "      <th>position</th>\n",
       "      <th>ref_allele</th>\n",
       "      <th>alt_allele</th>\n",
       "      <th>effect</th>\n",
       "      <th>impact</th>\n",
       "      <th>ref_codon</th>\n",
       "      <th>alt_codon</th>\n",
       "      <th>aa_pos</th>\n",
       "      <th>ref_aa</th>\n",
       "      <th>alt_aa</th>\n",
       "      <th>aa_change</th>\n",
       "      <th>ke</th>\n",
       "      <th>my</th>\n",
       "      <th>maximum</th>\n",
       "    </tr>\n",
       "  </thead>\n",
       "  <tbody>\n",
       "    <tr>\n",
       "      <th>0</th>\n",
       "      <td>2358158</td>\n",
       "      <td>A</td>\n",
       "      <td>C</td>\n",
       "      <td>START_LOST</td>\n",
       "      <td>HIGH</td>\n",
       "      <td>Atg</td>\n",
       "      <td>Ctg</td>\n",
       "      <td>1.0</td>\n",
       "      <td>M</td>\n",
       "      <td>L</td>\n",
       "      <td>M1L</td>\n",
       "      <td>0.0</td>\n",
       "      <td>0.0</td>\n",
       "      <td>0.0</td>\n",
       "    </tr>\n",
       "    <tr>\n",
       "      <th>1</th>\n",
       "      <td>2358158</td>\n",
       "      <td>A</td>\n",
       "      <td>T</td>\n",
       "      <td>START_LOST</td>\n",
       "      <td>HIGH</td>\n",
       "      <td>Atg</td>\n",
       "      <td>Ttg</td>\n",
       "      <td>1.0</td>\n",
       "      <td>M</td>\n",
       "      <td>L</td>\n",
       "      <td>M1L</td>\n",
       "      <td>0.0</td>\n",
       "      <td>0.0</td>\n",
       "      <td>0.0</td>\n",
       "    </tr>\n",
       "    <tr>\n",
       "      <th>2</th>\n",
       "      <td>2358158</td>\n",
       "      <td>A</td>\n",
       "      <td>G</td>\n",
       "      <td>START_LOST</td>\n",
       "      <td>HIGH</td>\n",
       "      <td>Atg</td>\n",
       "      <td>Gtg</td>\n",
       "      <td>1.0</td>\n",
       "      <td>M</td>\n",
       "      <td>V</td>\n",
       "      <td>M1V</td>\n",
       "      <td>0.0</td>\n",
       "      <td>0.0</td>\n",
       "      <td>0.0</td>\n",
       "    </tr>\n",
       "    <tr>\n",
       "      <th>3</th>\n",
       "      <td>2358159</td>\n",
       "      <td>T</td>\n",
       "      <td>A</td>\n",
       "      <td>NON_SYNONYMOUS_CODING</td>\n",
       "      <td>MODERATE</td>\n",
       "      <td>aTg</td>\n",
       "      <td>aAg</td>\n",
       "      <td>1.0</td>\n",
       "      <td>M</td>\n",
       "      <td>K</td>\n",
       "      <td>M1K</td>\n",
       "      <td>0.0</td>\n",
       "      <td>0.0</td>\n",
       "      <td>0.0</td>\n",
       "    </tr>\n",
       "    <tr>\n",
       "      <th>4</th>\n",
       "      <td>2358159</td>\n",
       "      <td>T</td>\n",
       "      <td>C</td>\n",
       "      <td>NON_SYNONYMOUS_CODING</td>\n",
       "      <td>MODERATE</td>\n",
       "      <td>aTg</td>\n",
       "      <td>aCg</td>\n",
       "      <td>1.0</td>\n",
       "      <td>M</td>\n",
       "      <td>T</td>\n",
       "      <td>M1T</td>\n",
       "      <td>0.0</td>\n",
       "      <td>0.0</td>\n",
       "      <td>0.0</td>\n",
       "    </tr>\n",
       "  </tbody>\n",
       "</table>\n",
       "</div>"
      ],
      "text/plain": [
       "   position ref_allele alt_allele                 effect    impact ref_codon  \\\n",
       "0   2358158          A          C             START_LOST      HIGH       Atg   \n",
       "1   2358158          A          T             START_LOST      HIGH       Atg   \n",
       "2   2358158          A          G             START_LOST      HIGH       Atg   \n",
       "3   2358159          T          A  NON_SYNONYMOUS_CODING  MODERATE       aTg   \n",
       "4   2358159          T          C  NON_SYNONYMOUS_CODING  MODERATE       aTg   \n",
       "\n",
       "  alt_codon  aa_pos ref_aa alt_aa aa_change   ke   my  maximum  \n",
       "0       Ctg     1.0      M      L       M1L  0.0  0.0      0.0  \n",
       "1       Ttg     1.0      M      L       M1L  0.0  0.0      0.0  \n",
       "2       Gtg     1.0      M      V       M1V  0.0  0.0      0.0  \n",
       "3       aAg     1.0      M      K       M1K  0.0  0.0      0.0  \n",
       "4       aCg     1.0      M      T       M1T  0.0  0.0      0.0  "
      ]
     },
     "execution_count": 45,
     "metadata": {},
     "output_type": "execute_result"
    }
   ],
   "source": [
    "impact_filtered_df.head()"
   ]
  },
  {
   "cell_type": "code",
   "execution_count": 47,
   "id": "delayed-saint",
   "metadata": {},
   "outputs": [],
   "source": [
    "#next, we can remove invariant positions (where maximum allele frequency is >0)\n",
    "freq_filtered_df = impact_filtered_df[impact_filtered_df.maximum > 0].copy()"
   ]
  },
  {
   "cell_type": "code",
   "execution_count": 48,
   "id": "sunset-charles",
   "metadata": {},
   "outputs": [
    {
     "data": {
      "text/html": [
       "<div>\n",
       "<style scoped>\n",
       "    .dataframe tbody tr th:only-of-type {\n",
       "        vertical-align: middle;\n",
       "    }\n",
       "\n",
       "    .dataframe tbody tr th {\n",
       "        vertical-align: top;\n",
       "    }\n",
       "\n",
       "    .dataframe thead th {\n",
       "        text-align: right;\n",
       "    }\n",
       "</style>\n",
       "<table border=\"1\" class=\"dataframe\">\n",
       "  <thead>\n",
       "    <tr style=\"text-align: right;\">\n",
       "      <th></th>\n",
       "      <th>position</th>\n",
       "      <th>ref_allele</th>\n",
       "      <th>alt_allele</th>\n",
       "      <th>effect</th>\n",
       "      <th>impact</th>\n",
       "      <th>ref_codon</th>\n",
       "      <th>alt_codon</th>\n",
       "      <th>aa_pos</th>\n",
       "      <th>ref_aa</th>\n",
       "      <th>alt_aa</th>\n",
       "      <th>aa_change</th>\n",
       "      <th>ke</th>\n",
       "      <th>my</th>\n",
       "      <th>maximum</th>\n",
       "    </tr>\n",
       "  </thead>\n",
       "  <tbody>\n",
       "    <tr>\n",
       "      <th>33583</th>\n",
       "      <td>2382308</td>\n",
       "      <td>T</td>\n",
       "      <td>C</td>\n",
       "      <td>NON_SYNONYMOUS_CODING</td>\n",
       "      <td>MODERATE</td>\n",
       "      <td>gTa</td>\n",
       "      <td>gCa</td>\n",
       "      <td>177.0</td>\n",
       "      <td>V</td>\n",
       "      <td>A</td>\n",
       "      <td>V177A</td>\n",
       "      <td>0.013889</td>\n",
       "      <td>0.000000</td>\n",
       "      <td>0.013889</td>\n",
       "    </tr>\n",
       "    <tr>\n",
       "      <th>80269</th>\n",
       "      <td>2403275</td>\n",
       "      <td>C</td>\n",
       "      <td>T</td>\n",
       "      <td>SPLICE_REGION</td>\n",
       "      <td>MODERATE</td>\n",
       "      <td>None</td>\n",
       "      <td>None</td>\n",
       "      <td>NaN</td>\n",
       "      <td>None</td>\n",
       "      <td>None</td>\n",
       "      <td>None</td>\n",
       "      <td>0.013889</td>\n",
       "      <td>0.000000</td>\n",
       "      <td>0.013889</td>\n",
       "    </tr>\n",
       "    <tr>\n",
       "      <th>92962</th>\n",
       "      <td>2416877</td>\n",
       "      <td>A</td>\n",
       "      <td>T</td>\n",
       "      <td>NON_SYNONYMOUS_CODING</td>\n",
       "      <td>MODERATE</td>\n",
       "      <td>Atg</td>\n",
       "      <td>Ttg</td>\n",
       "      <td>757.0</td>\n",
       "      <td>M</td>\n",
       "      <td>L</td>\n",
       "      <td>M757L</td>\n",
       "      <td>0.000000</td>\n",
       "      <td>0.065217</td>\n",
       "      <td>0.065217</td>\n",
       "    </tr>\n",
       "    <tr>\n",
       "      <th>93229</th>\n",
       "      <td>2416980</td>\n",
       "      <td>C</td>\n",
       "      <td>T</td>\n",
       "      <td>NON_SYNONYMOUS_CODING</td>\n",
       "      <td>MODERATE</td>\n",
       "      <td>aCg</td>\n",
       "      <td>aTg</td>\n",
       "      <td>791.0</td>\n",
       "      <td>T</td>\n",
       "      <td>M</td>\n",
       "      <td>T791M</td>\n",
       "      <td>0.388889</td>\n",
       "      <td>0.000000</td>\n",
       "      <td>0.388889</td>\n",
       "    </tr>\n",
       "    <tr>\n",
       "      <th>105679</th>\n",
       "      <td>2422609</td>\n",
       "      <td>C</td>\n",
       "      <td>T</td>\n",
       "      <td>NON_SYNONYMOUS_CODING</td>\n",
       "      <td>MODERATE</td>\n",
       "      <td>tCc</td>\n",
       "      <td>tTc</td>\n",
       "      <td>981.0</td>\n",
       "      <td>S</td>\n",
       "      <td>F</td>\n",
       "      <td>S981F</td>\n",
       "      <td>0.000000</td>\n",
       "      <td>0.021739</td>\n",
       "      <td>0.021739</td>\n",
       "    </tr>\n",
       "    <tr>\n",
       "      <th>105808</th>\n",
       "      <td>2422652</td>\n",
       "      <td>A</td>\n",
       "      <td>T</td>\n",
       "      <td>NON_SYNONYMOUS_CODING</td>\n",
       "      <td>MODERATE</td>\n",
       "      <td>ttA</td>\n",
       "      <td>ttT</td>\n",
       "      <td>995.0</td>\n",
       "      <td>L</td>\n",
       "      <td>F</td>\n",
       "      <td>L995F</td>\n",
       "      <td>1.000000</td>\n",
       "      <td>0.000000</td>\n",
       "      <td>1.000000</td>\n",
       "    </tr>\n",
       "    <tr>\n",
       "      <th>126700</th>\n",
       "      <td>2429745</td>\n",
       "      <td>A</td>\n",
       "      <td>T</td>\n",
       "      <td>NON_SYNONYMOUS_CODING</td>\n",
       "      <td>MODERATE</td>\n",
       "      <td>Aat</td>\n",
       "      <td>Tat</td>\n",
       "      <td>1570.0</td>\n",
       "      <td>N</td>\n",
       "      <td>Y</td>\n",
       "      <td>N1570Y</td>\n",
       "      <td>0.111111</td>\n",
       "      <td>0.000000</td>\n",
       "      <td>0.111111</td>\n",
       "    </tr>\n",
       "    <tr>\n",
       "      <th>128732</th>\n",
       "      <td>2430424</td>\n",
       "      <td>G</td>\n",
       "      <td>T</td>\n",
       "      <td>NON_SYNONYMOUS_CODING</td>\n",
       "      <td>MODERATE</td>\n",
       "      <td>Gcc</td>\n",
       "      <td>Tcc</td>\n",
       "      <td>1746.0</td>\n",
       "      <td>A</td>\n",
       "      <td>S</td>\n",
       "      <td>A1746S</td>\n",
       "      <td>0.375000</td>\n",
       "      <td>0.000000</td>\n",
       "      <td>0.375000</td>\n",
       "    </tr>\n",
       "    <tr>\n",
       "      <th>129906</th>\n",
       "      <td>2430817</td>\n",
       "      <td>G</td>\n",
       "      <td>A</td>\n",
       "      <td>NON_SYNONYMOUS_CODING</td>\n",
       "      <td>MODERATE</td>\n",
       "      <td>Gtt</td>\n",
       "      <td>Att</td>\n",
       "      <td>1853.0</td>\n",
       "      <td>V</td>\n",
       "      <td>I</td>\n",
       "      <td>V1853I</td>\n",
       "      <td>0.305556</td>\n",
       "      <td>0.000000</td>\n",
       "      <td>0.305556</td>\n",
       "    </tr>\n",
       "    <tr>\n",
       "      <th>130045</th>\n",
       "      <td>2430863</td>\n",
       "      <td>T</td>\n",
       "      <td>C</td>\n",
       "      <td>NON_SYNONYMOUS_CODING</td>\n",
       "      <td>MODERATE</td>\n",
       "      <td>aTa</td>\n",
       "      <td>aCa</td>\n",
       "      <td>1868.0</td>\n",
       "      <td>I</td>\n",
       "      <td>T</td>\n",
       "      <td>I1868T</td>\n",
       "      <td>0.097222</td>\n",
       "      <td>0.000000</td>\n",
       "      <td>0.097222</td>\n",
       "    </tr>\n",
       "    <tr>\n",
       "      <th>130099</th>\n",
       "      <td>2430881</td>\n",
       "      <td>C</td>\n",
       "      <td>T</td>\n",
       "      <td>NON_SYNONYMOUS_CODING</td>\n",
       "      <td>MODERATE</td>\n",
       "      <td>cCt</td>\n",
       "      <td>cTt</td>\n",
       "      <td>1874.0</td>\n",
       "      <td>P</td>\n",
       "      <td>L</td>\n",
       "      <td>P1874L</td>\n",
       "      <td>0.097222</td>\n",
       "      <td>0.000000</td>\n",
       "      <td>0.097222</td>\n",
       "    </tr>\n",
       "    <tr>\n",
       "      <th>130817</th>\n",
       "      <td>2431120</td>\n",
       "      <td>G</td>\n",
       "      <td>T</td>\n",
       "      <td>NON_SYNONYMOUS_CODING</td>\n",
       "      <td>MODERATE</td>\n",
       "      <td>Gac</td>\n",
       "      <td>Tac</td>\n",
       "      <td>1954.0</td>\n",
       "      <td>D</td>\n",
       "      <td>Y</td>\n",
       "      <td>D1954Y</td>\n",
       "      <td>0.000000</td>\n",
       "      <td>0.021739</td>\n",
       "      <td>0.021739</td>\n",
       "    </tr>\n",
       "  </tbody>\n",
       "</table>\n",
       "</div>"
      ],
      "text/plain": [
       "        position ref_allele alt_allele                 effect    impact  \\\n",
       "33583    2382308          T          C  NON_SYNONYMOUS_CODING  MODERATE   \n",
       "80269    2403275          C          T          SPLICE_REGION  MODERATE   \n",
       "92962    2416877          A          T  NON_SYNONYMOUS_CODING  MODERATE   \n",
       "93229    2416980          C          T  NON_SYNONYMOUS_CODING  MODERATE   \n",
       "105679   2422609          C          T  NON_SYNONYMOUS_CODING  MODERATE   \n",
       "105808   2422652          A          T  NON_SYNONYMOUS_CODING  MODERATE   \n",
       "126700   2429745          A          T  NON_SYNONYMOUS_CODING  MODERATE   \n",
       "128732   2430424          G          T  NON_SYNONYMOUS_CODING  MODERATE   \n",
       "129906   2430817          G          A  NON_SYNONYMOUS_CODING  MODERATE   \n",
       "130045   2430863          T          C  NON_SYNONYMOUS_CODING  MODERATE   \n",
       "130099   2430881          C          T  NON_SYNONYMOUS_CODING  MODERATE   \n",
       "130817   2431120          G          T  NON_SYNONYMOUS_CODING  MODERATE   \n",
       "\n",
       "       ref_codon alt_codon  aa_pos ref_aa alt_aa aa_change        ke  \\\n",
       "33583        gTa       gCa   177.0      V      A     V177A  0.013889   \n",
       "80269       None      None     NaN   None   None      None  0.013889   \n",
       "92962        Atg       Ttg   757.0      M      L     M757L  0.000000   \n",
       "93229        aCg       aTg   791.0      T      M     T791M  0.388889   \n",
       "105679       tCc       tTc   981.0      S      F     S981F  0.000000   \n",
       "105808       ttA       ttT   995.0      L      F     L995F  1.000000   \n",
       "126700       Aat       Tat  1570.0      N      Y    N1570Y  0.111111   \n",
       "128732       Gcc       Tcc  1746.0      A      S    A1746S  0.375000   \n",
       "129906       Gtt       Att  1853.0      V      I    V1853I  0.305556   \n",
       "130045       aTa       aCa  1868.0      I      T    I1868T  0.097222   \n",
       "130099       cCt       cTt  1874.0      P      L    P1874L  0.097222   \n",
       "130817       Gac       Tac  1954.0      D      Y    D1954Y  0.000000   \n",
       "\n",
       "              my   maximum  \n",
       "33583   0.000000  0.013889  \n",
       "80269   0.000000  0.013889  \n",
       "92962   0.065217  0.065217  \n",
       "93229   0.000000  0.388889  \n",
       "105679  0.021739  0.021739  \n",
       "105808  0.000000  1.000000  \n",
       "126700  0.000000  0.111111  \n",
       "128732  0.000000  0.375000  \n",
       "129906  0.000000  0.305556  \n",
       "130045  0.000000  0.097222  \n",
       "130099  0.000000  0.097222  \n",
       "130817  0.021739  0.021739  "
      ]
     },
     "execution_count": 48,
     "metadata": {},
     "output_type": "execute_result"
    }
   ],
   "source": [
    "freq_filtered_df"
   ]
  },
  {
   "cell_type": "markdown",
   "id": "enormous-month",
   "metadata": {},
   "source": [
    "### plot"
   ]
  },
  {
   "cell_type": "code",
   "execution_count": 68,
   "id": "useful-receipt",
   "metadata": {},
   "outputs": [
    {
     "data": {
      "text/plain": [
       "['k',\n",
       " 'k',\n",
       " 'k',\n",
       " 'k',\n",
       " 'k',\n",
       " 'k',\n",
       " 'k',\n",
       " 'k',\n",
       " 'k',\n",
       " 'k',\n",
       " 'k',\n",
       " 'k',\n",
       " 'm',\n",
       " 'm',\n",
       " 'm',\n",
       " 'm',\n",
       " 'm',\n",
       " 'm',\n",
       " 'm',\n",
       " 'm',\n",
       " 'm',\n",
       " 'm',\n",
       " 'm',\n",
       " 'm']"
      ]
     },
     "execution_count": 68,
     "metadata": {},
     "output_type": "execute_result"
    }
   ],
   "source": [
    "list('k' * len(list(freq_filtered_df.ke)))+list('m' * len(list(freq_filtered_df.my)))"
   ]
  },
  {
   "cell_type": "code",
   "execution_count": 73,
   "id": "aware-optimum",
   "metadata": {},
   "outputs": [],
   "source": [
    "# first we need a plotly friendly dataframe... \n",
    "# TODO make this work whatever the number of pops and make is less ugly!\n",
    "plotly_cols = {\n",
    "    'position' : list(freq_filtered_df.position)+list(freq_filtered_df.position),\n",
    "    'effect' : list(freq_filtered_df.effect)+list(freq_filtered_df.effect),\n",
    "    'frequency' : list(freq_filtered_df.ke)+list(freq_filtered_df.my),\n",
    "    'population' : list('k' * len(list(freq_filtered_df.ke)))+list('m' * len(list(freq_filtered_df.my)))\n",
    "}"
   ]
  },
  {
   "cell_type": "code",
   "execution_count": 74,
   "id": "noble-dimension",
   "metadata": {},
   "outputs": [],
   "source": [
    "plotly_df = pd.DataFrame(plotly_cols)"
   ]
  },
  {
   "cell_type": "code",
   "execution_count": 75,
   "id": "brave-council",
   "metadata": {},
   "outputs": [
    {
     "data": {
      "application/vnd.plotly.v1+json": {
       "config": {
        "plotlyServerURL": "https://plot.ly"
       },
       "data": [
        {
         "hovertemplate": "population=k<br>effect=NON_SYNONYMOUS_CODING<br>position=%{x}<br>frequency=%{y}<extra></extra>",
         "legendgroup": "k, NON_SYNONYMOUS_CODING",
         "marker": {
          "color": "#636efa",
          "symbol": "circle"
         },
         "mode": "markers",
         "name": "k, NON_SYNONYMOUS_CODING",
         "orientation": "v",
         "showlegend": true,
         "type": "scatter",
         "x": [
          2382308,
          2416877,
          2416980,
          2422609,
          2422652,
          2429745,
          2430424,
          2430817,
          2430863,
          2430881,
          2431120
         ],
         "xaxis": "x",
         "y": [
          0.013888888888888888,
          0,
          0.3888888888888889,
          0,
          1,
          0.1111111111111111,
          0.375,
          0.3055555555555556,
          0.09722222222222222,
          0.09722222222222222,
          0
         ],
         "yaxis": "y"
        },
        {
         "hovertemplate": "population=k<br>effect=SPLICE_REGION<br>position=%{x}<br>frequency=%{y}<extra></extra>",
         "legendgroup": "k, SPLICE_REGION",
         "marker": {
          "color": "#636efa",
          "symbol": "diamond"
         },
         "mode": "markers",
         "name": "k, SPLICE_REGION",
         "orientation": "v",
         "showlegend": true,
         "type": "scatter",
         "x": [
          2403275
         ],
         "xaxis": "x",
         "y": [
          0.013888888888888888
         ],
         "yaxis": "y"
        },
        {
         "hovertemplate": "population=m<br>effect=NON_SYNONYMOUS_CODING<br>position=%{x}<br>frequency=%{y}<extra></extra>",
         "legendgroup": "m, NON_SYNONYMOUS_CODING",
         "marker": {
          "color": "#EF553B",
          "symbol": "circle"
         },
         "mode": "markers",
         "name": "m, NON_SYNONYMOUS_CODING",
         "orientation": "v",
         "showlegend": true,
         "type": "scatter",
         "x": [
          2382308,
          2416877,
          2416980,
          2422609,
          2422652,
          2429745,
          2430424,
          2430817,
          2430863,
          2430881,
          2431120
         ],
         "xaxis": "x",
         "y": [
          0,
          0.06521739130434782,
          0,
          0.021739130434782608,
          0,
          0,
          0,
          0,
          0,
          0,
          0.021739130434782608
         ],
         "yaxis": "y"
        },
        {
         "hovertemplate": "population=m<br>effect=SPLICE_REGION<br>position=%{x}<br>frequency=%{y}<extra></extra>",
         "legendgroup": "m, SPLICE_REGION",
         "marker": {
          "color": "#EF553B",
          "symbol": "diamond"
         },
         "mode": "markers",
         "name": "m, SPLICE_REGION",
         "orientation": "v",
         "showlegend": true,
         "type": "scatter",
         "x": [
          2403275
         ],
         "xaxis": "x",
         "y": [
          0
         ],
         "yaxis": "y"
        }
       ],
       "layout": {
        "legend": {
         "title": {
          "text": "population, effect"
         },
         "tracegroupgap": 0
        },
        "margin": {
         "t": 60
        },
        "template": {
         "data": {
          "bar": [
           {
            "error_x": {
             "color": "#2a3f5f"
            },
            "error_y": {
             "color": "#2a3f5f"
            },
            "marker": {
             "line": {
              "color": "#E5ECF6",
              "width": 0.5
             }
            },
            "type": "bar"
           }
          ],
          "barpolar": [
           {
            "marker": {
             "line": {
              "color": "#E5ECF6",
              "width": 0.5
             }
            },
            "type": "barpolar"
           }
          ],
          "carpet": [
           {
            "aaxis": {
             "endlinecolor": "#2a3f5f",
             "gridcolor": "white",
             "linecolor": "white",
             "minorgridcolor": "white",
             "startlinecolor": "#2a3f5f"
            },
            "baxis": {
             "endlinecolor": "#2a3f5f",
             "gridcolor": "white",
             "linecolor": "white",
             "minorgridcolor": "white",
             "startlinecolor": "#2a3f5f"
            },
            "type": "carpet"
           }
          ],
          "choropleth": [
           {
            "colorbar": {
             "outlinewidth": 0,
             "ticks": ""
            },
            "type": "choropleth"
           }
          ],
          "contour": [
           {
            "colorbar": {
             "outlinewidth": 0,
             "ticks": ""
            },
            "colorscale": [
             [
              0,
              "#0d0887"
             ],
             [
              0.1111111111111111,
              "#46039f"
             ],
             [
              0.2222222222222222,
              "#7201a8"
             ],
             [
              0.3333333333333333,
              "#9c179e"
             ],
             [
              0.4444444444444444,
              "#bd3786"
             ],
             [
              0.5555555555555556,
              "#d8576b"
             ],
             [
              0.6666666666666666,
              "#ed7953"
             ],
             [
              0.7777777777777778,
              "#fb9f3a"
             ],
             [
              0.8888888888888888,
              "#fdca26"
             ],
             [
              1,
              "#f0f921"
             ]
            ],
            "type": "contour"
           }
          ],
          "contourcarpet": [
           {
            "colorbar": {
             "outlinewidth": 0,
             "ticks": ""
            },
            "type": "contourcarpet"
           }
          ],
          "heatmap": [
           {
            "colorbar": {
             "outlinewidth": 0,
             "ticks": ""
            },
            "colorscale": [
             [
              0,
              "#0d0887"
             ],
             [
              0.1111111111111111,
              "#46039f"
             ],
             [
              0.2222222222222222,
              "#7201a8"
             ],
             [
              0.3333333333333333,
              "#9c179e"
             ],
             [
              0.4444444444444444,
              "#bd3786"
             ],
             [
              0.5555555555555556,
              "#d8576b"
             ],
             [
              0.6666666666666666,
              "#ed7953"
             ],
             [
              0.7777777777777778,
              "#fb9f3a"
             ],
             [
              0.8888888888888888,
              "#fdca26"
             ],
             [
              1,
              "#f0f921"
             ]
            ],
            "type": "heatmap"
           }
          ],
          "heatmapgl": [
           {
            "colorbar": {
             "outlinewidth": 0,
             "ticks": ""
            },
            "colorscale": [
             [
              0,
              "#0d0887"
             ],
             [
              0.1111111111111111,
              "#46039f"
             ],
             [
              0.2222222222222222,
              "#7201a8"
             ],
             [
              0.3333333333333333,
              "#9c179e"
             ],
             [
              0.4444444444444444,
              "#bd3786"
             ],
             [
              0.5555555555555556,
              "#d8576b"
             ],
             [
              0.6666666666666666,
              "#ed7953"
             ],
             [
              0.7777777777777778,
              "#fb9f3a"
             ],
             [
              0.8888888888888888,
              "#fdca26"
             ],
             [
              1,
              "#f0f921"
             ]
            ],
            "type": "heatmapgl"
           }
          ],
          "histogram": [
           {
            "marker": {
             "colorbar": {
              "outlinewidth": 0,
              "ticks": ""
             }
            },
            "type": "histogram"
           }
          ],
          "histogram2d": [
           {
            "colorbar": {
             "outlinewidth": 0,
             "ticks": ""
            },
            "colorscale": [
             [
              0,
              "#0d0887"
             ],
             [
              0.1111111111111111,
              "#46039f"
             ],
             [
              0.2222222222222222,
              "#7201a8"
             ],
             [
              0.3333333333333333,
              "#9c179e"
             ],
             [
              0.4444444444444444,
              "#bd3786"
             ],
             [
              0.5555555555555556,
              "#d8576b"
             ],
             [
              0.6666666666666666,
              "#ed7953"
             ],
             [
              0.7777777777777778,
              "#fb9f3a"
             ],
             [
              0.8888888888888888,
              "#fdca26"
             ],
             [
              1,
              "#f0f921"
             ]
            ],
            "type": "histogram2d"
           }
          ],
          "histogram2dcontour": [
           {
            "colorbar": {
             "outlinewidth": 0,
             "ticks": ""
            },
            "colorscale": [
             [
              0,
              "#0d0887"
             ],
             [
              0.1111111111111111,
              "#46039f"
             ],
             [
              0.2222222222222222,
              "#7201a8"
             ],
             [
              0.3333333333333333,
              "#9c179e"
             ],
             [
              0.4444444444444444,
              "#bd3786"
             ],
             [
              0.5555555555555556,
              "#d8576b"
             ],
             [
              0.6666666666666666,
              "#ed7953"
             ],
             [
              0.7777777777777778,
              "#fb9f3a"
             ],
             [
              0.8888888888888888,
              "#fdca26"
             ],
             [
              1,
              "#f0f921"
             ]
            ],
            "type": "histogram2dcontour"
           }
          ],
          "mesh3d": [
           {
            "colorbar": {
             "outlinewidth": 0,
             "ticks": ""
            },
            "type": "mesh3d"
           }
          ],
          "parcoords": [
           {
            "line": {
             "colorbar": {
              "outlinewidth": 0,
              "ticks": ""
             }
            },
            "type": "parcoords"
           }
          ],
          "pie": [
           {
            "automargin": true,
            "type": "pie"
           }
          ],
          "scatter": [
           {
            "marker": {
             "colorbar": {
              "outlinewidth": 0,
              "ticks": ""
             }
            },
            "type": "scatter"
           }
          ],
          "scatter3d": [
           {
            "line": {
             "colorbar": {
              "outlinewidth": 0,
              "ticks": ""
             }
            },
            "marker": {
             "colorbar": {
              "outlinewidth": 0,
              "ticks": ""
             }
            },
            "type": "scatter3d"
           }
          ],
          "scattercarpet": [
           {
            "marker": {
             "colorbar": {
              "outlinewidth": 0,
              "ticks": ""
             }
            },
            "type": "scattercarpet"
           }
          ],
          "scattergeo": [
           {
            "marker": {
             "colorbar": {
              "outlinewidth": 0,
              "ticks": ""
             }
            },
            "type": "scattergeo"
           }
          ],
          "scattergl": [
           {
            "marker": {
             "colorbar": {
              "outlinewidth": 0,
              "ticks": ""
             }
            },
            "type": "scattergl"
           }
          ],
          "scattermapbox": [
           {
            "marker": {
             "colorbar": {
              "outlinewidth": 0,
              "ticks": ""
             }
            },
            "type": "scattermapbox"
           }
          ],
          "scatterpolar": [
           {
            "marker": {
             "colorbar": {
              "outlinewidth": 0,
              "ticks": ""
             }
            },
            "type": "scatterpolar"
           }
          ],
          "scatterpolargl": [
           {
            "marker": {
             "colorbar": {
              "outlinewidth": 0,
              "ticks": ""
             }
            },
            "type": "scatterpolargl"
           }
          ],
          "scatterternary": [
           {
            "marker": {
             "colorbar": {
              "outlinewidth": 0,
              "ticks": ""
             }
            },
            "type": "scatterternary"
           }
          ],
          "surface": [
           {
            "colorbar": {
             "outlinewidth": 0,
             "ticks": ""
            },
            "colorscale": [
             [
              0,
              "#0d0887"
             ],
             [
              0.1111111111111111,
              "#46039f"
             ],
             [
              0.2222222222222222,
              "#7201a8"
             ],
             [
              0.3333333333333333,
              "#9c179e"
             ],
             [
              0.4444444444444444,
              "#bd3786"
             ],
             [
              0.5555555555555556,
              "#d8576b"
             ],
             [
              0.6666666666666666,
              "#ed7953"
             ],
             [
              0.7777777777777778,
              "#fb9f3a"
             ],
             [
              0.8888888888888888,
              "#fdca26"
             ],
             [
              1,
              "#f0f921"
             ]
            ],
            "type": "surface"
           }
          ],
          "table": [
           {
            "cells": {
             "fill": {
              "color": "#EBF0F8"
             },
             "line": {
              "color": "white"
             }
            },
            "header": {
             "fill": {
              "color": "#C8D4E3"
             },
             "line": {
              "color": "white"
             }
            },
            "type": "table"
           }
          ]
         },
         "layout": {
          "annotationdefaults": {
           "arrowcolor": "#2a3f5f",
           "arrowhead": 0,
           "arrowwidth": 1
          },
          "autotypenumbers": "strict",
          "coloraxis": {
           "colorbar": {
            "outlinewidth": 0,
            "ticks": ""
           }
          },
          "colorscale": {
           "diverging": [
            [
             0,
             "#8e0152"
            ],
            [
             0.1,
             "#c51b7d"
            ],
            [
             0.2,
             "#de77ae"
            ],
            [
             0.3,
             "#f1b6da"
            ],
            [
             0.4,
             "#fde0ef"
            ],
            [
             0.5,
             "#f7f7f7"
            ],
            [
             0.6,
             "#e6f5d0"
            ],
            [
             0.7,
             "#b8e186"
            ],
            [
             0.8,
             "#7fbc41"
            ],
            [
             0.9,
             "#4d9221"
            ],
            [
             1,
             "#276419"
            ]
           ],
           "sequential": [
            [
             0,
             "#0d0887"
            ],
            [
             0.1111111111111111,
             "#46039f"
            ],
            [
             0.2222222222222222,
             "#7201a8"
            ],
            [
             0.3333333333333333,
             "#9c179e"
            ],
            [
             0.4444444444444444,
             "#bd3786"
            ],
            [
             0.5555555555555556,
             "#d8576b"
            ],
            [
             0.6666666666666666,
             "#ed7953"
            ],
            [
             0.7777777777777778,
             "#fb9f3a"
            ],
            [
             0.8888888888888888,
             "#fdca26"
            ],
            [
             1,
             "#f0f921"
            ]
           ],
           "sequentialminus": [
            [
             0,
             "#0d0887"
            ],
            [
             0.1111111111111111,
             "#46039f"
            ],
            [
             0.2222222222222222,
             "#7201a8"
            ],
            [
             0.3333333333333333,
             "#9c179e"
            ],
            [
             0.4444444444444444,
             "#bd3786"
            ],
            [
             0.5555555555555556,
             "#d8576b"
            ],
            [
             0.6666666666666666,
             "#ed7953"
            ],
            [
             0.7777777777777778,
             "#fb9f3a"
            ],
            [
             0.8888888888888888,
             "#fdca26"
            ],
            [
             1,
             "#f0f921"
            ]
           ]
          },
          "colorway": [
           "#636efa",
           "#EF553B",
           "#00cc96",
           "#ab63fa",
           "#FFA15A",
           "#19d3f3",
           "#FF6692",
           "#B6E880",
           "#FF97FF",
           "#FECB52"
          ],
          "font": {
           "color": "#2a3f5f"
          },
          "geo": {
           "bgcolor": "white",
           "lakecolor": "white",
           "landcolor": "#E5ECF6",
           "showlakes": true,
           "showland": true,
           "subunitcolor": "white"
          },
          "hoverlabel": {
           "align": "left"
          },
          "hovermode": "closest",
          "mapbox": {
           "style": "light"
          },
          "paper_bgcolor": "white",
          "plot_bgcolor": "#E5ECF6",
          "polar": {
           "angularaxis": {
            "gridcolor": "white",
            "linecolor": "white",
            "ticks": ""
           },
           "bgcolor": "#E5ECF6",
           "radialaxis": {
            "gridcolor": "white",
            "linecolor": "white",
            "ticks": ""
           }
          },
          "scene": {
           "xaxis": {
            "backgroundcolor": "#E5ECF6",
            "gridcolor": "white",
            "gridwidth": 2,
            "linecolor": "white",
            "showbackground": true,
            "ticks": "",
            "zerolinecolor": "white"
           },
           "yaxis": {
            "backgroundcolor": "#E5ECF6",
            "gridcolor": "white",
            "gridwidth": 2,
            "linecolor": "white",
            "showbackground": true,
            "ticks": "",
            "zerolinecolor": "white"
           },
           "zaxis": {
            "backgroundcolor": "#E5ECF6",
            "gridcolor": "white",
            "gridwidth": 2,
            "linecolor": "white",
            "showbackground": true,
            "ticks": "",
            "zerolinecolor": "white"
           }
          },
          "shapedefaults": {
           "line": {
            "color": "#2a3f5f"
           }
          },
          "ternary": {
           "aaxis": {
            "gridcolor": "white",
            "linecolor": "white",
            "ticks": ""
           },
           "baxis": {
            "gridcolor": "white",
            "linecolor": "white",
            "ticks": ""
           },
           "bgcolor": "#E5ECF6",
           "caxis": {
            "gridcolor": "white",
            "linecolor": "white",
            "ticks": ""
           }
          },
          "title": {
           "x": 0.05
          },
          "xaxis": {
           "automargin": true,
           "gridcolor": "white",
           "linecolor": "white",
           "ticks": "",
           "title": {
            "standoff": 15
           },
           "zerolinecolor": "white",
           "zerolinewidth": 2
          },
          "yaxis": {
           "automargin": true,
           "gridcolor": "white",
           "linecolor": "white",
           "ticks": "",
           "title": {
            "standoff": 15
           },
           "zerolinecolor": "white",
           "zerolinewidth": 2
          }
         }
        },
        "xaxis": {
         "anchor": "y",
         "domain": [
          0,
          1
         ],
         "title": {
          "text": "position"
         }
        },
        "yaxis": {
         "anchor": "x",
         "domain": [
          0,
          1
         ],
         "title": {
          "text": "frequency"
         }
        }
       }
      },
      "text/html": [
       "<div>                            <div id=\"65d191d1-b977-4ce1-9daf-8cf70d574388\" class=\"plotly-graph-div\" style=\"height:525px; width:100%;\"></div>            <script type=\"text/javascript\">                require([\"plotly\"], function(Plotly) {                    window.PLOTLYENV=window.PLOTLYENV || {};                                    if (document.getElementById(\"65d191d1-b977-4ce1-9daf-8cf70d574388\")) {                    Plotly.newPlot(                        \"65d191d1-b977-4ce1-9daf-8cf70d574388\",                        [{\"hovertemplate\": \"population=k<br>effect=NON_SYNONYMOUS_CODING<br>position=%{x}<br>frequency=%{y}<extra></extra>\", \"legendgroup\": \"k, NON_SYNONYMOUS_CODING\", \"marker\": {\"color\": \"#636efa\", \"symbol\": \"circle\"}, \"mode\": \"markers\", \"name\": \"k, NON_SYNONYMOUS_CODING\", \"orientation\": \"v\", \"showlegend\": true, \"type\": \"scatter\", \"x\": [2382308, 2416877, 2416980, 2422609, 2422652, 2429745, 2430424, 2430817, 2430863, 2430881, 2431120], \"xaxis\": \"x\", \"y\": [0.013888888888888888, 0.0, 0.3888888888888889, 0.0, 1.0, 0.1111111111111111, 0.375, 0.3055555555555556, 0.09722222222222222, 0.09722222222222222, 0.0], \"yaxis\": \"y\"}, {\"hovertemplate\": \"population=k<br>effect=SPLICE_REGION<br>position=%{x}<br>frequency=%{y}<extra></extra>\", \"legendgroup\": \"k, SPLICE_REGION\", \"marker\": {\"color\": \"#636efa\", \"symbol\": \"diamond\"}, \"mode\": \"markers\", \"name\": \"k, SPLICE_REGION\", \"orientation\": \"v\", \"showlegend\": true, \"type\": \"scatter\", \"x\": [2403275], \"xaxis\": \"x\", \"y\": [0.013888888888888888], \"yaxis\": \"y\"}, {\"hovertemplate\": \"population=m<br>effect=NON_SYNONYMOUS_CODING<br>position=%{x}<br>frequency=%{y}<extra></extra>\", \"legendgroup\": \"m, NON_SYNONYMOUS_CODING\", \"marker\": {\"color\": \"#EF553B\", \"symbol\": \"circle\"}, \"mode\": \"markers\", \"name\": \"m, NON_SYNONYMOUS_CODING\", \"orientation\": \"v\", \"showlegend\": true, \"type\": \"scatter\", \"x\": [2382308, 2416877, 2416980, 2422609, 2422652, 2429745, 2430424, 2430817, 2430863, 2430881, 2431120], \"xaxis\": \"x\", \"y\": [0.0, 0.06521739130434782, 0.0, 0.021739130434782608, 0.0, 0.0, 0.0, 0.0, 0.0, 0.0, 0.021739130434782608], \"yaxis\": \"y\"}, {\"hovertemplate\": \"population=m<br>effect=SPLICE_REGION<br>position=%{x}<br>frequency=%{y}<extra></extra>\", \"legendgroup\": \"m, SPLICE_REGION\", \"marker\": {\"color\": \"#EF553B\", \"symbol\": \"diamond\"}, \"mode\": \"markers\", \"name\": \"m, SPLICE_REGION\", \"orientation\": \"v\", \"showlegend\": true, \"type\": \"scatter\", \"x\": [2403275], \"xaxis\": \"x\", \"y\": [0.0], \"yaxis\": \"y\"}],                        {\"legend\": {\"title\": {\"text\": \"population, effect\"}, \"tracegroupgap\": 0}, \"margin\": {\"t\": 60}, \"template\": {\"data\": {\"bar\": [{\"error_x\": {\"color\": \"#2a3f5f\"}, \"error_y\": {\"color\": \"#2a3f5f\"}, \"marker\": {\"line\": {\"color\": \"#E5ECF6\", \"width\": 0.5}}, \"type\": \"bar\"}], \"barpolar\": [{\"marker\": {\"line\": {\"color\": \"#E5ECF6\", \"width\": 0.5}}, \"type\": \"barpolar\"}], \"carpet\": [{\"aaxis\": {\"endlinecolor\": \"#2a3f5f\", \"gridcolor\": \"white\", \"linecolor\": \"white\", \"minorgridcolor\": \"white\", \"startlinecolor\": \"#2a3f5f\"}, \"baxis\": {\"endlinecolor\": \"#2a3f5f\", \"gridcolor\": \"white\", \"linecolor\": \"white\", \"minorgridcolor\": \"white\", \"startlinecolor\": \"#2a3f5f\"}, \"type\": \"carpet\"}], \"choropleth\": [{\"colorbar\": {\"outlinewidth\": 0, \"ticks\": \"\"}, \"type\": \"choropleth\"}], \"contour\": [{\"colorbar\": {\"outlinewidth\": 0, \"ticks\": \"\"}, \"colorscale\": [[0.0, \"#0d0887\"], [0.1111111111111111, \"#46039f\"], [0.2222222222222222, \"#7201a8\"], [0.3333333333333333, \"#9c179e\"], [0.4444444444444444, \"#bd3786\"], [0.5555555555555556, \"#d8576b\"], [0.6666666666666666, \"#ed7953\"], [0.7777777777777778, \"#fb9f3a\"], [0.8888888888888888, \"#fdca26\"], [1.0, \"#f0f921\"]], \"type\": \"contour\"}], \"contourcarpet\": [{\"colorbar\": {\"outlinewidth\": 0, \"ticks\": \"\"}, \"type\": \"contourcarpet\"}], \"heatmap\": [{\"colorbar\": {\"outlinewidth\": 0, \"ticks\": \"\"}, \"colorscale\": [[0.0, \"#0d0887\"], [0.1111111111111111, \"#46039f\"], [0.2222222222222222, \"#7201a8\"], [0.3333333333333333, \"#9c179e\"], [0.4444444444444444, \"#bd3786\"], [0.5555555555555556, \"#d8576b\"], [0.6666666666666666, \"#ed7953\"], [0.7777777777777778, \"#fb9f3a\"], [0.8888888888888888, \"#fdca26\"], [1.0, \"#f0f921\"]], \"type\": \"heatmap\"}], \"heatmapgl\": [{\"colorbar\": {\"outlinewidth\": 0, \"ticks\": \"\"}, \"colorscale\": [[0.0, \"#0d0887\"], [0.1111111111111111, \"#46039f\"], [0.2222222222222222, \"#7201a8\"], [0.3333333333333333, \"#9c179e\"], [0.4444444444444444, \"#bd3786\"], [0.5555555555555556, \"#d8576b\"], [0.6666666666666666, \"#ed7953\"], [0.7777777777777778, \"#fb9f3a\"], [0.8888888888888888, \"#fdca26\"], [1.0, \"#f0f921\"]], \"type\": \"heatmapgl\"}], \"histogram\": [{\"marker\": {\"colorbar\": {\"outlinewidth\": 0, \"ticks\": \"\"}}, \"type\": \"histogram\"}], \"histogram2d\": [{\"colorbar\": {\"outlinewidth\": 0, \"ticks\": \"\"}, \"colorscale\": [[0.0, \"#0d0887\"], [0.1111111111111111, \"#46039f\"], [0.2222222222222222, \"#7201a8\"], [0.3333333333333333, \"#9c179e\"], [0.4444444444444444, \"#bd3786\"], [0.5555555555555556, \"#d8576b\"], [0.6666666666666666, \"#ed7953\"], [0.7777777777777778, \"#fb9f3a\"], [0.8888888888888888, \"#fdca26\"], [1.0, \"#f0f921\"]], \"type\": \"histogram2d\"}], \"histogram2dcontour\": [{\"colorbar\": {\"outlinewidth\": 0, \"ticks\": \"\"}, \"colorscale\": [[0.0, \"#0d0887\"], [0.1111111111111111, \"#46039f\"], [0.2222222222222222, \"#7201a8\"], [0.3333333333333333, \"#9c179e\"], [0.4444444444444444, \"#bd3786\"], [0.5555555555555556, \"#d8576b\"], [0.6666666666666666, \"#ed7953\"], [0.7777777777777778, \"#fb9f3a\"], [0.8888888888888888, \"#fdca26\"], [1.0, \"#f0f921\"]], \"type\": \"histogram2dcontour\"}], \"mesh3d\": [{\"colorbar\": {\"outlinewidth\": 0, \"ticks\": \"\"}, \"type\": \"mesh3d\"}], \"parcoords\": [{\"line\": {\"colorbar\": {\"outlinewidth\": 0, \"ticks\": \"\"}}, \"type\": \"parcoords\"}], \"pie\": [{\"automargin\": true, \"type\": \"pie\"}], \"scatter\": [{\"marker\": {\"colorbar\": {\"outlinewidth\": 0, \"ticks\": \"\"}}, \"type\": \"scatter\"}], \"scatter3d\": [{\"line\": {\"colorbar\": {\"outlinewidth\": 0, \"ticks\": \"\"}}, \"marker\": {\"colorbar\": {\"outlinewidth\": 0, \"ticks\": \"\"}}, \"type\": \"scatter3d\"}], \"scattercarpet\": [{\"marker\": {\"colorbar\": {\"outlinewidth\": 0, \"ticks\": \"\"}}, \"type\": \"scattercarpet\"}], \"scattergeo\": [{\"marker\": {\"colorbar\": {\"outlinewidth\": 0, \"ticks\": \"\"}}, \"type\": \"scattergeo\"}], \"scattergl\": [{\"marker\": {\"colorbar\": {\"outlinewidth\": 0, \"ticks\": \"\"}}, \"type\": \"scattergl\"}], \"scattermapbox\": [{\"marker\": {\"colorbar\": {\"outlinewidth\": 0, \"ticks\": \"\"}}, \"type\": \"scattermapbox\"}], \"scatterpolar\": [{\"marker\": {\"colorbar\": {\"outlinewidth\": 0, \"ticks\": \"\"}}, \"type\": \"scatterpolar\"}], \"scatterpolargl\": [{\"marker\": {\"colorbar\": {\"outlinewidth\": 0, \"ticks\": \"\"}}, \"type\": \"scatterpolargl\"}], \"scatterternary\": [{\"marker\": {\"colorbar\": {\"outlinewidth\": 0, \"ticks\": \"\"}}, \"type\": \"scatterternary\"}], \"surface\": [{\"colorbar\": {\"outlinewidth\": 0, \"ticks\": \"\"}, \"colorscale\": [[0.0, \"#0d0887\"], [0.1111111111111111, \"#46039f\"], [0.2222222222222222, \"#7201a8\"], [0.3333333333333333, \"#9c179e\"], [0.4444444444444444, \"#bd3786\"], [0.5555555555555556, \"#d8576b\"], [0.6666666666666666, \"#ed7953\"], [0.7777777777777778, \"#fb9f3a\"], [0.8888888888888888, \"#fdca26\"], [1.0, \"#f0f921\"]], \"type\": \"surface\"}], \"table\": [{\"cells\": {\"fill\": {\"color\": \"#EBF0F8\"}, \"line\": {\"color\": \"white\"}}, \"header\": {\"fill\": {\"color\": \"#C8D4E3\"}, \"line\": {\"color\": \"white\"}}, \"type\": \"table\"}]}, \"layout\": {\"annotationdefaults\": {\"arrowcolor\": \"#2a3f5f\", \"arrowhead\": 0, \"arrowwidth\": 1}, \"autotypenumbers\": \"strict\", \"coloraxis\": {\"colorbar\": {\"outlinewidth\": 0, \"ticks\": \"\"}}, \"colorscale\": {\"diverging\": [[0, \"#8e0152\"], [0.1, \"#c51b7d\"], [0.2, \"#de77ae\"], [0.3, \"#f1b6da\"], [0.4, \"#fde0ef\"], [0.5, \"#f7f7f7\"], [0.6, \"#e6f5d0\"], [0.7, \"#b8e186\"], [0.8, \"#7fbc41\"], [0.9, \"#4d9221\"], [1, \"#276419\"]], \"sequential\": [[0.0, \"#0d0887\"], [0.1111111111111111, \"#46039f\"], [0.2222222222222222, \"#7201a8\"], [0.3333333333333333, \"#9c179e\"], [0.4444444444444444, \"#bd3786\"], [0.5555555555555556, \"#d8576b\"], [0.6666666666666666, \"#ed7953\"], [0.7777777777777778, \"#fb9f3a\"], [0.8888888888888888, \"#fdca26\"], [1.0, \"#f0f921\"]], \"sequentialminus\": [[0.0, \"#0d0887\"], [0.1111111111111111, \"#46039f\"], [0.2222222222222222, \"#7201a8\"], [0.3333333333333333, \"#9c179e\"], [0.4444444444444444, \"#bd3786\"], [0.5555555555555556, \"#d8576b\"], [0.6666666666666666, \"#ed7953\"], [0.7777777777777778, \"#fb9f3a\"], [0.8888888888888888, \"#fdca26\"], [1.0, \"#f0f921\"]]}, \"colorway\": [\"#636efa\", \"#EF553B\", \"#00cc96\", \"#ab63fa\", \"#FFA15A\", \"#19d3f3\", \"#FF6692\", \"#B6E880\", \"#FF97FF\", \"#FECB52\"], \"font\": {\"color\": \"#2a3f5f\"}, \"geo\": {\"bgcolor\": \"white\", \"lakecolor\": \"white\", \"landcolor\": \"#E5ECF6\", \"showlakes\": true, \"showland\": true, \"subunitcolor\": \"white\"}, \"hoverlabel\": {\"align\": \"left\"}, \"hovermode\": \"closest\", \"mapbox\": {\"style\": \"light\"}, \"paper_bgcolor\": \"white\", \"plot_bgcolor\": \"#E5ECF6\", \"polar\": {\"angularaxis\": {\"gridcolor\": \"white\", \"linecolor\": \"white\", \"ticks\": \"\"}, \"bgcolor\": \"#E5ECF6\", \"radialaxis\": {\"gridcolor\": \"white\", \"linecolor\": \"white\", \"ticks\": \"\"}}, \"scene\": {\"xaxis\": {\"backgroundcolor\": \"#E5ECF6\", \"gridcolor\": \"white\", \"gridwidth\": 2, \"linecolor\": \"white\", \"showbackground\": true, \"ticks\": \"\", \"zerolinecolor\": \"white\"}, \"yaxis\": {\"backgroundcolor\": \"#E5ECF6\", \"gridcolor\": \"white\", \"gridwidth\": 2, \"linecolor\": \"white\", \"showbackground\": true, \"ticks\": \"\", \"zerolinecolor\": \"white\"}, \"zaxis\": {\"backgroundcolor\": \"#E5ECF6\", \"gridcolor\": \"white\", \"gridwidth\": 2, \"linecolor\": \"white\", \"showbackground\": true, \"ticks\": \"\", \"zerolinecolor\": \"white\"}}, \"shapedefaults\": {\"line\": {\"color\": \"#2a3f5f\"}}, \"ternary\": {\"aaxis\": {\"gridcolor\": \"white\", \"linecolor\": \"white\", \"ticks\": \"\"}, \"baxis\": {\"gridcolor\": \"white\", \"linecolor\": \"white\", \"ticks\": \"\"}, \"bgcolor\": \"#E5ECF6\", \"caxis\": {\"gridcolor\": \"white\", \"linecolor\": \"white\", \"ticks\": \"\"}}, \"title\": {\"x\": 0.05}, \"xaxis\": {\"automargin\": true, \"gridcolor\": \"white\", \"linecolor\": \"white\", \"ticks\": \"\", \"title\": {\"standoff\": 15}, \"zerolinecolor\": \"white\", \"zerolinewidth\": 2}, \"yaxis\": {\"automargin\": true, \"gridcolor\": \"white\", \"linecolor\": \"white\", \"ticks\": \"\", \"title\": {\"standoff\": 15}, \"zerolinecolor\": \"white\", \"zerolinewidth\": 2}}}, \"xaxis\": {\"anchor\": \"y\", \"domain\": [0.0, 1.0], \"title\": {\"text\": \"position\"}}, \"yaxis\": {\"anchor\": \"x\", \"domain\": [0.0, 1.0], \"title\": {\"text\": \"frequency\"}}},                        {\"responsive\": true}                    ).then(function(){\n",
       "                            \n",
       "var gd = document.getElementById('65d191d1-b977-4ce1-9daf-8cf70d574388');\n",
       "var x = new MutationObserver(function (mutations, observer) {{\n",
       "        var display = window.getComputedStyle(gd).display;\n",
       "        if (!display || display === 'none') {{\n",
       "            console.log([gd, 'removed!']);\n",
       "            Plotly.purge(gd);\n",
       "            observer.disconnect();\n",
       "        }}\n",
       "}});\n",
       "\n",
       "// Listen for the removal of the full notebook cells\n",
       "var notebookContainer = gd.closest('#notebook-container');\n",
       "if (notebookContainer) {{\n",
       "    x.observe(notebookContainer, {childList: true});\n",
       "}}\n",
       "\n",
       "// Listen for the clearing of the current output cell\n",
       "var outputEl = gd.closest('.output');\n",
       "if (outputEl) {{\n",
       "    x.observe(outputEl, {childList: true});\n",
       "}}\n",
       "\n",
       "                        })                };                });            </script>        </div>"
      ]
     },
     "metadata": {},
     "output_type": "display_data"
    }
   ],
   "source": [
    "fig = px.scatter(plotly_df, x=\"position\", y=\"frequency\", color=\"population\", symbol='effect')\n",
    "fig.show()"
   ]
  },
  {
   "cell_type": "code",
   "execution_count": null,
   "id": "studied-nothing",
   "metadata": {},
   "outputs": [],
   "source": []
  }
 ],
 "metadata": {
  "kernelspec": {
   "display_name": "Python 3",
   "language": "python",
   "name": "python3"
  },
  "language_info": {
   "codemirror_mode": {
    "name": "ipython",
    "version": 3
   },
   "file_extension": ".py",
   "mimetype": "text/x-python",
   "name": "python",
   "nbconvert_exporter": "python",
   "pygments_lexer": "ipython3",
   "version": "3.6.9"
  }
 },
 "nbformat": 4,
 "nbformat_minor": 5
}
