{
 "cells": [
  {
   "cell_type": "code",
   "execution_count": 1,
   "id": "nuclear-surgery",
   "metadata": {},
   "outputs": [],
   "source": [
    "import malariagen_data\n",
    "import numpy as np\n",
    "import pandas as pd"
   ]
  },
  {
   "cell_type": "markdown",
   "id": "industrial-plastic",
   "metadata": {},
   "source": [
    "### setup malariagen_data and parameters"
   ]
  },
  {
   "cell_type": "code",
   "execution_count": 7,
   "id": "civilian-boulder",
   "metadata": {},
   "outputs": [],
   "source": [
    "# simplecache allows local cacheing\n",
    "ag3 = malariagen_data.Ag3(\"simplecache::gs://vo_agam_release/\", simplecache=dict(cache_storage=\"gcs_cache\"))"
   ]
  },
  {
   "cell_type": "code",
   "execution_count": 3,
   "id": "southwest-haiti",
   "metadata": {},
   "outputs": [],
   "source": [
    "# RDL transcript\n",
    "transcript = \"AGAP006028-RA\"\n",
    "site_mask = \"gamb_colu\" # other options...\n",
    "sample_sets = \"v3_wild\" # explain?"
   ]
  },
  {
   "cell_type": "code",
   "execution_count": null,
   "id": "after-premises",
   "metadata": {},
   "outputs": [],
   "source": [
    "# snp_allele_frequencies requires a population parameter in the form of a dictionary.\n",
    "# Here we want the allele frequencies from all Kenya samples and from Burkina Faso \n",
    "# An. coluzzii samples collected in 2012\n",
    "populations = {\n",
    "    \"Kenya\": \"country == 'Ghana' and species == 'gambiae'\",\n",
    "    \"Burkina Faso\": \"country == 'Burkina Faso' and species == 'gambiae'\",\n",
    "    \"Mayotte\": \"country == 'Mayotte'\",\n",
    "}"
   ]
  },
  {
   "cell_type": "markdown",
   "id": "verbal-apple",
   "metadata": {},
   "source": [
    "### generate statistic dataframes"
   ]
  },
  {
   "cell_type": "code",
   "execution_count": null,
   "id": "european-facial",
   "metadata": {},
   "outputs": [],
   "source": [
    "%%time\n",
    "snp_effects_df = ag3.snp_effects(transcript, site_mask)"
   ]
  },
  {
   "cell_type": "code",
   "execution_count": null,
   "id": "abstract-clause",
   "metadata": {},
   "outputs": [],
   "source": [
    "snp_effects_df.groupby(['effect','impact']).size()"
   ]
  },
  {
   "cell_type": "code",
   "execution_count": null,
   "id": "antique-light",
   "metadata": {},
   "outputs": [],
   "source": [
    "snp_effects_df.effect.unique()"
   ]
  },
  {
   "cell_type": "code",
   "execution_count": null,
   "id": "strong-marijuana",
   "metadata": {},
   "outputs": [],
   "source": [
    "snp_effects_df.impact.unique()"
   ]
  },
  {
   "cell_type": "code",
   "execution_count": null,
   "id": "comparative-uruguay",
   "metadata": {},
   "outputs": [],
   "source": [
    "%%time\n",
    "allele_freq_df = ag3.snp_allele_frequencies(transcript=transcript, \n",
    "                           populations=populations, \n",
    "                           site_mask=site_mask, \n",
    "                           sample_sets=sample_sets,\n",
    "                           drop_invariants=False)"
   ]
  },
  {
   "cell_type": "code",
   "execution_count": null,
   "id": "equivalent-health",
   "metadata": {},
   "outputs": [],
   "source": [
    "allele_freq_df.head()"
   ]
  },
  {
   "cell_type": "markdown",
   "id": "modular-humor",
   "metadata": {},
   "source": [
    "### join dataframes together so we can do some filtering"
   ]
  },
  {
   "cell_type": "code",
   "execution_count": null,
   "id": "starting-billion",
   "metadata": {},
   "outputs": [],
   "source": [
    "merged_df = pd.merge(snp_effects_df, allele_freq_df, on=['position', 'ref_allele', 'alt_allele'])"
   ]
  },
  {
   "cell_type": "code",
   "execution_count": null,
   "id": "comfortable-coordination",
   "metadata": {},
   "outputs": [],
   "source": [
    "merged_df"
   ]
  },
  {
   "cell_type": "markdown",
   "id": "declared-facing",
   "metadata": {},
   "source": [
    "### filter down to variants-of-interest"
   ]
  },
  {
   "cell_type": "code",
   "execution_count": null,
   "id": "through-legislature",
   "metadata": {},
   "outputs": [],
   "source": [
    "# #let's keep  variants that have MODERATE (e.g. NON-SYN) or HIGH (e.g. STOP-LOST) impact.\n",
    "merged_df = merged_df[(merged_df.impact == \"HIGH\") | (merged_df.impact == \"MODERATE\" ) | (merged_df.impact == \"LOW\" )].copy()"
   ]
  },
  {
   "cell_type": "code",
   "execution_count": null,
   "id": "running-stick",
   "metadata": {},
   "outputs": [],
   "source": [
    "merged_df"
   ]
  },
  {
   "cell_type": "code",
   "execution_count": null,
   "id": "delayed-saint",
   "metadata": {},
   "outputs": [],
   "source": [
    "#next, we can remove invariant positions (where maximum allele frequency is >0)\n",
    "freq_filtered_df = merged_df[merged_df.maximum > 0].copy()"
   ]
  },
  {
   "cell_type": "code",
   "execution_count": null,
   "id": "sunset-charles",
   "metadata": {},
   "outputs": [],
   "source": [
    "freq_filtered_df.columns"
   ]
  },
  {
   "cell_type": "code",
   "execution_count": null,
   "id": "resident-plant",
   "metadata": {},
   "outputs": [],
   "source": [
    "freq_filtered_df.shape"
   ]
  },
  {
   "cell_type": "code",
   "execution_count": null,
   "id": "primary-grill",
   "metadata": {},
   "outputs": [],
   "source": [
    "freq_filtered_df['pos_Mbp'] = freq_filtered_df.position/1e6"
   ]
  },
  {
   "cell_type": "code",
   "execution_count": null,
   "id": "electoral-genome",
   "metadata": {},
   "outputs": [],
   "source": []
  },
  {
   "cell_type": "markdown",
   "id": "enormous-month",
   "metadata": {},
   "source": [
    "### plot"
   ]
  },
  {
   "cell_type": "code",
   "execution_count": null,
   "id": "confidential-dayton",
   "metadata": {},
   "outputs": [],
   "source": [
    "# # first we need a plotly friendly dataframe...\n",
    "# plotly_cols = {\n",
    "#     'position' : np.tile(freq_filtered_df.position/1e6, len(populations)),\n",
    "#     'effect' : np.tile(freq_filtered_df.effect, len(populations)),\n",
    "#     'aa_change' : np.tile(freq_filtered_df.aa_change, len(populations)),\n",
    "#     'frequency' : [],\n",
    "#     'population' : []\n",
    "# }\n",
    "\n",
    "# for pop in freq_filtered_df[populations]:\n",
    "#     for freq in freq_filtered_df[pop]:\n",
    "#         plotly_cols['frequency'].append(freq)\n",
    "#         plotly_cols['population'].append(pop)\n",
    "        \n",
    "# plotly_df = pd.DataFrame(plotly_cols)"
   ]
  },
  {
   "cell_type": "code",
   "execution_count": null,
   "id": "brave-council",
   "metadata": {},
   "outputs": [],
   "source": [
    "# fig = px.scatter(plotly_df, x=\"position\", y=\"frequency\", color=\"population\", symbol='effect', hover_data=[\"population\", \"frequency\", \"effect\", \"aa_change\"])\n",
    "# fig.show()"
   ]
  },
  {
   "cell_type": "markdown",
   "id": "perceived-classification",
   "metadata": {},
   "source": [
    "### we're going to use bokeh for the user guide"
   ]
  },
  {
   "cell_type": "code",
   "execution_count": null,
   "id": "configured-price",
   "metadata": {},
   "outputs": [],
   "source": [
    "# !poetry add bokeh"
   ]
  },
  {
   "cell_type": "code",
   "execution_count": null,
   "id": "weekly-chick",
   "metadata": {},
   "outputs": [],
   "source": [
    "import bokeh.plotting as bkplt\n",
    "import bokeh.models as bkmod\n",
    "import bokeh.layouts as bklay\n",
    "from bokeh.layouts import column\n",
    "import bokeh.io as bkio\n",
    "from bokeh.layouts import row "
   ]
  },
  {
   "cell_type": "code",
   "execution_count": null,
   "id": "compressed-bleeding",
   "metadata": {},
   "outputs": [],
   "source": [
    "bkio.output_notebook()"
   ]
  },
  {
   "cell_type": "code",
   "execution_count": null,
   "id": "immune-perry",
   "metadata": {},
   "outputs": [],
   "source": [
    "df_geneset = ag3.geneset(attributes=[\"ID\", \"Parent\", \"Name\", \"description\"]).set_index(\"ID\")\n",
    "\n",
    "#RDL\n",
    "transcript = \"AGAP006028-RA\"\n",
    "\n",
    "col_dict = {\n",
    "    \"Kenya\" : \"pink\",\n",
    "    \"Mayotte\" : \"orange\",\n",
    "    \"Burkina Faso\" : \"grey\"\n",
    "}"
   ]
  },
  {
   "cell_type": "code",
   "execution_count": null,
   "id": "conditional-chinese",
   "metadata": {},
   "outputs": [],
   "source": [
    "populations"
   ]
  },
  {
   "cell_type": "code",
   "execution_count": null,
   "id": "premium-grounds",
   "metadata": {},
   "outputs": [],
   "source": [
    "def plot_transcript_variation(freq_df, col_dict, transcript, width=800, height=400):\n",
    "\n",
    "    # SCATTER\n",
    "    # tooltips\n",
    "    tooltips1 = [\n",
    "        (\"population\", '@population'),\n",
    "        (\"frequency\", '@frequency'),\n",
    "        (\"position\", '@position'),\n",
    "        (\"aa change\", '@aa_change'),\n",
    "    ]\n",
    "\n",
    "    fig1 = bkplt.figure(\n",
    "        title=f'Transcript - {transcript}',\n",
    "        tools='xpan,xzoom_in,xzoom_out,xwheel_zoom,reset,hover',\n",
    "        active_scroll='xwheel_zoom',\n",
    "        active_drag='xpan',\n",
    "        plot_width=width, \n",
    "        plot_height=height, \n",
    "        tooltips=tooltips1)\n",
    "\n",
    "    for pop in populations:\n",
    "        df = freq_df.copy()\n",
    "        df['frequency'] = df[pop]\n",
    "        df['population'] = pop\n",
    "        fig1.circle(\"pos_Mbp\", \n",
    "                    pop, size=10, \n",
    "                    color=col_dict[pop], \n",
    "                    alpha=0.8, \n",
    "                    source=df,\n",
    "                    legend_label=pop)\n",
    "\n",
    "    fig1.yaxis.axis_label = f'population nucleotide frequency'\n",
    "    fig1.xaxis.visible = False\n",
    "#     fig1.legend.location = \"top_left\"\n",
    "    fig1.add_layout(fig1.legend[0], 'right')\n",
    "    fig1.legend.click_policy=\"hide\"\n",
    "    \n",
    "    # GENE MODEL\n",
    "    df_transcripts = df_geneset.query(f\"ID == '{transcript}'\")\n",
    "\n",
    "    # define tooltips for hover\n",
    "    tooltips2 = [\n",
    "        (\"Type\", '@type'),\n",
    "        (\"Location\", '@seqid:@start{,}..@end{,}'),\n",
    "    ]\n",
    "\n",
    "    # make a figure\n",
    "    fig2 = bkplt.figure(   \n",
    "        plot_width=width, \n",
    "        plot_height=int(height / 4),\n",
    "        tools='xpan,xzoom_in,xzoom_out,xwheel_zoom,reset,hover',\n",
    "        #toolbar_location='above',\n",
    "        active_scroll='xwheel_zoom',\n",
    "        active_drag='xpan',\n",
    "        tooltips=tooltips2,\n",
    "        x_range=fig1.x_range,\n",
    "    )\n",
    "\n",
    "    # plot the transcripts\n",
    "\n",
    "\n",
    "    data = df_geneset.query(f\"Parent == '{transcript}'\").copy()\n",
    "    data['left'] = data['start'] / 1e6  # plot in Mbp coordinates\n",
    "    data['right'] = data['end'] / 1e6  # plot in Mbp coordinates\n",
    "    data['bottom'] = 0 - 0.4\n",
    "    data['top'] = 0 + 0.4\n",
    "\n",
    "    # plot exons\n",
    "    exons = data.query(\"type == 'exon'\")\n",
    "    fig2.quad(bottom='bottom', \n",
    "              top='top', \n",
    "              left='left', \n",
    "              right='right',\n",
    "              source=exons, \n",
    "              fill_color=None, \n",
    "              line_color='black', \n",
    "              line_width=.5, \n",
    "              fill_alpha=0)\n",
    "\n",
    "    # plot introns\n",
    "    for l, r in zip(exons[:-1]['right'], exons[1:]['left']):\n",
    "        m = (l + r) / 2\n",
    "        fig2.line([l, m, r], [0, 0 +.1, 0], line_width=1, line_color=\"black\")\n",
    "\n",
    "    # plot UTRs\n",
    "    fig2.quad(bottom='bottom', top='top', left='left', right='right',\n",
    "             source=data.query(\"type == 'five_prime_UTR'\"), \n",
    "             fill_color='green', line_width=0, fill_alpha=.5)\n",
    "    fig2.quad(bottom='bottom', top='top', left='left', right='right',\n",
    "             source=data.query(\"type == 'three_prime_UTR'\"), \n",
    "             fill_color='red', line_width=0, fill_alpha=.5)\n",
    "\n",
    "    # plot CDSs\n",
    "    fig2.quad(bottom='bottom', top='top', left='left', right='right',\n",
    "             source=data.query(\"type == 'CDS'\"), \n",
    "             fill_color='blue', line_width=0, fill_alpha=.5)\n",
    "\n",
    "    fig2.xaxis.axis_label = f'Position (Mbp)'\n",
    "    fig2.y_range = bkmod.Range1d(-.5, len(df_transcripts)-.5)\n",
    "    fig2.xaxis.axis_label = f'Contig {df_transcripts.seqid[0]} position (Mbp)'\n",
    "    yticks = list(range(len(df_transcripts)))\n",
    "    yticklabels = df_transcripts.index\n",
    "    fig2.yaxis.ticker = yticks\n",
    "    fig2.yaxis.major_label_overrides = {k: v for k, v in zip(yticks, yticklabels)}\n",
    "\n",
    "    bkplt.show(column(fig1, fig2))"
   ]
  },
  {
   "cell_type": "code",
   "execution_count": null,
   "id": "auburn-panama",
   "metadata": {},
   "outputs": [],
   "source": [
    "plot_transcript_variation(freq_df=freq_filtered_df, col_dict=col_dict, transcript=transcript)"
   ]
  },
  {
   "cell_type": "markdown",
   "id": "decent-examination",
   "metadata": {},
   "source": [
    "## TODO\n",
    "- get lasso tool working\n",
    "- legend outside or inside (the offset bokeh toolbar bugs me a bit)?"
   ]
  },
  {
   "cell_type": "markdown",
   "id": "absolute-compound",
   "metadata": {},
   "source": [
    "## more OPTIMIZE PRIME"
   ]
  },
  {
   "cell_type": "code",
   "execution_count": null,
   "id": "worse-champagne",
   "metadata": {},
   "outputs": [],
   "source": [
    "!poetry add snakeviz"
   ]
  },
  {
   "cell_type": "code",
   "execution_count": 4,
   "id": "innovative-motel",
   "metadata": {},
   "outputs": [],
   "source": [
    "%load_ext snakeviz"
   ]
  },
  {
   "cell_type": "code",
   "execution_count": 5,
   "id": "continuous-cream",
   "metadata": {},
   "outputs": [],
   "source": [
    "transcript = \"AGAP009194-RA\""
   ]
  },
  {
   "cell_type": "markdown",
   "id": "greatest-honduras",
   "metadata": {},
   "source": [
    "## first time SNP effects, without simplecache"
   ]
  },
  {
   "cell_type": "code",
   "execution_count": 8,
   "id": "molecular-definition",
   "metadata": {
    "scrolled": false
   },
   "outputs": [
    {
     "name": "stdout",
     "output_type": "stream",
     "text": [
      "transcript : AGAP009194-RA\n",
      "chromosome : 3R \n",
      "start : 28597652\n",
      "stop : 28598640\n",
      "strand : -\n",
      " \n",
      "*** Profile stats marshalled to file '/tmp/tmpzmth_iho'. \n",
      "Embedding SnakeViz in this document...\n"
     ]
    },
    {
     "data": {
      "text/html": [
       "\n",
       "<iframe id='snakeviz-d5f9cf98-a2b0-11eb-9334-185e0f8ee57c' frameborder=0 seamless width='100%' height='1000'></iframe>\n",
       "<script>document.getElementById(\"snakeviz-d5f9cf98-a2b0-11eb-9334-185e0f8ee57c\").setAttribute(\"src\", \"http://\" + document.location.hostname + \":8080/snakeviz/%2Ftmp%2Ftmpzmth_iho\")</script>\n"
      ],
      "text/plain": [
       "<IPython.core.display.HTML object>"
      ]
     },
     "metadata": {},
     "output_type": "display_data"
    }
   ],
   "source": [
    "%snakeviz ag3.snp_effects(transcript, site_mask=site_mask)"
   ]
  },
  {
   "cell_type": "markdown",
   "id": "floral-fault",
   "metadata": {},
   "source": [
    "## second time - simplecached"
   ]
  },
  {
   "cell_type": "code",
   "execution_count": null,
   "id": "latin-relaxation",
   "metadata": {},
   "outputs": [],
   "source": [
    "%%snakeviz\n",
    "snp_effects_df = ag3.snp_effects(transcript, site_mask)"
   ]
  },
  {
   "cell_type": "markdown",
   "id": "significant-sample",
   "metadata": {},
   "source": [
    "## first time allele freq "
   ]
  },
  {
   "cell_type": "code",
   "execution_count": null,
   "id": "lonely-complexity",
   "metadata": {},
   "outputs": [],
   "source": [
    "%%snakeviz\n",
    "allele_freq_df = ag3.snp_allele_frequencies(transcript=transcript, \n",
    "                           populations=populations, \n",
    "                           site_mask=site_mask, \n",
    "                           sample_sets=sample_sets,\n",
    "                           drop_invariants=False)"
   ]
  },
  {
   "cell_type": "markdown",
   "id": "acoustic-bachelor",
   "metadata": {},
   "source": [
    "## simplecached allelefreq"
   ]
  },
  {
   "cell_type": "code",
   "execution_count": null,
   "id": "extra-rainbow",
   "metadata": {},
   "outputs": [],
   "source": [
    "%%snakeviz\n",
    "allele_freq_df = ag3.snp_allele_frequencies(transcript=transcript, \n",
    "                           populations=populations, \n",
    "                           site_mask=site_mask, \n",
    "                           sample_sets=sample_sets,\n",
    "                           drop_invariants=False)"
   ]
  },
  {
   "cell_type": "code",
   "execution_count": null,
   "id": "weird-devil",
   "metadata": {},
   "outputs": [],
   "source": []
  }
 ],
 "metadata": {
  "kernelspec": {
   "display_name": "Python 3",
   "language": "python",
   "name": "python3"
  },
  "language_info": {
   "codemirror_mode": {
    "name": "ipython",
    "version": 3
   },
   "file_extension": ".py",
   "mimetype": "text/x-python",
   "name": "python",
   "nbconvert_exporter": "python",
   "pygments_lexer": "ipython3",
   "version": "3.6.9"
  }
 },
 "nbformat": 4,
 "nbformat_minor": 5
}
