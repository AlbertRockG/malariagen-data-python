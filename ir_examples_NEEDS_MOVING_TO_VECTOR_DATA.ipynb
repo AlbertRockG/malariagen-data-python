{
 "cells": [
  {
   "cell_type": "code",
   "execution_count": 1,
   "id": "nuclear-surgery",
   "metadata": {},
   "outputs": [],
   "source": [
    "import malariagen_data\n",
    "import numpy as np\n",
    "import pandas as pd"
   ]
  },
  {
   "cell_type": "code",
   "execution_count": 2,
   "id": "basic-upset",
   "metadata": {},
   "outputs": [],
   "source": [
    "# !poetry add plotly\n",
    "import plotly.express as px"
   ]
  },
  {
   "cell_type": "markdown",
   "id": "industrial-plastic",
   "metadata": {},
   "source": [
    "### setup malariagen_data and parameters"
   ]
  },
  {
   "cell_type": "code",
   "execution_count": 3,
   "id": "civilian-boulder",
   "metadata": {},
   "outputs": [],
   "source": [
    "# simplecache allows local cacheing\n",
    "ag3 = malariagen_data.Ag3(\"simplecache::gs://vo_agam_release/\")"
   ]
  },
  {
   "cell_type": "code",
   "execution_count": 4,
   "id": "southwest-haiti",
   "metadata": {},
   "outputs": [],
   "source": [
    "# RDL transcript\n",
    "transcript = \"AGAP006028-RA\"\n",
    "site_mask = \"gamb_colu\" # other options...\n",
    "sample_sets = \"v3_wild\" # explain?"
   ]
  },
  {
   "cell_type": "code",
   "execution_count": 15,
   "id": "after-premises",
   "metadata": {},
   "outputs": [],
   "source": [
    "# snp_allele_frequencies requires a population parameter in the form of a dictionary.\n",
    "# Here we want the allele frequencies from all Kenya samples and from Burkina Faso \n",
    "# An. coluzzii samples collected in 2012\n",
    "populations = {\n",
    "    \"Kenya\": \"country == 'Ghana' and species == 'gambiae'\",\n",
    "    \"Burkina Faso\": \"country == 'Burkina Faso' and species == 'gambiae'\",\n",
    "    \"Mayotte\": \"country == 'Mayotte'\",\n",
    "}"
   ]
  },
  {
   "cell_type": "markdown",
   "id": "verbal-apple",
   "metadata": {},
   "source": [
    "### generate statistic dataframes"
   ]
  },
  {
   "cell_type": "code",
   "execution_count": 17,
   "id": "european-facial",
   "metadata": {},
   "outputs": [
    {
     "name": "stdout",
     "output_type": "stream",
     "text": [
      "transcript : AGAP006028-RA\n",
      "chromosome : 2L \n",
      "start : 25363652\n",
      "stop : 25434556\n",
      "strand : +\n",
      "CPU times: user 52.4 s, sys: 302 ms, total: 52.7 s\n",
      "Wall time: 52.5 s\n"
     ]
    }
   ],
   "source": [
    "%%time\n",
    "snp_effects_df = ag3.snp_effects(transcript, site_mask)"
   ]
  },
  {
   "cell_type": "code",
   "execution_count": 18,
   "id": "antique-light",
   "metadata": {},
   "outputs": [
    {
     "data": {
      "text/html": [
       "<div>\n",
       "<style scoped>\n",
       "    .dataframe tbody tr th:only-of-type {\n",
       "        vertical-align: middle;\n",
       "    }\n",
       "\n",
       "    .dataframe tbody tr th {\n",
       "        vertical-align: top;\n",
       "    }\n",
       "\n",
       "    .dataframe thead th {\n",
       "        text-align: right;\n",
       "    }\n",
       "</style>\n",
       "<table border=\"1\" class=\"dataframe\">\n",
       "  <thead>\n",
       "    <tr style=\"text-align: right;\">\n",
       "      <th></th>\n",
       "      <th>position</th>\n",
       "      <th>ref_allele</th>\n",
       "      <th>alt_allele</th>\n",
       "      <th>effect</th>\n",
       "      <th>impact</th>\n",
       "      <th>ref_codon</th>\n",
       "      <th>alt_codon</th>\n",
       "      <th>aa_pos</th>\n",
       "      <th>ref_aa</th>\n",
       "      <th>alt_aa</th>\n",
       "      <th>aa_change</th>\n",
       "    </tr>\n",
       "  </thead>\n",
       "  <tbody>\n",
       "    <tr>\n",
       "      <th>0</th>\n",
       "      <td>25363652</td>\n",
       "      <td>A</td>\n",
       "      <td>C</td>\n",
       "      <td>START_LOST</td>\n",
       "      <td>HIGH</td>\n",
       "      <td>Atg</td>\n",
       "      <td>Ctg</td>\n",
       "      <td>1.0</td>\n",
       "      <td>M</td>\n",
       "      <td>L</td>\n",
       "      <td>M1L</td>\n",
       "    </tr>\n",
       "    <tr>\n",
       "      <th>1</th>\n",
       "      <td>25363652</td>\n",
       "      <td>A</td>\n",
       "      <td>T</td>\n",
       "      <td>START_LOST</td>\n",
       "      <td>HIGH</td>\n",
       "      <td>Atg</td>\n",
       "      <td>Ttg</td>\n",
       "      <td>1.0</td>\n",
       "      <td>M</td>\n",
       "      <td>L</td>\n",
       "      <td>M1L</td>\n",
       "    </tr>\n",
       "    <tr>\n",
       "      <th>2</th>\n",
       "      <td>25363652</td>\n",
       "      <td>A</td>\n",
       "      <td>G</td>\n",
       "      <td>START_LOST</td>\n",
       "      <td>HIGH</td>\n",
       "      <td>Atg</td>\n",
       "      <td>Gtg</td>\n",
       "      <td>1.0</td>\n",
       "      <td>M</td>\n",
       "      <td>V</td>\n",
       "      <td>M1V</td>\n",
       "    </tr>\n",
       "    <tr>\n",
       "      <th>3</th>\n",
       "      <td>25363653</td>\n",
       "      <td>T</td>\n",
       "      <td>A</td>\n",
       "      <td>NON_SYNONYMOUS_CODING</td>\n",
       "      <td>MODERATE</td>\n",
       "      <td>aTg</td>\n",
       "      <td>aAg</td>\n",
       "      <td>1.0</td>\n",
       "      <td>M</td>\n",
       "      <td>K</td>\n",
       "      <td>M1K</td>\n",
       "    </tr>\n",
       "    <tr>\n",
       "      <th>4</th>\n",
       "      <td>25363653</td>\n",
       "      <td>T</td>\n",
       "      <td>C</td>\n",
       "      <td>NON_SYNONYMOUS_CODING</td>\n",
       "      <td>MODERATE</td>\n",
       "      <td>aTg</td>\n",
       "      <td>aCg</td>\n",
       "      <td>1.0</td>\n",
       "      <td>M</td>\n",
       "      <td>T</td>\n",
       "      <td>M1T</td>\n",
       "    </tr>\n",
       "  </tbody>\n",
       "</table>\n",
       "</div>"
      ],
      "text/plain": [
       "   position ref_allele alt_allele                 effect    impact ref_codon  \\\n",
       "0  25363652          A          C             START_LOST      HIGH       Atg   \n",
       "1  25363652          A          T             START_LOST      HIGH       Atg   \n",
       "2  25363652          A          G             START_LOST      HIGH       Atg   \n",
       "3  25363653          T          A  NON_SYNONYMOUS_CODING  MODERATE       aTg   \n",
       "4  25363653          T          C  NON_SYNONYMOUS_CODING  MODERATE       aTg   \n",
       "\n",
       "  alt_codon  aa_pos ref_aa alt_aa aa_change  \n",
       "0       Ctg     1.0      M      L       M1L  \n",
       "1       Ttg     1.0      M      L       M1L  \n",
       "2       Gtg     1.0      M      V       M1V  \n",
       "3       aAg     1.0      M      K       M1K  \n",
       "4       aCg     1.0      M      T       M1T  "
      ]
     },
     "execution_count": 18,
     "metadata": {},
     "output_type": "execute_result"
    }
   ],
   "source": [
    "snp_effects_df.head()"
   ]
  },
  {
   "cell_type": "code",
   "execution_count": 20,
   "id": "comparative-uruguay",
   "metadata": {},
   "outputs": [
    {
     "name": "stdout",
     "output_type": "stream",
     "text": [
      "transcript : AGAP006028-RA\n",
      "chromosome : 2L \n",
      "start : 25363652\n",
      "stop : 25434556\n",
      "strand : +\n",
      "CPU times: user 9.66 s, sys: 2.45 s, total: 12.1 s\n",
      "Wall time: 6.23 s\n"
     ]
    }
   ],
   "source": [
    "%%time\n",
    "allele_freq_df = ag3.snp_allele_frequencies(transcript=transcript, \n",
    "                           populations=populations, \n",
    "                           site_mask=site_mask, \n",
    "                           sample_sets=sample_sets,\n",
    "                           drop_invariants=False)"
   ]
  },
  {
   "cell_type": "code",
   "execution_count": 21,
   "id": "equivalent-health",
   "metadata": {},
   "outputs": [
    {
     "data": {
      "text/html": [
       "<div>\n",
       "<style scoped>\n",
       "    .dataframe tbody tr th:only-of-type {\n",
       "        vertical-align: middle;\n",
       "    }\n",
       "\n",
       "    .dataframe tbody tr th {\n",
       "        vertical-align: top;\n",
       "    }\n",
       "\n",
       "    .dataframe thead th {\n",
       "        text-align: right;\n",
       "    }\n",
       "</style>\n",
       "<table border=\"1\" class=\"dataframe\">\n",
       "  <thead>\n",
       "    <tr style=\"text-align: right;\">\n",
       "      <th></th>\n",
       "      <th>position</th>\n",
       "      <th>ref_allele</th>\n",
       "      <th>alt_allele</th>\n",
       "      <th>Kenya</th>\n",
       "      <th>Burkina Faso</th>\n",
       "      <th>Mayotte</th>\n",
       "      <th>maximum</th>\n",
       "    </tr>\n",
       "  </thead>\n",
       "  <tbody>\n",
       "    <tr>\n",
       "      <th>0</th>\n",
       "      <td>25363652</td>\n",
       "      <td>A</td>\n",
       "      <td>C</td>\n",
       "      <td>0.0</td>\n",
       "      <td>0.0</td>\n",
       "      <td>0.0</td>\n",
       "      <td>0.0</td>\n",
       "    </tr>\n",
       "    <tr>\n",
       "      <th>1</th>\n",
       "      <td>25363652</td>\n",
       "      <td>A</td>\n",
       "      <td>T</td>\n",
       "      <td>0.0</td>\n",
       "      <td>0.0</td>\n",
       "      <td>0.0</td>\n",
       "      <td>0.0</td>\n",
       "    </tr>\n",
       "    <tr>\n",
       "      <th>2</th>\n",
       "      <td>25363652</td>\n",
       "      <td>A</td>\n",
       "      <td>G</td>\n",
       "      <td>0.0</td>\n",
       "      <td>0.0</td>\n",
       "      <td>0.0</td>\n",
       "      <td>0.0</td>\n",
       "    </tr>\n",
       "    <tr>\n",
       "      <th>3</th>\n",
       "      <td>25363653</td>\n",
       "      <td>T</td>\n",
       "      <td>A</td>\n",
       "      <td>0.0</td>\n",
       "      <td>0.0</td>\n",
       "      <td>0.0</td>\n",
       "      <td>0.0</td>\n",
       "    </tr>\n",
       "    <tr>\n",
       "      <th>4</th>\n",
       "      <td>25363653</td>\n",
       "      <td>T</td>\n",
       "      <td>C</td>\n",
       "      <td>0.0</td>\n",
       "      <td>0.0</td>\n",
       "      <td>0.0</td>\n",
       "      <td>0.0</td>\n",
       "    </tr>\n",
       "  </tbody>\n",
       "</table>\n",
       "</div>"
      ],
      "text/plain": [
       "   position ref_allele alt_allele  Kenya  Burkina Faso  Mayotte  maximum\n",
       "0  25363652          A          C    0.0           0.0      0.0      0.0\n",
       "1  25363652          A          T    0.0           0.0      0.0      0.0\n",
       "2  25363652          A          G    0.0           0.0      0.0      0.0\n",
       "3  25363653          T          A    0.0           0.0      0.0      0.0\n",
       "4  25363653          T          C    0.0           0.0      0.0      0.0"
      ]
     },
     "execution_count": 21,
     "metadata": {},
     "output_type": "execute_result"
    }
   ],
   "source": [
    "allele_freq_df.head()"
   ]
  },
  {
   "cell_type": "markdown",
   "id": "modular-humor",
   "metadata": {},
   "source": [
    "### join dataframes together so we can do some filtering"
   ]
  },
  {
   "cell_type": "code",
   "execution_count": 35,
   "id": "starting-billion",
   "metadata": {},
   "outputs": [],
   "source": [
    "merged_df = pd.merge(snp_effects_df, allele_freq_df, on=['position', 'ref_allele', 'alt_allele'])"
   ]
  },
  {
   "cell_type": "code",
   "execution_count": 36,
   "id": "comfortable-coordination",
   "metadata": {},
   "outputs": [
    {
     "data": {
      "text/html": [
       "<div>\n",
       "<style scoped>\n",
       "    .dataframe tbody tr th:only-of-type {\n",
       "        vertical-align: middle;\n",
       "    }\n",
       "\n",
       "    .dataframe tbody tr th {\n",
       "        vertical-align: top;\n",
       "    }\n",
       "\n",
       "    .dataframe thead th {\n",
       "        text-align: right;\n",
       "    }\n",
       "</style>\n",
       "<table border=\"1\" class=\"dataframe\">\n",
       "  <thead>\n",
       "    <tr style=\"text-align: right;\">\n",
       "      <th></th>\n",
       "      <th>position</th>\n",
       "      <th>ref_allele</th>\n",
       "      <th>alt_allele</th>\n",
       "      <th>effect</th>\n",
       "      <th>impact</th>\n",
       "      <th>ref_codon</th>\n",
       "      <th>alt_codon</th>\n",
       "      <th>aa_pos</th>\n",
       "      <th>ref_aa</th>\n",
       "      <th>alt_aa</th>\n",
       "      <th>aa_change</th>\n",
       "      <th>Kenya</th>\n",
       "      <th>Burkina Faso</th>\n",
       "      <th>Mayotte</th>\n",
       "      <th>maximum</th>\n",
       "    </tr>\n",
       "  </thead>\n",
       "  <tbody>\n",
       "    <tr>\n",
       "      <th>0</th>\n",
       "      <td>25363652</td>\n",
       "      <td>A</td>\n",
       "      <td>C</td>\n",
       "      <td>START_LOST</td>\n",
       "      <td>HIGH</td>\n",
       "      <td>Atg</td>\n",
       "      <td>Ctg</td>\n",
       "      <td>1.0</td>\n",
       "      <td>M</td>\n",
       "      <td>L</td>\n",
       "      <td>M1L</td>\n",
       "      <td>0.0</td>\n",
       "      <td>0.0</td>\n",
       "      <td>0.0</td>\n",
       "      <td>0.0</td>\n",
       "    </tr>\n",
       "    <tr>\n",
       "      <th>1</th>\n",
       "      <td>25363652</td>\n",
       "      <td>A</td>\n",
       "      <td>T</td>\n",
       "      <td>START_LOST</td>\n",
       "      <td>HIGH</td>\n",
       "      <td>Atg</td>\n",
       "      <td>Ttg</td>\n",
       "      <td>1.0</td>\n",
       "      <td>M</td>\n",
       "      <td>L</td>\n",
       "      <td>M1L</td>\n",
       "      <td>0.0</td>\n",
       "      <td>0.0</td>\n",
       "      <td>0.0</td>\n",
       "      <td>0.0</td>\n",
       "    </tr>\n",
       "    <tr>\n",
       "      <th>2</th>\n",
       "      <td>25363652</td>\n",
       "      <td>A</td>\n",
       "      <td>G</td>\n",
       "      <td>START_LOST</td>\n",
       "      <td>HIGH</td>\n",
       "      <td>Atg</td>\n",
       "      <td>Gtg</td>\n",
       "      <td>1.0</td>\n",
       "      <td>M</td>\n",
       "      <td>V</td>\n",
       "      <td>M1V</td>\n",
       "      <td>0.0</td>\n",
       "      <td>0.0</td>\n",
       "      <td>0.0</td>\n",
       "      <td>0.0</td>\n",
       "    </tr>\n",
       "    <tr>\n",
       "      <th>3</th>\n",
       "      <td>25363653</td>\n",
       "      <td>T</td>\n",
       "      <td>A</td>\n",
       "      <td>NON_SYNONYMOUS_CODING</td>\n",
       "      <td>MODERATE</td>\n",
       "      <td>aTg</td>\n",
       "      <td>aAg</td>\n",
       "      <td>1.0</td>\n",
       "      <td>M</td>\n",
       "      <td>K</td>\n",
       "      <td>M1K</td>\n",
       "      <td>0.0</td>\n",
       "      <td>0.0</td>\n",
       "      <td>0.0</td>\n",
       "      <td>0.0</td>\n",
       "    </tr>\n",
       "    <tr>\n",
       "      <th>4</th>\n",
       "      <td>25363653</td>\n",
       "      <td>T</td>\n",
       "      <td>C</td>\n",
       "      <td>NON_SYNONYMOUS_CODING</td>\n",
       "      <td>MODERATE</td>\n",
       "      <td>aTg</td>\n",
       "      <td>aCg</td>\n",
       "      <td>1.0</td>\n",
       "      <td>M</td>\n",
       "      <td>T</td>\n",
       "      <td>M1T</td>\n",
       "      <td>0.0</td>\n",
       "      <td>0.0</td>\n",
       "      <td>0.0</td>\n",
       "      <td>0.0</td>\n",
       "    </tr>\n",
       "    <tr>\n",
       "      <th>...</th>\n",
       "      <td>...</td>\n",
       "      <td>...</td>\n",
       "      <td>...</td>\n",
       "      <td>...</td>\n",
       "      <td>...</td>\n",
       "      <td>...</td>\n",
       "      <td>...</td>\n",
       "      <td>...</td>\n",
       "      <td>...</td>\n",
       "      <td>...</td>\n",
       "      <td>...</td>\n",
       "      <td>...</td>\n",
       "      <td>...</td>\n",
       "      <td>...</td>\n",
       "      <td>...</td>\n",
       "    </tr>\n",
       "    <tr>\n",
       "      <th>168829</th>\n",
       "      <td>25434555</td>\n",
       "      <td>A</td>\n",
       "      <td>T</td>\n",
       "      <td>STOP_LOST</td>\n",
       "      <td>HIGH</td>\n",
       "      <td>tAa</td>\n",
       "      <td>tTa</td>\n",
       "      <td>556.0</td>\n",
       "      <td>*</td>\n",
       "      <td>L</td>\n",
       "      <td>*556L</td>\n",
       "      <td>0.0</td>\n",
       "      <td>0.0</td>\n",
       "      <td>0.0</td>\n",
       "      <td>0.0</td>\n",
       "    </tr>\n",
       "    <tr>\n",
       "      <th>168830</th>\n",
       "      <td>25434555</td>\n",
       "      <td>A</td>\n",
       "      <td>G</td>\n",
       "      <td>SYNONYMOUS_CODING</td>\n",
       "      <td>LOW</td>\n",
       "      <td>tAa</td>\n",
       "      <td>tGa</td>\n",
       "      <td>556.0</td>\n",
       "      <td>*</td>\n",
       "      <td>*</td>\n",
       "      <td>*556*</td>\n",
       "      <td>0.0</td>\n",
       "      <td>0.0</td>\n",
       "      <td>0.0</td>\n",
       "      <td>0.0</td>\n",
       "    </tr>\n",
       "    <tr>\n",
       "      <th>168831</th>\n",
       "      <td>25434556</td>\n",
       "      <td>A</td>\n",
       "      <td>C</td>\n",
       "      <td>STOP_LOST</td>\n",
       "      <td>HIGH</td>\n",
       "      <td>taA</td>\n",
       "      <td>taC</td>\n",
       "      <td>556.0</td>\n",
       "      <td>*</td>\n",
       "      <td>Y</td>\n",
       "      <td>*556Y</td>\n",
       "      <td>0.0</td>\n",
       "      <td>0.0</td>\n",
       "      <td>0.0</td>\n",
       "      <td>0.0</td>\n",
       "    </tr>\n",
       "    <tr>\n",
       "      <th>168832</th>\n",
       "      <td>25434556</td>\n",
       "      <td>A</td>\n",
       "      <td>T</td>\n",
       "      <td>STOP_LOST</td>\n",
       "      <td>HIGH</td>\n",
       "      <td>taA</td>\n",
       "      <td>taT</td>\n",
       "      <td>556.0</td>\n",
       "      <td>*</td>\n",
       "      <td>Y</td>\n",
       "      <td>*556Y</td>\n",
       "      <td>0.0</td>\n",
       "      <td>0.0</td>\n",
       "      <td>0.0</td>\n",
       "      <td>0.0</td>\n",
       "    </tr>\n",
       "    <tr>\n",
       "      <th>168833</th>\n",
       "      <td>25434556</td>\n",
       "      <td>A</td>\n",
       "      <td>G</td>\n",
       "      <td>SYNONYMOUS_CODING</td>\n",
       "      <td>LOW</td>\n",
       "      <td>taA</td>\n",
       "      <td>taG</td>\n",
       "      <td>556.0</td>\n",
       "      <td>*</td>\n",
       "      <td>*</td>\n",
       "      <td>*556*</td>\n",
       "      <td>0.0</td>\n",
       "      <td>0.0</td>\n",
       "      <td>0.0</td>\n",
       "      <td>0.0</td>\n",
       "    </tr>\n",
       "  </tbody>\n",
       "</table>\n",
       "<p>168834 rows × 15 columns</p>\n",
       "</div>"
      ],
      "text/plain": [
       "        position ref_allele alt_allele                 effect    impact  \\\n",
       "0       25363652          A          C             START_LOST      HIGH   \n",
       "1       25363652          A          T             START_LOST      HIGH   \n",
       "2       25363652          A          G             START_LOST      HIGH   \n",
       "3       25363653          T          A  NON_SYNONYMOUS_CODING  MODERATE   \n",
       "4       25363653          T          C  NON_SYNONYMOUS_CODING  MODERATE   \n",
       "...          ...        ...        ...                    ...       ...   \n",
       "168829  25434555          A          T              STOP_LOST      HIGH   \n",
       "168830  25434555          A          G      SYNONYMOUS_CODING       LOW   \n",
       "168831  25434556          A          C              STOP_LOST      HIGH   \n",
       "168832  25434556          A          T              STOP_LOST      HIGH   \n",
       "168833  25434556          A          G      SYNONYMOUS_CODING       LOW   \n",
       "\n",
       "       ref_codon alt_codon  aa_pos ref_aa alt_aa aa_change  Kenya  \\\n",
       "0            Atg       Ctg     1.0      M      L       M1L    0.0   \n",
       "1            Atg       Ttg     1.0      M      L       M1L    0.0   \n",
       "2            Atg       Gtg     1.0      M      V       M1V    0.0   \n",
       "3            aTg       aAg     1.0      M      K       M1K    0.0   \n",
       "4            aTg       aCg     1.0      M      T       M1T    0.0   \n",
       "...          ...       ...     ...    ...    ...       ...    ...   \n",
       "168829       tAa       tTa   556.0      *      L     *556L    0.0   \n",
       "168830       tAa       tGa   556.0      *      *     *556*    0.0   \n",
       "168831       taA       taC   556.0      *      Y     *556Y    0.0   \n",
       "168832       taA       taT   556.0      *      Y     *556Y    0.0   \n",
       "168833       taA       taG   556.0      *      *     *556*    0.0   \n",
       "\n",
       "        Burkina Faso  Mayotte  maximum  \n",
       "0                0.0      0.0      0.0  \n",
       "1                0.0      0.0      0.0  \n",
       "2                0.0      0.0      0.0  \n",
       "3                0.0      0.0      0.0  \n",
       "4                0.0      0.0      0.0  \n",
       "...              ...      ...      ...  \n",
       "168829           0.0      0.0      0.0  \n",
       "168830           0.0      0.0      0.0  \n",
       "168831           0.0      0.0      0.0  \n",
       "168832           0.0      0.0      0.0  \n",
       "168833           0.0      0.0      0.0  \n",
       "\n",
       "[168834 rows x 15 columns]"
      ]
     },
     "execution_count": 36,
     "metadata": {},
     "output_type": "execute_result"
    }
   ],
   "source": [
    "merged_df"
   ]
  },
  {
   "cell_type": "markdown",
   "id": "declared-facing",
   "metadata": {},
   "source": [
    "### filter down to variants-of-interest"
   ]
  },
  {
   "cell_type": "code",
   "execution_count": 37,
   "id": "through-legislature",
   "metadata": {},
   "outputs": [],
   "source": [
    "# #let's keep  variants that have MODERATE (e.g. NON-SYN) or HIGH (e.g. STOP-LOST) impact.\n",
    "merged_df = merged_df[(merged_df.impact == \"HIGH\") | (merged_df.impact == \"MODERATE\")].copy()"
   ]
  },
  {
   "cell_type": "code",
   "execution_count": 38,
   "id": "running-stick",
   "metadata": {},
   "outputs": [
    {
     "data": {
      "text/html": [
       "<div>\n",
       "<style scoped>\n",
       "    .dataframe tbody tr th:only-of-type {\n",
       "        vertical-align: middle;\n",
       "    }\n",
       "\n",
       "    .dataframe tbody tr th {\n",
       "        vertical-align: top;\n",
       "    }\n",
       "\n",
       "    .dataframe thead th {\n",
       "        text-align: right;\n",
       "    }\n",
       "</style>\n",
       "<table border=\"1\" class=\"dataframe\">\n",
       "  <thead>\n",
       "    <tr style=\"text-align: right;\">\n",
       "      <th></th>\n",
       "      <th>position</th>\n",
       "      <th>ref_allele</th>\n",
       "      <th>alt_allele</th>\n",
       "      <th>effect</th>\n",
       "      <th>impact</th>\n",
       "      <th>ref_codon</th>\n",
       "      <th>alt_codon</th>\n",
       "      <th>aa_pos</th>\n",
       "      <th>ref_aa</th>\n",
       "      <th>alt_aa</th>\n",
       "      <th>aa_change</th>\n",
       "      <th>Kenya</th>\n",
       "      <th>Burkina Faso</th>\n",
       "      <th>Mayotte</th>\n",
       "      <th>maximum</th>\n",
       "    </tr>\n",
       "  </thead>\n",
       "  <tbody>\n",
       "    <tr>\n",
       "      <th>0</th>\n",
       "      <td>25363652</td>\n",
       "      <td>A</td>\n",
       "      <td>C</td>\n",
       "      <td>START_LOST</td>\n",
       "      <td>HIGH</td>\n",
       "      <td>Atg</td>\n",
       "      <td>Ctg</td>\n",
       "      <td>1.0</td>\n",
       "      <td>M</td>\n",
       "      <td>L</td>\n",
       "      <td>M1L</td>\n",
       "      <td>0.0</td>\n",
       "      <td>0.0</td>\n",
       "      <td>0.0</td>\n",
       "      <td>0.0</td>\n",
       "    </tr>\n",
       "    <tr>\n",
       "      <th>1</th>\n",
       "      <td>25363652</td>\n",
       "      <td>A</td>\n",
       "      <td>T</td>\n",
       "      <td>START_LOST</td>\n",
       "      <td>HIGH</td>\n",
       "      <td>Atg</td>\n",
       "      <td>Ttg</td>\n",
       "      <td>1.0</td>\n",
       "      <td>M</td>\n",
       "      <td>L</td>\n",
       "      <td>M1L</td>\n",
       "      <td>0.0</td>\n",
       "      <td>0.0</td>\n",
       "      <td>0.0</td>\n",
       "      <td>0.0</td>\n",
       "    </tr>\n",
       "    <tr>\n",
       "      <th>2</th>\n",
       "      <td>25363652</td>\n",
       "      <td>A</td>\n",
       "      <td>G</td>\n",
       "      <td>START_LOST</td>\n",
       "      <td>HIGH</td>\n",
       "      <td>Atg</td>\n",
       "      <td>Gtg</td>\n",
       "      <td>1.0</td>\n",
       "      <td>M</td>\n",
       "      <td>V</td>\n",
       "      <td>M1V</td>\n",
       "      <td>0.0</td>\n",
       "      <td>0.0</td>\n",
       "      <td>0.0</td>\n",
       "      <td>0.0</td>\n",
       "    </tr>\n",
       "    <tr>\n",
       "      <th>3</th>\n",
       "      <td>25363653</td>\n",
       "      <td>T</td>\n",
       "      <td>A</td>\n",
       "      <td>NON_SYNONYMOUS_CODING</td>\n",
       "      <td>MODERATE</td>\n",
       "      <td>aTg</td>\n",
       "      <td>aAg</td>\n",
       "      <td>1.0</td>\n",
       "      <td>M</td>\n",
       "      <td>K</td>\n",
       "      <td>M1K</td>\n",
       "      <td>0.0</td>\n",
       "      <td>0.0</td>\n",
       "      <td>0.0</td>\n",
       "      <td>0.0</td>\n",
       "    </tr>\n",
       "    <tr>\n",
       "      <th>4</th>\n",
       "      <td>25363653</td>\n",
       "      <td>T</td>\n",
       "      <td>C</td>\n",
       "      <td>NON_SYNONYMOUS_CODING</td>\n",
       "      <td>MODERATE</td>\n",
       "      <td>aTg</td>\n",
       "      <td>aCg</td>\n",
       "      <td>1.0</td>\n",
       "      <td>M</td>\n",
       "      <td>T</td>\n",
       "      <td>M1T</td>\n",
       "      <td>0.0</td>\n",
       "      <td>0.0</td>\n",
       "      <td>0.0</td>\n",
       "      <td>0.0</td>\n",
       "    </tr>\n",
       "    <tr>\n",
       "      <th>...</th>\n",
       "      <td>...</td>\n",
       "      <td>...</td>\n",
       "      <td>...</td>\n",
       "      <td>...</td>\n",
       "      <td>...</td>\n",
       "      <td>...</td>\n",
       "      <td>...</td>\n",
       "      <td>...</td>\n",
       "      <td>...</td>\n",
       "      <td>...</td>\n",
       "      <td>...</td>\n",
       "      <td>...</td>\n",
       "      <td>...</td>\n",
       "      <td>...</td>\n",
       "      <td>...</td>\n",
       "    </tr>\n",
       "    <tr>\n",
       "      <th>168827</th>\n",
       "      <td>25434553</td>\n",
       "      <td>G</td>\n",
       "      <td>T</td>\n",
       "      <td>NON_SYNONYMOUS_CODING</td>\n",
       "      <td>MODERATE</td>\n",
       "      <td>aaG</td>\n",
       "      <td>aaT</td>\n",
       "      <td>555.0</td>\n",
       "      <td>K</td>\n",
       "      <td>N</td>\n",
       "      <td>K555N</td>\n",
       "      <td>0.0</td>\n",
       "      <td>0.0</td>\n",
       "      <td>0.0</td>\n",
       "      <td>0.0</td>\n",
       "    </tr>\n",
       "    <tr>\n",
       "      <th>168828</th>\n",
       "      <td>25434555</td>\n",
       "      <td>A</td>\n",
       "      <td>C</td>\n",
       "      <td>STOP_LOST</td>\n",
       "      <td>HIGH</td>\n",
       "      <td>tAa</td>\n",
       "      <td>tCa</td>\n",
       "      <td>556.0</td>\n",
       "      <td>*</td>\n",
       "      <td>S</td>\n",
       "      <td>*556S</td>\n",
       "      <td>0.0</td>\n",
       "      <td>0.0</td>\n",
       "      <td>0.0</td>\n",
       "      <td>0.0</td>\n",
       "    </tr>\n",
       "    <tr>\n",
       "      <th>168829</th>\n",
       "      <td>25434555</td>\n",
       "      <td>A</td>\n",
       "      <td>T</td>\n",
       "      <td>STOP_LOST</td>\n",
       "      <td>HIGH</td>\n",
       "      <td>tAa</td>\n",
       "      <td>tTa</td>\n",
       "      <td>556.0</td>\n",
       "      <td>*</td>\n",
       "      <td>L</td>\n",
       "      <td>*556L</td>\n",
       "      <td>0.0</td>\n",
       "      <td>0.0</td>\n",
       "      <td>0.0</td>\n",
       "      <td>0.0</td>\n",
       "    </tr>\n",
       "    <tr>\n",
       "      <th>168831</th>\n",
       "      <td>25434556</td>\n",
       "      <td>A</td>\n",
       "      <td>C</td>\n",
       "      <td>STOP_LOST</td>\n",
       "      <td>HIGH</td>\n",
       "      <td>taA</td>\n",
       "      <td>taC</td>\n",
       "      <td>556.0</td>\n",
       "      <td>*</td>\n",
       "      <td>Y</td>\n",
       "      <td>*556Y</td>\n",
       "      <td>0.0</td>\n",
       "      <td>0.0</td>\n",
       "      <td>0.0</td>\n",
       "      <td>0.0</td>\n",
       "    </tr>\n",
       "    <tr>\n",
       "      <th>168832</th>\n",
       "      <td>25434556</td>\n",
       "      <td>A</td>\n",
       "      <td>T</td>\n",
       "      <td>STOP_LOST</td>\n",
       "      <td>HIGH</td>\n",
       "      <td>taA</td>\n",
       "      <td>taT</td>\n",
       "      <td>556.0</td>\n",
       "      <td>*</td>\n",
       "      <td>Y</td>\n",
       "      <td>*556Y</td>\n",
       "      <td>0.0</td>\n",
       "      <td>0.0</td>\n",
       "      <td>0.0</td>\n",
       "      <td>0.0</td>\n",
       "    </tr>\n",
       "  </tbody>\n",
       "</table>\n",
       "<p>3760 rows × 15 columns</p>\n",
       "</div>"
      ],
      "text/plain": [
       "        position ref_allele alt_allele                 effect    impact  \\\n",
       "0       25363652          A          C             START_LOST      HIGH   \n",
       "1       25363652          A          T             START_LOST      HIGH   \n",
       "2       25363652          A          G             START_LOST      HIGH   \n",
       "3       25363653          T          A  NON_SYNONYMOUS_CODING  MODERATE   \n",
       "4       25363653          T          C  NON_SYNONYMOUS_CODING  MODERATE   \n",
       "...          ...        ...        ...                    ...       ...   \n",
       "168827  25434553          G          T  NON_SYNONYMOUS_CODING  MODERATE   \n",
       "168828  25434555          A          C              STOP_LOST      HIGH   \n",
       "168829  25434555          A          T              STOP_LOST      HIGH   \n",
       "168831  25434556          A          C              STOP_LOST      HIGH   \n",
       "168832  25434556          A          T              STOP_LOST      HIGH   \n",
       "\n",
       "       ref_codon alt_codon  aa_pos ref_aa alt_aa aa_change  Kenya  \\\n",
       "0            Atg       Ctg     1.0      M      L       M1L    0.0   \n",
       "1            Atg       Ttg     1.0      M      L       M1L    0.0   \n",
       "2            Atg       Gtg     1.0      M      V       M1V    0.0   \n",
       "3            aTg       aAg     1.0      M      K       M1K    0.0   \n",
       "4            aTg       aCg     1.0      M      T       M1T    0.0   \n",
       "...          ...       ...     ...    ...    ...       ...    ...   \n",
       "168827       aaG       aaT   555.0      K      N     K555N    0.0   \n",
       "168828       tAa       tCa   556.0      *      S     *556S    0.0   \n",
       "168829       tAa       tTa   556.0      *      L     *556L    0.0   \n",
       "168831       taA       taC   556.0      *      Y     *556Y    0.0   \n",
       "168832       taA       taT   556.0      *      Y     *556Y    0.0   \n",
       "\n",
       "        Burkina Faso  Mayotte  maximum  \n",
       "0                0.0      0.0      0.0  \n",
       "1                0.0      0.0      0.0  \n",
       "2                0.0      0.0      0.0  \n",
       "3                0.0      0.0      0.0  \n",
       "4                0.0      0.0      0.0  \n",
       "...              ...      ...      ...  \n",
       "168827           0.0      0.0      0.0  \n",
       "168828           0.0      0.0      0.0  \n",
       "168829           0.0      0.0      0.0  \n",
       "168831           0.0      0.0      0.0  \n",
       "168832           0.0      0.0      0.0  \n",
       "\n",
       "[3760 rows x 15 columns]"
      ]
     },
     "execution_count": 38,
     "metadata": {},
     "output_type": "execute_result"
    }
   ],
   "source": [
    "merged_df"
   ]
  },
  {
   "cell_type": "code",
   "execution_count": 39,
   "id": "delayed-saint",
   "metadata": {},
   "outputs": [],
   "source": [
    "#next, we can remove invariant positions (where maximum allele frequency is >0)\n",
    "freq_filtered_df = merged_df[merged_df.maximum > 0].copy()"
   ]
  },
  {
   "cell_type": "code",
   "execution_count": 61,
   "id": "sunset-charles",
   "metadata": {},
   "outputs": [
    {
     "data": {
      "text/plain": [
       "Index(['position', 'ref_allele', 'alt_allele', 'effect', 'impact', 'ref_codon',\n",
       "       'alt_codon', 'aa_pos', 'ref_aa', 'alt_aa', 'aa_change', 'Kenya',\n",
       "       'Burkina Faso', 'Mayotte', 'maximum'],\n",
       "      dtype='object')"
      ]
     },
     "execution_count": 61,
     "metadata": {},
     "output_type": "execute_result"
    }
   ],
   "source": [
    "freq_filtered_df.columns"
   ]
  },
  {
   "cell_type": "code",
   "execution_count": 70,
   "id": "resident-plant",
   "metadata": {},
   "outputs": [
    {
     "data": {
      "text/plain": [
       "(35, 15)"
      ]
     },
     "execution_count": 70,
     "metadata": {},
     "output_type": "execute_result"
    }
   ],
   "source": [
    "freq_filtered_df.shape"
   ]
  },
  {
   "cell_type": "markdown",
   "id": "enormous-month",
   "metadata": {},
   "source": [
    "### plot"
   ]
  },
  {
   "cell_type": "code",
   "execution_count": 95,
   "id": "confidential-dayton",
   "metadata": {},
   "outputs": [],
   "source": [
    "# first we need a plotly friendly dataframe...\n",
    "plotly_cols = {\n",
    "    'position' : np.tile(freq_filtered_df.position, len(populations)),\n",
    "    'effect' : np.tile(freq_filtered_df.effect, len(populations)),\n",
    "    'aa_change' : np.tile(freq_filtered_df.aa_change, len(populations)),\n",
    "    'frequency' : [],\n",
    "    'population' : []\n",
    "}\n",
    "\n",
    "for pop in freq_filtered_df[populations]:\n",
    "    for freq in freq_filtered_df[pop]:\n",
    "        plotly_cols['frequency'].append(freq)\n",
    "        plotly_cols['population'].append(pop)\n",
    "        \n",
    "plotly_df = pd.DataFrame(plotly_cols)"
   ]
  },
  {
   "cell_type": "code",
   "execution_count": 97,
   "id": "brave-council",
   "metadata": {},
   "outputs": [
    {
     "data": {
      "application/vnd.plotly.v1+json": {
       "config": {
        "plotlyServerURL": "https://plot.ly"
       },
       "data": [
        {
         "customdata": [
          [
           "Kenya",
           "NON_SYNONYMOUS_CODING",
           "S2L"
          ],
          [
           "Kenya",
           "NON_SYNONYMOUS_CODING",
           "L24F"
          ],
          [
           "Kenya",
           "NON_SYNONYMOUS_CODING",
           "G75E"
          ],
          [
           "Kenya",
           "NON_SYNONYMOUS_CODING",
           "P228S"
          ],
          [
           "Kenya",
           "NON_SYNONYMOUS_CODING",
           "A296G"
          ],
          [
           "Kenya",
           "NON_SYNONYMOUS_CODING",
           "T345M"
          ],
          [
           "Kenya",
           "NON_SYNONYMOUS_CODING",
           "M349I"
          ],
          [
           "Kenya",
           "NON_SYNONYMOUS_CODING",
           "Q373K"
          ],
          [
           "Kenya",
           "NON_SYNONYMOUS_CODING",
           "D376A"
          ],
          [
           "Kenya",
           "NON_SYNONYMOUS_CODING",
           "P384H"
          ],
          [
           "Kenya",
           "NON_SYNONYMOUS_CODING",
           "D389Y"
          ],
          [
           "Kenya",
           "NON_SYNONYMOUS_CODING",
           "S399T"
          ],
          [
           "Kenya",
           "NON_SYNONYMOUS_CODING",
           "Q403P"
          ],
          [
           "Kenya",
           "NON_SYNONYMOUS_CODING",
           "H404R"
          ],
          [
           "Kenya",
           "NON_SYNONYMOUS_CODING",
           "M410I"
          ],
          [
           "Kenya",
           "NON_SYNONYMOUS_CODING",
           "G411A"
          ],
          [
           "Kenya",
           "NON_SYNONYMOUS_CODING",
           "S412N"
          ],
          [
           "Kenya",
           "NON_SYNONYMOUS_CODING",
           "R413L"
          ],
          [
           "Kenya",
           "NON_SYNONYMOUS_CODING",
           "P422R"
          ],
          [
           "Kenya",
           "NON_SYNONYMOUS_CODING",
           "M424I"
          ],
          [
           "Kenya",
           "NON_SYNONYMOUS_CODING",
           "L435P"
          ],
          [
           "Kenya",
           "NON_SYNONYMOUS_CODING",
           "G453D"
          ],
          [
           "Kenya",
           "NON_SYNONYMOUS_CODING",
           "N457T"
          ],
          [
           "Kenya",
           "NON_SYNONYMOUS_CODING",
           "G500S"
          ],
          [
           "Kenya",
           "NON_SYNONYMOUS_CODING",
           "N530K"
          ],
          [
           "Kenya",
           "NON_SYNONYMOUS_CODING",
           "L538V"
          ],
          [
           "Kenya",
           "NON_SYNONYMOUS_CODING",
           "H539L"
          ],
          [
           "Kenya",
           "NON_SYNONYMOUS_CODING",
           "H539Q"
          ],
          [
           "Kenya",
           "NON_SYNONYMOUS_CODING",
           "D542N"
          ]
         ],
         "hovertemplate": "population=%{customdata[0]}<br>effect=%{customdata[1]}<br>position=%{x}<br>frequency=%{y}<br>aa_change=%{customdata[2]}<extra></extra>",
         "legendgroup": "Kenya, NON_SYNONYMOUS_CODING",
         "marker": {
          "color": "#636efa",
          "symbol": "circle"
         },
         "mode": "markers",
         "name": "Kenya, NON_SYNONYMOUS_CODING",
         "orientation": "v",
         "showlegend": true,
         "type": "scatter",
         "x": [
          25363656,
          25363723,
          25387091,
          25413317,
          25429236,
          25433171,
          25433184,
          25433254,
          25433264,
          25433288,
          25433302,
          25433333,
          25433345,
          25433348,
          25433367,
          25433369,
          25433372,
          25433375,
          25433402,
          25433409,
          25433441,
          25433495,
          25433507,
          25433635,
          25434478,
          25434500,
          25434504,
          25434505,
          25434512
         ],
         "xaxis": "x",
         "y": [
          0,
          0,
          0,
          0,
          0.8888888888888888,
          0.8888888888888888,
          0,
          0,
          0,
          0,
          0,
          0,
          0,
          0,
          0,
          0,
          0,
          0,
          0,
          0,
          0,
          0,
          0,
          0,
          0.3333333333333333,
          0,
          0,
          0.1388888888888889,
          0
         ],
         "yaxis": "y"
        },
        {
         "customdata": [
          [
           "Kenya",
           "SPLICE_REGION",
           null
          ],
          [
           "Kenya",
           "SPLICE_REGION",
           null
          ],
          [
           "Kenya",
           "SPLICE_REGION",
           null
          ],
          [
           "Kenya",
           "SPLICE_REGION",
           null
          ]
         ],
         "hovertemplate": "population=%{customdata[0]}<br>effect=%{customdata[1]}<br>position=%{x}<br>frequency=%{y}<br>aa_change=%{customdata[2]}<extra></extra>",
         "legendgroup": "Kenya, SPLICE_REGION",
         "marker": {
          "color": "#636efa",
          "symbol": "diamond"
         },
         "mode": "markers",
         "name": "Kenya, SPLICE_REGION",
         "orientation": "v",
         "showlegend": true,
         "type": "scatter",
         "x": [
          25382773,
          25387164,
          25433158,
          25433647
         ],
         "xaxis": "x",
         "y": [
          0,
          0,
          0,
          0
         ],
         "yaxis": "y"
        },
        {
         "customdata": [
          [
           "Kenya",
           "STOP_GAINED",
           "Y343*"
          ]
         ],
         "hovertemplate": "population=%{customdata[0]}<br>effect=%{customdata[1]}<br>position=%{x}<br>frequency=%{y}<br>aa_change=%{customdata[2]}<extra></extra>",
         "legendgroup": "Kenya, STOP_GAINED",
         "marker": {
          "color": "#636efa",
          "symbol": "square"
         },
         "mode": "markers",
         "name": "Kenya, STOP_GAINED",
         "orientation": "v",
         "showlegend": true,
         "type": "scatter",
         "x": [
          25433166
         ],
         "xaxis": "x",
         "y": [
          0
         ],
         "yaxis": "y"
        },
        {
         "customdata": [
          [
           "Kenya",
           "SPLICE_CORE",
           null
          ]
         ],
         "hovertemplate": "population=%{customdata[0]}<br>effect=%{customdata[1]}<br>position=%{x}<br>frequency=%{y}<br>aa_change=%{customdata[2]}<extra></extra>",
         "legendgroup": "Kenya, SPLICE_CORE",
         "marker": {
          "color": "#636efa",
          "symbol": "x"
         },
         "mode": "markers",
         "name": "Kenya, SPLICE_CORE",
         "orientation": "v",
         "showlegend": true,
         "type": "scatter",
         "x": [
          25434390
         ],
         "xaxis": "x",
         "y": [
          0
         ],
         "yaxis": "y"
        },
        {
         "customdata": [
          [
           "Burkina Faso",
           "NON_SYNONYMOUS_CODING",
           "S2L"
          ],
          [
           "Burkina Faso",
           "NON_SYNONYMOUS_CODING",
           "L24F"
          ],
          [
           "Burkina Faso",
           "NON_SYNONYMOUS_CODING",
           "G75E"
          ],
          [
           "Burkina Faso",
           "NON_SYNONYMOUS_CODING",
           "P228S"
          ],
          [
           "Burkina Faso",
           "NON_SYNONYMOUS_CODING",
           "A296G"
          ],
          [
           "Burkina Faso",
           "NON_SYNONYMOUS_CODING",
           "T345M"
          ],
          [
           "Burkina Faso",
           "NON_SYNONYMOUS_CODING",
           "M349I"
          ],
          [
           "Burkina Faso",
           "NON_SYNONYMOUS_CODING",
           "Q373K"
          ],
          [
           "Burkina Faso",
           "NON_SYNONYMOUS_CODING",
           "D376A"
          ],
          [
           "Burkina Faso",
           "NON_SYNONYMOUS_CODING",
           "P384H"
          ],
          [
           "Burkina Faso",
           "NON_SYNONYMOUS_CODING",
           "D389Y"
          ],
          [
           "Burkina Faso",
           "NON_SYNONYMOUS_CODING",
           "S399T"
          ],
          [
           "Burkina Faso",
           "NON_SYNONYMOUS_CODING",
           "Q403P"
          ],
          [
           "Burkina Faso",
           "NON_SYNONYMOUS_CODING",
           "H404R"
          ],
          [
           "Burkina Faso",
           "NON_SYNONYMOUS_CODING",
           "M410I"
          ],
          [
           "Burkina Faso",
           "NON_SYNONYMOUS_CODING",
           "G411A"
          ],
          [
           "Burkina Faso",
           "NON_SYNONYMOUS_CODING",
           "S412N"
          ],
          [
           "Burkina Faso",
           "NON_SYNONYMOUS_CODING",
           "R413L"
          ],
          [
           "Burkina Faso",
           "NON_SYNONYMOUS_CODING",
           "P422R"
          ],
          [
           "Burkina Faso",
           "NON_SYNONYMOUS_CODING",
           "M424I"
          ],
          [
           "Burkina Faso",
           "NON_SYNONYMOUS_CODING",
           "L435P"
          ],
          [
           "Burkina Faso",
           "NON_SYNONYMOUS_CODING",
           "G453D"
          ],
          [
           "Burkina Faso",
           "NON_SYNONYMOUS_CODING",
           "N457T"
          ],
          [
           "Burkina Faso",
           "NON_SYNONYMOUS_CODING",
           "G500S"
          ],
          [
           "Burkina Faso",
           "NON_SYNONYMOUS_CODING",
           "N530K"
          ],
          [
           "Burkina Faso",
           "NON_SYNONYMOUS_CODING",
           "L538V"
          ],
          [
           "Burkina Faso",
           "NON_SYNONYMOUS_CODING",
           "H539L"
          ],
          [
           "Burkina Faso",
           "NON_SYNONYMOUS_CODING",
           "H539Q"
          ],
          [
           "Burkina Faso",
           "NON_SYNONYMOUS_CODING",
           "D542N"
          ]
         ],
         "hovertemplate": "population=%{customdata[0]}<br>effect=%{customdata[1]}<br>position=%{x}<br>frequency=%{y}<br>aa_change=%{customdata[2]}<extra></extra>",
         "legendgroup": "Burkina Faso, NON_SYNONYMOUS_CODING",
         "marker": {
          "color": "#EF553B",
          "symbol": "circle"
         },
         "mode": "markers",
         "name": "Burkina Faso, NON_SYNONYMOUS_CODING",
         "orientation": "v",
         "showlegend": true,
         "type": "scatter",
         "x": [
          25363656,
          25363723,
          25387091,
          25413317,
          25429236,
          25433171,
          25433184,
          25433254,
          25433264,
          25433288,
          25433302,
          25433333,
          25433345,
          25433348,
          25433367,
          25433369,
          25433372,
          25433375,
          25433402,
          25433409,
          25433441,
          25433495,
          25433507,
          25433635,
          25434478,
          25434500,
          25434504,
          25434505,
          25434512
         ],
         "xaxis": "x",
         "y": [
          0.0031847133757961785,
          0.0031847133757961785,
          0.0031847133757961785,
          0.0031847133757961785,
          0.3885350318471338,
          0.3885350318471338,
          0.0031847133757961785,
          0.0031847133757961785,
          0,
          0,
          0.0031847133757961785,
          0.0031847133757961785,
          0,
          0.0031847133757961785,
          0.0031847133757961785,
          0.0031847133757961785,
          0.0031847133757961785,
          0.0031847133757961785,
          0.0031847133757961785,
          0.0031847133757961785,
          0.0031847133757961785,
          0.0031847133757961785,
          0,
          0.0031847133757961785,
          0.0732484076433121,
          0.0031847133757961785,
          0.0031847133757961785,
          0.14012738853503184,
          0.0031847133757961785
         ],
         "yaxis": "y"
        },
        {
         "customdata": [
          [
           "Burkina Faso",
           "SPLICE_REGION",
           null
          ],
          [
           "Burkina Faso",
           "SPLICE_REGION",
           null
          ],
          [
           "Burkina Faso",
           "SPLICE_REGION",
           null
          ],
          [
           "Burkina Faso",
           "SPLICE_REGION",
           null
          ]
         ],
         "hovertemplate": "population=%{customdata[0]}<br>effect=%{customdata[1]}<br>position=%{x}<br>frequency=%{y}<br>aa_change=%{customdata[2]}<extra></extra>",
         "legendgroup": "Burkina Faso, SPLICE_REGION",
         "marker": {
          "color": "#EF553B",
          "symbol": "diamond"
         },
         "mode": "markers",
         "name": "Burkina Faso, SPLICE_REGION",
         "orientation": "v",
         "showlegend": true,
         "type": "scatter",
         "x": [
          25382773,
          25387164,
          25433158,
          25433647
         ],
         "xaxis": "x",
         "y": [
          0.0031847133757961785,
          0.0031847133757961785,
          0.009554140127388535,
          0.006369426751592357
         ],
         "yaxis": "y"
        },
        {
         "customdata": [
          [
           "Burkina Faso",
           "STOP_GAINED",
           "Y343*"
          ]
         ],
         "hovertemplate": "population=%{customdata[0]}<br>effect=%{customdata[1]}<br>position=%{x}<br>frequency=%{y}<br>aa_change=%{customdata[2]}<extra></extra>",
         "legendgroup": "Burkina Faso, STOP_GAINED",
         "marker": {
          "color": "#EF553B",
          "symbol": "square"
         },
         "mode": "markers",
         "name": "Burkina Faso, STOP_GAINED",
         "orientation": "v",
         "showlegend": true,
         "type": "scatter",
         "x": [
          25433166
         ],
         "xaxis": "x",
         "y": [
          0.0031847133757961785
         ],
         "yaxis": "y"
        },
        {
         "customdata": [
          [
           "Burkina Faso",
           "SPLICE_CORE",
           null
          ]
         ],
         "hovertemplate": "population=%{customdata[0]}<br>effect=%{customdata[1]}<br>position=%{x}<br>frequency=%{y}<br>aa_change=%{customdata[2]}<extra></extra>",
         "legendgroup": "Burkina Faso, SPLICE_CORE",
         "marker": {
          "color": "#EF553B",
          "symbol": "x"
         },
         "mode": "markers",
         "name": "Burkina Faso, SPLICE_CORE",
         "orientation": "v",
         "showlegend": true,
         "type": "scatter",
         "x": [
          25434390
         ],
         "xaxis": "x",
         "y": [
          0.0031847133757961785
         ],
         "yaxis": "y"
        },
        {
         "customdata": [
          [
           "Mayotte",
           "NON_SYNONYMOUS_CODING",
           "S2L"
          ],
          [
           "Mayotte",
           "NON_SYNONYMOUS_CODING",
           "L24F"
          ],
          [
           "Mayotte",
           "NON_SYNONYMOUS_CODING",
           "G75E"
          ],
          [
           "Mayotte",
           "NON_SYNONYMOUS_CODING",
           "P228S"
          ],
          [
           "Mayotte",
           "NON_SYNONYMOUS_CODING",
           "A296G"
          ],
          [
           "Mayotte",
           "NON_SYNONYMOUS_CODING",
           "T345M"
          ],
          [
           "Mayotte",
           "NON_SYNONYMOUS_CODING",
           "M349I"
          ],
          [
           "Mayotte",
           "NON_SYNONYMOUS_CODING",
           "Q373K"
          ],
          [
           "Mayotte",
           "NON_SYNONYMOUS_CODING",
           "D376A"
          ],
          [
           "Mayotte",
           "NON_SYNONYMOUS_CODING",
           "P384H"
          ],
          [
           "Mayotte",
           "NON_SYNONYMOUS_CODING",
           "D389Y"
          ],
          [
           "Mayotte",
           "NON_SYNONYMOUS_CODING",
           "S399T"
          ],
          [
           "Mayotte",
           "NON_SYNONYMOUS_CODING",
           "Q403P"
          ],
          [
           "Mayotte",
           "NON_SYNONYMOUS_CODING",
           "H404R"
          ],
          [
           "Mayotte",
           "NON_SYNONYMOUS_CODING",
           "M410I"
          ],
          [
           "Mayotte",
           "NON_SYNONYMOUS_CODING",
           "G411A"
          ],
          [
           "Mayotte",
           "NON_SYNONYMOUS_CODING",
           "S412N"
          ],
          [
           "Mayotte",
           "NON_SYNONYMOUS_CODING",
           "R413L"
          ],
          [
           "Mayotte",
           "NON_SYNONYMOUS_CODING",
           "P422R"
          ],
          [
           "Mayotte",
           "NON_SYNONYMOUS_CODING",
           "M424I"
          ],
          [
           "Mayotte",
           "NON_SYNONYMOUS_CODING",
           "L435P"
          ],
          [
           "Mayotte",
           "NON_SYNONYMOUS_CODING",
           "G453D"
          ],
          [
           "Mayotte",
           "NON_SYNONYMOUS_CODING",
           "N457T"
          ],
          [
           "Mayotte",
           "NON_SYNONYMOUS_CODING",
           "G500S"
          ],
          [
           "Mayotte",
           "NON_SYNONYMOUS_CODING",
           "N530K"
          ],
          [
           "Mayotte",
           "NON_SYNONYMOUS_CODING",
           "L538V"
          ],
          [
           "Mayotte",
           "NON_SYNONYMOUS_CODING",
           "H539L"
          ],
          [
           "Mayotte",
           "NON_SYNONYMOUS_CODING",
           "H539Q"
          ],
          [
           "Mayotte",
           "NON_SYNONYMOUS_CODING",
           "D542N"
          ]
         ],
         "hovertemplate": "population=%{customdata[0]}<br>effect=%{customdata[1]}<br>position=%{x}<br>frequency=%{y}<br>aa_change=%{customdata[2]}<extra></extra>",
         "legendgroup": "Mayotte, NON_SYNONYMOUS_CODING",
         "marker": {
          "color": "#00cc96",
          "symbol": "circle"
         },
         "mode": "markers",
         "name": "Mayotte, NON_SYNONYMOUS_CODING",
         "orientation": "v",
         "showlegend": true,
         "type": "scatter",
         "x": [
          25363656,
          25363723,
          25387091,
          25413317,
          25429236,
          25433171,
          25433184,
          25433254,
          25433264,
          25433288,
          25433302,
          25433333,
          25433345,
          25433348,
          25433367,
          25433369,
          25433372,
          25433375,
          25433402,
          25433409,
          25433441,
          25433495,
          25433507,
          25433635,
          25434478,
          25434500,
          25434504,
          25434505,
          25434512
         ],
         "xaxis": "x",
         "y": [
          0,
          0,
          0,
          0,
          0,
          0,
          0,
          0,
          0.021739130434782608,
          0.021739130434782608,
          0,
          0,
          0.021739130434782608,
          0,
          0,
          0,
          0,
          0,
          0,
          0,
          0,
          0,
          0.021739130434782608,
          0,
          0,
          0,
          0,
          0,
          0
         ],
         "yaxis": "y"
        },
        {
         "customdata": [
          [
           "Mayotte",
           "SPLICE_REGION",
           null
          ],
          [
           "Mayotte",
           "SPLICE_REGION",
           null
          ],
          [
           "Mayotte",
           "SPLICE_REGION",
           null
          ],
          [
           "Mayotte",
           "SPLICE_REGION",
           null
          ]
         ],
         "hovertemplate": "population=%{customdata[0]}<br>effect=%{customdata[1]}<br>position=%{x}<br>frequency=%{y}<br>aa_change=%{customdata[2]}<extra></extra>",
         "legendgroup": "Mayotte, SPLICE_REGION",
         "marker": {
          "color": "#00cc96",
          "symbol": "diamond"
         },
         "mode": "markers",
         "name": "Mayotte, SPLICE_REGION",
         "orientation": "v",
         "showlegend": true,
         "type": "scatter",
         "x": [
          25382773,
          25387164,
          25433158,
          25433647
         ],
         "xaxis": "x",
         "y": [
          0,
          0,
          0,
          0
         ],
         "yaxis": "y"
        },
        {
         "customdata": [
          [
           "Mayotte",
           "STOP_GAINED",
           "Y343*"
          ]
         ],
         "hovertemplate": "population=%{customdata[0]}<br>effect=%{customdata[1]}<br>position=%{x}<br>frequency=%{y}<br>aa_change=%{customdata[2]}<extra></extra>",
         "legendgroup": "Mayotte, STOP_GAINED",
         "marker": {
          "color": "#00cc96",
          "symbol": "square"
         },
         "mode": "markers",
         "name": "Mayotte, STOP_GAINED",
         "orientation": "v",
         "showlegend": true,
         "type": "scatter",
         "x": [
          25433166
         ],
         "xaxis": "x",
         "y": [
          0
         ],
         "yaxis": "y"
        },
        {
         "customdata": [
          [
           "Mayotte",
           "SPLICE_CORE",
           null
          ]
         ],
         "hovertemplate": "population=%{customdata[0]}<br>effect=%{customdata[1]}<br>position=%{x}<br>frequency=%{y}<br>aa_change=%{customdata[2]}<extra></extra>",
         "legendgroup": "Mayotte, SPLICE_CORE",
         "marker": {
          "color": "#00cc96",
          "symbol": "x"
         },
         "mode": "markers",
         "name": "Mayotte, SPLICE_CORE",
         "orientation": "v",
         "showlegend": true,
         "type": "scatter",
         "x": [
          25434390
         ],
         "xaxis": "x",
         "y": [
          0
         ],
         "yaxis": "y"
        }
       ],
       "layout": {
        "legend": {
         "title": {
          "text": "population, effect"
         },
         "tracegroupgap": 0
        },
        "margin": {
         "t": 60
        },
        "template": {
         "data": {
          "bar": [
           {
            "error_x": {
             "color": "#2a3f5f"
            },
            "error_y": {
             "color": "#2a3f5f"
            },
            "marker": {
             "line": {
              "color": "#E5ECF6",
              "width": 0.5
             }
            },
            "type": "bar"
           }
          ],
          "barpolar": [
           {
            "marker": {
             "line": {
              "color": "#E5ECF6",
              "width": 0.5
             }
            },
            "type": "barpolar"
           }
          ],
          "carpet": [
           {
            "aaxis": {
             "endlinecolor": "#2a3f5f",
             "gridcolor": "white",
             "linecolor": "white",
             "minorgridcolor": "white",
             "startlinecolor": "#2a3f5f"
            },
            "baxis": {
             "endlinecolor": "#2a3f5f",
             "gridcolor": "white",
             "linecolor": "white",
             "minorgridcolor": "white",
             "startlinecolor": "#2a3f5f"
            },
            "type": "carpet"
           }
          ],
          "choropleth": [
           {
            "colorbar": {
             "outlinewidth": 0,
             "ticks": ""
            },
            "type": "choropleth"
           }
          ],
          "contour": [
           {
            "colorbar": {
             "outlinewidth": 0,
             "ticks": ""
            },
            "colorscale": [
             [
              0,
              "#0d0887"
             ],
             [
              0.1111111111111111,
              "#46039f"
             ],
             [
              0.2222222222222222,
              "#7201a8"
             ],
             [
              0.3333333333333333,
              "#9c179e"
             ],
             [
              0.4444444444444444,
              "#bd3786"
             ],
             [
              0.5555555555555556,
              "#d8576b"
             ],
             [
              0.6666666666666666,
              "#ed7953"
             ],
             [
              0.7777777777777778,
              "#fb9f3a"
             ],
             [
              0.8888888888888888,
              "#fdca26"
             ],
             [
              1,
              "#f0f921"
             ]
            ],
            "type": "contour"
           }
          ],
          "contourcarpet": [
           {
            "colorbar": {
             "outlinewidth": 0,
             "ticks": ""
            },
            "type": "contourcarpet"
           }
          ],
          "heatmap": [
           {
            "colorbar": {
             "outlinewidth": 0,
             "ticks": ""
            },
            "colorscale": [
             [
              0,
              "#0d0887"
             ],
             [
              0.1111111111111111,
              "#46039f"
             ],
             [
              0.2222222222222222,
              "#7201a8"
             ],
             [
              0.3333333333333333,
              "#9c179e"
             ],
             [
              0.4444444444444444,
              "#bd3786"
             ],
             [
              0.5555555555555556,
              "#d8576b"
             ],
             [
              0.6666666666666666,
              "#ed7953"
             ],
             [
              0.7777777777777778,
              "#fb9f3a"
             ],
             [
              0.8888888888888888,
              "#fdca26"
             ],
             [
              1,
              "#f0f921"
             ]
            ],
            "type": "heatmap"
           }
          ],
          "heatmapgl": [
           {
            "colorbar": {
             "outlinewidth": 0,
             "ticks": ""
            },
            "colorscale": [
             [
              0,
              "#0d0887"
             ],
             [
              0.1111111111111111,
              "#46039f"
             ],
             [
              0.2222222222222222,
              "#7201a8"
             ],
             [
              0.3333333333333333,
              "#9c179e"
             ],
             [
              0.4444444444444444,
              "#bd3786"
             ],
             [
              0.5555555555555556,
              "#d8576b"
             ],
             [
              0.6666666666666666,
              "#ed7953"
             ],
             [
              0.7777777777777778,
              "#fb9f3a"
             ],
             [
              0.8888888888888888,
              "#fdca26"
             ],
             [
              1,
              "#f0f921"
             ]
            ],
            "type": "heatmapgl"
           }
          ],
          "histogram": [
           {
            "marker": {
             "colorbar": {
              "outlinewidth": 0,
              "ticks": ""
             }
            },
            "type": "histogram"
           }
          ],
          "histogram2d": [
           {
            "colorbar": {
             "outlinewidth": 0,
             "ticks": ""
            },
            "colorscale": [
             [
              0,
              "#0d0887"
             ],
             [
              0.1111111111111111,
              "#46039f"
             ],
             [
              0.2222222222222222,
              "#7201a8"
             ],
             [
              0.3333333333333333,
              "#9c179e"
             ],
             [
              0.4444444444444444,
              "#bd3786"
             ],
             [
              0.5555555555555556,
              "#d8576b"
             ],
             [
              0.6666666666666666,
              "#ed7953"
             ],
             [
              0.7777777777777778,
              "#fb9f3a"
             ],
             [
              0.8888888888888888,
              "#fdca26"
             ],
             [
              1,
              "#f0f921"
             ]
            ],
            "type": "histogram2d"
           }
          ],
          "histogram2dcontour": [
           {
            "colorbar": {
             "outlinewidth": 0,
             "ticks": ""
            },
            "colorscale": [
             [
              0,
              "#0d0887"
             ],
             [
              0.1111111111111111,
              "#46039f"
             ],
             [
              0.2222222222222222,
              "#7201a8"
             ],
             [
              0.3333333333333333,
              "#9c179e"
             ],
             [
              0.4444444444444444,
              "#bd3786"
             ],
             [
              0.5555555555555556,
              "#d8576b"
             ],
             [
              0.6666666666666666,
              "#ed7953"
             ],
             [
              0.7777777777777778,
              "#fb9f3a"
             ],
             [
              0.8888888888888888,
              "#fdca26"
             ],
             [
              1,
              "#f0f921"
             ]
            ],
            "type": "histogram2dcontour"
           }
          ],
          "mesh3d": [
           {
            "colorbar": {
             "outlinewidth": 0,
             "ticks": ""
            },
            "type": "mesh3d"
           }
          ],
          "parcoords": [
           {
            "line": {
             "colorbar": {
              "outlinewidth": 0,
              "ticks": ""
             }
            },
            "type": "parcoords"
           }
          ],
          "pie": [
           {
            "automargin": true,
            "type": "pie"
           }
          ],
          "scatter": [
           {
            "marker": {
             "colorbar": {
              "outlinewidth": 0,
              "ticks": ""
             }
            },
            "type": "scatter"
           }
          ],
          "scatter3d": [
           {
            "line": {
             "colorbar": {
              "outlinewidth": 0,
              "ticks": ""
             }
            },
            "marker": {
             "colorbar": {
              "outlinewidth": 0,
              "ticks": ""
             }
            },
            "type": "scatter3d"
           }
          ],
          "scattercarpet": [
           {
            "marker": {
             "colorbar": {
              "outlinewidth": 0,
              "ticks": ""
             }
            },
            "type": "scattercarpet"
           }
          ],
          "scattergeo": [
           {
            "marker": {
             "colorbar": {
              "outlinewidth": 0,
              "ticks": ""
             }
            },
            "type": "scattergeo"
           }
          ],
          "scattergl": [
           {
            "marker": {
             "colorbar": {
              "outlinewidth": 0,
              "ticks": ""
             }
            },
            "type": "scattergl"
           }
          ],
          "scattermapbox": [
           {
            "marker": {
             "colorbar": {
              "outlinewidth": 0,
              "ticks": ""
             }
            },
            "type": "scattermapbox"
           }
          ],
          "scatterpolar": [
           {
            "marker": {
             "colorbar": {
              "outlinewidth": 0,
              "ticks": ""
             }
            },
            "type": "scatterpolar"
           }
          ],
          "scatterpolargl": [
           {
            "marker": {
             "colorbar": {
              "outlinewidth": 0,
              "ticks": ""
             }
            },
            "type": "scatterpolargl"
           }
          ],
          "scatterternary": [
           {
            "marker": {
             "colorbar": {
              "outlinewidth": 0,
              "ticks": ""
             }
            },
            "type": "scatterternary"
           }
          ],
          "surface": [
           {
            "colorbar": {
             "outlinewidth": 0,
             "ticks": ""
            },
            "colorscale": [
             [
              0,
              "#0d0887"
             ],
             [
              0.1111111111111111,
              "#46039f"
             ],
             [
              0.2222222222222222,
              "#7201a8"
             ],
             [
              0.3333333333333333,
              "#9c179e"
             ],
             [
              0.4444444444444444,
              "#bd3786"
             ],
             [
              0.5555555555555556,
              "#d8576b"
             ],
             [
              0.6666666666666666,
              "#ed7953"
             ],
             [
              0.7777777777777778,
              "#fb9f3a"
             ],
             [
              0.8888888888888888,
              "#fdca26"
             ],
             [
              1,
              "#f0f921"
             ]
            ],
            "type": "surface"
           }
          ],
          "table": [
           {
            "cells": {
             "fill": {
              "color": "#EBF0F8"
             },
             "line": {
              "color": "white"
             }
            },
            "header": {
             "fill": {
              "color": "#C8D4E3"
             },
             "line": {
              "color": "white"
             }
            },
            "type": "table"
           }
          ]
         },
         "layout": {
          "annotationdefaults": {
           "arrowcolor": "#2a3f5f",
           "arrowhead": 0,
           "arrowwidth": 1
          },
          "autotypenumbers": "strict",
          "coloraxis": {
           "colorbar": {
            "outlinewidth": 0,
            "ticks": ""
           }
          },
          "colorscale": {
           "diverging": [
            [
             0,
             "#8e0152"
            ],
            [
             0.1,
             "#c51b7d"
            ],
            [
             0.2,
             "#de77ae"
            ],
            [
             0.3,
             "#f1b6da"
            ],
            [
             0.4,
             "#fde0ef"
            ],
            [
             0.5,
             "#f7f7f7"
            ],
            [
             0.6,
             "#e6f5d0"
            ],
            [
             0.7,
             "#b8e186"
            ],
            [
             0.8,
             "#7fbc41"
            ],
            [
             0.9,
             "#4d9221"
            ],
            [
             1,
             "#276419"
            ]
           ],
           "sequential": [
            [
             0,
             "#0d0887"
            ],
            [
             0.1111111111111111,
             "#46039f"
            ],
            [
             0.2222222222222222,
             "#7201a8"
            ],
            [
             0.3333333333333333,
             "#9c179e"
            ],
            [
             0.4444444444444444,
             "#bd3786"
            ],
            [
             0.5555555555555556,
             "#d8576b"
            ],
            [
             0.6666666666666666,
             "#ed7953"
            ],
            [
             0.7777777777777778,
             "#fb9f3a"
            ],
            [
             0.8888888888888888,
             "#fdca26"
            ],
            [
             1,
             "#f0f921"
            ]
           ],
           "sequentialminus": [
            [
             0,
             "#0d0887"
            ],
            [
             0.1111111111111111,
             "#46039f"
            ],
            [
             0.2222222222222222,
             "#7201a8"
            ],
            [
             0.3333333333333333,
             "#9c179e"
            ],
            [
             0.4444444444444444,
             "#bd3786"
            ],
            [
             0.5555555555555556,
             "#d8576b"
            ],
            [
             0.6666666666666666,
             "#ed7953"
            ],
            [
             0.7777777777777778,
             "#fb9f3a"
            ],
            [
             0.8888888888888888,
             "#fdca26"
            ],
            [
             1,
             "#f0f921"
            ]
           ]
          },
          "colorway": [
           "#636efa",
           "#EF553B",
           "#00cc96",
           "#ab63fa",
           "#FFA15A",
           "#19d3f3",
           "#FF6692",
           "#B6E880",
           "#FF97FF",
           "#FECB52"
          ],
          "font": {
           "color": "#2a3f5f"
          },
          "geo": {
           "bgcolor": "white",
           "lakecolor": "white",
           "landcolor": "#E5ECF6",
           "showlakes": true,
           "showland": true,
           "subunitcolor": "white"
          },
          "hoverlabel": {
           "align": "left"
          },
          "hovermode": "closest",
          "mapbox": {
           "style": "light"
          },
          "paper_bgcolor": "white",
          "plot_bgcolor": "#E5ECF6",
          "polar": {
           "angularaxis": {
            "gridcolor": "white",
            "linecolor": "white",
            "ticks": ""
           },
           "bgcolor": "#E5ECF6",
           "radialaxis": {
            "gridcolor": "white",
            "linecolor": "white",
            "ticks": ""
           }
          },
          "scene": {
           "xaxis": {
            "backgroundcolor": "#E5ECF6",
            "gridcolor": "white",
            "gridwidth": 2,
            "linecolor": "white",
            "showbackground": true,
            "ticks": "",
            "zerolinecolor": "white"
           },
           "yaxis": {
            "backgroundcolor": "#E5ECF6",
            "gridcolor": "white",
            "gridwidth": 2,
            "linecolor": "white",
            "showbackground": true,
            "ticks": "",
            "zerolinecolor": "white"
           },
           "zaxis": {
            "backgroundcolor": "#E5ECF6",
            "gridcolor": "white",
            "gridwidth": 2,
            "linecolor": "white",
            "showbackground": true,
            "ticks": "",
            "zerolinecolor": "white"
           }
          },
          "shapedefaults": {
           "line": {
            "color": "#2a3f5f"
           }
          },
          "ternary": {
           "aaxis": {
            "gridcolor": "white",
            "linecolor": "white",
            "ticks": ""
           },
           "baxis": {
            "gridcolor": "white",
            "linecolor": "white",
            "ticks": ""
           },
           "bgcolor": "#E5ECF6",
           "caxis": {
            "gridcolor": "white",
            "linecolor": "white",
            "ticks": ""
           }
          },
          "title": {
           "x": 0.05
          },
          "xaxis": {
           "automargin": true,
           "gridcolor": "white",
           "linecolor": "white",
           "ticks": "",
           "title": {
            "standoff": 15
           },
           "zerolinecolor": "white",
           "zerolinewidth": 2
          },
          "yaxis": {
           "automargin": true,
           "gridcolor": "white",
           "linecolor": "white",
           "ticks": "",
           "title": {
            "standoff": 15
           },
           "zerolinecolor": "white",
           "zerolinewidth": 2
          }
         }
        },
        "xaxis": {
         "anchor": "y",
         "domain": [
          0,
          1
         ],
         "title": {
          "text": "position"
         }
        },
        "yaxis": {
         "anchor": "x",
         "domain": [
          0,
          1
         ],
         "title": {
          "text": "frequency"
         }
        }
       }
      },
      "text/html": [
       "<div>                            <div id=\"9525f85f-5f12-41b1-b8ba-0a6debe8541b\" class=\"plotly-graph-div\" style=\"height:525px; width:100%;\"></div>            <script type=\"text/javascript\">                require([\"plotly\"], function(Plotly) {                    window.PLOTLYENV=window.PLOTLYENV || {};                                    if (document.getElementById(\"9525f85f-5f12-41b1-b8ba-0a6debe8541b\")) {                    Plotly.newPlot(                        \"9525f85f-5f12-41b1-b8ba-0a6debe8541b\",                        [{\"customdata\": [[\"Kenya\", \"NON_SYNONYMOUS_CODING\", \"S2L\"], [\"Kenya\", \"NON_SYNONYMOUS_CODING\", \"L24F\"], [\"Kenya\", \"NON_SYNONYMOUS_CODING\", \"G75E\"], [\"Kenya\", \"NON_SYNONYMOUS_CODING\", \"P228S\"], [\"Kenya\", \"NON_SYNONYMOUS_CODING\", \"A296G\"], [\"Kenya\", \"NON_SYNONYMOUS_CODING\", \"T345M\"], [\"Kenya\", \"NON_SYNONYMOUS_CODING\", \"M349I\"], [\"Kenya\", \"NON_SYNONYMOUS_CODING\", \"Q373K\"], [\"Kenya\", \"NON_SYNONYMOUS_CODING\", \"D376A\"], [\"Kenya\", \"NON_SYNONYMOUS_CODING\", \"P384H\"], [\"Kenya\", \"NON_SYNONYMOUS_CODING\", \"D389Y\"], [\"Kenya\", \"NON_SYNONYMOUS_CODING\", \"S399T\"], [\"Kenya\", \"NON_SYNONYMOUS_CODING\", \"Q403P\"], [\"Kenya\", \"NON_SYNONYMOUS_CODING\", \"H404R\"], [\"Kenya\", \"NON_SYNONYMOUS_CODING\", \"M410I\"], [\"Kenya\", \"NON_SYNONYMOUS_CODING\", \"G411A\"], [\"Kenya\", \"NON_SYNONYMOUS_CODING\", \"S412N\"], [\"Kenya\", \"NON_SYNONYMOUS_CODING\", \"R413L\"], [\"Kenya\", \"NON_SYNONYMOUS_CODING\", \"P422R\"], [\"Kenya\", \"NON_SYNONYMOUS_CODING\", \"M424I\"], [\"Kenya\", \"NON_SYNONYMOUS_CODING\", \"L435P\"], [\"Kenya\", \"NON_SYNONYMOUS_CODING\", \"G453D\"], [\"Kenya\", \"NON_SYNONYMOUS_CODING\", \"N457T\"], [\"Kenya\", \"NON_SYNONYMOUS_CODING\", \"G500S\"], [\"Kenya\", \"NON_SYNONYMOUS_CODING\", \"N530K\"], [\"Kenya\", \"NON_SYNONYMOUS_CODING\", \"L538V\"], [\"Kenya\", \"NON_SYNONYMOUS_CODING\", \"H539L\"], [\"Kenya\", \"NON_SYNONYMOUS_CODING\", \"H539Q\"], [\"Kenya\", \"NON_SYNONYMOUS_CODING\", \"D542N\"]], \"hovertemplate\": \"population=%{customdata[0]}<br>effect=%{customdata[1]}<br>position=%{x}<br>frequency=%{y}<br>aa_change=%{customdata[2]}<extra></extra>\", \"legendgroup\": \"Kenya, NON_SYNONYMOUS_CODING\", \"marker\": {\"color\": \"#636efa\", \"symbol\": \"circle\"}, \"mode\": \"markers\", \"name\": \"Kenya, NON_SYNONYMOUS_CODING\", \"orientation\": \"v\", \"showlegend\": true, \"type\": \"scatter\", \"x\": [25363656, 25363723, 25387091, 25413317, 25429236, 25433171, 25433184, 25433254, 25433264, 25433288, 25433302, 25433333, 25433345, 25433348, 25433367, 25433369, 25433372, 25433375, 25433402, 25433409, 25433441, 25433495, 25433507, 25433635, 25434478, 25434500, 25434504, 25434505, 25434512], \"xaxis\": \"x\", \"y\": [0.0, 0.0, 0.0, 0.0, 0.8888888888888888, 0.8888888888888888, 0.0, 0.0, 0.0, 0.0, 0.0, 0.0, 0.0, 0.0, 0.0, 0.0, 0.0, 0.0, 0.0, 0.0, 0.0, 0.0, 0.0, 0.0, 0.3333333333333333, 0.0, 0.0, 0.1388888888888889, 0.0], \"yaxis\": \"y\"}, {\"customdata\": [[\"Kenya\", \"SPLICE_REGION\", null], [\"Kenya\", \"SPLICE_REGION\", null], [\"Kenya\", \"SPLICE_REGION\", null], [\"Kenya\", \"SPLICE_REGION\", null]], \"hovertemplate\": \"population=%{customdata[0]}<br>effect=%{customdata[1]}<br>position=%{x}<br>frequency=%{y}<br>aa_change=%{customdata[2]}<extra></extra>\", \"legendgroup\": \"Kenya, SPLICE_REGION\", \"marker\": {\"color\": \"#636efa\", \"symbol\": \"diamond\"}, \"mode\": \"markers\", \"name\": \"Kenya, SPLICE_REGION\", \"orientation\": \"v\", \"showlegend\": true, \"type\": \"scatter\", \"x\": [25382773, 25387164, 25433158, 25433647], \"xaxis\": \"x\", \"y\": [0.0, 0.0, 0.0, 0.0], \"yaxis\": \"y\"}, {\"customdata\": [[\"Kenya\", \"STOP_GAINED\", \"Y343*\"]], \"hovertemplate\": \"population=%{customdata[0]}<br>effect=%{customdata[1]}<br>position=%{x}<br>frequency=%{y}<br>aa_change=%{customdata[2]}<extra></extra>\", \"legendgroup\": \"Kenya, STOP_GAINED\", \"marker\": {\"color\": \"#636efa\", \"symbol\": \"square\"}, \"mode\": \"markers\", \"name\": \"Kenya, STOP_GAINED\", \"orientation\": \"v\", \"showlegend\": true, \"type\": \"scatter\", \"x\": [25433166], \"xaxis\": \"x\", \"y\": [0.0], \"yaxis\": \"y\"}, {\"customdata\": [[\"Kenya\", \"SPLICE_CORE\", null]], \"hovertemplate\": \"population=%{customdata[0]}<br>effect=%{customdata[1]}<br>position=%{x}<br>frequency=%{y}<br>aa_change=%{customdata[2]}<extra></extra>\", \"legendgroup\": \"Kenya, SPLICE_CORE\", \"marker\": {\"color\": \"#636efa\", \"symbol\": \"x\"}, \"mode\": \"markers\", \"name\": \"Kenya, SPLICE_CORE\", \"orientation\": \"v\", \"showlegend\": true, \"type\": \"scatter\", \"x\": [25434390], \"xaxis\": \"x\", \"y\": [0.0], \"yaxis\": \"y\"}, {\"customdata\": [[\"Burkina Faso\", \"NON_SYNONYMOUS_CODING\", \"S2L\"], [\"Burkina Faso\", \"NON_SYNONYMOUS_CODING\", \"L24F\"], [\"Burkina Faso\", \"NON_SYNONYMOUS_CODING\", \"G75E\"], [\"Burkina Faso\", \"NON_SYNONYMOUS_CODING\", \"P228S\"], [\"Burkina Faso\", \"NON_SYNONYMOUS_CODING\", \"A296G\"], [\"Burkina Faso\", \"NON_SYNONYMOUS_CODING\", \"T345M\"], [\"Burkina Faso\", \"NON_SYNONYMOUS_CODING\", \"M349I\"], [\"Burkina Faso\", \"NON_SYNONYMOUS_CODING\", \"Q373K\"], [\"Burkina Faso\", \"NON_SYNONYMOUS_CODING\", \"D376A\"], [\"Burkina Faso\", \"NON_SYNONYMOUS_CODING\", \"P384H\"], [\"Burkina Faso\", \"NON_SYNONYMOUS_CODING\", \"D389Y\"], [\"Burkina Faso\", \"NON_SYNONYMOUS_CODING\", \"S399T\"], [\"Burkina Faso\", \"NON_SYNONYMOUS_CODING\", \"Q403P\"], [\"Burkina Faso\", \"NON_SYNONYMOUS_CODING\", \"H404R\"], [\"Burkina Faso\", \"NON_SYNONYMOUS_CODING\", \"M410I\"], [\"Burkina Faso\", \"NON_SYNONYMOUS_CODING\", \"G411A\"], [\"Burkina Faso\", \"NON_SYNONYMOUS_CODING\", \"S412N\"], [\"Burkina Faso\", \"NON_SYNONYMOUS_CODING\", \"R413L\"], [\"Burkina Faso\", \"NON_SYNONYMOUS_CODING\", \"P422R\"], [\"Burkina Faso\", \"NON_SYNONYMOUS_CODING\", \"M424I\"], [\"Burkina Faso\", \"NON_SYNONYMOUS_CODING\", \"L435P\"], [\"Burkina Faso\", \"NON_SYNONYMOUS_CODING\", \"G453D\"], [\"Burkina Faso\", \"NON_SYNONYMOUS_CODING\", \"N457T\"], [\"Burkina Faso\", \"NON_SYNONYMOUS_CODING\", \"G500S\"], [\"Burkina Faso\", \"NON_SYNONYMOUS_CODING\", \"N530K\"], [\"Burkina Faso\", \"NON_SYNONYMOUS_CODING\", \"L538V\"], [\"Burkina Faso\", \"NON_SYNONYMOUS_CODING\", \"H539L\"], [\"Burkina Faso\", \"NON_SYNONYMOUS_CODING\", \"H539Q\"], [\"Burkina Faso\", \"NON_SYNONYMOUS_CODING\", \"D542N\"]], \"hovertemplate\": \"population=%{customdata[0]}<br>effect=%{customdata[1]}<br>position=%{x}<br>frequency=%{y}<br>aa_change=%{customdata[2]}<extra></extra>\", \"legendgroup\": \"Burkina Faso, NON_SYNONYMOUS_CODING\", \"marker\": {\"color\": \"#EF553B\", \"symbol\": \"circle\"}, \"mode\": \"markers\", \"name\": \"Burkina Faso, NON_SYNONYMOUS_CODING\", \"orientation\": \"v\", \"showlegend\": true, \"type\": \"scatter\", \"x\": [25363656, 25363723, 25387091, 25413317, 25429236, 25433171, 25433184, 25433254, 25433264, 25433288, 25433302, 25433333, 25433345, 25433348, 25433367, 25433369, 25433372, 25433375, 25433402, 25433409, 25433441, 25433495, 25433507, 25433635, 25434478, 25434500, 25434504, 25434505, 25434512], \"xaxis\": \"x\", \"y\": [0.0031847133757961785, 0.0031847133757961785, 0.0031847133757961785, 0.0031847133757961785, 0.3885350318471338, 0.3885350318471338, 0.0031847133757961785, 0.0031847133757961785, 0.0, 0.0, 0.0031847133757961785, 0.0031847133757961785, 0.0, 0.0031847133757961785, 0.0031847133757961785, 0.0031847133757961785, 0.0031847133757961785, 0.0031847133757961785, 0.0031847133757961785, 0.0031847133757961785, 0.0031847133757961785, 0.0031847133757961785, 0.0, 0.0031847133757961785, 0.0732484076433121, 0.0031847133757961785, 0.0031847133757961785, 0.14012738853503184, 0.0031847133757961785], \"yaxis\": \"y\"}, {\"customdata\": [[\"Burkina Faso\", \"SPLICE_REGION\", null], [\"Burkina Faso\", \"SPLICE_REGION\", null], [\"Burkina Faso\", \"SPLICE_REGION\", null], [\"Burkina Faso\", \"SPLICE_REGION\", null]], \"hovertemplate\": \"population=%{customdata[0]}<br>effect=%{customdata[1]}<br>position=%{x}<br>frequency=%{y}<br>aa_change=%{customdata[2]}<extra></extra>\", \"legendgroup\": \"Burkina Faso, SPLICE_REGION\", \"marker\": {\"color\": \"#EF553B\", \"symbol\": \"diamond\"}, \"mode\": \"markers\", \"name\": \"Burkina Faso, SPLICE_REGION\", \"orientation\": \"v\", \"showlegend\": true, \"type\": \"scatter\", \"x\": [25382773, 25387164, 25433158, 25433647], \"xaxis\": \"x\", \"y\": [0.0031847133757961785, 0.0031847133757961785, 0.009554140127388535, 0.006369426751592357], \"yaxis\": \"y\"}, {\"customdata\": [[\"Burkina Faso\", \"STOP_GAINED\", \"Y343*\"]], \"hovertemplate\": \"population=%{customdata[0]}<br>effect=%{customdata[1]}<br>position=%{x}<br>frequency=%{y}<br>aa_change=%{customdata[2]}<extra></extra>\", \"legendgroup\": \"Burkina Faso, STOP_GAINED\", \"marker\": {\"color\": \"#EF553B\", \"symbol\": \"square\"}, \"mode\": \"markers\", \"name\": \"Burkina Faso, STOP_GAINED\", \"orientation\": \"v\", \"showlegend\": true, \"type\": \"scatter\", \"x\": [25433166], \"xaxis\": \"x\", \"y\": [0.0031847133757961785], \"yaxis\": \"y\"}, {\"customdata\": [[\"Burkina Faso\", \"SPLICE_CORE\", null]], \"hovertemplate\": \"population=%{customdata[0]}<br>effect=%{customdata[1]}<br>position=%{x}<br>frequency=%{y}<br>aa_change=%{customdata[2]}<extra></extra>\", \"legendgroup\": \"Burkina Faso, SPLICE_CORE\", \"marker\": {\"color\": \"#EF553B\", \"symbol\": \"x\"}, \"mode\": \"markers\", \"name\": \"Burkina Faso, SPLICE_CORE\", \"orientation\": \"v\", \"showlegend\": true, \"type\": \"scatter\", \"x\": [25434390], \"xaxis\": \"x\", \"y\": [0.0031847133757961785], \"yaxis\": \"y\"}, {\"customdata\": [[\"Mayotte\", \"NON_SYNONYMOUS_CODING\", \"S2L\"], [\"Mayotte\", \"NON_SYNONYMOUS_CODING\", \"L24F\"], [\"Mayotte\", \"NON_SYNONYMOUS_CODING\", \"G75E\"], [\"Mayotte\", \"NON_SYNONYMOUS_CODING\", \"P228S\"], [\"Mayotte\", \"NON_SYNONYMOUS_CODING\", \"A296G\"], [\"Mayotte\", \"NON_SYNONYMOUS_CODING\", \"T345M\"], [\"Mayotte\", \"NON_SYNONYMOUS_CODING\", \"M349I\"], [\"Mayotte\", \"NON_SYNONYMOUS_CODING\", \"Q373K\"], [\"Mayotte\", \"NON_SYNONYMOUS_CODING\", \"D376A\"], [\"Mayotte\", \"NON_SYNONYMOUS_CODING\", \"P384H\"], [\"Mayotte\", \"NON_SYNONYMOUS_CODING\", \"D389Y\"], [\"Mayotte\", \"NON_SYNONYMOUS_CODING\", \"S399T\"], [\"Mayotte\", \"NON_SYNONYMOUS_CODING\", \"Q403P\"], [\"Mayotte\", \"NON_SYNONYMOUS_CODING\", \"H404R\"], [\"Mayotte\", \"NON_SYNONYMOUS_CODING\", \"M410I\"], [\"Mayotte\", \"NON_SYNONYMOUS_CODING\", \"G411A\"], [\"Mayotte\", \"NON_SYNONYMOUS_CODING\", \"S412N\"], [\"Mayotte\", \"NON_SYNONYMOUS_CODING\", \"R413L\"], [\"Mayotte\", \"NON_SYNONYMOUS_CODING\", \"P422R\"], [\"Mayotte\", \"NON_SYNONYMOUS_CODING\", \"M424I\"], [\"Mayotte\", \"NON_SYNONYMOUS_CODING\", \"L435P\"], [\"Mayotte\", \"NON_SYNONYMOUS_CODING\", \"G453D\"], [\"Mayotte\", \"NON_SYNONYMOUS_CODING\", \"N457T\"], [\"Mayotte\", \"NON_SYNONYMOUS_CODING\", \"G500S\"], [\"Mayotte\", \"NON_SYNONYMOUS_CODING\", \"N530K\"], [\"Mayotte\", \"NON_SYNONYMOUS_CODING\", \"L538V\"], [\"Mayotte\", \"NON_SYNONYMOUS_CODING\", \"H539L\"], [\"Mayotte\", \"NON_SYNONYMOUS_CODING\", \"H539Q\"], [\"Mayotte\", \"NON_SYNONYMOUS_CODING\", \"D542N\"]], \"hovertemplate\": \"population=%{customdata[0]}<br>effect=%{customdata[1]}<br>position=%{x}<br>frequency=%{y}<br>aa_change=%{customdata[2]}<extra></extra>\", \"legendgroup\": \"Mayotte, NON_SYNONYMOUS_CODING\", \"marker\": {\"color\": \"#00cc96\", \"symbol\": \"circle\"}, \"mode\": \"markers\", \"name\": \"Mayotte, NON_SYNONYMOUS_CODING\", \"orientation\": \"v\", \"showlegend\": true, \"type\": \"scatter\", \"x\": [25363656, 25363723, 25387091, 25413317, 25429236, 25433171, 25433184, 25433254, 25433264, 25433288, 25433302, 25433333, 25433345, 25433348, 25433367, 25433369, 25433372, 25433375, 25433402, 25433409, 25433441, 25433495, 25433507, 25433635, 25434478, 25434500, 25434504, 25434505, 25434512], \"xaxis\": \"x\", \"y\": [0.0, 0.0, 0.0, 0.0, 0.0, 0.0, 0.0, 0.0, 0.021739130434782608, 0.021739130434782608, 0.0, 0.0, 0.021739130434782608, 0.0, 0.0, 0.0, 0.0, 0.0, 0.0, 0.0, 0.0, 0.0, 0.021739130434782608, 0.0, 0.0, 0.0, 0.0, 0.0, 0.0], \"yaxis\": \"y\"}, {\"customdata\": [[\"Mayotte\", \"SPLICE_REGION\", null], [\"Mayotte\", \"SPLICE_REGION\", null], [\"Mayotte\", \"SPLICE_REGION\", null], [\"Mayotte\", \"SPLICE_REGION\", null]], \"hovertemplate\": \"population=%{customdata[0]}<br>effect=%{customdata[1]}<br>position=%{x}<br>frequency=%{y}<br>aa_change=%{customdata[2]}<extra></extra>\", \"legendgroup\": \"Mayotte, SPLICE_REGION\", \"marker\": {\"color\": \"#00cc96\", \"symbol\": \"diamond\"}, \"mode\": \"markers\", \"name\": \"Mayotte, SPLICE_REGION\", \"orientation\": \"v\", \"showlegend\": true, \"type\": \"scatter\", \"x\": [25382773, 25387164, 25433158, 25433647], \"xaxis\": \"x\", \"y\": [0.0, 0.0, 0.0, 0.0], \"yaxis\": \"y\"}, {\"customdata\": [[\"Mayotte\", \"STOP_GAINED\", \"Y343*\"]], \"hovertemplate\": \"population=%{customdata[0]}<br>effect=%{customdata[1]}<br>position=%{x}<br>frequency=%{y}<br>aa_change=%{customdata[2]}<extra></extra>\", \"legendgroup\": \"Mayotte, STOP_GAINED\", \"marker\": {\"color\": \"#00cc96\", \"symbol\": \"square\"}, \"mode\": \"markers\", \"name\": \"Mayotte, STOP_GAINED\", \"orientation\": \"v\", \"showlegend\": true, \"type\": \"scatter\", \"x\": [25433166], \"xaxis\": \"x\", \"y\": [0.0], \"yaxis\": \"y\"}, {\"customdata\": [[\"Mayotte\", \"SPLICE_CORE\", null]], \"hovertemplate\": \"population=%{customdata[0]}<br>effect=%{customdata[1]}<br>position=%{x}<br>frequency=%{y}<br>aa_change=%{customdata[2]}<extra></extra>\", \"legendgroup\": \"Mayotte, SPLICE_CORE\", \"marker\": {\"color\": \"#00cc96\", \"symbol\": \"x\"}, \"mode\": \"markers\", \"name\": \"Mayotte, SPLICE_CORE\", \"orientation\": \"v\", \"showlegend\": true, \"type\": \"scatter\", \"x\": [25434390], \"xaxis\": \"x\", \"y\": [0.0], \"yaxis\": \"y\"}],                        {\"legend\": {\"title\": {\"text\": \"population, effect\"}, \"tracegroupgap\": 0}, \"margin\": {\"t\": 60}, \"template\": {\"data\": {\"bar\": [{\"error_x\": {\"color\": \"#2a3f5f\"}, \"error_y\": {\"color\": \"#2a3f5f\"}, \"marker\": {\"line\": {\"color\": \"#E5ECF6\", \"width\": 0.5}}, \"type\": \"bar\"}], \"barpolar\": [{\"marker\": {\"line\": {\"color\": \"#E5ECF6\", \"width\": 0.5}}, \"type\": \"barpolar\"}], \"carpet\": [{\"aaxis\": {\"endlinecolor\": \"#2a3f5f\", \"gridcolor\": \"white\", \"linecolor\": \"white\", \"minorgridcolor\": \"white\", \"startlinecolor\": \"#2a3f5f\"}, \"baxis\": {\"endlinecolor\": \"#2a3f5f\", \"gridcolor\": \"white\", \"linecolor\": \"white\", \"minorgridcolor\": \"white\", \"startlinecolor\": \"#2a3f5f\"}, \"type\": \"carpet\"}], \"choropleth\": [{\"colorbar\": {\"outlinewidth\": 0, \"ticks\": \"\"}, \"type\": \"choropleth\"}], \"contour\": [{\"colorbar\": {\"outlinewidth\": 0, \"ticks\": \"\"}, \"colorscale\": [[0.0, \"#0d0887\"], [0.1111111111111111, \"#46039f\"], [0.2222222222222222, \"#7201a8\"], [0.3333333333333333, \"#9c179e\"], [0.4444444444444444, \"#bd3786\"], [0.5555555555555556, \"#d8576b\"], [0.6666666666666666, \"#ed7953\"], [0.7777777777777778, \"#fb9f3a\"], [0.8888888888888888, \"#fdca26\"], [1.0, \"#f0f921\"]], \"type\": \"contour\"}], \"contourcarpet\": [{\"colorbar\": {\"outlinewidth\": 0, \"ticks\": \"\"}, \"type\": \"contourcarpet\"}], \"heatmap\": [{\"colorbar\": {\"outlinewidth\": 0, \"ticks\": \"\"}, \"colorscale\": [[0.0, \"#0d0887\"], [0.1111111111111111, \"#46039f\"], [0.2222222222222222, \"#7201a8\"], [0.3333333333333333, \"#9c179e\"], [0.4444444444444444, \"#bd3786\"], [0.5555555555555556, \"#d8576b\"], [0.6666666666666666, \"#ed7953\"], [0.7777777777777778, \"#fb9f3a\"], [0.8888888888888888, \"#fdca26\"], [1.0, \"#f0f921\"]], \"type\": \"heatmap\"}], \"heatmapgl\": [{\"colorbar\": {\"outlinewidth\": 0, \"ticks\": \"\"}, \"colorscale\": [[0.0, \"#0d0887\"], [0.1111111111111111, \"#46039f\"], [0.2222222222222222, \"#7201a8\"], [0.3333333333333333, \"#9c179e\"], [0.4444444444444444, \"#bd3786\"], [0.5555555555555556, \"#d8576b\"], [0.6666666666666666, \"#ed7953\"], [0.7777777777777778, \"#fb9f3a\"], [0.8888888888888888, \"#fdca26\"], [1.0, \"#f0f921\"]], \"type\": \"heatmapgl\"}], \"histogram\": [{\"marker\": {\"colorbar\": {\"outlinewidth\": 0, \"ticks\": \"\"}}, \"type\": \"histogram\"}], \"histogram2d\": [{\"colorbar\": {\"outlinewidth\": 0, \"ticks\": \"\"}, \"colorscale\": [[0.0, \"#0d0887\"], [0.1111111111111111, \"#46039f\"], [0.2222222222222222, \"#7201a8\"], [0.3333333333333333, \"#9c179e\"], [0.4444444444444444, \"#bd3786\"], [0.5555555555555556, \"#d8576b\"], [0.6666666666666666, \"#ed7953\"], [0.7777777777777778, \"#fb9f3a\"], [0.8888888888888888, \"#fdca26\"], [1.0, \"#f0f921\"]], \"type\": \"histogram2d\"}], \"histogram2dcontour\": [{\"colorbar\": {\"outlinewidth\": 0, \"ticks\": \"\"}, \"colorscale\": [[0.0, \"#0d0887\"], [0.1111111111111111, \"#46039f\"], [0.2222222222222222, \"#7201a8\"], [0.3333333333333333, \"#9c179e\"], [0.4444444444444444, \"#bd3786\"], [0.5555555555555556, \"#d8576b\"], [0.6666666666666666, \"#ed7953\"], [0.7777777777777778, \"#fb9f3a\"], [0.8888888888888888, \"#fdca26\"], [1.0, \"#f0f921\"]], \"type\": \"histogram2dcontour\"}], \"mesh3d\": [{\"colorbar\": {\"outlinewidth\": 0, \"ticks\": \"\"}, \"type\": \"mesh3d\"}], \"parcoords\": [{\"line\": {\"colorbar\": {\"outlinewidth\": 0, \"ticks\": \"\"}}, \"type\": \"parcoords\"}], \"pie\": [{\"automargin\": true, \"type\": \"pie\"}], \"scatter\": [{\"marker\": {\"colorbar\": {\"outlinewidth\": 0, \"ticks\": \"\"}}, \"type\": \"scatter\"}], \"scatter3d\": [{\"line\": {\"colorbar\": {\"outlinewidth\": 0, \"ticks\": \"\"}}, \"marker\": {\"colorbar\": {\"outlinewidth\": 0, \"ticks\": \"\"}}, \"type\": \"scatter3d\"}], \"scattercarpet\": [{\"marker\": {\"colorbar\": {\"outlinewidth\": 0, \"ticks\": \"\"}}, \"type\": \"scattercarpet\"}], \"scattergeo\": [{\"marker\": {\"colorbar\": {\"outlinewidth\": 0, \"ticks\": \"\"}}, \"type\": \"scattergeo\"}], \"scattergl\": [{\"marker\": {\"colorbar\": {\"outlinewidth\": 0, \"ticks\": \"\"}}, \"type\": \"scattergl\"}], \"scattermapbox\": [{\"marker\": {\"colorbar\": {\"outlinewidth\": 0, \"ticks\": \"\"}}, \"type\": \"scattermapbox\"}], \"scatterpolar\": [{\"marker\": {\"colorbar\": {\"outlinewidth\": 0, \"ticks\": \"\"}}, \"type\": \"scatterpolar\"}], \"scatterpolargl\": [{\"marker\": {\"colorbar\": {\"outlinewidth\": 0, \"ticks\": \"\"}}, \"type\": \"scatterpolargl\"}], \"scatterternary\": [{\"marker\": {\"colorbar\": {\"outlinewidth\": 0, \"ticks\": \"\"}}, \"type\": \"scatterternary\"}], \"surface\": [{\"colorbar\": {\"outlinewidth\": 0, \"ticks\": \"\"}, \"colorscale\": [[0.0, \"#0d0887\"], [0.1111111111111111, \"#46039f\"], [0.2222222222222222, \"#7201a8\"], [0.3333333333333333, \"#9c179e\"], [0.4444444444444444, \"#bd3786\"], [0.5555555555555556, \"#d8576b\"], [0.6666666666666666, \"#ed7953\"], [0.7777777777777778, \"#fb9f3a\"], [0.8888888888888888, \"#fdca26\"], [1.0, \"#f0f921\"]], \"type\": \"surface\"}], \"table\": [{\"cells\": {\"fill\": {\"color\": \"#EBF0F8\"}, \"line\": {\"color\": \"white\"}}, \"header\": {\"fill\": {\"color\": \"#C8D4E3\"}, \"line\": {\"color\": \"white\"}}, \"type\": \"table\"}]}, \"layout\": {\"annotationdefaults\": {\"arrowcolor\": \"#2a3f5f\", \"arrowhead\": 0, \"arrowwidth\": 1}, \"autotypenumbers\": \"strict\", \"coloraxis\": {\"colorbar\": {\"outlinewidth\": 0, \"ticks\": \"\"}}, \"colorscale\": {\"diverging\": [[0, \"#8e0152\"], [0.1, \"#c51b7d\"], [0.2, \"#de77ae\"], [0.3, \"#f1b6da\"], [0.4, \"#fde0ef\"], [0.5, \"#f7f7f7\"], [0.6, \"#e6f5d0\"], [0.7, \"#b8e186\"], [0.8, \"#7fbc41\"], [0.9, \"#4d9221\"], [1, \"#276419\"]], \"sequential\": [[0.0, \"#0d0887\"], [0.1111111111111111, \"#46039f\"], [0.2222222222222222, \"#7201a8\"], [0.3333333333333333, \"#9c179e\"], [0.4444444444444444, \"#bd3786\"], [0.5555555555555556, \"#d8576b\"], [0.6666666666666666, \"#ed7953\"], [0.7777777777777778, \"#fb9f3a\"], [0.8888888888888888, \"#fdca26\"], [1.0, \"#f0f921\"]], \"sequentialminus\": [[0.0, \"#0d0887\"], [0.1111111111111111, \"#46039f\"], [0.2222222222222222, \"#7201a8\"], [0.3333333333333333, \"#9c179e\"], [0.4444444444444444, \"#bd3786\"], [0.5555555555555556, \"#d8576b\"], [0.6666666666666666, \"#ed7953\"], [0.7777777777777778, \"#fb9f3a\"], [0.8888888888888888, \"#fdca26\"], [1.0, \"#f0f921\"]]}, \"colorway\": [\"#636efa\", \"#EF553B\", \"#00cc96\", \"#ab63fa\", \"#FFA15A\", \"#19d3f3\", \"#FF6692\", \"#B6E880\", \"#FF97FF\", \"#FECB52\"], \"font\": {\"color\": \"#2a3f5f\"}, \"geo\": {\"bgcolor\": \"white\", \"lakecolor\": \"white\", \"landcolor\": \"#E5ECF6\", \"showlakes\": true, \"showland\": true, \"subunitcolor\": \"white\"}, \"hoverlabel\": {\"align\": \"left\"}, \"hovermode\": \"closest\", \"mapbox\": {\"style\": \"light\"}, \"paper_bgcolor\": \"white\", \"plot_bgcolor\": \"#E5ECF6\", \"polar\": {\"angularaxis\": {\"gridcolor\": \"white\", \"linecolor\": \"white\", \"ticks\": \"\"}, \"bgcolor\": \"#E5ECF6\", \"radialaxis\": {\"gridcolor\": \"white\", \"linecolor\": \"white\", \"ticks\": \"\"}}, \"scene\": {\"xaxis\": {\"backgroundcolor\": \"#E5ECF6\", \"gridcolor\": \"white\", \"gridwidth\": 2, \"linecolor\": \"white\", \"showbackground\": true, \"ticks\": \"\", \"zerolinecolor\": \"white\"}, \"yaxis\": {\"backgroundcolor\": \"#E5ECF6\", \"gridcolor\": \"white\", \"gridwidth\": 2, \"linecolor\": \"white\", \"showbackground\": true, \"ticks\": \"\", \"zerolinecolor\": \"white\"}, \"zaxis\": {\"backgroundcolor\": \"#E5ECF6\", \"gridcolor\": \"white\", \"gridwidth\": 2, \"linecolor\": \"white\", \"showbackground\": true, \"ticks\": \"\", \"zerolinecolor\": \"white\"}}, \"shapedefaults\": {\"line\": {\"color\": \"#2a3f5f\"}}, \"ternary\": {\"aaxis\": {\"gridcolor\": \"white\", \"linecolor\": \"white\", \"ticks\": \"\"}, \"baxis\": {\"gridcolor\": \"white\", \"linecolor\": \"white\", \"ticks\": \"\"}, \"bgcolor\": \"#E5ECF6\", \"caxis\": {\"gridcolor\": \"white\", \"linecolor\": \"white\", \"ticks\": \"\"}}, \"title\": {\"x\": 0.05}, \"xaxis\": {\"automargin\": true, \"gridcolor\": \"white\", \"linecolor\": \"white\", \"ticks\": \"\", \"title\": {\"standoff\": 15}, \"zerolinecolor\": \"white\", \"zerolinewidth\": 2}, \"yaxis\": {\"automargin\": true, \"gridcolor\": \"white\", \"linecolor\": \"white\", \"ticks\": \"\", \"title\": {\"standoff\": 15}, \"zerolinecolor\": \"white\", \"zerolinewidth\": 2}}}, \"xaxis\": {\"anchor\": \"y\", \"domain\": [0.0, 1.0], \"title\": {\"text\": \"position\"}}, \"yaxis\": {\"anchor\": \"x\", \"domain\": [0.0, 1.0], \"title\": {\"text\": \"frequency\"}}},                        {\"responsive\": true}                    ).then(function(){\n",
       "                            \n",
       "var gd = document.getElementById('9525f85f-5f12-41b1-b8ba-0a6debe8541b');\n",
       "var x = new MutationObserver(function (mutations, observer) {{\n",
       "        var display = window.getComputedStyle(gd).display;\n",
       "        if (!display || display === 'none') {{\n",
       "            console.log([gd, 'removed!']);\n",
       "            Plotly.purge(gd);\n",
       "            observer.disconnect();\n",
       "        }}\n",
       "}});\n",
       "\n",
       "// Listen for the removal of the full notebook cells\n",
       "var notebookContainer = gd.closest('#notebook-container');\n",
       "if (notebookContainer) {{\n",
       "    x.observe(notebookContainer, {childList: true});\n",
       "}}\n",
       "\n",
       "// Listen for the clearing of the current output cell\n",
       "var outputEl = gd.closest('.output');\n",
       "if (outputEl) {{\n",
       "    x.observe(outputEl, {childList: true});\n",
       "}}\n",
       "\n",
       "                        })                };                });            </script>        </div>"
      ]
     },
     "metadata": {},
     "output_type": "display_data"
    }
   ],
   "source": [
    "fig = px.scatter(plotly_df, x=\"position\", y=\"frequency\", color=\"population\", symbol='effect', hover_data=[\"population\", \"frequency\", \"effect\", \"aa_change\"])\n",
    "fig.show()"
   ]
  },
  {
   "cell_type": "code",
   "execution_count": 98,
   "id": "studied-nothing",
   "metadata": {},
   "outputs": [],
   "source": [
    "# now build in 'normal' plotly with the gene model representation\n",
    "# will the the gff to get CDS, UTR"
   ]
  },
  {
   "cell_type": "code",
   "execution_count": null,
   "id": "weekly-chick",
   "metadata": {},
   "outputs": [],
   "source": []
  }
 ],
 "metadata": {
  "kernelspec": {
   "display_name": "Python 3",
   "language": "python",
   "name": "python3"
  },
  "language_info": {
   "codemirror_mode": {
    "name": "ipython",
    "version": 3
   },
   "file_extension": ".py",
   "mimetype": "text/x-python",
   "name": "python",
   "nbconvert_exporter": "python",
   "pygments_lexer": "ipython3",
   "version": "3.6.9"
  }
 },
 "nbformat": 4,
 "nbformat_minor": 5
}
