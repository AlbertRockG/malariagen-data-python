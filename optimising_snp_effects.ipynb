{
 "cells": [
  {
   "cell_type": "code",
   "execution_count": 1,
   "id": "6b05c6ff",
   "metadata": {},
   "outputs": [],
   "source": [
    "import malariagen_data"
   ]
  },
  {
   "cell_type": "code",
   "execution_count": 2,
   "id": "13d51822",
   "metadata": {},
   "outputs": [],
   "source": [
    "ag3 = malariagen_data.Ag3(\"simplecache::gs://vo_agam_release/\", \n",
    "                          simplecache=dict(cache_storage=\"../gcs_cache\"))"
   ]
  },
  {
   "cell_type": "code",
   "execution_count": 3,
   "id": "f14f896f",
   "metadata": {},
   "outputs": [],
   "source": [
    "gste2 = \"AGAP009194-RA\""
   ]
  },
  {
   "cell_type": "code",
   "execution_count": 4,
   "id": "eec42fa3",
   "metadata": {},
   "outputs": [
    {
     "name": "stdout",
     "output_type": "stream",
     "text": [
      "CPU times: user 3.67 s, sys: 480 ms, total: 4.15 s\n",
      "Wall time: 12.3 s\n"
     ]
    }
   ],
   "source": [
    "%%time\n",
    "# by instantiating ag3 again here, we can measure the time required\n",
    "# to setup the variant annotator\n",
    "ag3 = malariagen_data.Ag3(\"simplecache::gs://vo_agam_release/\", \n",
    "                          simplecache=dict(cache_storage=\"../gcs_cache\"))\n",
    "df = ag3.snp_effects(transcript=gste2, site_mask=None)"
   ]
  },
  {
   "cell_type": "code",
   "execution_count": 5,
   "id": "10017a68",
   "metadata": {},
   "outputs": [
    {
     "name": "stdout",
     "output_type": "stream",
     "text": [
      "CPU times: user 672 ms, sys: 105 ms, total: 777 ms\n",
      "Wall time: 721 ms\n"
     ]
    }
   ],
   "source": [
    "%%time \n",
    "# now the variant annotator should have been cached, we can\n",
    "# measure the time taken to compute snp effects\n",
    "df = ag3.snp_effects(transcript=gste2, site_mask=None)"
   ]
  },
  {
   "cell_type": "code",
   "execution_count": 6,
   "id": "ba55f80b",
   "metadata": {},
   "outputs": [
    {
     "data": {
      "text/html": [
       "<div>\n",
       "<style scoped>\n",
       "    .dataframe tbody tr th:only-of-type {\n",
       "        vertical-align: middle;\n",
       "    }\n",
       "\n",
       "    .dataframe tbody tr th {\n",
       "        vertical-align: top;\n",
       "    }\n",
       "\n",
       "    .dataframe thead th {\n",
       "        text-align: right;\n",
       "    }\n",
       "</style>\n",
       "<table border=\"1\" class=\"dataframe\">\n",
       "  <thead>\n",
       "    <tr style=\"text-align: right;\">\n",
       "      <th></th>\n",
       "      <th>position</th>\n",
       "      <th>ref_allele</th>\n",
       "      <th>alt_allele</th>\n",
       "      <th>effect</th>\n",
       "      <th>impact</th>\n",
       "      <th>ref_codon</th>\n",
       "      <th>alt_codon</th>\n",
       "      <th>aa_pos</th>\n",
       "      <th>ref_aa</th>\n",
       "      <th>alt_aa</th>\n",
       "      <th>aa_change</th>\n",
       "    </tr>\n",
       "  </thead>\n",
       "  <tbody>\n",
       "    <tr>\n",
       "      <th>0</th>\n",
       "      <td>28597652</td>\n",
       "      <td>G</td>\n",
       "      <td>A</td>\n",
       "      <td>THREE_PRIME_UTR</td>\n",
       "      <td>LOW</td>\n",
       "      <td>None</td>\n",
       "      <td>None</td>\n",
       "      <td>NaN</td>\n",
       "      <td>None</td>\n",
       "      <td>None</td>\n",
       "      <td>None</td>\n",
       "    </tr>\n",
       "    <tr>\n",
       "      <th>1</th>\n",
       "      <td>28597652</td>\n",
       "      <td>G</td>\n",
       "      <td>C</td>\n",
       "      <td>THREE_PRIME_UTR</td>\n",
       "      <td>LOW</td>\n",
       "      <td>None</td>\n",
       "      <td>None</td>\n",
       "      <td>NaN</td>\n",
       "      <td>None</td>\n",
       "      <td>None</td>\n",
       "      <td>None</td>\n",
       "    </tr>\n",
       "    <tr>\n",
       "      <th>2</th>\n",
       "      <td>28597652</td>\n",
       "      <td>G</td>\n",
       "      <td>T</td>\n",
       "      <td>THREE_PRIME_UTR</td>\n",
       "      <td>LOW</td>\n",
       "      <td>None</td>\n",
       "      <td>None</td>\n",
       "      <td>NaN</td>\n",
       "      <td>None</td>\n",
       "      <td>None</td>\n",
       "      <td>None</td>\n",
       "    </tr>\n",
       "    <tr>\n",
       "      <th>3</th>\n",
       "      <td>28597653</td>\n",
       "      <td>A</td>\n",
       "      <td>C</td>\n",
       "      <td>THREE_PRIME_UTR</td>\n",
       "      <td>LOW</td>\n",
       "      <td>None</td>\n",
       "      <td>None</td>\n",
       "      <td>NaN</td>\n",
       "      <td>None</td>\n",
       "      <td>None</td>\n",
       "      <td>None</td>\n",
       "    </tr>\n",
       "    <tr>\n",
       "      <th>4</th>\n",
       "      <td>28597653</td>\n",
       "      <td>A</td>\n",
       "      <td>T</td>\n",
       "      <td>THREE_PRIME_UTR</td>\n",
       "      <td>LOW</td>\n",
       "      <td>None</td>\n",
       "      <td>None</td>\n",
       "      <td>NaN</td>\n",
       "      <td>None</td>\n",
       "      <td>None</td>\n",
       "      <td>None</td>\n",
       "    </tr>\n",
       "    <tr>\n",
       "      <th>...</th>\n",
       "      <td>...</td>\n",
       "      <td>...</td>\n",
       "      <td>...</td>\n",
       "      <td>...</td>\n",
       "      <td>...</td>\n",
       "      <td>...</td>\n",
       "      <td>...</td>\n",
       "      <td>...</td>\n",
       "      <td>...</td>\n",
       "      <td>...</td>\n",
       "      <td>...</td>\n",
       "    </tr>\n",
       "    <tr>\n",
       "      <th>2962</th>\n",
       "      <td>28598639</td>\n",
       "      <td>C</td>\n",
       "      <td>T</td>\n",
       "      <td>FIVE_PRIME_UTR</td>\n",
       "      <td>LOW</td>\n",
       "      <td>None</td>\n",
       "      <td>None</td>\n",
       "      <td>NaN</td>\n",
       "      <td>None</td>\n",
       "      <td>None</td>\n",
       "      <td>None</td>\n",
       "    </tr>\n",
       "    <tr>\n",
       "      <th>2963</th>\n",
       "      <td>28598639</td>\n",
       "      <td>C</td>\n",
       "      <td>G</td>\n",
       "      <td>FIVE_PRIME_UTR</td>\n",
       "      <td>LOW</td>\n",
       "      <td>None</td>\n",
       "      <td>None</td>\n",
       "      <td>NaN</td>\n",
       "      <td>None</td>\n",
       "      <td>None</td>\n",
       "      <td>None</td>\n",
       "    </tr>\n",
       "    <tr>\n",
       "      <th>2964</th>\n",
       "      <td>28598640</td>\n",
       "      <td>G</td>\n",
       "      <td>A</td>\n",
       "      <td>FIVE_PRIME_UTR</td>\n",
       "      <td>LOW</td>\n",
       "      <td>None</td>\n",
       "      <td>None</td>\n",
       "      <td>NaN</td>\n",
       "      <td>None</td>\n",
       "      <td>None</td>\n",
       "      <td>None</td>\n",
       "    </tr>\n",
       "    <tr>\n",
       "      <th>2965</th>\n",
       "      <td>28598640</td>\n",
       "      <td>G</td>\n",
       "      <td>C</td>\n",
       "      <td>FIVE_PRIME_UTR</td>\n",
       "      <td>LOW</td>\n",
       "      <td>None</td>\n",
       "      <td>None</td>\n",
       "      <td>NaN</td>\n",
       "      <td>None</td>\n",
       "      <td>None</td>\n",
       "      <td>None</td>\n",
       "    </tr>\n",
       "    <tr>\n",
       "      <th>2966</th>\n",
       "      <td>28598640</td>\n",
       "      <td>G</td>\n",
       "      <td>T</td>\n",
       "      <td>FIVE_PRIME_UTR</td>\n",
       "      <td>LOW</td>\n",
       "      <td>None</td>\n",
       "      <td>None</td>\n",
       "      <td>NaN</td>\n",
       "      <td>None</td>\n",
       "      <td>None</td>\n",
       "      <td>None</td>\n",
       "    </tr>\n",
       "  </tbody>\n",
       "</table>\n",
       "<p>2967 rows × 11 columns</p>\n",
       "</div>"
      ],
      "text/plain": [
       "      position ref_allele alt_allele           effect impact ref_codon  \\\n",
       "0     28597652          G          A  THREE_PRIME_UTR    LOW      None   \n",
       "1     28597652          G          C  THREE_PRIME_UTR    LOW      None   \n",
       "2     28597652          G          T  THREE_PRIME_UTR    LOW      None   \n",
       "3     28597653          A          C  THREE_PRIME_UTR    LOW      None   \n",
       "4     28597653          A          T  THREE_PRIME_UTR    LOW      None   \n",
       "...        ...        ...        ...              ...    ...       ...   \n",
       "2962  28598639          C          T   FIVE_PRIME_UTR    LOW      None   \n",
       "2963  28598639          C          G   FIVE_PRIME_UTR    LOW      None   \n",
       "2964  28598640          G          A   FIVE_PRIME_UTR    LOW      None   \n",
       "2965  28598640          G          C   FIVE_PRIME_UTR    LOW      None   \n",
       "2966  28598640          G          T   FIVE_PRIME_UTR    LOW      None   \n",
       "\n",
       "     alt_codon  aa_pos ref_aa alt_aa aa_change  \n",
       "0         None     NaN   None   None      None  \n",
       "1         None     NaN   None   None      None  \n",
       "2         None     NaN   None   None      None  \n",
       "3         None     NaN   None   None      None  \n",
       "4         None     NaN   None   None      None  \n",
       "...        ...     ...    ...    ...       ...  \n",
       "2962      None     NaN   None   None      None  \n",
       "2963      None     NaN   None   None      None  \n",
       "2964      None     NaN   None   None      None  \n",
       "2965      None     NaN   None   None      None  \n",
       "2966      None     NaN   None   None      None  \n",
       "\n",
       "[2967 rows x 11 columns]"
      ]
     },
     "execution_count": 6,
     "metadata": {},
     "output_type": "execute_result"
    }
   ],
   "source": [
    "df"
   ]
  },
  {
   "cell_type": "code",
   "execution_count": 7,
   "id": "8038a6f8",
   "metadata": {},
   "outputs": [],
   "source": [
    "vgsc = \"AGAP004707-RA\""
   ]
  },
  {
   "cell_type": "code",
   "execution_count": 8,
   "id": "c0abd9ff",
   "metadata": {},
   "outputs": [
    {
     "name": "stdout",
     "output_type": "stream",
     "text": [
      "CPU times: user 1min 36s, sys: 192 ms, total: 1min 37s\n",
      "Wall time: 1min 36s\n"
     ]
    }
   ],
   "source": [
    "%%time\n",
    "ag3 = malariagen_data.Ag3(\"simplecache::gs://vo_agam_release/\", \n",
    "                          simplecache=dict(cache_storage=\"../gcs_cache\"))\n",
    "df = ag3.snp_effects(transcript=vgsc, site_mask=None)"
   ]
  },
  {
   "cell_type": "code",
   "execution_count": 13,
   "id": "064ffdbb",
   "metadata": {},
   "outputs": [
    {
     "name": "stdout",
     "output_type": "stream",
     "text": [
      "CPU times: user 1min 33s, sys: 112 ms, total: 1min 33s\n",
      "Wall time: 1min 33s\n"
     ]
    }
   ],
   "source": [
    "%%time\n",
    "df = ag3.snp_effects(transcript=vgsc, site_mask=None)"
   ]
  },
  {
   "cell_type": "code",
   "execution_count": 14,
   "id": "f627df5e",
   "metadata": {},
   "outputs": [
    {
     "name": "stdout",
     "output_type": "stream",
     "text": [
      "The snakeviz extension is already loaded. To reload it, use:\n",
      "  %reload_ext snakeviz\n"
     ]
    }
   ],
   "source": [
    "%load_ext snakeviz"
   ]
  },
  {
   "cell_type": "code",
   "execution_count": 15,
   "id": "26c3a279",
   "metadata": {
    "scrolled": true
   },
   "outputs": [
    {
     "name": "stdout",
     "output_type": "stream",
     "text": [
      " \n",
      "*** Profile stats marshalled to file '/tmp/tmpcwhuwco5'. \n",
      "Embedding SnakeViz in this document...\n"
     ]
    },
    {
     "data": {
      "text/html": [
       "\n",
       "<iframe id='snakeviz-bb530b4e-acc6-11eb-8492-185e0f8ee57c' frameborder=0 seamless width='100%' height='1000'></iframe>\n",
       "<script>document.getElementById(\"snakeviz-bb530b4e-acc6-11eb-8492-185e0f8ee57c\").setAttribute(\"src\", \"http://\" + document.location.hostname + \":8080/snakeviz/%2Ftmp%2Ftmpcwhuwco5\")</script>\n"
      ],
      "text/plain": [
       "<IPython.core.display.HTML object>"
      ]
     },
     "metadata": {},
     "output_type": "display_data"
    }
   ],
   "source": [
    "# by instantiating ag3 again here, we can profile the time required\n",
    "# to setup the variant annotator\n",
    "ag3 = malariagen_data.Ag3(\"simplecache::gs://vo_agam_release/\", \n",
    "                          simplecache=dict(cache_storage=\"../gcs_cache\"))\n",
    "%snakeviz ag3.snp_effects(transcript=gste2, site_mask=None)"
   ]
  },
  {
   "cell_type": "code",
   "execution_count": 16,
   "id": "49bdccf6",
   "metadata": {},
   "outputs": [
    {
     "name": "stdout",
     "output_type": "stream",
     "text": [
      " \n",
      "*** Profile stats marshalled to file '/tmp/tmp0exuott4'. \n",
      "Embedding SnakeViz in this document...\n"
     ]
    },
    {
     "data": {
      "text/html": [
       "\n",
       "<iframe id='snakeviz-cb194dc2-acc6-11eb-8492-185e0f8ee57c' frameborder=0 seamless width='100%' height='1000'></iframe>\n",
       "<script>document.getElementById(\"snakeviz-cb194dc2-acc6-11eb-8492-185e0f8ee57c\").setAttribute(\"src\", \"http://\" + document.location.hostname + \":8080/snakeviz/%2Ftmp%2Ftmp0exuott4\")</script>\n"
      ],
      "text/plain": [
       "<IPython.core.display.HTML object>"
      ]
     },
     "metadata": {},
     "output_type": "display_data"
    }
   ],
   "source": [
    "# now the variant annotator should have been cached, we can\n",
    "# profile the time taken to compute snp effects\n",
    "%snakeviz ag3.snp_effects(transcript=gste2, site_mask=None)"
   ]
  },
  {
   "cell_type": "code",
   "execution_count": 18,
   "id": "e22e408a",
   "metadata": {},
   "outputs": [
    {
     "name": "stdout",
     "output_type": "stream",
     "text": [
      " \n",
      "*** Profile stats marshalled to file '/tmp/tmpv1rg0i6k'. \n",
      "Embedding SnakeViz in this document...\n"
     ]
    },
    {
     "data": {
      "text/html": [
       "\n",
       "<iframe id='snakeviz-3f0bdd48-acc8-11eb-8492-185e0f8ee57c' frameborder=0 seamless width='100%' height='1000'></iframe>\n",
       "<script>document.getElementById(\"snakeviz-3f0bdd48-acc8-11eb-8492-185e0f8ee57c\").setAttribute(\"src\", \"http://\" + document.location.hostname + \":8080/snakeviz/%2Ftmp%2Ftmpv1rg0i6k\")</script>\n"
      ],
      "text/plain": [
       "<IPython.core.display.HTML object>"
      ]
     },
     "metadata": {},
     "output_type": "display_data"
    }
   ],
   "source": [
    "# now the variant annotator should have been cached, we can\n",
    "# profile the time taken to compute snp effects on a bigger gene\n",
    "%snakeviz ag3.snp_effects(transcript=vgsc, site_mask=None)"
   ]
  },
  {
   "cell_type": "code",
   "execution_count": null,
   "id": "eb6e9022",
   "metadata": {},
   "outputs": [],
   "source": []
  },
  {
   "cell_type": "code",
   "execution_count": null,
   "id": "ff0dcd89",
   "metadata": {},
   "outputs": [],
   "source": []
  },
  {
   "cell_type": "code",
   "execution_count": 3,
   "id": "dabfa17a",
   "metadata": {},
   "outputs": [
    {
     "name": "stdout",
     "output_type": "stream",
     "text": [
      "CPU times: user 1min 21s, sys: 1.52 s, total: 1min 23s\n",
      "Wall time: 6min 16s\n"
     ]
    }
   ],
   "source": [
    "%%time\n",
    "df = ag3.snp_effects(\"AGAP004707-RD\", \"gamb_colu\")"
   ]
  },
  {
   "cell_type": "code",
   "execution_count": 4,
   "id": "01c1c2cf",
   "metadata": {},
   "outputs": [
    {
     "name": "stdout",
     "output_type": "stream",
     "text": [
      "CPU times: user 1min 5s, sys: 235 ms, total: 1min 5s\n",
      "Wall time: 1min 5s\n"
     ]
    }
   ],
   "source": [
    "%%time\n",
    "df = ag3.snp_effects(\"AGAP004707-RD\", \"gamb_colu\")"
   ]
  },
  {
   "cell_type": "code",
   "execution_count": 27,
   "id": "2f5f28c0",
   "metadata": {},
   "outputs": [],
   "source": [
    "f = g[g.ID == transcript].squeeze()"
   ]
  },
  {
   "cell_type": "code",
   "execution_count": 28,
   "id": "7f14262c",
   "metadata": {},
   "outputs": [
    {
     "data": {
      "text/plain": [
       "'3R'"
      ]
     },
     "execution_count": 28,
     "metadata": {},
     "output_type": "execute_result"
    }
   ],
   "source": [
    "f.seqid"
   ]
  },
  {
   "cell_type": "code",
   "execution_count": 25,
   "id": "026ebc5c",
   "metadata": {},
   "outputs": [],
   "source": [
    "sites = ag3.snp_sites(contig=f.seqid[0], site_mask=\"gamb_colu\")"
   ]
  },
  {
   "cell_type": "code",
   "execution_count": 7,
   "id": "5ed36189",
   "metadata": {},
   "outputs": [],
   "source": [
    "# gste2\n",
    "transcript = \"AGAP009194-RA\""
   ]
  },
  {
   "cell_type": "code",
   "execution_count": 4,
   "id": "1e000fc0",
   "metadata": {},
   "outputs": [],
   "source": [
    "feature, children, positions_df = ag3.snp_effects(transcript=transcript, site_mask=None)"
   ]
  },
  {
   "cell_type": "code",
   "execution_count": 5,
   "id": "0962fb49",
   "metadata": {},
   "outputs": [
    {
     "data": {
      "text/plain": [
       "seqid                3R\n",
       "source       VectorBase\n",
       "type               mRNA\n",
       "start          28597652\n",
       "stop           28598640\n",
       "score               NaN\n",
       "strand                -\n",
       "phase               NaN\n",
       "parent_id    AGAP009194\n",
       "Name                NaN\n",
       "Name: AGAP009194-RA, dtype: object"
      ]
     },
     "execution_count": 5,
     "metadata": {},
     "output_type": "execute_result"
    }
   ],
   "source": [
    "feature"
   ]
  },
  {
   "cell_type": "code",
   "execution_count": 6,
   "id": "3611c410",
   "metadata": {},
   "outputs": [
    {
     "data": {
      "text/html": [
       "<div>\n",
       "<style scoped>\n",
       "    .dataframe tbody tr th:only-of-type {\n",
       "        vertical-align: middle;\n",
       "    }\n",
       "\n",
       "    .dataframe tbody tr th {\n",
       "        vertical-align: top;\n",
       "    }\n",
       "\n",
       "    .dataframe thead th {\n",
       "        text-align: right;\n",
       "    }\n",
       "</style>\n",
       "<table border=\"1\" class=\"dataframe\">\n",
       "  <thead>\n",
       "    <tr style=\"text-align: right;\">\n",
       "      <th></th>\n",
       "      <th>seqid</th>\n",
       "      <th>source</th>\n",
       "      <th>type</th>\n",
       "      <th>start</th>\n",
       "      <th>stop</th>\n",
       "      <th>score</th>\n",
       "      <th>strand</th>\n",
       "      <th>phase</th>\n",
       "      <th>feature_id</th>\n",
       "      <th>Name</th>\n",
       "    </tr>\n",
       "    <tr>\n",
       "      <th>parent_id</th>\n",
       "      <th></th>\n",
       "      <th></th>\n",
       "      <th></th>\n",
       "      <th></th>\n",
       "      <th></th>\n",
       "      <th></th>\n",
       "      <th></th>\n",
       "      <th></th>\n",
       "      <th></th>\n",
       "      <th></th>\n",
       "    </tr>\n",
       "  </thead>\n",
       "  <tbody>\n",
       "    <tr>\n",
       "      <th>AGAP009194-RA</th>\n",
       "      <td>3R</td>\n",
       "      <td>VectorBase</td>\n",
       "      <td>three_prime_UTR</td>\n",
       "      <td>28597652</td>\n",
       "      <td>28597750</td>\n",
       "      <td>NaN</td>\n",
       "      <td>-</td>\n",
       "      <td>NaN</td>\n",
       "      <td>NaN</td>\n",
       "      <td>NaN</td>\n",
       "    </tr>\n",
       "    <tr>\n",
       "      <th>AGAP009194-RA</th>\n",
       "      <td>3R</td>\n",
       "      <td>VectorBase</td>\n",
       "      <td>exon</td>\n",
       "      <td>28597652</td>\n",
       "      <td>28598071</td>\n",
       "      <td>NaN</td>\n",
       "      <td>-</td>\n",
       "      <td>NaN</td>\n",
       "      <td>NaN</td>\n",
       "      <td>AGAP009194-RA-E3</td>\n",
       "    </tr>\n",
       "    <tr>\n",
       "      <th>AGAP009194-RA</th>\n",
       "      <td>3R</td>\n",
       "      <td>VectorBase</td>\n",
       "      <td>CDS</td>\n",
       "      <td>28597751</td>\n",
       "      <td>28598071</td>\n",
       "      <td>NaN</td>\n",
       "      <td>-</td>\n",
       "      <td>0.0</td>\n",
       "      <td>AGAP009194-PA</td>\n",
       "      <td>NaN</td>\n",
       "    </tr>\n",
       "    <tr>\n",
       "      <th>AGAP009194-RA</th>\n",
       "      <td>3R</td>\n",
       "      <td>VectorBase</td>\n",
       "      <td>exon</td>\n",
       "      <td>28598162</td>\n",
       "      <td>28598362</td>\n",
       "      <td>NaN</td>\n",
       "      <td>-</td>\n",
       "      <td>NaN</td>\n",
       "      <td>NaN</td>\n",
       "      <td>AGAP009194-RA-E2</td>\n",
       "    </tr>\n",
       "    <tr>\n",
       "      <th>AGAP009194-RA</th>\n",
       "      <td>3R</td>\n",
       "      <td>VectorBase</td>\n",
       "      <td>CDS</td>\n",
       "      <td>28598162</td>\n",
       "      <td>28598362</td>\n",
       "      <td>NaN</td>\n",
       "      <td>-</td>\n",
       "      <td>0.0</td>\n",
       "      <td>AGAP009194-PA</td>\n",
       "      <td>NaN</td>\n",
       "    </tr>\n",
       "    <tr>\n",
       "      <th>AGAP009194-RA</th>\n",
       "      <td>3R</td>\n",
       "      <td>VectorBase</td>\n",
       "      <td>CDS</td>\n",
       "      <td>28598437</td>\n",
       "      <td>28598580</td>\n",
       "      <td>NaN</td>\n",
       "      <td>-</td>\n",
       "      <td>0.0</td>\n",
       "      <td>AGAP009194-PA</td>\n",
       "      <td>NaN</td>\n",
       "    </tr>\n",
       "    <tr>\n",
       "      <th>AGAP009194-RA</th>\n",
       "      <td>3R</td>\n",
       "      <td>VectorBase</td>\n",
       "      <td>exon</td>\n",
       "      <td>28598437</td>\n",
       "      <td>28598640</td>\n",
       "      <td>NaN</td>\n",
       "      <td>-</td>\n",
       "      <td>NaN</td>\n",
       "      <td>NaN</td>\n",
       "      <td>AGAP009194-RA-E1</td>\n",
       "    </tr>\n",
       "    <tr>\n",
       "      <th>AGAP009194-RA</th>\n",
       "      <td>3R</td>\n",
       "      <td>VectorBase</td>\n",
       "      <td>five_prime_UTR</td>\n",
       "      <td>28598581</td>\n",
       "      <td>28598640</td>\n",
       "      <td>NaN</td>\n",
       "      <td>-</td>\n",
       "      <td>NaN</td>\n",
       "      <td>NaN</td>\n",
       "      <td>NaN</td>\n",
       "    </tr>\n",
       "  </tbody>\n",
       "</table>\n",
       "</div>"
      ],
      "text/plain": [
       "              seqid      source             type     start      stop  score  \\\n",
       "parent_id                                                                     \n",
       "AGAP009194-RA    3R  VectorBase  three_prime_UTR  28597652  28597750    NaN   \n",
       "AGAP009194-RA    3R  VectorBase             exon  28597652  28598071    NaN   \n",
       "AGAP009194-RA    3R  VectorBase              CDS  28597751  28598071    NaN   \n",
       "AGAP009194-RA    3R  VectorBase             exon  28598162  28598362    NaN   \n",
       "AGAP009194-RA    3R  VectorBase              CDS  28598162  28598362    NaN   \n",
       "AGAP009194-RA    3R  VectorBase              CDS  28598437  28598580    NaN   \n",
       "AGAP009194-RA    3R  VectorBase             exon  28598437  28598640    NaN   \n",
       "AGAP009194-RA    3R  VectorBase   five_prime_UTR  28598581  28598640    NaN   \n",
       "\n",
       "              strand  phase     feature_id              Name  \n",
       "parent_id                                                     \n",
       "AGAP009194-RA      -    NaN            NaN               NaN  \n",
       "AGAP009194-RA      -    NaN            NaN  AGAP009194-RA-E3  \n",
       "AGAP009194-RA      -    0.0  AGAP009194-PA               NaN  \n",
       "AGAP009194-RA      -    NaN            NaN  AGAP009194-RA-E2  \n",
       "AGAP009194-RA      -    0.0  AGAP009194-PA               NaN  \n",
       "AGAP009194-RA      -    0.0  AGAP009194-PA               NaN  \n",
       "AGAP009194-RA      -    NaN            NaN  AGAP009194-RA-E1  \n",
       "AGAP009194-RA      -    NaN            NaN               NaN  "
      ]
     },
     "execution_count": 6,
     "metadata": {},
     "output_type": "execute_result"
    }
   ],
   "source": [
    "children"
   ]
  },
  {
   "cell_type": "code",
   "execution_count": 7,
   "id": "692a6770",
   "metadata": {},
   "outputs": [
    {
     "data": {
      "text/html": [
       "<div>\n",
       "<style scoped>\n",
       "    .dataframe tbody tr th:only-of-type {\n",
       "        vertical-align: middle;\n",
       "    }\n",
       "\n",
       "    .dataframe tbody tr th {\n",
       "        vertical-align: top;\n",
       "    }\n",
       "\n",
       "    .dataframe thead th {\n",
       "        text-align: right;\n",
       "    }\n",
       "</style>\n",
       "<table border=\"1\" class=\"dataframe\">\n",
       "  <thead>\n",
       "    <tr style=\"text-align: right;\">\n",
       "      <th></th>\n",
       "      <th>position</th>\n",
       "      <th>ref_allele</th>\n",
       "      <th>alt_allele</th>\n",
       "    </tr>\n",
       "  </thead>\n",
       "  <tbody>\n",
       "    <tr>\n",
       "      <th>0</th>\n",
       "      <td>28597652</td>\n",
       "      <td>G</td>\n",
       "      <td>A</td>\n",
       "    </tr>\n",
       "    <tr>\n",
       "      <th>1</th>\n",
       "      <td>28597652</td>\n",
       "      <td>G</td>\n",
       "      <td>C</td>\n",
       "    </tr>\n",
       "    <tr>\n",
       "      <th>2</th>\n",
       "      <td>28597652</td>\n",
       "      <td>G</td>\n",
       "      <td>T</td>\n",
       "    </tr>\n",
       "    <tr>\n",
       "      <th>3</th>\n",
       "      <td>28597653</td>\n",
       "      <td>A</td>\n",
       "      <td>C</td>\n",
       "    </tr>\n",
       "    <tr>\n",
       "      <th>4</th>\n",
       "      <td>28597653</td>\n",
       "      <td>A</td>\n",
       "      <td>T</td>\n",
       "    </tr>\n",
       "    <tr>\n",
       "      <th>...</th>\n",
       "      <td>...</td>\n",
       "      <td>...</td>\n",
       "      <td>...</td>\n",
       "    </tr>\n",
       "    <tr>\n",
       "      <th>2962</th>\n",
       "      <td>28598639</td>\n",
       "      <td>C</td>\n",
       "      <td>T</td>\n",
       "    </tr>\n",
       "    <tr>\n",
       "      <th>2963</th>\n",
       "      <td>28598639</td>\n",
       "      <td>C</td>\n",
       "      <td>G</td>\n",
       "    </tr>\n",
       "    <tr>\n",
       "      <th>2964</th>\n",
       "      <td>28598640</td>\n",
       "      <td>G</td>\n",
       "      <td>A</td>\n",
       "    </tr>\n",
       "    <tr>\n",
       "      <th>2965</th>\n",
       "      <td>28598640</td>\n",
       "      <td>G</td>\n",
       "      <td>C</td>\n",
       "    </tr>\n",
       "    <tr>\n",
       "      <th>2966</th>\n",
       "      <td>28598640</td>\n",
       "      <td>G</td>\n",
       "      <td>T</td>\n",
       "    </tr>\n",
       "  </tbody>\n",
       "</table>\n",
       "<p>2967 rows × 3 columns</p>\n",
       "</div>"
      ],
      "text/plain": [
       "      position ref_allele alt_allele\n",
       "0     28597652          G          A\n",
       "1     28597652          G          C\n",
       "2     28597652          G          T\n",
       "3     28597653          A          C\n",
       "4     28597653          A          T\n",
       "...        ...        ...        ...\n",
       "2962  28598639          C          T\n",
       "2963  28598639          C          G\n",
       "2964  28598640          G          A\n",
       "2965  28598640          G          C\n",
       "2966  28598640          G          T\n",
       "\n",
       "[2967 rows x 3 columns]"
      ]
     },
     "execution_count": 7,
     "metadata": {},
     "output_type": "execute_result"
    }
   ],
   "source": [
    "positions_df"
   ]
  },
  {
   "cell_type": "code",
   "execution_count": 8,
   "id": "03a47f86",
   "metadata": {},
   "outputs": [],
   "source": [
    "positions_df.ref_allele = positions_df.ref_allele.str.upper()"
   ]
  },
  {
   "cell_type": "code",
   "execution_count": 9,
   "id": "9c4c5686",
   "metadata": {},
   "outputs": [
    {
     "data": {
      "text/html": [
       "<div>\n",
       "<style scoped>\n",
       "    .dataframe tbody tr th:only-of-type {\n",
       "        vertical-align: middle;\n",
       "    }\n",
       "\n",
       "    .dataframe tbody tr th {\n",
       "        vertical-align: top;\n",
       "    }\n",
       "\n",
       "    .dataframe thead th {\n",
       "        text-align: right;\n",
       "    }\n",
       "</style>\n",
       "<table border=\"1\" class=\"dataframe\">\n",
       "  <thead>\n",
       "    <tr style=\"text-align: right;\">\n",
       "      <th></th>\n",
       "      <th>position</th>\n",
       "      <th>ref_allele</th>\n",
       "      <th>alt_allele</th>\n",
       "    </tr>\n",
       "  </thead>\n",
       "  <tbody>\n",
       "    <tr>\n",
       "      <th>0</th>\n",
       "      <td>28597652</td>\n",
       "      <td>G</td>\n",
       "      <td>A</td>\n",
       "    </tr>\n",
       "    <tr>\n",
       "      <th>1</th>\n",
       "      <td>28597652</td>\n",
       "      <td>G</td>\n",
       "      <td>C</td>\n",
       "    </tr>\n",
       "    <tr>\n",
       "      <th>2</th>\n",
       "      <td>28597652</td>\n",
       "      <td>G</td>\n",
       "      <td>T</td>\n",
       "    </tr>\n",
       "    <tr>\n",
       "      <th>3</th>\n",
       "      <td>28597653</td>\n",
       "      <td>A</td>\n",
       "      <td>C</td>\n",
       "    </tr>\n",
       "    <tr>\n",
       "      <th>4</th>\n",
       "      <td>28597653</td>\n",
       "      <td>A</td>\n",
       "      <td>T</td>\n",
       "    </tr>\n",
       "    <tr>\n",
       "      <th>...</th>\n",
       "      <td>...</td>\n",
       "      <td>...</td>\n",
       "      <td>...</td>\n",
       "    </tr>\n",
       "    <tr>\n",
       "      <th>2962</th>\n",
       "      <td>28598639</td>\n",
       "      <td>C</td>\n",
       "      <td>T</td>\n",
       "    </tr>\n",
       "    <tr>\n",
       "      <th>2963</th>\n",
       "      <td>28598639</td>\n",
       "      <td>C</td>\n",
       "      <td>G</td>\n",
       "    </tr>\n",
       "    <tr>\n",
       "      <th>2964</th>\n",
       "      <td>28598640</td>\n",
       "      <td>G</td>\n",
       "      <td>A</td>\n",
       "    </tr>\n",
       "    <tr>\n",
       "      <th>2965</th>\n",
       "      <td>28598640</td>\n",
       "      <td>G</td>\n",
       "      <td>C</td>\n",
       "    </tr>\n",
       "    <tr>\n",
       "      <th>2966</th>\n",
       "      <td>28598640</td>\n",
       "      <td>G</td>\n",
       "      <td>T</td>\n",
       "    </tr>\n",
       "  </tbody>\n",
       "</table>\n",
       "<p>2967 rows × 3 columns</p>\n",
       "</div>"
      ],
      "text/plain": [
       "      position ref_allele alt_allele\n",
       "0     28597652          G          A\n",
       "1     28597652          G          C\n",
       "2     28597652          G          T\n",
       "3     28597653          A          C\n",
       "4     28597653          A          T\n",
       "...        ...        ...        ...\n",
       "2962  28598639          C          T\n",
       "2963  28598639          C          G\n",
       "2964  28598640          G          A\n",
       "2965  28598640          G          C\n",
       "2966  28598640          G          T\n",
       "\n",
       "[2967 rows x 3 columns]"
      ]
     },
     "execution_count": 9,
     "metadata": {},
     "output_type": "execute_result"
    }
   ],
   "source": [
    "positions_df"
   ]
  },
  {
   "cell_type": "code",
   "execution_count": 11,
   "id": "e7a29390",
   "metadata": {},
   "outputs": [],
   "source": [
    "exon  = children[children.type == \"exon\"].sort_values(\"start\")"
   ]
  },
  {
   "cell_type": "code",
   "execution_count": 12,
   "id": "b0185836",
   "metadata": {},
   "outputs": [
    {
     "data": {
      "text/html": [
       "<div>\n",
       "<style scoped>\n",
       "    .dataframe tbody tr th:only-of-type {\n",
       "        vertical-align: middle;\n",
       "    }\n",
       "\n",
       "    .dataframe tbody tr th {\n",
       "        vertical-align: top;\n",
       "    }\n",
       "\n",
       "    .dataframe thead th {\n",
       "        text-align: right;\n",
       "    }\n",
       "</style>\n",
       "<table border=\"1\" class=\"dataframe\">\n",
       "  <thead>\n",
       "    <tr style=\"text-align: right;\">\n",
       "      <th></th>\n",
       "      <th>seqid</th>\n",
       "      <th>source</th>\n",
       "      <th>type</th>\n",
       "      <th>start</th>\n",
       "      <th>stop</th>\n",
       "      <th>score</th>\n",
       "      <th>strand</th>\n",
       "      <th>phase</th>\n",
       "      <th>feature_id</th>\n",
       "      <th>Name</th>\n",
       "    </tr>\n",
       "    <tr>\n",
       "      <th>parent_id</th>\n",
       "      <th></th>\n",
       "      <th></th>\n",
       "      <th></th>\n",
       "      <th></th>\n",
       "      <th></th>\n",
       "      <th></th>\n",
       "      <th></th>\n",
       "      <th></th>\n",
       "      <th></th>\n",
       "      <th></th>\n",
       "    </tr>\n",
       "  </thead>\n",
       "  <tbody>\n",
       "    <tr>\n",
       "      <th>AGAP009194-RA</th>\n",
       "      <td>3R</td>\n",
       "      <td>VectorBase</td>\n",
       "      <td>exon</td>\n",
       "      <td>28597652</td>\n",
       "      <td>28598071</td>\n",
       "      <td>NaN</td>\n",
       "      <td>-</td>\n",
       "      <td>NaN</td>\n",
       "      <td>NaN</td>\n",
       "      <td>AGAP009194-RA-E3</td>\n",
       "    </tr>\n",
       "    <tr>\n",
       "      <th>AGAP009194-RA</th>\n",
       "      <td>3R</td>\n",
       "      <td>VectorBase</td>\n",
       "      <td>exon</td>\n",
       "      <td>28598162</td>\n",
       "      <td>28598362</td>\n",
       "      <td>NaN</td>\n",
       "      <td>-</td>\n",
       "      <td>NaN</td>\n",
       "      <td>NaN</td>\n",
       "      <td>AGAP009194-RA-E2</td>\n",
       "    </tr>\n",
       "    <tr>\n",
       "      <th>AGAP009194-RA</th>\n",
       "      <td>3R</td>\n",
       "      <td>VectorBase</td>\n",
       "      <td>exon</td>\n",
       "      <td>28598437</td>\n",
       "      <td>28598640</td>\n",
       "      <td>NaN</td>\n",
       "      <td>-</td>\n",
       "      <td>NaN</td>\n",
       "      <td>NaN</td>\n",
       "      <td>AGAP009194-RA-E1</td>\n",
       "    </tr>\n",
       "  </tbody>\n",
       "</table>\n",
       "</div>"
      ],
      "text/plain": [
       "              seqid      source  type     start      stop  score strand  \\\n",
       "parent_id                                                                 \n",
       "AGAP009194-RA    3R  VectorBase  exon  28597652  28598071    NaN      -   \n",
       "AGAP009194-RA    3R  VectorBase  exon  28598162  28598362    NaN      -   \n",
       "AGAP009194-RA    3R  VectorBase  exon  28598437  28598640    NaN      -   \n",
       "\n",
       "               phase feature_id              Name  \n",
       "parent_id                                          \n",
       "AGAP009194-RA    NaN        NaN  AGAP009194-RA-E3  \n",
       "AGAP009194-RA    NaN        NaN  AGAP009194-RA-E2  \n",
       "AGAP009194-RA    NaN        NaN  AGAP009194-RA-E1  "
      ]
     },
     "execution_count": 12,
     "metadata": {},
     "output_type": "execute_result"
    }
   ],
   "source": [
    "exon"
   ]
  },
  {
   "cell_type": "code",
   "execution_count": 23,
   "id": "f9617e44",
   "metadata": {},
   "outputs": [],
   "source": [
    "exons = list(children[children.type == \"exon\"].sort_values(\"start\").to_records(index=False))"
   ]
  },
  {
   "cell_type": "code",
   "execution_count": 24,
   "id": "feff0c72",
   "metadata": {},
   "outputs": [
    {
     "data": {
      "text/plain": [
       "[('3R', 'VectorBase', 'exon', 28597652, 28598071, nan, '-', nan, nan, 'AGAP009194-RA-E3'),\n",
       " ('3R', 'VectorBase', 'exon', 28598162, 28598362, nan, '-', nan, nan, 'AGAP009194-RA-E2'),\n",
       " ('3R', 'VectorBase', 'exon', 28598437, 28598640, nan, '-', nan, nan, 'AGAP009194-RA-E1')]"
      ]
     },
     "execution_count": 24,
     "metadata": {},
     "output_type": "execute_result"
    }
   ],
   "source": [
    "exons"
   ]
  },
  {
   "cell_type": "code",
   "execution_count": 16,
   "id": "d5d9e93a",
   "metadata": {},
   "outputs": [],
   "source": [
    "records = list(exon.to_records(index=False))"
   ]
  },
  {
   "cell_type": "code",
   "execution_count": 18,
   "id": "3759d580",
   "metadata": {},
   "outputs": [
    {
     "data": {
      "text/plain": [
       "[('3R', 'VectorBase', 'exon', 28597652, 28598071, nan, '-', nan, nan, 'AGAP009194-RA-E3'),\n",
       " ('3R', 'VectorBase', 'exon', 28598162, 28598362, nan, '-', nan, nan, 'AGAP009194-RA-E2'),\n",
       " ('3R', 'VectorBase', 'exon', 28598437, 28598640, nan, '-', nan, nan, 'AGAP009194-RA-E1')]"
      ]
     },
     "execution_count": 18,
     "metadata": {},
     "output_type": "execute_result"
    }
   ],
   "source": [
    "records"
   ]
  },
  {
   "cell_type": "code",
   "execution_count": 19,
   "id": "d3b85996",
   "metadata": {},
   "outputs": [],
   "source": [
    "introns = [(x.stop + 1, y.start - 1) for x, y in zip(records[:-1], records[1:])]"
   ]
  },
  {
   "cell_type": "code",
   "execution_count": 20,
   "id": "914e04d5",
   "metadata": {},
   "outputs": [
    {
     "data": {
      "text/plain": [
       "[(28598072, 28598161), (28598363, 28598436)]"
      ]
     },
     "execution_count": 20,
     "metadata": {},
     "output_type": "execute_result"
    }
   ],
   "source": [
    "introns"
   ]
  },
  {
   "cell_type": "code",
   "execution_count": 22,
   "id": "42f4eec5",
   "metadata": {},
   "outputs": [
    {
     "data": {
      "text/html": [
       "<div>\n",
       "<style scoped>\n",
       "    .dataframe tbody tr th:only-of-type {\n",
       "        vertical-align: middle;\n",
       "    }\n",
       "\n",
       "    .dataframe tbody tr th {\n",
       "        vertical-align: top;\n",
       "    }\n",
       "\n",
       "    .dataframe thead th {\n",
       "        text-align: right;\n",
       "    }\n",
       "</style>\n",
       "<table border=\"1\" class=\"dataframe\">\n",
       "  <thead>\n",
       "    <tr style=\"text-align: right;\">\n",
       "      <th></th>\n",
       "      <th>seqid</th>\n",
       "      <th>source</th>\n",
       "      <th>type</th>\n",
       "      <th>start</th>\n",
       "      <th>stop</th>\n",
       "      <th>score</th>\n",
       "      <th>strand</th>\n",
       "      <th>phase</th>\n",
       "      <th>feature_id</th>\n",
       "      <th>Name</th>\n",
       "    </tr>\n",
       "    <tr>\n",
       "      <th>parent_id</th>\n",
       "      <th></th>\n",
       "      <th></th>\n",
       "      <th></th>\n",
       "      <th></th>\n",
       "      <th></th>\n",
       "      <th></th>\n",
       "      <th></th>\n",
       "      <th></th>\n",
       "      <th></th>\n",
       "      <th></th>\n",
       "    </tr>\n",
       "  </thead>\n",
       "  <tbody>\n",
       "    <tr>\n",
       "      <th>AGAP009194-RA</th>\n",
       "      <td>3R</td>\n",
       "      <td>VectorBase</td>\n",
       "      <td>exon</td>\n",
       "      <td>28597652</td>\n",
       "      <td>28598071</td>\n",
       "      <td>NaN</td>\n",
       "      <td>-</td>\n",
       "      <td>NaN</td>\n",
       "      <td>NaN</td>\n",
       "      <td>AGAP009194-RA-E3</td>\n",
       "    </tr>\n",
       "    <tr>\n",
       "      <th>AGAP009194-RA</th>\n",
       "      <td>3R</td>\n",
       "      <td>VectorBase</td>\n",
       "      <td>exon</td>\n",
       "      <td>28598162</td>\n",
       "      <td>28598362</td>\n",
       "      <td>NaN</td>\n",
       "      <td>-</td>\n",
       "      <td>NaN</td>\n",
       "      <td>NaN</td>\n",
       "      <td>AGAP009194-RA-E2</td>\n",
       "    </tr>\n",
       "    <tr>\n",
       "      <th>AGAP009194-RA</th>\n",
       "      <td>3R</td>\n",
       "      <td>VectorBase</td>\n",
       "      <td>exon</td>\n",
       "      <td>28598437</td>\n",
       "      <td>28598640</td>\n",
       "      <td>NaN</td>\n",
       "      <td>-</td>\n",
       "      <td>NaN</td>\n",
       "      <td>NaN</td>\n",
       "      <td>AGAP009194-RA-E1</td>\n",
       "    </tr>\n",
       "  </tbody>\n",
       "</table>\n",
       "</div>"
      ],
      "text/plain": [
       "              seqid      source  type     start      stop  score strand  \\\n",
       "parent_id                                                                 \n",
       "AGAP009194-RA    3R  VectorBase  exon  28597652  28598071    NaN      -   \n",
       "AGAP009194-RA    3R  VectorBase  exon  28598162  28598362    NaN      -   \n",
       "AGAP009194-RA    3R  VectorBase  exon  28598437  28598640    NaN      -   \n",
       "\n",
       "               phase feature_id              Name  \n",
       "parent_id                                          \n",
       "AGAP009194-RA    NaN        NaN  AGAP009194-RA-E3  \n",
       "AGAP009194-RA    NaN        NaN  AGAP009194-RA-E2  \n",
       "AGAP009194-RA    NaN        NaN  AGAP009194-RA-E1  "
      ]
     },
     "execution_count": 22,
     "metadata": {},
     "output_type": "execute_result"
    }
   ],
   "source": [
    "test_int = [(x.stop + 1, y.start - 1) for x, y in zip(records[:-1], records[1:])]"
   ]
  },
  {
   "cell_type": "code",
   "execution_count": null,
   "id": "56ab6f16",
   "metadata": {},
   "outputs": [],
   "source": []
  }
 ],
 "metadata": {
  "kernelspec": {
   "display_name": "Python 3",
   "language": "python",
   "name": "python3"
  },
  "language_info": {
   "codemirror_mode": {
    "name": "ipython",
    "version": 3
   },
   "file_extension": ".py",
   "mimetype": "text/x-python",
   "name": "python",
   "nbconvert_exporter": "python",
   "pygments_lexer": "ipython3",
   "version": "3.6.9"
  }
 },
 "nbformat": 4,
 "nbformat_minor": 5
}
