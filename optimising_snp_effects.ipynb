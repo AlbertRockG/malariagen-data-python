{
 "cells": [
  {
   "cell_type": "code",
   "execution_count": 1,
   "id": "6b05c6ff",
   "metadata": {},
   "outputs": [],
   "source": [
    "import malariagen_data"
   ]
  },
  {
   "cell_type": "code",
   "execution_count": null,
   "id": "13d51822",
   "metadata": {},
   "outputs": [],
   "source": [
    "ag3 = malariagen_data.Ag3(\"simplecache::gs://vo_agam_release/\", \n",
    "                          simplecache=dict(cache_storage=\"../gcs_cache\"))"
   ]
  },
  {
   "cell_type": "code",
   "execution_count": null,
   "id": "f14f896f",
   "metadata": {},
   "outputs": [],
   "source": [
    "gste2 = \"AGAP009194-RA\""
   ]
  },
  {
   "cell_type": "code",
   "execution_count": null,
   "id": "eec42fa3",
   "metadata": {},
   "outputs": [],
   "source": [
    "%%time\n",
    "# by instantiating ag3 again here, we can measure the time required\n",
    "# to setup the variant annotator\n",
    "ag3 = malariagen_data.Ag3(\"simplecache::gs://vo_agam_release/\", \n",
    "                          simplecache=dict(cache_storage=\"../gcs_cache\"))\n",
    "df = ag3.snp_effects(transcript=gste2, site_mask=None)"
   ]
  },
  {
   "cell_type": "code",
   "execution_count": null,
   "id": "10017a68",
   "metadata": {},
   "outputs": [],
   "source": [
    "%%time \n",
    "# now the variant annotator should have been cached, we can\n",
    "# measure the time taken to compute snp effects\n",
    "df = ag3.snp_effects(transcript=gste2, site_mask=None)"
   ]
  },
  {
   "cell_type": "code",
   "execution_count": null,
   "id": "ba55f80b",
   "metadata": {},
   "outputs": [],
   "source": [
    "df"
   ]
  },
  {
   "cell_type": "code",
   "execution_count": 2,
   "id": "8038a6f8",
   "metadata": {},
   "outputs": [],
   "source": [
    "vgsc = \"AGAP004707-RA\""
   ]
  },
  {
   "cell_type": "code",
   "execution_count": null,
   "id": "c0abd9ff",
   "metadata": {},
   "outputs": [],
   "source": [
    "%%time\n",
    "ag3 = malariagen_data.Ag3(\"simplecache::gs://vo_agam_release/\", \n",
    "                          simplecache=dict(cache_storage=\"gcs_cache\"))\n",
    "df = ag3.snp_effects(transcript=vgsc, site_mask=None)"
   ]
  },
  {
   "cell_type": "code",
   "execution_count": null,
   "id": "064ffdbb",
   "metadata": {},
   "outputs": [],
   "source": [
    "%%time\n",
    "df = ag3.snp_effects(transcript=vgsc, site_mask=None)"
   ]
  },
  {
   "cell_type": "code",
   "execution_count": 3,
   "id": "f627df5e",
   "metadata": {},
   "outputs": [],
   "source": [
    "%load_ext snakeviz"
   ]
  },
  {
   "cell_type": "code",
   "execution_count": 4,
   "id": "26c3a279",
   "metadata": {
    "scrolled": true
   },
   "outputs": [],
   "source": [
    "# by instantiating ag3 again here, we can profile the time required\n",
    "# to setup the variant annotator\n",
    "ag3 = malariagen_data.Ag3(\"simplecache::gs://vo_agam_release/\", \n",
    "                          simplecache=dict(cache_storage=\"gcs_cache\"))\n",
    "# %snakeviz ag3.snp_effects(transcript=gste2, site_mask=None)"
   ]
  },
  {
   "cell_type": "code",
   "execution_count": null,
   "id": "49bdccf6",
   "metadata": {},
   "outputs": [],
   "source": [
    "# now the variant annotator should have been cached, we can\n",
    "# profile the time taken to compute snp effects\n",
    "%snakeviz ag3.snp_effects(transcript=gste2, site_mask=None)"
   ]
  },
  {
   "cell_type": "code",
   "execution_count": 5,
   "id": "b1f3db3d",
   "metadata": {},
   "outputs": [
    {
     "name": "stdout",
     "output_type": "stream",
     "text": [
      " \n",
      "*** Profile stats marshalled to file '/tmp/tmplp469gou'. \n",
      "Embedding SnakeViz in this document...\n"
     ]
    },
    {
     "data": {
      "text/html": [
       "\n",
       "<iframe id='snakeviz-addcf832-ad87-11eb-a68b-185e0f8ee57c' frameborder=0 seamless width='100%' height='1000'></iframe>\n",
       "<script>document.getElementById(\"snakeviz-addcf832-ad87-11eb-a68b-185e0f8ee57c\").setAttribute(\"src\", \"http://\" + document.location.hostname + \":8080/snakeviz/%2Ftmp%2Ftmplp469gou\")</script>\n"
      ],
      "text/plain": [
       "<IPython.core.display.HTML object>"
      ]
     },
     "metadata": {},
     "output_type": "display_data"
    }
   ],
   "source": [
    "# now the variant annotator should have been cached, we can\n",
    "# profile the time taken to compute snp effects on a bigger gene\n",
    "%snakeviz ag3.snp_effects(transcript=vgsc, site_mask=None)"
   ]
  },
  {
   "cell_type": "code",
   "execution_count": 7,
   "id": "e22e408a",
   "metadata": {},
   "outputs": [
    {
     "name": "stdout",
     "output_type": "stream",
     "text": [
      " \n",
      "*** Profile stats marshalled to file '/tmp/tmpt0t5z15a'. \n",
      "Embedding SnakeViz in this document...\n"
     ]
    },
    {
     "data": {
      "text/html": [
       "\n",
       "<iframe id='snakeviz-869f559c-ad84-11eb-a68b-185e0f8ee57c' frameborder=0 seamless width='100%' height='1000'></iframe>\n",
       "<script>document.getElementById(\"snakeviz-869f559c-ad84-11eb-a68b-185e0f8ee57c\").setAttribute(\"src\", \"http://\" + document.location.hostname + \":8080/snakeviz/%2Ftmp%2Ftmpt0t5z15a\")</script>\n"
      ],
      "text/plain": [
       "<IPython.core.display.HTML object>"
      ]
     },
     "metadata": {},
     "output_type": "display_data"
    }
   ],
   "source": [
    "# now the variant annotator should have been cached, we can\n",
    "# profile the time taken to compute snp effects on a bigger gene\n",
    "%snakeviz ag3.snp_effects(transcript=vgsc, site_mask=None)"
   ]
  },
  {
   "cell_type": "code",
   "execution_count": null,
   "id": "eb6e9022",
   "metadata": {},
   "outputs": [],
   "source": []
  },
  {
   "cell_type": "code",
   "execution_count": null,
   "id": "ff0dcd89",
   "metadata": {},
   "outputs": [],
   "source": []
  },
  {
   "cell_type": "code",
   "execution_count": null,
   "id": "dabfa17a",
   "metadata": {},
   "outputs": [],
   "source": [
    "%%time\n",
    "df = ag3.snp_effects(\"AGAP004707-RD\", \"gamb_colu\")"
   ]
  },
  {
   "cell_type": "code",
   "execution_count": null,
   "id": "01c1c2cf",
   "metadata": {},
   "outputs": [],
   "source": [
    "%%time\n",
    "df = ag3.snp_effects(\"AGAP004707-RD\", \"gamb_colu\")"
   ]
  },
  {
   "cell_type": "code",
   "execution_count": null,
   "id": "2f5f28c0",
   "metadata": {},
   "outputs": [],
   "source": [
    "f = g[g.ID == transcript].squeeze()"
   ]
  },
  {
   "cell_type": "code",
   "execution_count": null,
   "id": "7f14262c",
   "metadata": {},
   "outputs": [],
   "source": [
    "f.seqid"
   ]
  },
  {
   "cell_type": "code",
   "execution_count": null,
   "id": "026ebc5c",
   "metadata": {},
   "outputs": [],
   "source": [
    "sites = ag3.snp_sites(contig=f.seqid[0], site_mask=\"gamb_colu\")"
   ]
  },
  {
   "cell_type": "code",
   "execution_count": null,
   "id": "5ed36189",
   "metadata": {},
   "outputs": [],
   "source": [
    "# gste2\n",
    "transcript = \"AGAP009194-RA\""
   ]
  },
  {
   "cell_type": "code",
   "execution_count": null,
   "id": "1e000fc0",
   "metadata": {},
   "outputs": [],
   "source": [
    "feature, children, positions_df = ag3.snp_effects(transcript=transcript, site_mask=None)"
   ]
  },
  {
   "cell_type": "code",
   "execution_count": null,
   "id": "0962fb49",
   "metadata": {},
   "outputs": [],
   "source": [
    "feature"
   ]
  },
  {
   "cell_type": "code",
   "execution_count": null,
   "id": "3611c410",
   "metadata": {},
   "outputs": [],
   "source": [
    "children"
   ]
  },
  {
   "cell_type": "code",
   "execution_count": null,
   "id": "692a6770",
   "metadata": {},
   "outputs": [],
   "source": [
    "positions_df"
   ]
  },
  {
   "cell_type": "code",
   "execution_count": null,
   "id": "03a47f86",
   "metadata": {},
   "outputs": [],
   "source": [
    "positions_df.ref_allele = positions_df.ref_allele.str.upper()"
   ]
  },
  {
   "cell_type": "code",
   "execution_count": null,
   "id": "9c4c5686",
   "metadata": {},
   "outputs": [],
   "source": [
    "positions_df"
   ]
  },
  {
   "cell_type": "code",
   "execution_count": null,
   "id": "e7a29390",
   "metadata": {},
   "outputs": [],
   "source": [
    "exon  = children[children.type == \"exon\"].sort_values(\"start\")"
   ]
  },
  {
   "cell_type": "code",
   "execution_count": null,
   "id": "b0185836",
   "metadata": {},
   "outputs": [],
   "source": [
    "exon"
   ]
  },
  {
   "cell_type": "code",
   "execution_count": null,
   "id": "f9617e44",
   "metadata": {},
   "outputs": [],
   "source": [
    "exons = list(children[children.type == \"exon\"].sort_values(\"start\").to_records(index=False))"
   ]
  },
  {
   "cell_type": "code",
   "execution_count": null,
   "id": "feff0c72",
   "metadata": {},
   "outputs": [],
   "source": [
    "exons"
   ]
  },
  {
   "cell_type": "code",
   "execution_count": null,
   "id": "d5d9e93a",
   "metadata": {},
   "outputs": [],
   "source": [
    "records = list(exon.to_records(index=False))"
   ]
  },
  {
   "cell_type": "code",
   "execution_count": null,
   "id": "3759d580",
   "metadata": {},
   "outputs": [],
   "source": [
    "records"
   ]
  },
  {
   "cell_type": "code",
   "execution_count": null,
   "id": "d3b85996",
   "metadata": {},
   "outputs": [],
   "source": [
    "introns = [(x.stop + 1, y.start - 1) for x, y in zip(records[:-1], records[1:])]"
   ]
  },
  {
   "cell_type": "code",
   "execution_count": null,
   "id": "914e04d5",
   "metadata": {},
   "outputs": [],
   "source": [
    "introns"
   ]
  },
  {
   "cell_type": "code",
   "execution_count": null,
   "id": "42f4eec5",
   "metadata": {},
   "outputs": [],
   "source": [
    "test_int = [(x.stop + 1, y.start - 1) for x, y in zip(records[:-1], records[1:])]"
   ]
  },
  {
   "cell_type": "code",
   "execution_count": null,
   "id": "56ab6f16",
   "metadata": {},
   "outputs": [],
   "source": []
  }
 ],
 "metadata": {
  "kernelspec": {
   "display_name": "Python 3",
   "language": "python",
   "name": "python3"
  },
  "language_info": {
   "codemirror_mode": {
    "name": "ipython",
    "version": 3
   },
   "file_extension": ".py",
   "mimetype": "text/x-python",
   "name": "python",
   "nbconvert_exporter": "python",
   "pygments_lexer": "ipython3",
   "version": "3.6.9"
  }
 },
 "nbformat": 4,
 "nbformat_minor": 5
}
