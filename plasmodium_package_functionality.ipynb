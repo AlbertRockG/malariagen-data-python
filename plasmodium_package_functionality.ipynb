{
 "cells": [
  {
   "cell_type": "markdown",
   "id": "afe4f9d0",
   "metadata": {},
   "source": [
    "## Pf7"
   ]
  },
  {
   "cell_type": "markdown",
   "id": "76c83ab6",
   "metadata": {},
   "source": [
    "Current implementation"
   ]
  },
  {
   "cell_type": "code",
   "execution_count": 5,
   "id": "31bca81f",
   "metadata": {},
   "outputs": [],
   "source": [
    "from malariagen_data.pf7 import Pf7"
   ]
  },
  {
   "cell_type": "code",
   "execution_count": 6,
   "id": "44d504dc",
   "metadata": {},
   "outputs": [],
   "source": [
    "pf7 = Pf7(\"gs://pf7_staging/\")"
   ]
  },
  {
   "cell_type": "code",
   "execution_count": 14,
   "id": "ba2e0e47",
   "metadata": {},
   "outputs": [],
   "source": [
    "genome = pf7.open_genome()\n",
    "pf7.contigs = pf7.genome_features().contig.unique()\n",
    "sequence = pf7._subset_genome_sequence_region(\n",
    "                genome=genome,\n",
    "                region='Pf3D7_01_v3',\n",
    "#                 inline_array=inline_array,\n",
    "#                 chunks=chunks,\n",
    "            )"
   ]
  },
  {
   "cell_type": "code",
   "execution_count": 19,
   "id": "381e93b6",
   "metadata": {},
   "outputs": [
    {
     "data": {
      "text/plain": [
       "dtype('S1')"
      ]
     },
     "execution_count": 19,
     "metadata": {},
     "output_type": "execute_result"
    }
   ],
   "source": [
    "sequence.dtype"
   ]
  },
  {
   "cell_type": "markdown",
   "id": "c71f794d",
   "metadata": {},
   "source": [
    "# Reference Demo"
   ]
  },
  {
   "cell_type": "code",
   "execution_count": 4,
   "id": "acb5dc9b",
   "metadata": {},
   "outputs": [],
   "source": [
    "# pf7.contigs does this need to work? \n",
    "# TODO: change example to CRT, lots of exons"
   ]
  },
  {
   "cell_type": "code",
   "execution_count": 5,
   "id": "eb5ca557",
   "metadata": {},
   "outputs": [
    {
     "data": {
      "text/html": [
       "<table>\n",
       "    <tr>\n",
       "        <td>\n",
       "            <table>\n",
       "                <thead>\n",
       "                    <tr>\n",
       "                        <td> </td>\n",
       "                        <th> Array </th>\n",
       "                        <th> Chunk </th>\n",
       "                    </tr>\n",
       "                </thead>\n",
       "                <tbody>\n",
       "                    \n",
       "                    <tr>\n",
       "                        <th> Bytes </th>\n",
       "                        <td> 22.25 MiB </td>\n",
       "                        <td> 412.03 kiB </td>\n",
       "                    </tr>\n",
       "                    \n",
       "                    <tr>\n",
       "                        <th> Shape </th>\n",
       "                        <td> (23332839,) </td>\n",
       "                        <td> (421914,) </td>\n",
       "                    </tr>\n",
       "                    <tr>\n",
       "                        <th> Count </th>\n",
       "                        <td> 144 Tasks </td>\n",
       "                        <td> 72 Chunks </td>\n",
       "                    </tr>\n",
       "                    <tr>\n",
       "                    <th> Type </th>\n",
       "                    <td> |S1 </td>\n",
       "                    <td> numpy.ndarray </td>\n",
       "                    </tr>\n",
       "                </tbody>\n",
       "            </table>\n",
       "        </td>\n",
       "        <td>\n",
       "        <svg width=\"170\" height=\"75\" style=\"stroke:rgb(0,0,0);stroke-width:1\" >\n",
       "\n",
       "  <!-- Horizontal lines -->\n",
       "  <line x1=\"0\" y1=\"0\" x2=\"120\" y2=\"0\" style=\"stroke-width:2\" />\n",
       "  <line x1=\"0\" y1=\"25\" x2=\"120\" y2=\"25\" style=\"stroke-width:2\" />\n",
       "\n",
       "  <!-- Vertical lines -->\n",
       "  <line x1=\"0\" y1=\"0\" x2=\"0\" y2=\"25\" style=\"stroke-width:2\" />\n",
       "  <line x1=\"4\" y1=\"0\" x2=\"4\" y2=\"25\" />\n",
       "  <line x1=\"9\" y1=\"0\" x2=\"9\" y2=\"25\" />\n",
       "  <line x1=\"15\" y1=\"0\" x2=\"15\" y2=\"25\" />\n",
       "  <line x1=\"21\" y1=\"0\" x2=\"21\" y2=\"25\" />\n",
       "  <line x1=\"26\" y1=\"0\" x2=\"26\" y2=\"25\" />\n",
       "  <line x1=\"34\" y1=\"0\" x2=\"34\" y2=\"25\" />\n",
       "  <line x1=\"41\" y1=\"0\" x2=\"41\" y2=\"25\" />\n",
       "  <line x1=\"49\" y1=\"0\" x2=\"49\" y2=\"25\" />\n",
       "  <line x1=\"56\" y1=\"0\" x2=\"56\" y2=\"25\" />\n",
       "  <line x1=\"63\" y1=\"0\" x2=\"63\" y2=\"25\" />\n",
       "  <line x1=\"69\" y1=\"0\" x2=\"69\" y2=\"25\" />\n",
       "  <line x1=\"74\" y1=\"0\" x2=\"74\" y2=\"25\" />\n",
       "  <line x1=\"80\" y1=\"0\" x2=\"80\" y2=\"25\" />\n",
       "  <line x1=\"86\" y1=\"0\" x2=\"86\" y2=\"25\" />\n",
       "  <line x1=\"91\" y1=\"0\" x2=\"91\" y2=\"25\" />\n",
       "  <line x1=\"99\" y1=\"0\" x2=\"99\" y2=\"25\" />\n",
       "  <line x1=\"107\" y1=\"0\" x2=\"107\" y2=\"25\" />\n",
       "  <line x1=\"115\" y1=\"0\" x2=\"115\" y2=\"25\" />\n",
       "  <line x1=\"120\" y1=\"0\" x2=\"120\" y2=\"25\" style=\"stroke-width:2\" />\n",
       "\n",
       "  <!-- Colored Rectangle -->\n",
       "  <polygon points=\"0.0,0.0 120.0,0.0 120.0,25.412616514582485 0.0,25.412616514582485\" style=\"fill:#8B4903A0;stroke-width:0\"/>\n",
       "\n",
       "  <!-- Text -->\n",
       "  <text x=\"60.000000\" y=\"45.412617\" font-size=\"1.0rem\" font-weight=\"100\" text-anchor=\"middle\" >23332839</text>\n",
       "  <text x=\"140.000000\" y=\"12.706308\" font-size=\"1.0rem\" font-weight=\"100\" text-anchor=\"middle\" transform=\"rotate(0,140.000000,12.706308)\">1</text>\n",
       "</svg>\n",
       "        </td>\n",
       "    </tr>\n",
       "</table>"
      ],
      "text/plain": [
       "dask.array<concatenate, shape=(23332839,), dtype=|S1, chunksize=(421914,), chunktype=numpy.ndarray>"
      ]
     },
     "execution_count": 5,
     "metadata": {},
     "output_type": "execute_result"
    }
   ],
   "source": [
    "pf7.genome_sequence()"
   ]
  },
  {
   "cell_type": "code",
   "execution_count": 6,
   "id": "4a9c6258",
   "metadata": {},
   "outputs": [
    {
     "data": {
      "text/html": [
       "<table>\n",
       "    <tr>\n",
       "        <td>\n",
       "            <table>\n",
       "                <thead>\n",
       "                    <tr>\n",
       "                        <td> </td>\n",
       "                        <th> Array </th>\n",
       "                        <th> Chunk </th>\n",
       "                    </tr>\n",
       "                </thead>\n",
       "                <tbody>\n",
       "                    \n",
       "                    <tr>\n",
       "                        <th> Bytes </th>\n",
       "                        <td> 22.25 MiB </td>\n",
       "                        <td> 412.03 kiB </td>\n",
       "                    </tr>\n",
       "                    \n",
       "                    <tr>\n",
       "                        <th> Shape </th>\n",
       "                        <td> (23332839,) </td>\n",
       "                        <td> (421914,) </td>\n",
       "                    </tr>\n",
       "                    <tr>\n",
       "                        <th> Count </th>\n",
       "                        <td> 144 Tasks </td>\n",
       "                        <td> 72 Chunks </td>\n",
       "                    </tr>\n",
       "                    <tr>\n",
       "                    <th> Type </th>\n",
       "                    <td> |S1 </td>\n",
       "                    <td> numpy.ndarray </td>\n",
       "                    </tr>\n",
       "                </tbody>\n",
       "            </table>\n",
       "        </td>\n",
       "        <td>\n",
       "        <svg width=\"170\" height=\"75\" style=\"stroke:rgb(0,0,0);stroke-width:1\" >\n",
       "\n",
       "  <!-- Horizontal lines -->\n",
       "  <line x1=\"0\" y1=\"0\" x2=\"120\" y2=\"0\" style=\"stroke-width:2\" />\n",
       "  <line x1=\"0\" y1=\"25\" x2=\"120\" y2=\"25\" style=\"stroke-width:2\" />\n",
       "\n",
       "  <!-- Vertical lines -->\n",
       "  <line x1=\"0\" y1=\"0\" x2=\"0\" y2=\"25\" style=\"stroke-width:2\" />\n",
       "  <line x1=\"4\" y1=\"0\" x2=\"4\" y2=\"25\" />\n",
       "  <line x1=\"9\" y1=\"0\" x2=\"9\" y2=\"25\" />\n",
       "  <line x1=\"15\" y1=\"0\" x2=\"15\" y2=\"25\" />\n",
       "  <line x1=\"21\" y1=\"0\" x2=\"21\" y2=\"25\" />\n",
       "  <line x1=\"26\" y1=\"0\" x2=\"26\" y2=\"25\" />\n",
       "  <line x1=\"34\" y1=\"0\" x2=\"34\" y2=\"25\" />\n",
       "  <line x1=\"41\" y1=\"0\" x2=\"41\" y2=\"25\" />\n",
       "  <line x1=\"49\" y1=\"0\" x2=\"49\" y2=\"25\" />\n",
       "  <line x1=\"56\" y1=\"0\" x2=\"56\" y2=\"25\" />\n",
       "  <line x1=\"63\" y1=\"0\" x2=\"63\" y2=\"25\" />\n",
       "  <line x1=\"69\" y1=\"0\" x2=\"69\" y2=\"25\" />\n",
       "  <line x1=\"74\" y1=\"0\" x2=\"74\" y2=\"25\" />\n",
       "  <line x1=\"80\" y1=\"0\" x2=\"80\" y2=\"25\" />\n",
       "  <line x1=\"86\" y1=\"0\" x2=\"86\" y2=\"25\" />\n",
       "  <line x1=\"91\" y1=\"0\" x2=\"91\" y2=\"25\" />\n",
       "  <line x1=\"99\" y1=\"0\" x2=\"99\" y2=\"25\" />\n",
       "  <line x1=\"107\" y1=\"0\" x2=\"107\" y2=\"25\" />\n",
       "  <line x1=\"115\" y1=\"0\" x2=\"115\" y2=\"25\" />\n",
       "  <line x1=\"120\" y1=\"0\" x2=\"120\" y2=\"25\" style=\"stroke-width:2\" />\n",
       "\n",
       "  <!-- Colored Rectangle -->\n",
       "  <polygon points=\"0.0,0.0 120.0,0.0 120.0,25.412616514582485 0.0,25.412616514582485\" style=\"fill:#8B4903A0;stroke-width:0\"/>\n",
       "\n",
       "  <!-- Text -->\n",
       "  <text x=\"60.000000\" y=\"45.412617\" font-size=\"1.0rem\" font-weight=\"100\" text-anchor=\"middle\" >23332839</text>\n",
       "  <text x=\"140.000000\" y=\"12.706308\" font-size=\"1.0rem\" font-weight=\"100\" text-anchor=\"middle\" transform=\"rotate(0,140.000000,12.706308)\">1</text>\n",
       "</svg>\n",
       "        </td>\n",
       "    </tr>\n",
       "</table>"
      ],
      "text/plain": [
       "dask.array<concatenate, shape=(23332839,), dtype=|S1, chunksize=(421914,), chunktype=numpy.ndarray>"
      ]
     },
     "execution_count": 6,
     "metadata": {},
     "output_type": "execute_result"
    }
   ],
   "source": [
    "#Everything - also default \n",
    "pf7.genome_sequence(region=\"*\")"
   ]
  },
  {
   "cell_type": "code",
   "execution_count": 7,
   "id": "cc3f7dd6",
   "metadata": {},
   "outputs": [
    {
     "data": {
      "text/html": [
       "<table>\n",
       "    <tr>\n",
       "        <td>\n",
       "            <table>\n",
       "                <thead>\n",
       "                    <tr>\n",
       "                        <td> </td>\n",
       "                        <th> Array </th>\n",
       "                        <th> Chunk </th>\n",
       "                    </tr>\n",
       "                </thead>\n",
       "                <tbody>\n",
       "                    \n",
       "                    <tr>\n",
       "                        <th> Bytes </th>\n",
       "                        <td> 22.25 MiB </td>\n",
       "                        <td> 412.03 kiB </td>\n",
       "                    </tr>\n",
       "                    \n",
       "                    <tr>\n",
       "                        <th> Shape </th>\n",
       "                        <td> (23332839,) </td>\n",
       "                        <td> (421914,) </td>\n",
       "                    </tr>\n",
       "                    <tr>\n",
       "                        <th> Count </th>\n",
       "                        <td> 144 Tasks </td>\n",
       "                        <td> 72 Chunks </td>\n",
       "                    </tr>\n",
       "                    <tr>\n",
       "                    <th> Type </th>\n",
       "                    <td> |S1 </td>\n",
       "                    <td> numpy.ndarray </td>\n",
       "                    </tr>\n",
       "                </tbody>\n",
       "            </table>\n",
       "        </td>\n",
       "        <td>\n",
       "        <svg width=\"170\" height=\"75\" style=\"stroke:rgb(0,0,0);stroke-width:1\" >\n",
       "\n",
       "  <!-- Horizontal lines -->\n",
       "  <line x1=\"0\" y1=\"0\" x2=\"120\" y2=\"0\" style=\"stroke-width:2\" />\n",
       "  <line x1=\"0\" y1=\"25\" x2=\"120\" y2=\"25\" style=\"stroke-width:2\" />\n",
       "\n",
       "  <!-- Vertical lines -->\n",
       "  <line x1=\"0\" y1=\"0\" x2=\"0\" y2=\"25\" style=\"stroke-width:2\" />\n",
       "  <line x1=\"4\" y1=\"0\" x2=\"4\" y2=\"25\" />\n",
       "  <line x1=\"9\" y1=\"0\" x2=\"9\" y2=\"25\" />\n",
       "  <line x1=\"15\" y1=\"0\" x2=\"15\" y2=\"25\" />\n",
       "  <line x1=\"21\" y1=\"0\" x2=\"21\" y2=\"25\" />\n",
       "  <line x1=\"26\" y1=\"0\" x2=\"26\" y2=\"25\" />\n",
       "  <line x1=\"34\" y1=\"0\" x2=\"34\" y2=\"25\" />\n",
       "  <line x1=\"41\" y1=\"0\" x2=\"41\" y2=\"25\" />\n",
       "  <line x1=\"49\" y1=\"0\" x2=\"49\" y2=\"25\" />\n",
       "  <line x1=\"56\" y1=\"0\" x2=\"56\" y2=\"25\" />\n",
       "  <line x1=\"63\" y1=\"0\" x2=\"63\" y2=\"25\" />\n",
       "  <line x1=\"69\" y1=\"0\" x2=\"69\" y2=\"25\" />\n",
       "  <line x1=\"74\" y1=\"0\" x2=\"74\" y2=\"25\" />\n",
       "  <line x1=\"80\" y1=\"0\" x2=\"80\" y2=\"25\" />\n",
       "  <line x1=\"86\" y1=\"0\" x2=\"86\" y2=\"25\" />\n",
       "  <line x1=\"91\" y1=\"0\" x2=\"91\" y2=\"25\" />\n",
       "  <line x1=\"99\" y1=\"0\" x2=\"99\" y2=\"25\" />\n",
       "  <line x1=\"107\" y1=\"0\" x2=\"107\" y2=\"25\" />\n",
       "  <line x1=\"115\" y1=\"0\" x2=\"115\" y2=\"25\" />\n",
       "  <line x1=\"120\" y1=\"0\" x2=\"120\" y2=\"25\" style=\"stroke-width:2\" />\n",
       "\n",
       "  <!-- Colored Rectangle -->\n",
       "  <polygon points=\"0.0,0.0 120.0,0.0 120.0,25.412616514582485 0.0,25.412616514582485\" style=\"fill:#8B4903A0;stroke-width:0\"/>\n",
       "\n",
       "  <!-- Text -->\n",
       "  <text x=\"60.000000\" y=\"45.412617\" font-size=\"1.0rem\" font-weight=\"100\" text-anchor=\"middle\" >23332839</text>\n",
       "  <text x=\"140.000000\" y=\"12.706308\" font-size=\"1.0rem\" font-weight=\"100\" text-anchor=\"middle\" transform=\"rotate(0,140.000000,12.706308)\">1</text>\n",
       "</svg>\n",
       "        </td>\n",
       "    </tr>\n",
       "</table>"
      ],
      "text/plain": [
       "dask.array<concatenate, shape=(23332839,), dtype=|S1, chunksize=(421914,), chunktype=numpy.ndarray>"
      ]
     },
     "execution_count": 7,
     "metadata": {},
     "output_type": "execute_result"
    }
   ],
   "source": [
    "pf7.genome_sequence(region=(\"*\"))"
   ]
  },
  {
   "cell_type": "code",
   "execution_count": 8,
   "id": "e6d68603",
   "metadata": {},
   "outputs": [
    {
     "data": {
      "text/html": [
       "<table>\n",
       "    <tr>\n",
       "        <td>\n",
       "            <table>\n",
       "                <thead>\n",
       "                    <tr>\n",
       "                        <td> </td>\n",
       "                        <th> Array </th>\n",
       "                        <th> Chunk </th>\n",
       "                    </tr>\n",
       "                </thead>\n",
       "                <tbody>\n",
       "                    \n",
       "                    <tr>\n",
       "                        <th> Bytes </th>\n",
       "                        <td> 22.25 MiB </td>\n",
       "                        <td> 412.03 kiB </td>\n",
       "                    </tr>\n",
       "                    \n",
       "                    <tr>\n",
       "                        <th> Shape </th>\n",
       "                        <td> (23332839,) </td>\n",
       "                        <td> (421914,) </td>\n",
       "                    </tr>\n",
       "                    <tr>\n",
       "                        <th> Count </th>\n",
       "                        <td> 144 Tasks </td>\n",
       "                        <td> 72 Chunks </td>\n",
       "                    </tr>\n",
       "                    <tr>\n",
       "                    <th> Type </th>\n",
       "                    <td> |S1 </td>\n",
       "                    <td> numpy.ndarray </td>\n",
       "                    </tr>\n",
       "                </tbody>\n",
       "            </table>\n",
       "        </td>\n",
       "        <td>\n",
       "        <svg width=\"170\" height=\"75\" style=\"stroke:rgb(0,0,0);stroke-width:1\" >\n",
       "\n",
       "  <!-- Horizontal lines -->\n",
       "  <line x1=\"0\" y1=\"0\" x2=\"120\" y2=\"0\" style=\"stroke-width:2\" />\n",
       "  <line x1=\"0\" y1=\"25\" x2=\"120\" y2=\"25\" style=\"stroke-width:2\" />\n",
       "\n",
       "  <!-- Vertical lines -->\n",
       "  <line x1=\"0\" y1=\"0\" x2=\"0\" y2=\"25\" style=\"stroke-width:2\" />\n",
       "  <line x1=\"4\" y1=\"0\" x2=\"4\" y2=\"25\" />\n",
       "  <line x1=\"9\" y1=\"0\" x2=\"9\" y2=\"25\" />\n",
       "  <line x1=\"15\" y1=\"0\" x2=\"15\" y2=\"25\" />\n",
       "  <line x1=\"21\" y1=\"0\" x2=\"21\" y2=\"25\" />\n",
       "  <line x1=\"26\" y1=\"0\" x2=\"26\" y2=\"25\" />\n",
       "  <line x1=\"34\" y1=\"0\" x2=\"34\" y2=\"25\" />\n",
       "  <line x1=\"41\" y1=\"0\" x2=\"41\" y2=\"25\" />\n",
       "  <line x1=\"49\" y1=\"0\" x2=\"49\" y2=\"25\" />\n",
       "  <line x1=\"56\" y1=\"0\" x2=\"56\" y2=\"25\" />\n",
       "  <line x1=\"63\" y1=\"0\" x2=\"63\" y2=\"25\" />\n",
       "  <line x1=\"69\" y1=\"0\" x2=\"69\" y2=\"25\" />\n",
       "  <line x1=\"74\" y1=\"0\" x2=\"74\" y2=\"25\" />\n",
       "  <line x1=\"80\" y1=\"0\" x2=\"80\" y2=\"25\" />\n",
       "  <line x1=\"86\" y1=\"0\" x2=\"86\" y2=\"25\" />\n",
       "  <line x1=\"91\" y1=\"0\" x2=\"91\" y2=\"25\" />\n",
       "  <line x1=\"99\" y1=\"0\" x2=\"99\" y2=\"25\" />\n",
       "  <line x1=\"107\" y1=\"0\" x2=\"107\" y2=\"25\" />\n",
       "  <line x1=\"115\" y1=\"0\" x2=\"115\" y2=\"25\" />\n",
       "  <line x1=\"120\" y1=\"0\" x2=\"120\" y2=\"25\" style=\"stroke-width:2\" />\n",
       "\n",
       "  <!-- Colored Rectangle -->\n",
       "  <polygon points=\"0.0,0.0 120.0,0.0 120.0,25.412616514582485 0.0,25.412616514582485\" style=\"fill:#8B4903A0;stroke-width:0\"/>\n",
       "\n",
       "  <!-- Text -->\n",
       "  <text x=\"60.000000\" y=\"45.412617\" font-size=\"1.0rem\" font-weight=\"100\" text-anchor=\"middle\" >23332839</text>\n",
       "  <text x=\"140.000000\" y=\"12.706308\" font-size=\"1.0rem\" font-weight=\"100\" text-anchor=\"middle\" transform=\"rotate(0,140.000000,12.706308)\">1</text>\n",
       "</svg>\n",
       "        </td>\n",
       "    </tr>\n",
       "</table>"
      ],
      "text/plain": [
       "dask.array<concatenate, shape=(23332839,), dtype=|S1, chunksize=(421914,), chunktype=numpy.ndarray>"
      ]
     },
     "execution_count": 8,
     "metadata": {},
     "output_type": "execute_result"
    }
   ],
   "source": [
    "pf7.genome_sequence(region=[\"*\"])"
   ]
  },
  {
   "cell_type": "code",
   "execution_count": 9,
   "id": "e6fbced0",
   "metadata": {},
   "outputs": [
    {
     "data": {
      "text/html": [
       "<table>\n",
       "    <tr>\n",
       "        <td>\n",
       "            <table>\n",
       "                <thead>\n",
       "                    <tr>\n",
       "                        <td> </td>\n",
       "                        <th> Array </th>\n",
       "                        <th> Chunk </th>\n",
       "                    </tr>\n",
       "                </thead>\n",
       "                <tbody>\n",
       "                    \n",
       "                    <tr>\n",
       "                        <th> Bytes </th>\n",
       "                        <td> 625.83 kiB </td>\n",
       "                        <td> 312.92 kiB </td>\n",
       "                    </tr>\n",
       "                    \n",
       "                    <tr>\n",
       "                        <th> Shape </th>\n",
       "                        <td> (640851,) </td>\n",
       "                        <td> (320426,) </td>\n",
       "                    </tr>\n",
       "                    <tr>\n",
       "                        <th> Count </th>\n",
       "                        <td> 2 Tasks </td>\n",
       "                        <td> 2 Chunks </td>\n",
       "                    </tr>\n",
       "                    <tr>\n",
       "                    <th> Type </th>\n",
       "                    <td> |S1 </td>\n",
       "                    <td> numpy.ndarray </td>\n",
       "                    </tr>\n",
       "                </tbody>\n",
       "            </table>\n",
       "        </td>\n",
       "        <td>\n",
       "        <svg width=\"170\" height=\"75\" style=\"stroke:rgb(0,0,0);stroke-width:1\" >\n",
       "\n",
       "  <!-- Horizontal lines -->\n",
       "  <line x1=\"0\" y1=\"0\" x2=\"120\" y2=\"0\" style=\"stroke-width:2\" />\n",
       "  <line x1=\"0\" y1=\"25\" x2=\"120\" y2=\"25\" style=\"stroke-width:2\" />\n",
       "\n",
       "  <!-- Vertical lines -->\n",
       "  <line x1=\"0\" y1=\"0\" x2=\"0\" y2=\"25\" style=\"stroke-width:2\" />\n",
       "  <line x1=\"60\" y1=\"0\" x2=\"60\" y2=\"25\" />\n",
       "  <line x1=\"120\" y1=\"0\" x2=\"120\" y2=\"25\" style=\"stroke-width:2\" />\n",
       "\n",
       "  <!-- Colored Rectangle -->\n",
       "  <polygon points=\"0.0,0.0 120.0,0.0 120.0,25.412616514582485 0.0,25.412616514582485\" style=\"fill:#ECB172A0;stroke-width:0\"/>\n",
       "\n",
       "  <!-- Text -->\n",
       "  <text x=\"60.000000\" y=\"45.412617\" font-size=\"1.0rem\" font-weight=\"100\" text-anchor=\"middle\" >640851</text>\n",
       "  <text x=\"140.000000\" y=\"12.706308\" font-size=\"1.0rem\" font-weight=\"100\" text-anchor=\"middle\" transform=\"rotate(0,140.000000,12.706308)\">1</text>\n",
       "</svg>\n",
       "        </td>\n",
       "    </tr>\n",
       "</table>"
      ],
      "text/plain": [
       "dask.array<array, shape=(640851,), dtype=|S1, chunksize=(320426,), chunktype=numpy.ndarray>"
      ]
     },
     "execution_count": 9,
     "metadata": {},
     "output_type": "execute_result"
    }
   ],
   "source": [
    "#one contig \n",
    "pf7.genome_sequence(region='Pf3D7_01_v3')"
   ]
  },
  {
   "cell_type": "code",
   "execution_count": 17,
   "id": "26ececb7",
   "metadata": {},
   "outputs": [
    {
     "data": {
      "text/html": [
       "<table>\n",
       "    <tr>\n",
       "        <td>\n",
       "            <table>\n",
       "                <thead>\n",
       "                    <tr>\n",
       "                        <td> </td>\n",
       "                        <th> Array </th>\n",
       "                        <th> Chunk </th>\n",
       "                    </tr>\n",
       "                </thead>\n",
       "                <tbody>\n",
       "                    \n",
       "                    <tr>\n",
       "                        <th> Bytes </th>\n",
       "                        <td> 1.92 MiB </td>\n",
       "                        <td> 260.74 kiB </td>\n",
       "                    </tr>\n",
       "                    \n",
       "                    <tr>\n",
       "                        <th> Shape </th>\n",
       "                        <td> (2015573,) </td>\n",
       "                        <td> (266993,) </td>\n",
       "                    </tr>\n",
       "                    <tr>\n",
       "                        <th> Count </th>\n",
       "                        <td> 22 Tasks </td>\n",
       "                        <td> 9 Chunks </td>\n",
       "                    </tr>\n",
       "                    <tr>\n",
       "                    <th> Type </th>\n",
       "                    <td> |S1 </td>\n",
       "                    <td> numpy.ndarray </td>\n",
       "                    </tr>\n",
       "                </tbody>\n",
       "            </table>\n",
       "        </td>\n",
       "        <td>\n",
       "        <svg width=\"170\" height=\"75\" style=\"stroke:rgb(0,0,0);stroke-width:1\" >\n",
       "\n",
       "  <!-- Horizontal lines -->\n",
       "  <line x1=\"0\" y1=\"0\" x2=\"120\" y2=\"0\" style=\"stroke-width:2\" />\n",
       "  <line x1=\"0\" y1=\"25\" x2=\"120\" y2=\"25\" style=\"stroke-width:2\" />\n",
       "\n",
       "  <!-- Vertical lines -->\n",
       "  <line x1=\"0\" y1=\"0\" x2=\"0\" y2=\"25\" style=\"stroke-width:2\" />\n",
       "  <line x1=\"0\" y1=\"0\" x2=\"0\" y2=\"25\" />\n",
       "  <line x1=\"14\" y1=\"0\" x2=\"14\" y2=\"25\" />\n",
       "  <line x1=\"28\" y1=\"0\" x2=\"28\" y2=\"25\" />\n",
       "  <line x1=\"42\" y1=\"0\" x2=\"42\" y2=\"25\" />\n",
       "  <line x1=\"56\" y1=\"0\" x2=\"56\" y2=\"25\" />\n",
       "  <line x1=\"72\" y1=\"0\" x2=\"72\" y2=\"25\" />\n",
       "  <line x1=\"88\" y1=\"0\" x2=\"88\" y2=\"25\" />\n",
       "  <line x1=\"104\" y1=\"0\" x2=\"104\" y2=\"25\" />\n",
       "  <line x1=\"120\" y1=\"0\" x2=\"120\" y2=\"25\" style=\"stroke-width:2\" />\n",
       "\n",
       "  <!-- Colored Rectangle -->\n",
       "  <polygon points=\"0.0,0.0 120.0,0.0 120.0,25.412616514582485 0.0,25.412616514582485\" style=\"fill:#ECB172A0;stroke-width:0\"/>\n",
       "\n",
       "  <!-- Text -->\n",
       "  <text x=\"60.000000\" y=\"45.412617\" font-size=\"1.0rem\" font-weight=\"100\" text-anchor=\"middle\" >2015573</text>\n",
       "  <text x=\"140.000000\" y=\"12.706308\" font-size=\"1.0rem\" font-weight=\"100\" text-anchor=\"middle\" transform=\"rotate(0,140.000000,12.706308)\">1</text>\n",
       "</svg>\n",
       "        </td>\n",
       "    </tr>\n",
       "</table>"
      ],
      "text/plain": [
       "dask.array<concatenate, shape=(2015573,), dtype=|S1, chunksize=(266993,), chunktype=numpy.ndarray>"
      ]
     },
     "execution_count": 17,
     "metadata": {},
     "output_type": "execute_result"
    }
   ],
   "source": [
    "#multiple contigs\n",
    "pf7.genome_sequence(region=['Pf3D7_07_v3','Pf3D7_02_v3','Pf3D7_03_v3'])"
   ]
  },
  {
   "cell_type": "code",
   "execution_count": 16,
   "id": "e9b321ef",
   "metadata": {},
   "outputs": [],
   "source": [
    "#contigs with regions\n",
    "a = pf7.genome_sequence(region=['Pf3D7_07_v3','Pf3D7_02_v3:15-20','Pf3D7_03_v3:40-50'])"
   ]
  },
  {
   "cell_type": "code",
   "execution_count": 12,
   "id": "9d08b67e",
   "metadata": {},
   "outputs": [
    {
     "data": {
      "text/plain": [
       "array([b't', b'g', b'a', b'a', b'c', b'c', b'c', b't', b'a', b'a'],\n",
       "      dtype='|S1')"
      ]
     },
     "execution_count": 12,
     "metadata": {},
     "output_type": "execute_result"
    }
   ],
   "source": [
    "a[0:10].compute() #are they lower case in fasta "
   ]
  },
  {
   "cell_type": "code",
   "execution_count": 13,
   "id": "8f32521f",
   "metadata": {},
   "outputs": [
    {
     "name": "stdout",
     "output_type": "stream",
     "text": [
      "PF3D7_0709000\n"
     ]
    },
    {
     "data": {
      "text/html": [
       "<div>\n",
       "<style scoped>\n",
       "    .dataframe tbody tr th:only-of-type {\n",
       "        vertical-align: middle;\n",
       "    }\n",
       "\n",
       "    .dataframe tbody tr th {\n",
       "        vertical-align: top;\n",
       "    }\n",
       "\n",
       "    .dataframe thead th {\n",
       "        text-align: right;\n",
       "    }\n",
       "</style>\n",
       "<table border=\"1\" class=\"dataframe\">\n",
       "  <thead>\n",
       "    <tr style=\"text-align: right;\">\n",
       "      <th></th>\n",
       "      <th>contig</th>\n",
       "      <th>source</th>\n",
       "      <th>type</th>\n",
       "      <th>start</th>\n",
       "      <th>end</th>\n",
       "      <th>score</th>\n",
       "      <th>strand</th>\n",
       "      <th>phase</th>\n",
       "      <th>ID</th>\n",
       "      <th>Parent</th>\n",
       "      <th>Name</th>\n",
       "      <th>alias</th>\n",
       "    </tr>\n",
       "  </thead>\n",
       "  <tbody>\n",
       "    <tr>\n",
       "      <th>11560</th>\n",
       "      <td>Pf3D7_07_v3</td>\n",
       "      <td>chado</td>\n",
       "      <td>five_prime_UTR</td>\n",
       "      <td>402385</td>\n",
       "      <td>403221</td>\n",
       "      <td>NaN</td>\n",
       "      <td>+</td>\n",
       "      <td>NaN</td>\n",
       "      <td>PF3D7_0709000.1:5UTR</td>\n",
       "      <td>PF3D7_0709000.1</td>\n",
       "      <td>NaN</td>\n",
       "      <td>NaN</td>\n",
       "    </tr>\n",
       "    <tr>\n",
       "      <th>11561</th>\n",
       "      <td>Pf3D7_07_v3</td>\n",
       "      <td>chado</td>\n",
       "      <td>gene</td>\n",
       "      <td>402385</td>\n",
       "      <td>406341</td>\n",
       "      <td>NaN</td>\n",
       "      <td>+</td>\n",
       "      <td>NaN</td>\n",
       "      <td>PF3D7_0709000</td>\n",
       "      <td>NaN</td>\n",
       "      <td>CRT</td>\n",
       "      <td>NaN</td>\n",
       "    </tr>\n",
       "    <tr>\n",
       "      <th>11562</th>\n",
       "      <td>Pf3D7_07_v3</td>\n",
       "      <td>chado</td>\n",
       "      <td>mRNA</td>\n",
       "      <td>402385</td>\n",
       "      <td>406341</td>\n",
       "      <td>NaN</td>\n",
       "      <td>+</td>\n",
       "      <td>NaN</td>\n",
       "      <td>PF3D7_0709000.1</td>\n",
       "      <td>PF3D7_0709000</td>\n",
       "      <td>NaN</td>\n",
       "      <td>NaN</td>\n",
       "    </tr>\n",
       "    <tr>\n",
       "      <th>11563</th>\n",
       "      <td>Pf3D7_07_v3</td>\n",
       "      <td>chado</td>\n",
       "      <td>CDS</td>\n",
       "      <td>403222</td>\n",
       "      <td>403312</td>\n",
       "      <td>NaN</td>\n",
       "      <td>+</td>\n",
       "      <td>0.0</td>\n",
       "      <td>PF3D7_0709000.1:exon:1</td>\n",
       "      <td>PF3D7_0709000.1</td>\n",
       "      <td>NaN</td>\n",
       "      <td>NaN</td>\n",
       "    </tr>\n",
       "    <tr>\n",
       "      <th>11564</th>\n",
       "      <td>Pf3D7_07_v3</td>\n",
       "      <td>chado</td>\n",
       "      <td>polypeptide</td>\n",
       "      <td>403222</td>\n",
       "      <td>406317</td>\n",
       "      <td>NaN</td>\n",
       "      <td>+</td>\n",
       "      <td>NaN</td>\n",
       "      <td>PF3D7_0709000.1:pep</td>\n",
       "      <td>NaN</td>\n",
       "      <td>NaN</td>\n",
       "      <td>NaN</td>\n",
       "    </tr>\n",
       "    <tr>\n",
       "      <th>11565</th>\n",
       "      <td>Pf3D7_07_v3</td>\n",
       "      <td>chado</td>\n",
       "      <td>CDS</td>\n",
       "      <td>403490</td>\n",
       "      <td>403758</td>\n",
       "      <td>NaN</td>\n",
       "      <td>+</td>\n",
       "      <td>2.0</td>\n",
       "      <td>PF3D7_0709000.1:exon:2</td>\n",
       "      <td>PF3D7_0709000.1</td>\n",
       "      <td>NaN</td>\n",
       "      <td>NaN</td>\n",
       "    </tr>\n",
       "    <tr>\n",
       "      <th>11566</th>\n",
       "      <td>Pf3D7_07_v3</td>\n",
       "      <td>chado</td>\n",
       "      <td>CDS</td>\n",
       "      <td>403938</td>\n",
       "      <td>404110</td>\n",
       "      <td>NaN</td>\n",
       "      <td>+</td>\n",
       "      <td>0.0</td>\n",
       "      <td>PF3D7_0709000.1:exon:3</td>\n",
       "      <td>PF3D7_0709000.1</td>\n",
       "      <td>NaN</td>\n",
       "      <td>NaN</td>\n",
       "    </tr>\n",
       "    <tr>\n",
       "      <th>11567</th>\n",
       "      <td>Pf3D7_07_v3</td>\n",
       "      <td>chado</td>\n",
       "      <td>CDS</td>\n",
       "      <td>404283</td>\n",
       "      <td>404415</td>\n",
       "      <td>NaN</td>\n",
       "      <td>+</td>\n",
       "      <td>1.0</td>\n",
       "      <td>PF3D7_0709000.1:exon:4</td>\n",
       "      <td>PF3D7_0709000.1</td>\n",
       "      <td>NaN</td>\n",
       "      <td>NaN</td>\n",
       "    </tr>\n",
       "    <tr>\n",
       "      <th>11568</th>\n",
       "      <td>Pf3D7_07_v3</td>\n",
       "      <td>chado</td>\n",
       "      <td>CDS</td>\n",
       "      <td>404569</td>\n",
       "      <td>404640</td>\n",
       "      <td>NaN</td>\n",
       "      <td>+</td>\n",
       "      <td>0.0</td>\n",
       "      <td>PF3D7_0709000.1:exon:5</td>\n",
       "      <td>PF3D7_0709000.1</td>\n",
       "      <td>NaN</td>\n",
       "      <td>NaN</td>\n",
       "    </tr>\n",
       "    <tr>\n",
       "      <th>11569</th>\n",
       "      <td>Pf3D7_07_v3</td>\n",
       "      <td>chado</td>\n",
       "      <td>CDS</td>\n",
       "      <td>404764</td>\n",
       "      <td>404839</td>\n",
       "      <td>NaN</td>\n",
       "      <td>+</td>\n",
       "      <td>0.0</td>\n",
       "      <td>PF3D7_0709000.1:exon:6</td>\n",
       "      <td>PF3D7_0709000.1</td>\n",
       "      <td>NaN</td>\n",
       "      <td>NaN</td>\n",
       "    </tr>\n",
       "    <tr>\n",
       "      <th>11570</th>\n",
       "      <td>Pf3D7_07_v3</td>\n",
       "      <td>chado</td>\n",
       "      <td>CDS</td>\n",
       "      <td>404936</td>\n",
       "      <td>405018</td>\n",
       "      <td>NaN</td>\n",
       "      <td>+</td>\n",
       "      <td>2.0</td>\n",
       "      <td>PF3D7_0709000.1:exon:7</td>\n",
       "      <td>PF3D7_0709000.1</td>\n",
       "      <td>NaN</td>\n",
       "      <td>NaN</td>\n",
       "    </tr>\n",
       "    <tr>\n",
       "      <th>11571</th>\n",
       "      <td>Pf3D7_07_v3</td>\n",
       "      <td>chado</td>\n",
       "      <td>CDS</td>\n",
       "      <td>405146</td>\n",
       "      <td>405196</td>\n",
       "      <td>NaN</td>\n",
       "      <td>+</td>\n",
       "      <td>0.0</td>\n",
       "      <td>PF3D7_0709000.1:exon:8</td>\n",
       "      <td>PF3D7_0709000.1</td>\n",
       "      <td>NaN</td>\n",
       "      <td>NaN</td>\n",
       "    </tr>\n",
       "    <tr>\n",
       "      <th>11572</th>\n",
       "      <td>Pf3D7_07_v3</td>\n",
       "      <td>chado</td>\n",
       "      <td>CDS</td>\n",
       "      <td>405334</td>\n",
       "      <td>405390</td>\n",
       "      <td>NaN</td>\n",
       "      <td>+</td>\n",
       "      <td>0.0</td>\n",
       "      <td>PF3D7_0709000.1:exon:9</td>\n",
       "      <td>PF3D7_0709000.1</td>\n",
       "      <td>NaN</td>\n",
       "      <td>NaN</td>\n",
       "    </tr>\n",
       "    <tr>\n",
       "      <th>11573</th>\n",
       "      <td>Pf3D7_07_v3</td>\n",
       "      <td>chado</td>\n",
       "      <td>CDS</td>\n",
       "      <td>405539</td>\n",
       "      <td>405631</td>\n",
       "      <td>NaN</td>\n",
       "      <td>+</td>\n",
       "      <td>0.0</td>\n",
       "      <td>PF3D7_0709000.1:exon:10</td>\n",
       "      <td>PF3D7_0709000.1</td>\n",
       "      <td>NaN</td>\n",
       "      <td>NaN</td>\n",
       "    </tr>\n",
       "    <tr>\n",
       "      <th>11574</th>\n",
       "      <td>Pf3D7_07_v3</td>\n",
       "      <td>chado</td>\n",
       "      <td>CDS</td>\n",
       "      <td>405825</td>\n",
       "      <td>405869</td>\n",
       "      <td>NaN</td>\n",
       "      <td>+</td>\n",
       "      <td>0.0</td>\n",
       "      <td>PF3D7_0709000.1:exon:11</td>\n",
       "      <td>PF3D7_0709000.1</td>\n",
       "      <td>NaN</td>\n",
       "      <td>NaN</td>\n",
       "    </tr>\n",
       "    <tr>\n",
       "      <th>11575</th>\n",
       "      <td>Pf3D7_07_v3</td>\n",
       "      <td>chado</td>\n",
       "      <td>CDS</td>\n",
       "      <td>406017</td>\n",
       "      <td>406071</td>\n",
       "      <td>NaN</td>\n",
       "      <td>+</td>\n",
       "      <td>0.0</td>\n",
       "      <td>PF3D7_0709000.1:exon:12</td>\n",
       "      <td>PF3D7_0709000.1</td>\n",
       "      <td>NaN</td>\n",
       "      <td>NaN</td>\n",
       "    </tr>\n",
       "    <tr>\n",
       "      <th>11576</th>\n",
       "      <td>Pf3D7_07_v3</td>\n",
       "      <td>chado</td>\n",
       "      <td>CDS</td>\n",
       "      <td>406241</td>\n",
       "      <td>406317</td>\n",
       "      <td>NaN</td>\n",
       "      <td>+</td>\n",
       "      <td>2.0</td>\n",
       "      <td>PF3D7_0709000.1:exon:13</td>\n",
       "      <td>PF3D7_0709000.1</td>\n",
       "      <td>NaN</td>\n",
       "      <td>NaN</td>\n",
       "    </tr>\n",
       "    <tr>\n",
       "      <th>11577</th>\n",
       "      <td>Pf3D7_07_v3</td>\n",
       "      <td>chado</td>\n",
       "      <td>three_prime_UTR</td>\n",
       "      <td>406318</td>\n",
       "      <td>406341</td>\n",
       "      <td>NaN</td>\n",
       "      <td>+</td>\n",
       "      <td>NaN</td>\n",
       "      <td>PF3D7_0709000.1:3UTR</td>\n",
       "      <td>PF3D7_0709000.1</td>\n",
       "      <td>NaN</td>\n",
       "      <td>NaN</td>\n",
       "    </tr>\n",
       "  </tbody>\n",
       "</table>\n",
       "</div>"
      ],
      "text/plain": [
       "            contig source             type   start     end  score strand  \\\n",
       "11560  Pf3D7_07_v3  chado   five_prime_UTR  402385  403221    NaN      +   \n",
       "11561  Pf3D7_07_v3  chado             gene  402385  406341    NaN      +   \n",
       "11562  Pf3D7_07_v3  chado             mRNA  402385  406341    NaN      +   \n",
       "11563  Pf3D7_07_v3  chado              CDS  403222  403312    NaN      +   \n",
       "11564  Pf3D7_07_v3  chado      polypeptide  403222  406317    NaN      +   \n",
       "11565  Pf3D7_07_v3  chado              CDS  403490  403758    NaN      +   \n",
       "11566  Pf3D7_07_v3  chado              CDS  403938  404110    NaN      +   \n",
       "11567  Pf3D7_07_v3  chado              CDS  404283  404415    NaN      +   \n",
       "11568  Pf3D7_07_v3  chado              CDS  404569  404640    NaN      +   \n",
       "11569  Pf3D7_07_v3  chado              CDS  404764  404839    NaN      +   \n",
       "11570  Pf3D7_07_v3  chado              CDS  404936  405018    NaN      +   \n",
       "11571  Pf3D7_07_v3  chado              CDS  405146  405196    NaN      +   \n",
       "11572  Pf3D7_07_v3  chado              CDS  405334  405390    NaN      +   \n",
       "11573  Pf3D7_07_v3  chado              CDS  405539  405631    NaN      +   \n",
       "11574  Pf3D7_07_v3  chado              CDS  405825  405869    NaN      +   \n",
       "11575  Pf3D7_07_v3  chado              CDS  406017  406071    NaN      +   \n",
       "11576  Pf3D7_07_v3  chado              CDS  406241  406317    NaN      +   \n",
       "11577  Pf3D7_07_v3  chado  three_prime_UTR  406318  406341    NaN      +   \n",
       "\n",
       "       phase                       ID           Parent Name alias  \n",
       "11560    NaN     PF3D7_0709000.1:5UTR  PF3D7_0709000.1  NaN   NaN  \n",
       "11561    NaN            PF3D7_0709000              NaN  CRT   NaN  \n",
       "11562    NaN          PF3D7_0709000.1    PF3D7_0709000  NaN   NaN  \n",
       "11563    0.0   PF3D7_0709000.1:exon:1  PF3D7_0709000.1  NaN   NaN  \n",
       "11564    NaN      PF3D7_0709000.1:pep              NaN  NaN   NaN  \n",
       "11565    2.0   PF3D7_0709000.1:exon:2  PF3D7_0709000.1  NaN   NaN  \n",
       "11566    0.0   PF3D7_0709000.1:exon:3  PF3D7_0709000.1  NaN   NaN  \n",
       "11567    1.0   PF3D7_0709000.1:exon:4  PF3D7_0709000.1  NaN   NaN  \n",
       "11568    0.0   PF3D7_0709000.1:exon:5  PF3D7_0709000.1  NaN   NaN  \n",
       "11569    0.0   PF3D7_0709000.1:exon:6  PF3D7_0709000.1  NaN   NaN  \n",
       "11570    2.0   PF3D7_0709000.1:exon:7  PF3D7_0709000.1  NaN   NaN  \n",
       "11571    0.0   PF3D7_0709000.1:exon:8  PF3D7_0709000.1  NaN   NaN  \n",
       "11572    0.0   PF3D7_0709000.1:exon:9  PF3D7_0709000.1  NaN   NaN  \n",
       "11573    0.0  PF3D7_0709000.1:exon:10  PF3D7_0709000.1  NaN   NaN  \n",
       "11574    0.0  PF3D7_0709000.1:exon:11  PF3D7_0709000.1  NaN   NaN  \n",
       "11575    0.0  PF3D7_0709000.1:exon:12  PF3D7_0709000.1  NaN   NaN  \n",
       "11576    2.0  PF3D7_0709000.1:exon:13  PF3D7_0709000.1  NaN   NaN  \n",
       "11577    NaN     PF3D7_0709000.1:3UTR  PF3D7_0709000.1  NaN   NaN  "
      ]
     },
     "execution_count": 13,
     "metadata": {},
     "output_type": "execute_result"
    }
   ],
   "source": [
    "#Use annotation to find gene name \n",
    "df = pf7.genome_features()\n",
    "gene_name = str(df.loc[df.Name == 'CRT'].ID.values[0])\n",
    "print(gene_name)\n",
    "df.loc[df.ID.str.contains(gene_name)]"
   ]
  },
  {
   "cell_type": "code",
   "execution_count": null,
   "id": "b8999a6a",
   "metadata": {
    "scrolled": true
   },
   "outputs": [],
   "source": [
    "#gene ID\n",
    "pf7.genome_sequence(region='PF3D7_0709000.1:pep')"
   ]
  },
  {
   "cell_type": "markdown",
   "id": "da43f3c5",
   "metadata": {},
   "source": [
    "**Metadata**"
   ]
  },
  {
   "cell_type": "code",
   "execution_count": null,
   "id": "5b0a35f0",
   "metadata": {},
   "outputs": [],
   "source": [
    "pf7.sample_metadata()"
   ]
  },
  {
   "cell_type": "markdown",
   "id": "4e9b8524",
   "metadata": {},
   "source": [
    "**Variants**"
   ]
  },
  {
   "cell_type": "code",
   "execution_count": null,
   "id": "29cafd56",
   "metadata": {},
   "outputs": [],
   "source": [
    "pf7.variant_calls()"
   ]
  },
  {
   "cell_type": "code",
   "execution_count": null,
   "id": "655f2a35",
   "metadata": {},
   "outputs": [],
   "source": [
    "pf7.variant_calls(extended=True)"
   ]
  },
  {
   "cell_type": "markdown",
   "id": "f3b2794a",
   "metadata": {},
   "source": [
    "**Annotations**"
   ]
  },
  {
   "cell_type": "code",
   "execution_count": null,
   "id": "3143bb79",
   "metadata": {},
   "outputs": [],
   "source": [
    "pf7.genome_features()"
   ]
  },
  {
   "cell_type": "code",
   "execution_count": null,
   "id": "4ff2c9f7",
   "metadata": {},
   "outputs": [],
   "source": [
    "pf7.genome_features(attributes='*')"
   ]
  },
  {
   "cell_type": "code",
   "execution_count": null,
   "id": "7a36ca4f",
   "metadata": {},
   "outputs": [],
   "source": [
    "pf7.genome_features(attributes=['product','Derives_from'])"
   ]
  },
  {
   "cell_type": "markdown",
   "id": "ed7d399b",
   "metadata": {},
   "source": [
    "## Pv4"
   ]
  },
  {
   "cell_type": "markdown",
   "id": "941068bc",
   "metadata": {},
   "source": [
    "New Pv4 module "
   ]
  },
  {
   "cell_type": "code",
   "execution_count": null,
   "id": "530667ec",
   "metadata": {},
   "outputs": [],
   "source": [
    "from malariagen_data.pv4 import Pv4"
   ]
  },
  {
   "cell_type": "code",
   "execution_count": null,
   "id": "dbf7cd34",
   "metadata": {},
   "outputs": [],
   "source": [
    "pv4 = Pv4(\"gs://pv4_staging/\")"
   ]
  },
  {
   "cell_type": "markdown",
   "id": "1f69ca11",
   "metadata": {},
   "source": [
    "**Metadata**"
   ]
  },
  {
   "cell_type": "code",
   "execution_count": null,
   "id": "27bcf9fd",
   "metadata": {
    "scrolled": true
   },
   "outputs": [],
   "source": [
    "pv4.sample_metadata()"
   ]
  },
  {
   "cell_type": "markdown",
   "id": "4d2d74e2",
   "metadata": {},
   "source": [
    "**Variants**"
   ]
  },
  {
   "cell_type": "code",
   "execution_count": null,
   "id": "a79c0304",
   "metadata": {},
   "outputs": [],
   "source": [
    "pv4.variant_calls()"
   ]
  },
  {
   "cell_type": "code",
   "execution_count": null,
   "id": "15068fb8",
   "metadata": {
    "scrolled": true
   },
   "outputs": [],
   "source": [
    "pv4.variant_calls(extended=True)"
   ]
  },
  {
   "cell_type": "code",
   "execution_count": null,
   "id": "f27b16b8",
   "metadata": {},
   "outputs": [],
   "source": [
    "pv4.variant_calls.__doc__"
   ]
  },
  {
   "cell_type": "markdown",
   "id": "9a730635",
   "metadata": {},
   "source": [
    "**Annotations**"
   ]
  },
  {
   "cell_type": "code",
   "execution_count": null,
   "id": "206b972a",
   "metadata": {},
   "outputs": [],
   "source": [
    "pv4.genome_features()"
   ]
  },
  {
   "cell_type": "markdown",
   "id": "50669e6b",
   "metadata": {},
   "source": [
    "**Reference**"
   ]
  },
  {
   "cell_type": "markdown",
   "id": "4e3d8da3",
   "metadata": {},
   "source": [
    "# Access reference and annotations"
   ]
  },
  {
   "cell_type": "markdown",
   "id": "7ec1c6c5",
   "metadata": {},
   "source": [
    "In ag they access reference using genome_sequence \n",
    " ```\n",
    " seq = amin1.genome_sequence(region=\"KB663610\").compute()\n",
    " seq\n",
    " ```\n",
    "They have a function to list contigs (`.contigs`), then you specify the contig you want the reference for and it returns a numpy array of that region\n",
    "  \n",
    "\n",
    "For annotations they load them into pandas datafram"
   ]
  },
  {
   "cell_type": "code",
   "execution_count": null,
   "id": "8ac794de",
   "metadata": {},
   "outputs": [],
   "source": [
    "from malariagen_data.util import init_filesystem\n",
    "from Bio import SeqIO\n",
    "from io import StringIO\n",
    "import os"
   ]
  },
  {
   "cell_type": "markdown",
   "id": "e3f841fa",
   "metadata": {},
   "source": [
    "**The below loads the fasta reference and prints the contigs**"
   ]
  },
  {
   "cell_type": "code",
   "execution_count": null,
   "id": "f6c76ca4",
   "metadata": {},
   "outputs": [],
   "source": [
    "%%time \n",
    "url = \"gs://pf7_staging/\"\n",
    "_fs, _path = init_filesystem(url)\n",
    "path = os.path.join(_path, \"reference/Pfalciparum.genome.fasta\")\n",
    "with _fs.open(path) as handle:\n",
    "    fasta = handle.read().decode('UTF-8')\n",
    "    fasta_iterator = SeqIO.parse(StringIO(fasta), \"fasta\")\n",
    "\n",
    "# Print IDs \n",
    "for seq in fasta_iterator:\n",
    "  print(seq.id)"
   ]
  },
  {
   "cell_type": "code",
   "execution_count": null,
   "id": "ec0544c5",
   "metadata": {},
   "outputs": [],
   "source": []
  }
 ],
 "metadata": {
  "kernelspec": {
   "display_name": "pf7_env",
   "language": "python",
   "name": "pf7_env"
  },
  "language_info": {
   "codemirror_mode": {
    "name": "ipython",
    "version": 3
   },
   "file_extension": ".py",
   "mimetype": "text/x-python",
   "name": "python",
   "nbconvert_exporter": "python",
   "pygments_lexer": "ipython3",
   "version": "3.7.3"
  }
 },
 "nbformat": 4,
 "nbformat_minor": 5
}
