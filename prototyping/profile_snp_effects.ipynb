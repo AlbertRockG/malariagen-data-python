{
 "cells": [
  {
   "cell_type": "code",
   "execution_count": 1,
   "id": "91a13125",
   "metadata": {},
   "outputs": [],
   "source": [
    "import malariagen_data"
   ]
  },
  {
   "cell_type": "code",
   "execution_count": 2,
   "id": "ca7068a2",
   "metadata": {},
   "outputs": [],
   "source": [
    "ag3 = malariagen_data.Ag3(\"simplecache::gs://vo_agam_release/\", \n",
    "                          simplecache=dict(cache_storage=\"../gcs_cache\"))"
   ]
  },
  {
   "cell_type": "code",
   "execution_count": 3,
   "id": "f8bd8145",
   "metadata": {},
   "outputs": [],
   "source": [
    "gste2 = \"AGAP009194-RA\""
   ]
  },
  {
   "cell_type": "code",
   "execution_count": 4,
   "id": "e1f8d5de",
   "metadata": {},
   "outputs": [
    {
     "name": "stdout",
     "output_type": "stream",
     "text": [
      "CPU times: user 21.3 s, sys: 171 ms, total: 21.5 s\n",
      "Wall time: 21.4 s\n"
     ]
    }
   ],
   "source": [
    "%%time\n",
    "# by instantiating ag3 again here, we can measure the time required\n",
    "# to setup the variant annotator\n",
    "ag3 = malariagen_data.Ag3(\"simplecache::gs://vo_agam_release/\", \n",
    "                          simplecache=dict(cache_storage=\"../gcs_cache\"))\n",
    "df = ag3.snp_effects(transcript=gste2, site_mask=None)"
   ]
  },
  {
   "cell_type": "code",
   "execution_count": 5,
   "id": "f54d6fd7",
   "metadata": {},
   "outputs": [
    {
     "name": "stdout",
     "output_type": "stream",
     "text": [
      "CPU times: user 560 ms, sys: 44.9 ms, total: 605 ms\n",
      "Wall time: 598 ms\n"
     ]
    }
   ],
   "source": [
    "%%time \n",
    "# now the variant annotator should have been cached, we can\n",
    "# measure the time taken to compute snp effects\n",
    "df = ag3.snp_effects(transcript=gste2, site_mask=None)"
   ]
  },
  {
   "cell_type": "code",
   "execution_count": 6,
   "id": "9af48806",
   "metadata": {},
   "outputs": [
    {
     "data": {
      "text/html": [
       "<div>\n",
       "<style scoped>\n",
       "    .dataframe tbody tr th:only-of-type {\n",
       "        vertical-align: middle;\n",
       "    }\n",
       "\n",
       "    .dataframe tbody tr th {\n",
       "        vertical-align: top;\n",
       "    }\n",
       "\n",
       "    .dataframe thead th {\n",
       "        text-align: right;\n",
       "    }\n",
       "</style>\n",
       "<table border=\"1\" class=\"dataframe\">\n",
       "  <thead>\n",
       "    <tr style=\"text-align: right;\">\n",
       "      <th></th>\n",
       "      <th>position</th>\n",
       "      <th>ref_allele</th>\n",
       "      <th>alt_allele</th>\n",
       "      <th>effect</th>\n",
       "      <th>impact</th>\n",
       "      <th>ref_codon</th>\n",
       "      <th>alt_codon</th>\n",
       "      <th>aa_pos</th>\n",
       "      <th>ref_aa</th>\n",
       "      <th>alt_aa</th>\n",
       "      <th>aa_change</th>\n",
       "    </tr>\n",
       "  </thead>\n",
       "  <tbody>\n",
       "    <tr>\n",
       "      <th>0</th>\n",
       "      <td>28597652</td>\n",
       "      <td>G</td>\n",
       "      <td>A</td>\n",
       "      <td>THREE_PRIME_UTR</td>\n",
       "      <td>LOW</td>\n",
       "      <td>None</td>\n",
       "      <td>None</td>\n",
       "      <td>NaN</td>\n",
       "      <td>None</td>\n",
       "      <td>None</td>\n",
       "      <td>None</td>\n",
       "    </tr>\n",
       "    <tr>\n",
       "      <th>1</th>\n",
       "      <td>28597652</td>\n",
       "      <td>G</td>\n",
       "      <td>C</td>\n",
       "      <td>THREE_PRIME_UTR</td>\n",
       "      <td>LOW</td>\n",
       "      <td>None</td>\n",
       "      <td>None</td>\n",
       "      <td>NaN</td>\n",
       "      <td>None</td>\n",
       "      <td>None</td>\n",
       "      <td>None</td>\n",
       "    </tr>\n",
       "    <tr>\n",
       "      <th>2</th>\n",
       "      <td>28597652</td>\n",
       "      <td>G</td>\n",
       "      <td>T</td>\n",
       "      <td>THREE_PRIME_UTR</td>\n",
       "      <td>LOW</td>\n",
       "      <td>None</td>\n",
       "      <td>None</td>\n",
       "      <td>NaN</td>\n",
       "      <td>None</td>\n",
       "      <td>None</td>\n",
       "      <td>None</td>\n",
       "    </tr>\n",
       "    <tr>\n",
       "      <th>3</th>\n",
       "      <td>28597653</td>\n",
       "      <td>A</td>\n",
       "      <td>C</td>\n",
       "      <td>THREE_PRIME_UTR</td>\n",
       "      <td>LOW</td>\n",
       "      <td>None</td>\n",
       "      <td>None</td>\n",
       "      <td>NaN</td>\n",
       "      <td>None</td>\n",
       "      <td>None</td>\n",
       "      <td>None</td>\n",
       "    </tr>\n",
       "    <tr>\n",
       "      <th>4</th>\n",
       "      <td>28597653</td>\n",
       "      <td>A</td>\n",
       "      <td>T</td>\n",
       "      <td>THREE_PRIME_UTR</td>\n",
       "      <td>LOW</td>\n",
       "      <td>None</td>\n",
       "      <td>None</td>\n",
       "      <td>NaN</td>\n",
       "      <td>None</td>\n",
       "      <td>None</td>\n",
       "      <td>None</td>\n",
       "    </tr>\n",
       "    <tr>\n",
       "      <th>...</th>\n",
       "      <td>...</td>\n",
       "      <td>...</td>\n",
       "      <td>...</td>\n",
       "      <td>...</td>\n",
       "      <td>...</td>\n",
       "      <td>...</td>\n",
       "      <td>...</td>\n",
       "      <td>...</td>\n",
       "      <td>...</td>\n",
       "      <td>...</td>\n",
       "      <td>...</td>\n",
       "    </tr>\n",
       "    <tr>\n",
       "      <th>2962</th>\n",
       "      <td>28598639</td>\n",
       "      <td>C</td>\n",
       "      <td>T</td>\n",
       "      <td>FIVE_PRIME_UTR</td>\n",
       "      <td>LOW</td>\n",
       "      <td>None</td>\n",
       "      <td>None</td>\n",
       "      <td>NaN</td>\n",
       "      <td>None</td>\n",
       "      <td>None</td>\n",
       "      <td>None</td>\n",
       "    </tr>\n",
       "    <tr>\n",
       "      <th>2963</th>\n",
       "      <td>28598639</td>\n",
       "      <td>C</td>\n",
       "      <td>G</td>\n",
       "      <td>FIVE_PRIME_UTR</td>\n",
       "      <td>LOW</td>\n",
       "      <td>None</td>\n",
       "      <td>None</td>\n",
       "      <td>NaN</td>\n",
       "      <td>None</td>\n",
       "      <td>None</td>\n",
       "      <td>None</td>\n",
       "    </tr>\n",
       "    <tr>\n",
       "      <th>2964</th>\n",
       "      <td>28598640</td>\n",
       "      <td>G</td>\n",
       "      <td>A</td>\n",
       "      <td>FIVE_PRIME_UTR</td>\n",
       "      <td>LOW</td>\n",
       "      <td>None</td>\n",
       "      <td>None</td>\n",
       "      <td>NaN</td>\n",
       "      <td>None</td>\n",
       "      <td>None</td>\n",
       "      <td>None</td>\n",
       "    </tr>\n",
       "    <tr>\n",
       "      <th>2965</th>\n",
       "      <td>28598640</td>\n",
       "      <td>G</td>\n",
       "      <td>C</td>\n",
       "      <td>FIVE_PRIME_UTR</td>\n",
       "      <td>LOW</td>\n",
       "      <td>None</td>\n",
       "      <td>None</td>\n",
       "      <td>NaN</td>\n",
       "      <td>None</td>\n",
       "      <td>None</td>\n",
       "      <td>None</td>\n",
       "    </tr>\n",
       "    <tr>\n",
       "      <th>2966</th>\n",
       "      <td>28598640</td>\n",
       "      <td>G</td>\n",
       "      <td>T</td>\n",
       "      <td>FIVE_PRIME_UTR</td>\n",
       "      <td>LOW</td>\n",
       "      <td>None</td>\n",
       "      <td>None</td>\n",
       "      <td>NaN</td>\n",
       "      <td>None</td>\n",
       "      <td>None</td>\n",
       "      <td>None</td>\n",
       "    </tr>\n",
       "  </tbody>\n",
       "</table>\n",
       "<p>2967 rows × 11 columns</p>\n",
       "</div>"
      ],
      "text/plain": [
       "      position ref_allele alt_allele           effect impact ref_codon  \\\n",
       "0     28597652          G          A  THREE_PRIME_UTR    LOW      None   \n",
       "1     28597652          G          C  THREE_PRIME_UTR    LOW      None   \n",
       "2     28597652          G          T  THREE_PRIME_UTR    LOW      None   \n",
       "3     28597653          A          C  THREE_PRIME_UTR    LOW      None   \n",
       "4     28597653          A          T  THREE_PRIME_UTR    LOW      None   \n",
       "...        ...        ...        ...              ...    ...       ...   \n",
       "2962  28598639          C          T   FIVE_PRIME_UTR    LOW      None   \n",
       "2963  28598639          C          G   FIVE_PRIME_UTR    LOW      None   \n",
       "2964  28598640          G          A   FIVE_PRIME_UTR    LOW      None   \n",
       "2965  28598640          G          C   FIVE_PRIME_UTR    LOW      None   \n",
       "2966  28598640          G          T   FIVE_PRIME_UTR    LOW      None   \n",
       "\n",
       "     alt_codon  aa_pos ref_aa alt_aa aa_change  \n",
       "0         None     NaN   None   None      None  \n",
       "1         None     NaN   None   None      None  \n",
       "2         None     NaN   None   None      None  \n",
       "3         None     NaN   None   None      None  \n",
       "4         None     NaN   None   None      None  \n",
       "...        ...     ...    ...    ...       ...  \n",
       "2962      None     NaN   None   None      None  \n",
       "2963      None     NaN   None   None      None  \n",
       "2964      None     NaN   None   None      None  \n",
       "2965      None     NaN   None   None      None  \n",
       "2966      None     NaN   None   None      None  \n",
       "\n",
       "[2967 rows x 11 columns]"
      ]
     },
     "execution_count": 6,
     "metadata": {},
     "output_type": "execute_result"
    }
   ],
   "source": [
    "df"
   ]
  },
  {
   "cell_type": "code",
   "execution_count": 7,
   "id": "03373ed3",
   "metadata": {},
   "outputs": [],
   "source": [
    "vgsc = \"AGAP004707-RA\""
   ]
  },
  {
   "cell_type": "code",
   "execution_count": 8,
   "id": "3300090f",
   "metadata": {},
   "outputs": [
    {
     "name": "stdout",
     "output_type": "stream",
     "text": [
      "CPU times: user 1min 59s, sys: 100 ms, total: 2min\n",
      "Wall time: 1min 59s\n"
     ]
    }
   ],
   "source": [
    "%%time\n",
    "ag3 = malariagen_data.Ag3(\"simplecache::gs://vo_agam_release/\", \n",
    "                          simplecache=dict(cache_storage=\"../gcs_cache\"))\n",
    "df = ag3.snp_effects(transcript=vgsc, site_mask=None)"
   ]
  },
  {
   "cell_type": "code",
   "execution_count": 9,
   "id": "14a05666",
   "metadata": {},
   "outputs": [
    {
     "name": "stdout",
     "output_type": "stream",
     "text": [
      "CPU times: user 1min 40s, sys: 24.3 ms, total: 1min 40s\n",
      "Wall time: 1min 40s\n"
     ]
    }
   ],
   "source": [
    "%%time\n",
    "df = ag3.snp_effects(transcript=vgsc, site_mask=None)"
   ]
  },
  {
   "cell_type": "code",
   "execution_count": 10,
   "id": "08384655",
   "metadata": {},
   "outputs": [],
   "source": [
    "%load_ext snakeviz"
   ]
  },
  {
   "cell_type": "code",
   "execution_count": 11,
   "id": "a92515cb",
   "metadata": {},
   "outputs": [
    {
     "name": "stdout",
     "output_type": "stream",
     "text": [
      " \n",
      "*** Profile stats marshalled to file '/tmp/tmprbvht8ft'. \n",
      "Embedding SnakeViz in this document...\n"
     ]
    },
    {
     "data": {
      "text/html": [
       "\n",
       "<iframe id='snakeviz-28dd72b6-a291-11eb-8f4f-0c7a154f95d4' frameborder=0 seamless width='100%' height='1000'></iframe>\n",
       "<script>document.getElementById(\"snakeviz-28dd72b6-a291-11eb-8f4f-0c7a154f95d4\").setAttribute(\"src\", \"http://\" + document.location.hostname + \":8080/snakeviz/%2Ftmp%2Ftmprbvht8ft\")</script>\n"
      ],
      "text/plain": [
       "<IPython.core.display.HTML object>"
      ]
     },
     "metadata": {},
     "output_type": "display_data"
    }
   ],
   "source": [
    "# by instantiating ag3 again here, we can profile the time required\n",
    "# to setup the variant annotator\n",
    "ag3 = malariagen_data.Ag3(\"simplecache::gs://vo_agam_release/\", \n",
    "                          simplecache=dict(cache_storage=\"../gcs_cache\"))\n",
    "%snakeviz ag3.snp_effects(transcript=gste2, site_mask=None)"
   ]
  },
  {
   "cell_type": "code",
   "execution_count": 12,
   "id": "3b774f13",
   "metadata": {},
   "outputs": [
    {
     "name": "stdout",
     "output_type": "stream",
     "text": [
      " \n",
      "*** Profile stats marshalled to file '/tmp/tmp5zmt0py6'. \n",
      "Embedding SnakeViz in this document...\n"
     ]
    },
    {
     "data": {
      "text/html": [
       "\n",
       "<iframe id='snakeviz-2b54364c-a291-11eb-8f4f-0c7a154f95d4' frameborder=0 seamless width='100%' height='1000'></iframe>\n",
       "<script>document.getElementById(\"snakeviz-2b54364c-a291-11eb-8f4f-0c7a154f95d4\").setAttribute(\"src\", \"http://\" + document.location.hostname + \":8080/snakeviz/%2Ftmp%2Ftmp5zmt0py6\")</script>\n"
      ],
      "text/plain": [
       "<IPython.core.display.HTML object>"
      ]
     },
     "metadata": {},
     "output_type": "display_data"
    }
   ],
   "source": [
    "# now the variant annotator should have been cached, we can\n",
    "# profile the time taken to compute snp effects\n",
    "%snakeviz ag3.snp_effects(transcript=gste2, site_mask=None)"
   ]
  },
  {
   "cell_type": "code",
   "execution_count": 13,
   "id": "af81ad9c",
   "metadata": {},
   "outputs": [
    {
     "name": "stdout",
     "output_type": "stream",
     "text": [
      " \n",
      "*** Profile stats marshalled to file '/tmp/tmpqk6rlzu7'. \n",
      "Embedding SnakeViz in this document...\n"
     ]
    },
    {
     "data": {
      "text/html": [
       "\n",
       "<iframe id='snakeviz-7d1453c2-a291-11eb-8f4f-0c7a154f95d4' frameborder=0 seamless width='100%' height='1000'></iframe>\n",
       "<script>document.getElementById(\"snakeviz-7d1453c2-a291-11eb-8f4f-0c7a154f95d4\").setAttribute(\"src\", \"http://\" + document.location.hostname + \":8080/snakeviz/%2Ftmp%2Ftmpqk6rlzu7\")</script>\n"
      ],
      "text/plain": [
       "<IPython.core.display.HTML object>"
      ]
     },
     "metadata": {},
     "output_type": "display_data"
    }
   ],
   "source": [
    "# now the variant annotator should have been cached, we can\n",
    "# profile the time taken to compute snp effects on a bigger gene\n",
    "%snakeviz ag3.snp_effects(transcript=vgsc, site_mask=None)"
   ]
  },
  {
   "cell_type": "code",
   "execution_count": null,
   "id": "3058d188",
   "metadata": {},
   "outputs": [],
   "source": []
  }
 ],
 "metadata": {
  "kernelspec": {
   "display_name": "Python 3",
   "language": "python",
   "name": "python3"
  },
  "language_info": {
   "codemirror_mode": {
    "name": "ipython",
    "version": 3
   },
   "file_extension": ".py",
   "mimetype": "text/x-python",
   "name": "python",
   "nbconvert_exporter": "python",
   "pygments_lexer": "ipython3",
   "version": "3.6.9"
  }
 },
 "nbformat": 4,
 "nbformat_minor": 5
}
