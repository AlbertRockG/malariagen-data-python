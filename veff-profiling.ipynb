{
 "cells": [
  {
   "cell_type": "code",
   "execution_count": 1,
   "id": "departmental-yahoo",
   "metadata": {},
   "outputs": [],
   "source": [
    "%reload_ext autoreload\n",
    "%autoreload 1"
   ]
  },
  {
   "cell_type": "code",
   "execution_count": 2,
   "id": "finnish-survival",
   "metadata": {},
   "outputs": [],
   "source": [
    "import cProfile\n",
    "import pstats"
   ]
  },
  {
   "cell_type": "code",
   "execution_count": 3,
   "id": "mighty-chemical",
   "metadata": {},
   "outputs": [],
   "source": [
    "%aimport malariagen_data.ag3\n",
    "%aimport malariagen_data.veff "
   ]
  },
  {
   "cell_type": "code",
   "execution_count": 4,
   "id": "tender-reform",
   "metadata": {},
   "outputs": [],
   "source": [
    "ag3 = malariagen_data.Ag3(\"gs://vo_agam_release\")\n",
    "veff = malariagen_data.veff"
   ]
  },
  {
   "cell_type": "code",
   "execution_count": 5,
   "id": "martial-chuck",
   "metadata": {},
   "outputs": [],
   "source": [
    "genome = ag3._open_genome()"
   ]
  },
  {
   "cell_type": "code",
   "execution_count": 6,
   "id": "western-element",
   "metadata": {},
   "outputs": [
    {
     "name": "stdout",
     "output_type": "stream",
     "text": [
      "CPU times: user 9.07 s, sys: 61.3 ms, total: 9.13 s\n",
      "Wall time: 16.2 s\n"
     ]
    }
   ],
   "source": [
    "%%time\n",
    "# this will go much faster on the cloud, don't worry about profiling\n",
    "# or optimising instantiation of annotator, but time for interest\n",
    "ann = veff.Annotator(\n",
    "    genome=genome,\n",
    "    gff3_path=\"gs://vo_agam_release/reference/genome/agamp4/Anopheles-gambiae-PEST_BASEFEATURES_AgamP4.12.gff3.gz\",\n",
    ")"
   ]
  },
  {
   "cell_type": "code",
   "execution_count": 9,
   "id": "defined-rebel",
   "metadata": {},
   "outputs": [
    {
     "name": "stdout",
     "output_type": "stream",
     "text": [
      "VariantEffect(effect='NON_SYNONYMOUS_CODING', impact='MODERATE', chrom='2L', pos=2429745, ref='A', alt='T', vlen=0, ref_start=2429745, ref_stop=2429745, gene_id='AGAP004707', gene_start=2358158, gene_stop=2431617, gene_strand='+', transcript_id='AGAP004707-RA', transcript_start=2358158, transcript_stop=2431617, transcript_strand='+', cds_id='AGAP004707-PA', cds_start=2429556, cds_stop=2429801, cds_strand='+', intron_start=None, intron_stop=None, intron_5prime_dist=None, intron_3prime_dist=None, intron_cds_5prime=None, intron_cds_3prime=None, ref_cds_start=4545, ref_cds_stop=4545, ref_intron_start=None, ref_intron_stop=None, ref_start_phase=0, ref_codon='Aat', alt_codon='Tat', codon_change='Aat/Tat', aa_pos=1516, ref_aa='N', alt_aa='Y', aa_change='N1516Y')\n",
      "CPU times: user 1.21 ms, sys: 0 ns, total: 1.21 ms\n",
      "Wall time: 1.22 ms\n"
     ]
    }
   ],
   "source": [
    "%%time\n",
    "for effect in ann.get_effects(chrom='2L', pos=2429745, ref='A', alt='T',\n",
    "                                  transcript_ids=[\"AGAP004707-RA\"]):\n",
    "       print(effect)"
   ]
  },
  {
   "cell_type": "code",
   "execution_count": 10,
   "id": "informational-heater",
   "metadata": {},
   "outputs": [
    {
     "data": {
      "text/plain": [
       "(dask.array<array, shape=(48525747,), dtype=int32, chunksize=(524288,), chunktype=numpy.ndarray>,\n",
       " dask.array<array, shape=(48525747,), dtype=|S1, chunksize=(524288,), chunktype=numpy.ndarray>,\n",
       " dask.array<array, shape=(48525747, 3), dtype=|S1, chunksize=(524288, 3), chunktype=numpy.ndarray>)"
      ]
     },
     "execution_count": 10,
     "metadata": {},
     "output_type": "execute_result"
    }
   ],
   "source": [
    "pos, ref, alt = ag3.snp_sites(contig='2L')\n",
    "pos, ref, alt"
   ]
  },
  {
   "cell_type": "code",
   "execution_count": 11,
   "id": "jewish-contractor",
   "metadata": {},
   "outputs": [],
   "source": [
    "import allel"
   ]
  },
  {
   "cell_type": "code",
   "execution_count": 12,
   "id": "african-miami",
   "metadata": {},
   "outputs": [
    {
     "data": {
      "text/plain": [
       "2150929"
      ]
     },
     "execution_count": 12,
     "metadata": {},
     "output_type": "execute_result"
    }
   ],
   "source": [
    "k = allel.SortedIndex(pos).locate_key(2429745)\n",
    "k"
   ]
  },
  {
   "cell_type": "code",
   "execution_count": 13,
   "id": "bizarre-rocket",
   "metadata": {},
   "outputs": [],
   "source": [
    "pp, rr, aaa = pos[k:k+3].compute(), ref[k:k+3].compute(), alt[k:k+3].compute()"
   ]
  },
  {
   "cell_type": "code",
   "execution_count": 14,
   "id": "clinical-safety",
   "metadata": {},
   "outputs": [],
   "source": [
    "def pfun():\n",
    "    for p, r, aa in zip(pp, rr, aaa):\n",
    "        for a in aa:\n",
    "            for effect in ann.get_effects(chrom='2L', pos=p, ref=r.decode(), alt=a.decode(),\n",
    "                                          transcript_ids=[\"AGAP004707-RA\"]):\n",
    "                pass"
   ]
  },
  {
   "cell_type": "code",
   "execution_count": 15,
   "id": "silent-infection",
   "metadata": {},
   "outputs": [
    {
     "name": "stdout",
     "output_type": "stream",
     "text": [
      "CPU times: user 7.31 ms, sys: 0 ns, total: 7.31 ms\n",
      "Wall time: 7.27 ms\n"
     ]
    }
   ],
   "source": [
    "%%time\n",
    "pfun()"
   ]
  },
  {
   "cell_type": "code",
   "execution_count": 16,
   "id": "toxic-convergence",
   "metadata": {},
   "outputs": [
    {
     "name": "stdout",
     "output_type": "stream",
     "text": [
      "         17785 function calls (17668 primitive calls) in 0.010 seconds\n",
      "\n",
      "   Ordered by: cumulative time\n",
      "\n",
      "   ncalls  tottime  percall  cumtime  percall filename:lineno(function)\n",
      "        1    0.000    0.000    0.010    0.010 {built-in method builtins.exec}\n",
      "        1    0.000    0.000    0.010    0.010 <string>:1(<module>)\n",
      "        1    0.000    0.000    0.010    0.010 <ipython-input-14-f882d6cad5c7>:1(pfun)\n",
      "       18    0.000    0.000    0.010    0.001 veff.py:136(get_effects)\n",
      "       18    0.000    0.000    0.005    0.000 veff.py:221(_get_gene_effects)\n",
      "       18    0.000    0.000    0.005    0.000 veff.py:259(_get_transcript_effects)\n",
      "       18    0.000    0.000    0.005    0.000 veff.py:326(_get_within_transcript_effects)\n",
      "        9    0.000    0.000    0.004    0.000 veff.py:59(find)\n",
      "        9    0.000    0.000    0.004    0.000 intervals.py:216(search)\n",
      "        9    0.000    0.000    0.004    0.000 intervals.py:190(_search_tree)\n",
      "        9    0.000    0.000    0.003    0.000 intervaltree.py:837(overlap)\n",
      "    126/9    0.001    0.000    0.003    0.000 node.py:309(search_point)\n",
      "        9    0.000    0.000    0.002    0.000 veff.py:407(_get_cds_effect)\n",
      "      369    0.001    0.000    0.002    0.000 {method 'add' of 'set' objects}\n",
      "        9    0.000    0.000    0.002    0.000 veff.py:452(_get_within_cds_effect)\n",
      "        9    0.000    0.000    0.002    0.000 veff.py:604(_get_aa_change)\n",
      "     3393    0.002    0.000    0.002    0.000 base.py:570(__getattr__)\n",
      "       27    0.000    0.000    0.002    0.000 {built-in method builtins.sorted}\n",
      "        9    0.000    0.000    0.002    0.000 veff.py:632(_get_codon_change)\n",
      "     3753    0.001    0.000    0.001    0.000 interval.py:159(__eq__)\n",
      "        9    0.000    0.000    0.001    0.000 veff.py:715(_get_coding_position)\n",
      "     1494    0.000    0.000    0.001    0.000 interval.py:204(__lt__)\n",
      "        9    0.001    0.000    0.001    0.000 veff.py:357(<listcomp>)\n",
      "     1494    0.001    0.000    0.001    0.000 interval.py:173(__cmp__)\n",
      "        9    0.000    0.000    0.000    0.000 veff.py:343(<listcomp>)\n",
      "        9    0.000    0.000    0.000    0.000 veff.py:188(<listcomp>)\n",
      "        9    0.000    0.000    0.000    0.000 veff.py:335(<listcomp>)\n",
      "      270    0.000    0.000    0.000    0.000 base.py:557(__getitem__)\n",
      "     3672    0.000    0.000    0.000    0.000 {method 'index' of 'list' objects}\n",
      "        9    0.000    0.000    0.000    0.000 veff.py:728(<listcomp>)\n",
      "       18    0.000    0.000    0.000    0.000 Seq.py:918(translate)\n",
      "       18    0.000    0.000    0.000    0.000 Seq.py:2223(_translate_str)\n",
      "        9    0.000    0.000    0.000    0.000 veff.py:361(<listcomp>)\n",
      "        9    0.000    0.000    0.000    0.000 veff.py:724(<listcomp>)\n",
      "      270    0.000    0.000    0.000    0.000 veff.py:339(<lambda>)\n",
      "       18    0.000    0.000    0.000    0.000 veff.py:73(get_ref_allele_coords)\n",
      "       54    0.000    0.000    0.000    0.000 <string>:24(_replace)\n",
      "       54    0.000    0.000    0.000    0.000 <string>:16(_make)\n",
      "       18    0.000    0.000    0.000    0.000 Seq.py:2300(<listcomp>)\n",
      "       54    0.000    0.000    0.000    0.000 {built-in method __new__ of type object at 0x9d12c0}\n",
      "        9    0.000    0.000    0.000    0.000 veff.py:235(<listcomp>)\n",
      "       39    0.000    0.000    0.000    0.000 veff.py:62(get_ref_seq)\n",
      "      369    0.000    0.000    0.000    0.000 interval.py:151(__hash__)\n",
      "      180    0.000    0.000    0.000    0.000 CodonTable.py:400(__contains__)\n",
      "        9    0.000    0.000    0.000    0.000 veff.py:250(<listcomp>)\n",
      "       18    0.000    0.000    0.000    0.000 sortedlist.py:1166(bisect_left)\n",
      "       36    0.000    0.000    0.000    0.000 {built-in method _bisect.bisect_left}\n",
      "      198    0.000    0.000    0.000    0.000 CodonTable.py:418(__getitem__)\n",
      "      342    0.000    0.000    0.000    0.000 {built-in method builtins.isinstance}\n",
      "      369    0.000    0.000    0.000    0.000 {built-in method builtins.hash}\n",
      "        9    0.000    0.000    0.000    0.000 intervals.py:218(<listcomp>)\n",
      "      243    0.000    0.000    0.000    0.000 node.py:505(__getitem__)\n",
      "      237    0.000    0.000    0.000    0.000 {built-in method builtins.len}\n",
      "       36    0.000    0.000    0.000    0.000 Seq.py:74(__init__)\n",
      "       57    0.000    0.000    0.000    0.000 {method 'decode' of 'bytes' objects}\n",
      "       39    0.000    0.000    0.000    0.000 {method 'tobytes' of 'numpy.ndarray' objects}\n",
      "       18    0.000    0.000    0.000    0.000 veff.py:56(get_children)\n",
      "        9    0.000    0.000    0.000    0.000 node.py:300(search_overlap)\n",
      "       72    0.000    0.000    0.000    0.000 {method 'upper' of 'str' objects}\n",
      "        9    0.000    0.000    0.000    0.000 {built-in method builtins.sum}\n",
      "        9    0.000    0.000    0.000    0.000 {method 'update' of 'set' objects}\n",
      "       18    0.000    0.000    0.000    0.000 {method 'append' of 'list' objects}\n",
      "       57    0.000    0.000    0.000    0.000 {method 'lower' of 'str' objects}\n",
      "        9    0.000    0.000    0.000    0.000 intervaltree.py:861(<genexpr>)\n",
      "       18    0.000    0.000    0.000    0.000 {method 'join' of 'str' objects}\n",
      "       18    0.000    0.000    0.000    0.000 sortedlist.py:520(_loc)\n",
      "       36    0.000    0.000    0.000    0.000 Seq.py:111(__str__)\n",
      "        1    0.000    0.000    0.000    0.000 {method 'disable' of '_lsprof.Profiler' objects}\n",
      "\n",
      "\n"
     ]
    }
   ],
   "source": [
    "cProfile.run('pfun()', sort='cumtime')"
   ]
  },
  {
   "cell_type": "code",
   "execution_count": 17,
   "id": "entertaining-tongue",
   "metadata": {},
   "outputs": [
    {
     "name": "stdout",
     "output_type": "stream",
     "text": [
      "         17785 function calls (17668 primitive calls) in 0.037 seconds\n",
      "\n",
      "   Ordered by: internal time\n",
      "\n",
      "   ncalls  tottime  percall  cumtime  percall filename:lineno(function)\n",
      "     3393    0.006    0.000    0.007    0.000 base.py:570(__getattr__)\n",
      "     3753    0.004    0.000    0.004    0.000 interval.py:159(__eq__)\n",
      "    126/9    0.003    0.000    0.010    0.001 node.py:309(search_point)\n",
      "     1494    0.003    0.000    0.003    0.000 interval.py:173(__cmp__)\n",
      "      369    0.002    0.000    0.007    0.000 {method 'add' of 'set' objects}\n",
      "        9    0.002    0.000    0.003    0.000 veff.py:357(<listcomp>)\n",
      "     3672    0.002    0.000    0.002    0.000 {method 'index' of 'list' objects}\n",
      "       27    0.001    0.000    0.006    0.000 {built-in method builtins.sorted}\n",
      "        9    0.001    0.000    0.001    0.000 veff.py:361(<listcomp>)\n",
      "     1494    0.001    0.000    0.003    0.000 interval.py:204(__lt__)\n",
      "        9    0.001    0.000    0.002    0.000 veff.py:335(<listcomp>)\n",
      "        9    0.001    0.000    0.002    0.000 veff.py:343(<listcomp>)\n",
      "       18    0.001    0.000    0.018    0.001 veff.py:259(_get_transcript_effects)\n",
      "      270    0.001    0.000    0.001    0.000 base.py:557(__getitem__)\n",
      "        9    0.001    0.000    0.002    0.000 veff.py:188(<listcomp>)\n",
      "        9    0.001    0.000    0.001    0.000 veff.py:728(<listcomp>)\n",
      "       54    0.001    0.000    0.001    0.000 {built-in method __new__ of type object at 0x9d12c0}\n",
      "        9    0.000    0.000    0.007    0.001 veff.py:407(_get_cds_effect)\n",
      "       18    0.000    0.000    0.001    0.000 veff.py:73(get_ref_allele_coords)\n",
      "      270    0.000    0.000    0.001    0.000 veff.py:339(<lambda>)\n",
      "       39    0.000    0.000    0.000    0.000 veff.py:62(get_ref_seq)\n",
      "        9    0.000    0.000    0.001    0.000 veff.py:724(<listcomp>)\n",
      "       18    0.000    0.000    0.001    0.000 Seq.py:2223(_translate_str)\n",
      "        9    0.000    0.000    0.004    0.000 veff.py:715(_get_coding_position)\n",
      "        9    0.000    0.000    0.005    0.001 veff.py:632(_get_codon_change)\n",
      "      369    0.000    0.000    0.000    0.000 interval.py:151(__hash__)\n",
      "       18    0.000    0.000    0.001    0.000 Seq.py:918(translate)\n",
      "       18    0.000    0.000    0.017    0.001 veff.py:326(_get_within_transcript_effects)\n",
      "      180    0.000    0.000    0.000    0.000 CodonTable.py:400(__contains__)\n",
      "        9    0.000    0.000    0.000    0.000 veff.py:235(<listcomp>)\n",
      "       18    0.000    0.000    0.019    0.001 veff.py:221(_get_gene_effects)\n",
      "       36    0.000    0.000    0.000    0.000 {built-in method _bisect.bisect_left}\n",
      "        9    0.000    0.000    0.015    0.002 intervals.py:190(_search_tree)\n",
      "       18    0.000    0.000    0.037    0.002 veff.py:136(get_effects)\n",
      "        9    0.000    0.000    0.007    0.001 veff.py:452(_get_within_cds_effect)\n",
      "      198    0.000    0.000    0.000    0.000 CodonTable.py:418(__getitem__)\n",
      "        9    0.000    0.000    0.000    0.000 veff.py:250(<listcomp>)\n",
      "       54    0.000    0.000    0.001    0.000 <string>:24(_replace)\n",
      "        9    0.000    0.000    0.006    0.001 veff.py:604(_get_aa_change)\n",
      "        1    0.000    0.000    0.037    0.037 <ipython-input-14-f882d6cad5c7>:1(pfun)\n",
      "        9    0.000    0.000    0.011    0.001 intervaltree.py:837(overlap)\n",
      "       18    0.000    0.000    0.001    0.000 Seq.py:2300(<listcomp>)\n",
      "      369    0.000    0.000    0.000    0.000 {built-in method builtins.hash}\n",
      "      342    0.000    0.000    0.000    0.000 {built-in method builtins.isinstance}\n",
      "       54    0.000    0.000    0.001    0.000 <string>:16(_make)\n",
      "        9    0.000    0.000    0.000    0.000 intervals.py:218(<listcomp>)\n",
      "      243    0.000    0.000    0.000    0.000 node.py:505(__getitem__)\n",
      "       18    0.000    0.000    0.000    0.000 sortedlist.py:1166(bisect_left)\n",
      "      237    0.000    0.000    0.000    0.000 {built-in method builtins.len}\n",
      "        9    0.000    0.000    0.015    0.002 intervals.py:216(search)\n",
      "       36    0.000    0.000    0.000    0.000 Seq.py:74(__init__)\n",
      "       39    0.000    0.000    0.000    0.000 {method 'tobytes' of 'numpy.ndarray' objects}\n",
      "       57    0.000    0.000    0.000    0.000 {method 'decode' of 'bytes' objects}\n",
      "        1    0.000    0.000    0.037    0.037 {built-in method builtins.exec}\n",
      "        9    0.000    0.000    0.015    0.002 veff.py:59(find)\n",
      "        9    0.000    0.000    0.000    0.000 node.py:300(search_overlap)\n",
      "       57    0.000    0.000    0.000    0.000 {method 'lower' of 'str' objects}\n",
      "       18    0.000    0.000    0.000    0.000 veff.py:56(get_children)\n",
      "       72    0.000    0.000    0.000    0.000 {method 'upper' of 'str' objects}\n",
      "       36    0.000    0.000    0.000    0.000 Seq.py:111(__str__)\n",
      "        9    0.000    0.000    0.000    0.000 {built-in method builtins.sum}\n",
      "       18    0.000    0.000    0.000    0.000 sortedlist.py:520(_loc)\n",
      "       18    0.000    0.000    0.000    0.000 {method 'join' of 'str' objects}\n",
      "       18    0.000    0.000    0.000    0.000 {method 'append' of 'list' objects}\n",
      "        9    0.000    0.000    0.000    0.000 {method 'update' of 'set' objects}\n",
      "        9    0.000    0.000    0.000    0.000 intervaltree.py:861(<genexpr>)\n",
      "        1    0.000    0.000    0.037    0.037 <string>:1(<module>)\n",
      "        1    0.000    0.000    0.000    0.000 {method 'disable' of '_lsprof.Profiler' objects}\n",
      "\n",
      "\n"
     ]
    }
   ],
   "source": [
    "cProfile.run('pfun()', sort='time')"
   ]
  },
  {
   "cell_type": "code",
   "execution_count": 39,
   "id": "likely-living",
   "metadata": {},
   "outputs": [
    {
     "data": {
      "text/plain": [
       "array([b'a', b'a', b'c', ..., b'a', b'a', b'a'], dtype='|S1')"
      ]
     },
     "execution_count": 39,
     "metadata": {},
     "output_type": "execute_result"
    }
   ],
   "source": [
    "x = genome['2L'][:]\n",
    "x"
   ]
  },
  {
   "cell_type": "code",
   "execution_count": 40,
   "id": "eight-maker",
   "metadata": {},
   "outputs": [
    {
     "data": {
      "text/plain": [
       "49364325"
      ]
     },
     "execution_count": 40,
     "metadata": {},
     "output_type": "execute_result"
    }
   ],
   "source": [
    "x.nbytes"
   ]
  }
 ],
 "metadata": {
  "kernelspec": {
   "display_name": "Python 3",
   "language": "python",
   "name": "python3"
  },
  "language_info": {
   "codemirror_mode": {
    "name": "ipython",
    "version": 3
   },
   "file_extension": ".py",
   "mimetype": "text/x-python",
   "name": "python",
   "nbconvert_exporter": "python",
   "pygments_lexer": "ipython3",
   "version": "3.6.9"
  }
 },
 "nbformat": 4,
 "nbformat_minor": 5
}
