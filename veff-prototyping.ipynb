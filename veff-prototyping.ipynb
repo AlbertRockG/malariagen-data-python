{
 "cells": [
  {
   "cell_type": "code",
   "execution_count": 4,
   "id": "reverse-alberta",
   "metadata": {},
   "outputs": [],
   "source": [
    "%reload_ext autoreload\n",
    "%autoreload 1"
   ]
  },
  {
   "cell_type": "code",
   "execution_count": 37,
   "id": "regulation-attitude",
   "metadata": {},
   "outputs": [],
   "source": [
    "import numpy as np"
   ]
  },
  {
   "cell_type": "code",
   "execution_count": 5,
   "id": "mobile-honduras",
   "metadata": {},
   "outputs": [],
   "source": [
    "%aimport malariagen_data.ag3"
   ]
  },
  {
   "cell_type": "code",
   "execution_count": 6,
   "id": "judicial-raise",
   "metadata": {},
   "outputs": [],
   "source": [
    "%aimport malariagen_data.veff "
   ]
  },
  {
   "cell_type": "code",
   "execution_count": 7,
   "id": "living-wrestling",
   "metadata": {},
   "outputs": [],
   "source": [
    "veff = malariagen_data.veff"
   ]
  },
  {
   "cell_type": "code",
   "execution_count": 8,
   "id": "younger-diagnosis",
   "metadata": {},
   "outputs": [],
   "source": [
    "ag3 = malariagen_data.Ag3(\"gs://vo_agam_release\")"
   ]
  },
  {
   "cell_type": "code",
   "execution_count": 9,
   "id": "wound-chassis",
   "metadata": {},
   "outputs": [
    {
     "data": {
      "text/plain": [
       "<zarr.hierarchy.Group '/'>"
      ]
     },
     "execution_count": 9,
     "metadata": {},
     "output_type": "execute_result"
    }
   ],
   "source": [
    "genome = ag3._open_genome()\n",
    "genome"
   ]
  },
  {
   "cell_type": "code",
   "execution_count": 10,
   "id": "composite-gallery",
   "metadata": {},
   "outputs": [
    {
     "data": {
      "text/plain": [
       "['2L', '2R', '3L', '3R', 'Mt', 'UNKN', 'X', 'Y_unplaced']"
      ]
     },
     "execution_count": 10,
     "metadata": {},
     "output_type": "execute_result"
    }
   ],
   "source": [
    "list(genome)"
   ]
  },
  {
   "cell_type": "code",
   "execution_count": 11,
   "id": "perceived-found",
   "metadata": {},
   "outputs": [
    {
     "data": {
      "text/plain": [
       "'CCTCTACGTT'"
      ]
     },
     "execution_count": 11,
     "metadata": {},
     "output_type": "execute_result"
    }
   ],
   "source": [
    "genome[\"3R\"][0:10].tobytes().decode()"
   ]
  },
  {
   "cell_type": "code",
   "execution_count": 12,
   "id": "trained-supplement",
   "metadata": {},
   "outputs": [],
   "source": [
    "ann = veff.Annotator(\n",
    "    genome=genome,\n",
    "    gff3_path=\"gs://vo_agam_release/reference/genome/agamp4/Anopheles-gambiae-PEST_BASEFEATURES_AgamP4.12.gff3.gz\",\n",
    ")"
   ]
  },
  {
   "cell_type": "code",
   "execution_count": 13,
   "id": "tight-strengthening",
   "metadata": {},
   "outputs": [
    {
     "data": {
      "text/plain": [
       "('2L',\n",
       " 'VectorBase',\n",
       " 'mRNA',\n",
       " 2358158,\n",
       " 2431617,\n",
       " '.',\n",
       " '+',\n",
       " '.',\n",
       " 'AGAP004707-RA',\n",
       " 'AGAP004707')"
      ]
     },
     "execution_count": 13,
     "metadata": {},
     "output_type": "execute_result"
    }
   ],
   "source": [
    "ann.get_feature(\"AGAP004707-RA\")"
   ]
  },
  {
   "cell_type": "code",
   "execution_count": 14,
   "id": "alien-custom",
   "metadata": {},
   "outputs": [
    {
     "data": {
      "text/plain": [
       "[('2L',\n",
       "  'VectorBase',\n",
       "  'mRNA',\n",
       "  2358158,\n",
       "  2431617,\n",
       "  '.',\n",
       "  '+',\n",
       "  '.',\n",
       "  'AGAP004707-RA',\n",
       "  'AGAP004707'),\n",
       " ('2L',\n",
       "  'VectorBase',\n",
       "  'mRNA',\n",
       "  2358158,\n",
       "  2431617,\n",
       "  '.',\n",
       "  '+',\n",
       "  '.',\n",
       "  'AGAP004707-RB',\n",
       "  'AGAP004707'),\n",
       " ('2L',\n",
       "  'VectorBase',\n",
       "  'mRNA',\n",
       "  2358158,\n",
       "  2431617,\n",
       "  '.',\n",
       "  '+',\n",
       "  '.',\n",
       "  'AGAP004707-RC',\n",
       "  'AGAP004707'),\n",
       " ('2L',\n",
       "  'VectorBase',\n",
       "  'mRNA',\n",
       "  2358158,\n",
       "  2431617,\n",
       "  '.',\n",
       "  '+',\n",
       "  '.',\n",
       "  'AGAP004707-RD',\n",
       "  'AGAP004707'),\n",
       " ('2L',\n",
       "  'VectorBase',\n",
       "  'mRNA',\n",
       "  2358158,\n",
       "  2431617,\n",
       "  '.',\n",
       "  '+',\n",
       "  '.',\n",
       "  'AGAP004707-RE',\n",
       "  'AGAP004707'),\n",
       " ('2L',\n",
       "  'VectorBase',\n",
       "  'mRNA',\n",
       "  2358158,\n",
       "  2431617,\n",
       "  '.',\n",
       "  '+',\n",
       "  '.',\n",
       "  'AGAP004707-RF',\n",
       "  'AGAP004707'),\n",
       " ('2L',\n",
       "  'VectorBase',\n",
       "  'mRNA',\n",
       "  2358158,\n",
       "  2431617,\n",
       "  '.',\n",
       "  '+',\n",
       "  '.',\n",
       "  'AGAP004707-RG',\n",
       "  'AGAP004707'),\n",
       " ('2L',\n",
       "  'VectorBase',\n",
       "  'mRNA',\n",
       "  2358158,\n",
       "  2431617,\n",
       "  '.',\n",
       "  '+',\n",
       "  '.',\n",
       "  'AGAP004707-RH',\n",
       "  'AGAP004707'),\n",
       " ('2L',\n",
       "  'VectorBase',\n",
       "  'mRNA',\n",
       "  2358158,\n",
       "  2431617,\n",
       "  '.',\n",
       "  '+',\n",
       "  '.',\n",
       "  'AGAP004707-RI',\n",
       "  'AGAP004707'),\n",
       " ('2L',\n",
       "  'VectorBase',\n",
       "  'mRNA',\n",
       "  2358158,\n",
       "  2431617,\n",
       "  '.',\n",
       "  '+',\n",
       "  '.',\n",
       "  'AGAP004707-RJ',\n",
       "  'AGAP004707'),\n",
       " ('2L',\n",
       "  'VectorBase',\n",
       "  'mRNA',\n",
       "  2358158,\n",
       "  2431617,\n",
       "  '.',\n",
       "  '+',\n",
       "  '.',\n",
       "  'AGAP004707-RK',\n",
       "  'AGAP004707'),\n",
       " ('2L',\n",
       "  'VectorBase',\n",
       "  'mRNA',\n",
       "  2358158,\n",
       "  2431617,\n",
       "  '.',\n",
       "  '+',\n",
       "  '.',\n",
       "  'AGAP004707-RL',\n",
       "  'AGAP004707'),\n",
       " ('2L',\n",
       "  'VectorBase',\n",
       "  'mRNA',\n",
       "  2358158,\n",
       "  2431617,\n",
       "  '.',\n",
       "  '+',\n",
       "  '.',\n",
       "  'AGAP004707-RM',\n",
       "  'AGAP004707')]"
      ]
     },
     "execution_count": 14,
     "metadata": {},
     "output_type": "execute_result"
    }
   ],
   "source": [
    "ann.get_children(\"AGAP004707\")"
   ]
  },
  {
   "cell_type": "code",
   "execution_count": 15,
   "id": "egyptian-hawaii",
   "metadata": {},
   "outputs": [
    {
     "data": {
      "text/plain": [
       "[('2L', 'VectorBase', 'chromosome', 1, 49364325, '.', '.', '.', '2L', None),\n",
       " ('2L',\n",
       "  'VectorBase',\n",
       "  'CDS',\n",
       "  2358158,\n",
       "  2358304,\n",
       "  '.',\n",
       "  '+',\n",
       "  '0',\n",
       "  'AGAP004707-PA',\n",
       "  'AGAP004707-RA'),\n",
       " ('2L',\n",
       "  'VectorBase',\n",
       "  'CDS',\n",
       "  2358158,\n",
       "  2358304,\n",
       "  '.',\n",
       "  '+',\n",
       "  '0',\n",
       "  'AGAP004707-PB',\n",
       "  'AGAP004707-RB'),\n",
       " ('2L',\n",
       "  'VectorBase',\n",
       "  'CDS',\n",
       "  2358158,\n",
       "  2358304,\n",
       "  '.',\n",
       "  '+',\n",
       "  '0',\n",
       "  'AGAP004707-PC',\n",
       "  'AGAP004707-RC'),\n",
       " ('2L',\n",
       "  'VectorBase',\n",
       "  'CDS',\n",
       "  2358158,\n",
       "  2358304,\n",
       "  '.',\n",
       "  '+',\n",
       "  '0',\n",
       "  'AGAP004707-PD',\n",
       "  'AGAP004707-RD'),\n",
       " ('2L',\n",
       "  'VectorBase',\n",
       "  'CDS',\n",
       "  2358158,\n",
       "  2358304,\n",
       "  '.',\n",
       "  '+',\n",
       "  '0',\n",
       "  'AGAP004707-PE',\n",
       "  'AGAP004707-RE'),\n",
       " ('2L',\n",
       "  'VectorBase',\n",
       "  'CDS',\n",
       "  2358158,\n",
       "  2358304,\n",
       "  '.',\n",
       "  '+',\n",
       "  '0',\n",
       "  'AGAP004707-PF',\n",
       "  'AGAP004707-RF'),\n",
       " ('2L',\n",
       "  'VectorBase',\n",
       "  'CDS',\n",
       "  2358158,\n",
       "  2358304,\n",
       "  '.',\n",
       "  '+',\n",
       "  '0',\n",
       "  'AGAP004707-PG',\n",
       "  'AGAP004707-RG'),\n",
       " ('2L',\n",
       "  'VectorBase',\n",
       "  'CDS',\n",
       "  2358158,\n",
       "  2358304,\n",
       "  '.',\n",
       "  '+',\n",
       "  '0',\n",
       "  'AGAP004707-PH',\n",
       "  'AGAP004707-RH'),\n",
       " ('2L',\n",
       "  'VectorBase',\n",
       "  'CDS',\n",
       "  2358158,\n",
       "  2358304,\n",
       "  '.',\n",
       "  '+',\n",
       "  '0',\n",
       "  'AGAP004707-PI',\n",
       "  'AGAP004707-RI'),\n",
       " ('2L',\n",
       "  'VectorBase',\n",
       "  'CDS',\n",
       "  2358158,\n",
       "  2358304,\n",
       "  '.',\n",
       "  '+',\n",
       "  '0',\n",
       "  'AGAP004707-PJ',\n",
       "  'AGAP004707-RJ'),\n",
       " ('2L',\n",
       "  'VectorBase',\n",
       "  'CDS',\n",
       "  2358158,\n",
       "  2358304,\n",
       "  '.',\n",
       "  '+',\n",
       "  '0',\n",
       "  'AGAP004707-PK',\n",
       "  'AGAP004707-RK'),\n",
       " ('2L',\n",
       "  'VectorBase',\n",
       "  'CDS',\n",
       "  2358158,\n",
       "  2358304,\n",
       "  '.',\n",
       "  '+',\n",
       "  '0',\n",
       "  'AGAP004707-PL',\n",
       "  'AGAP004707-RL'),\n",
       " ('2L',\n",
       "  'VectorBase',\n",
       "  'CDS',\n",
       "  2358158,\n",
       "  2358304,\n",
       "  '.',\n",
       "  '+',\n",
       "  '0',\n",
       "  'AGAP004707-PM',\n",
       "  'AGAP004707-RM'),\n",
       " ('2L',\n",
       "  'VectorBase',\n",
       "  'exon',\n",
       "  2358158,\n",
       "  2358304,\n",
       "  '.',\n",
       "  '+',\n",
       "  '.',\n",
       "  None,\n",
       "  'AGAP004707-RA'),\n",
       " ('2L',\n",
       "  'VectorBase',\n",
       "  'exon',\n",
       "  2358158,\n",
       "  2358304,\n",
       "  '.',\n",
       "  '+',\n",
       "  '.',\n",
       "  None,\n",
       "  'AGAP004707-RB'),\n",
       " ('2L',\n",
       "  'VectorBase',\n",
       "  'exon',\n",
       "  2358158,\n",
       "  2358304,\n",
       "  '.',\n",
       "  '+',\n",
       "  '.',\n",
       "  None,\n",
       "  'AGAP004707-RC'),\n",
       " ('2L',\n",
       "  'VectorBase',\n",
       "  'exon',\n",
       "  2358158,\n",
       "  2358304,\n",
       "  '.',\n",
       "  '+',\n",
       "  '.',\n",
       "  None,\n",
       "  'AGAP004707-RD'),\n",
       " ('2L',\n",
       "  'VectorBase',\n",
       "  'exon',\n",
       "  2358158,\n",
       "  2358304,\n",
       "  '.',\n",
       "  '+',\n",
       "  '.',\n",
       "  None,\n",
       "  'AGAP004707-RE'),\n",
       " ('2L',\n",
       "  'VectorBase',\n",
       "  'exon',\n",
       "  2358158,\n",
       "  2358304,\n",
       "  '.',\n",
       "  '+',\n",
       "  '.',\n",
       "  None,\n",
       "  'AGAP004707-RF'),\n",
       " ('2L',\n",
       "  'VectorBase',\n",
       "  'exon',\n",
       "  2358158,\n",
       "  2358304,\n",
       "  '.',\n",
       "  '+',\n",
       "  '.',\n",
       "  None,\n",
       "  'AGAP004707-RG'),\n",
       " ('2L',\n",
       "  'VectorBase',\n",
       "  'exon',\n",
       "  2358158,\n",
       "  2358304,\n",
       "  '.',\n",
       "  '+',\n",
       "  '.',\n",
       "  None,\n",
       "  'AGAP004707-RH'),\n",
       " ('2L',\n",
       "  'VectorBase',\n",
       "  'exon',\n",
       "  2358158,\n",
       "  2358304,\n",
       "  '.',\n",
       "  '+',\n",
       "  '.',\n",
       "  None,\n",
       "  'AGAP004707-RI'),\n",
       " ('2L',\n",
       "  'VectorBase',\n",
       "  'exon',\n",
       "  2358158,\n",
       "  2358304,\n",
       "  '.',\n",
       "  '+',\n",
       "  '.',\n",
       "  None,\n",
       "  'AGAP004707-RJ'),\n",
       " ('2L',\n",
       "  'VectorBase',\n",
       "  'exon',\n",
       "  2358158,\n",
       "  2358304,\n",
       "  '.',\n",
       "  '+',\n",
       "  '.',\n",
       "  None,\n",
       "  'AGAP004707-RK'),\n",
       " ('2L',\n",
       "  'VectorBase',\n",
       "  'exon',\n",
       "  2358158,\n",
       "  2358304,\n",
       "  '.',\n",
       "  '+',\n",
       "  '.',\n",
       "  None,\n",
       "  'AGAP004707-RL'),\n",
       " ('2L',\n",
       "  'VectorBase',\n",
       "  'exon',\n",
       "  2358158,\n",
       "  2358304,\n",
       "  '.',\n",
       "  '+',\n",
       "  '.',\n",
       "  None,\n",
       "  'AGAP004707-RM'),\n",
       " ('2L',\n",
       "  'VectorBase',\n",
       "  'gene',\n",
       "  2358158,\n",
       "  2431617,\n",
       "  '.',\n",
       "  '+',\n",
       "  '.',\n",
       "  'AGAP004707',\n",
       "  None),\n",
       " ('2L',\n",
       "  'VectorBase',\n",
       "  'mRNA',\n",
       "  2358158,\n",
       "  2431617,\n",
       "  '.',\n",
       "  '+',\n",
       "  '.',\n",
       "  'AGAP004707-RA',\n",
       "  'AGAP004707'),\n",
       " ('2L',\n",
       "  'VectorBase',\n",
       "  'mRNA',\n",
       "  2358158,\n",
       "  2431617,\n",
       "  '.',\n",
       "  '+',\n",
       "  '.',\n",
       "  'AGAP004707-RB',\n",
       "  'AGAP004707'),\n",
       " ('2L',\n",
       "  'VectorBase',\n",
       "  'mRNA',\n",
       "  2358158,\n",
       "  2431617,\n",
       "  '.',\n",
       "  '+',\n",
       "  '.',\n",
       "  'AGAP004707-RC',\n",
       "  'AGAP004707'),\n",
       " ('2L',\n",
       "  'VectorBase',\n",
       "  'mRNA',\n",
       "  2358158,\n",
       "  2431617,\n",
       "  '.',\n",
       "  '+',\n",
       "  '.',\n",
       "  'AGAP004707-RD',\n",
       "  'AGAP004707'),\n",
       " ('2L',\n",
       "  'VectorBase',\n",
       "  'mRNA',\n",
       "  2358158,\n",
       "  2431617,\n",
       "  '.',\n",
       "  '+',\n",
       "  '.',\n",
       "  'AGAP004707-RE',\n",
       "  'AGAP004707'),\n",
       " ('2L',\n",
       "  'VectorBase',\n",
       "  'mRNA',\n",
       "  2358158,\n",
       "  2431617,\n",
       "  '.',\n",
       "  '+',\n",
       "  '.',\n",
       "  'AGAP004707-RF',\n",
       "  'AGAP004707'),\n",
       " ('2L',\n",
       "  'VectorBase',\n",
       "  'mRNA',\n",
       "  2358158,\n",
       "  2431617,\n",
       "  '.',\n",
       "  '+',\n",
       "  '.',\n",
       "  'AGAP004707-RG',\n",
       "  'AGAP004707'),\n",
       " ('2L',\n",
       "  'VectorBase',\n",
       "  'mRNA',\n",
       "  2358158,\n",
       "  2431617,\n",
       "  '.',\n",
       "  '+',\n",
       "  '.',\n",
       "  'AGAP004707-RH',\n",
       "  'AGAP004707'),\n",
       " ('2L',\n",
       "  'VectorBase',\n",
       "  'mRNA',\n",
       "  2358158,\n",
       "  2431617,\n",
       "  '.',\n",
       "  '+',\n",
       "  '.',\n",
       "  'AGAP004707-RI',\n",
       "  'AGAP004707'),\n",
       " ('2L',\n",
       "  'VectorBase',\n",
       "  'mRNA',\n",
       "  2358158,\n",
       "  2431617,\n",
       "  '.',\n",
       "  '+',\n",
       "  '.',\n",
       "  'AGAP004707-RJ',\n",
       "  'AGAP004707'),\n",
       " ('2L',\n",
       "  'VectorBase',\n",
       "  'mRNA',\n",
       "  2358158,\n",
       "  2431617,\n",
       "  '.',\n",
       "  '+',\n",
       "  '.',\n",
       "  'AGAP004707-RK',\n",
       "  'AGAP004707'),\n",
       " ('2L',\n",
       "  'VectorBase',\n",
       "  'mRNA',\n",
       "  2358158,\n",
       "  2431617,\n",
       "  '.',\n",
       "  '+',\n",
       "  '.',\n",
       "  'AGAP004707-RL',\n",
       "  'AGAP004707'),\n",
       " ('2L',\n",
       "  'VectorBase',\n",
       "  'mRNA',\n",
       "  2358158,\n",
       "  2431617,\n",
       "  '.',\n",
       "  '+',\n",
       "  '.',\n",
       "  'AGAP004707-RM',\n",
       "  'AGAP004707')]"
      ]
     },
     "execution_count": 15,
     "metadata": {},
     "output_type": "execute_result"
    }
   ],
   "source": [
    "ann.find(\"2L\", 2358158, 2358159)"
   ]
  },
  {
   "cell_type": "code",
   "execution_count": 16,
   "id": "promotional-pattern",
   "metadata": {},
   "outputs": [
    {
     "name": "stdout",
     "output_type": "stream",
     "text": [
      "VariantEffect(effect='NON_SYNONYMOUS_CODING', impact='MODERATE', chrom='2L', pos=2422652, ref='A', alt='T', vlen=0, ref_start=2422652, ref_stop=2422652, gene_id='AGAP004707', gene_start=2358158, gene_stop=2431617, gene_strand='+', transcript_id='AGAP004707-RA', transcript_start=2358158, transcript_stop=2431617, transcript_strand='+', cds_id='AGAP004707-PA', cds_start=2422468, cds_stop=2422655, cds_strand='+', intron_start=None, intron_stop=None, intron_5prime_dist=None, intron_3prime_dist=None, intron_cds_5prime=None, intron_cds_3prime=None, ref_cds_start=2939, ref_cds_stop=2939, ref_intron_start=None, ref_intron_stop=None, ref_start_phase=2, ref_codon='ttA', alt_codon='ttT', codon_change='ttA/ttT', aa_pos=980, ref_aa='L', alt_aa='F', aa_change='L980F')\n"
     ]
    }
   ],
   "source": [
    "for effect in ann.get_effects(\"2L\", 2422652, \"A\", \"T\", \n",
    "                              transcript_ids=[\"AGAP004707-RA\"]):\n",
    "    print(effect)"
   ]
  },
  {
   "cell_type": "code",
   "execution_count": 17,
   "id": "utility-empire",
   "metadata": {},
   "outputs": [
    {
     "name": "stdout",
     "output_type": "stream",
     "text": [
      "transcript : AGAP004707-RA\n",
      "chromosome : 2L \n",
      "start : 2358158\n",
      "stop : 2431617\n",
      "strand : +\n"
     ]
    }
   ],
   "source": [
    "sites = ag3.snp_effects('AGAP004707-RA', 'gamb_colu')"
   ]
  },
  {
   "cell_type": "code",
   "execution_count": null,
   "id": "desperate-blame",
   "metadata": {},
   "outputs": [],
   "source": []
  },
  {
   "cell_type": "code",
   "execution_count": 43,
   "id": "bridal-aspect",
   "metadata": {},
   "outputs": [],
   "source": [
    "pos = allel.SortedIndex(sites[0].compute())\n",
    "ref = sites[1].compute()\n",
    "alt = sites[2].compute()"
   ]
  },
  {
   "cell_type": "code",
   "execution_count": 33,
   "id": "proud-johnston",
   "metadata": {},
   "outputs": [],
   "source": [
    "loc = pos.locate_range(2358158, 2431617)"
   ]
  },
  {
   "cell_type": "code",
   "execution_count": 40,
   "id": "stylish-forge",
   "metadata": {},
   "outputs": [],
   "source": [
    "npos = np.asarray(pos[loc])"
   ]
  },
  {
   "cell_type": "code",
   "execution_count": 44,
   "id": "constant-korean",
   "metadata": {},
   "outputs": [],
   "source": [
    "nref = np.asarray(ref[loc])\n",
    "nalt = np.asarray(alt[loc])"
   ]
  },
  {
   "cell_type": "code",
   "execution_count": 45,
   "id": "improving-respondent",
   "metadata": {},
   "outputs": [
    {
     "data": {
      "text/plain": [
       "array([[b'C', b'T', b'G'],\n",
       "       [b'A', b'C', b'G'],\n",
       "       [b'A', b'C', b'T'],\n",
       "       ...,\n",
       "       [b'A', b'C', b'G'],\n",
       "       [b'A', b'C', b'T'],\n",
       "       [b'C', b'T', b'G']], dtype='|S1')"
      ]
     },
     "execution_count": 45,
     "metadata": {},
     "output_type": "execute_result"
    }
   ],
   "source": [
    "nalt"
   ]
  },
  {
   "cell_type": "code",
   "execution_count": 47,
   "id": "invisible-spider",
   "metadata": {},
   "outputs": [],
   "source": [
    "assert len(npos) == len(nalt) == len(nref)"
   ]
  },
  {
   "cell_type": "code",
   "execution_count": 22,
   "id": "monetary-convertible",
   "metadata": {},
   "outputs": [],
   "source": [
    "posi = allel.SortedIndex(pos)"
   ]
  },
  {
   "cell_type": "code",
   "execution_count": 24,
   "id": "moderate-samoa",
   "metadata": {},
   "outputs": [
    {
     "data": {
      "text/html": [
       "<div class=\"allel allel-DisplayAs1D\"><span>&lt;SortedIndex shape=(36005131,) dtype=int32&gt;</span><table><thead><tr><th style=\"text-align: center\">0</th><th style=\"text-align: center\">1</th><th style=\"text-align: center\">2</th><th style=\"text-align: center\">3</th><th style=\"text-align: center\">4</th><th style=\"text-align: center\">...</th><th style=\"text-align: center\">36005126</th><th style=\"text-align: center\">36005127</th><th style=\"text-align: center\">36005128</th><th style=\"text-align: center\">36005129</th><th style=\"text-align: center\">36005130</th></tr></thead><tbody><tr><td style=\"text-align: center\">1215</td><td style=\"text-align: center\">1216</td><td style=\"text-align: center\">1231</td><td style=\"text-align: center\">1249</td><td style=\"text-align: center\">1251</td><td style=\"text-align: center\">...</td><td style=\"text-align: center\">49356320</td><td style=\"text-align: center\">49356330</td><td style=\"text-align: center\">49356403</td><td style=\"text-align: center\">49356404</td><td style=\"text-align: center\">49359100</td></tr></tbody></table></div>"
      ],
      "text/plain": [
       "<SortedIndex shape=(36005131,) dtype=int32>\n",
       "[1215, 1216, 1231, 1249, 1251, ..., 49356320, 49356330, 49356403, 49356404, 49359100]"
      ]
     },
     "execution_count": 24,
     "metadata": {},
     "output_type": "execute_result"
    }
   ],
   "source": [
    "posi"
   ]
  },
  {
   "cell_type": "code",
   "execution_count": 26,
   "id": "composed-infrared",
   "metadata": {},
   "outputs": [],
   "source": [
    "a = posi.locate_range(1215, 1249)"
   ]
  },
  {
   "cell_type": "code",
   "execution_count": 27,
   "id": "popular-utility",
   "metadata": {},
   "outputs": [
    {
     "data": {
      "text/plain": [
       "slice(0, 4, None)"
      ]
     },
     "execution_count": 27,
     "metadata": {},
     "output_type": "execute_result"
    }
   ],
   "source": [
    "a"
   ]
  },
  {
   "cell_type": "code",
   "execution_count": null,
   "id": "quick-declaration",
   "metadata": {},
   "outputs": [],
   "source": []
  }
 ],
 "metadata": {
  "kernelspec": {
   "display_name": "Python 3",
   "language": "python",
   "name": "python3"
  },
  "language_info": {
   "codemirror_mode": {
    "name": "ipython",
    "version": 3
   },
   "file_extension": ".py",
   "mimetype": "text/x-python",
   "name": "python",
   "nbconvert_exporter": "python",
   "pygments_lexer": "ipython3",
   "version": "3.6.9"
  }
 },
 "nbformat": 4,
 "nbformat_minor": 5
}
